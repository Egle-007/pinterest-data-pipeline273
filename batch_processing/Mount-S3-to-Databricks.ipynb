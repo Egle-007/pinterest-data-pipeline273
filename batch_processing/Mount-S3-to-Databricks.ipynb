{
 "cells": [
  {
   "cell_type": "code",
   "execution_count": 0,
   "metadata": {
    "application/vnd.databricks.v1+cell": {
     "cellMetadata": {
      "byteLimit": 2048000,
      "rowLimit": 10000
     },
     "inputWidgets": {},
     "nuid": "7179cf84-c2d2-4c2c-b4b6-8c34b48d269c",
     "showTitle": false,
     "title": ""
    }
   },
   "outputs": [
    {
     "output_type": "display_data",
     "data": {
      "text/html": [
       "<style scoped>\n",
       "  .ansiout {\n",
       "    display: block;\n",
       "    unicode-bidi: embed;\n",
       "    white-space: pre-wrap;\n",
       "    word-wrap: break-word;\n",
       "    word-break: break-all;\n",
       "    font-family: \"Menlo\", \"Monaco\", \"Consolas\", \"Ubuntu Mono\", \"Source Code Pro\", monospace;\n",
       "    font-size: 13px;\n",
       "    color: #555;\n",
       "    margin-left: 4px;\n",
       "    line-height: 19px;\n",
       "  }\n",
       "</style>\n",
       "<div class=\"ansiout\"></div>"
      ]
     },
     "metadata": {
      "application/vnd.databricks.v1+output": {
       "addedWidgets": {},
       "arguments": {},
       "data": "<div class=\"ansiout\"></div>",
       "datasetInfos": [],
       "metadata": {},
       "removedWidgets": [],
       "type": "html"
      }
     },
     "output_type": "display_data"
    }
   ],
   "source": [
    "# MILE 6. MOUNT THE S3 BUCKET TO THE DATABRICKS ACCOUNT."
   ]
  },
  {
   "cell_type": "code",
   "execution_count": 0,
   "metadata": {
    "application/vnd.databricks.v1+cell": {
     "cellMetadata": {
      "byteLimit": 2048000,
      "rowLimit": 10000
     },
     "inputWidgets": {},
     "nuid": "d6d75642-0a99-4cb7-9a9a-ba38df2239c3",
     "showTitle": false,
     "title": ""
    }
   },
   "outputs": [
    {
     "output_type": "display_data",
     "data": {
      "text/html": [
       "<style scoped>\n",
       "  .ansiout {\n",
       "    display: block;\n",
       "    unicode-bidi: embed;\n",
       "    white-space: pre-wrap;\n",
       "    word-wrap: break-word;\n",
       "    word-break: break-all;\n",
       "    font-family: \"Menlo\", \"Monaco\", \"Consolas\", \"Ubuntu Mono\", \"Source Code Pro\", monospace;\n",
       "    font-size: 13px;\n",
       "    color: #555;\n",
       "    margin-left: 4px;\n",
       "    line-height: 19px;\n",
       "  }\n",
       "</style>\n",
       "<div class=\"ansiout\">Out[316]: True</div>"
      ]
     },
     "metadata": {
      "application/vnd.databricks.v1+output": {
       "addedWidgets": {},
       "arguments": {},
       "data": "<div class=\"ansiout\">Out[316]: True</div>",
       "datasetInfos": [],
       "metadata": {},
       "removedWidgets": [],
       "type": "html"
      }
     },
     "output_type": "display_data"
    }
   ],
   "source": [
    "# Import libraries\n",
    "\n",
    "# pyspark functions\n",
    "from pyspark.sql.functions import *\n",
    "# URL processing\n",
    "import urllib\n",
    "\n",
    "# Reading the table containing the AWS keys to Databricks\n",
    "delta_table_path = \"dbfs:/user/hive/warehouse/authentication_credentials\"\n",
    "\n",
    "# Read the Delta table to a Spark DataFrame\n",
    "aws_keys_df = spark.read.format(\"delta\").load(delta_table_path)\n",
    "\n",
    "# Get the AWS access key and secret key from the spark dataframe\n",
    "ACCESS_KEY = aws_keys_df.select('Access key ID').collect()[0]['Access key ID']\n",
    "SECRET_KEY = aws_keys_df.select('Secret access key').collect()[0]['Secret access key']\n",
    "# Encode the secrete key\n",
    "ENCODED_SECRET_KEY = urllib.parse.quote(string=SECRET_KEY, safe=\"\")\n",
    "\n",
    "# Now the S3 bucket can be mounted by passing in the S3 URL and the desired mount name to dbutils.fs.mount()\n",
    "\n",
    "# AWS S3 bucket name\n",
    "AWS_S3_BUCKET = \"user-0e172e8c4bc3-bucket\"\n",
    "# Mount name for the bucket\n",
    "MOUNT_NAME = \"/mnt/mount_S3_PDP_mile6\"\n",
    "# Source url\n",
    "SOURCE_URL = \"s3n://{0}:{1}@{2}\".format(ACCESS_KEY, ENCODED_SECRET_KEY, AWS_S3_BUCKET)\n",
    "# Mount the drive\n",
    "# dbutils.fs.mount(SOURCE_URL, MOUNT_NAME)\n",
    "\n",
    "# To check if the S3 bucket was mounted succesfully this command was run: \n",
    "# display(dbutils.fs.ls(\"/mnt/mount_S3_PDP_mile6/topics/0e172e8c4bc3.pin/partition=0/\")). \n",
    "\n",
    "# Not displaying here to save time on scroling for the evaluator."
   ]
  },
  {
   "cell_type": "code",
   "execution_count": 0,
   "metadata": {
    "application/vnd.databricks.v1+cell": {
     "cellMetadata": {
      "byteLimit": 2048000,
      "rowLimit": 10000
     },
     "inputWidgets": {},
     "nuid": "a9ec06c4-8f34-4ae7-bd8e-f9361582a06a",
     "showTitle": false,
     "title": ""
    }
   },
   "outputs": [
    {
     "output_type": "display_data",
     "data": {
      "text/html": [
       "<style scoped>\n",
       "  .ansiout {\n",
       "    display: block;\n",
       "    unicode-bidi: embed;\n",
       "    white-space: pre-wrap;\n",
       "    word-wrap: break-word;\n",
       "    word-break: break-all;\n",
       "    font-family: \"Menlo\", \"Monaco\", \"Consolas\", \"Ubuntu Mono\", \"Source Code Pro\", monospace;\n",
       "    font-size: 13px;\n",
       "    color: #555;\n",
       "    margin-left: 4px;\n",
       "    line-height: 19px;\n",
       "  }\n",
       "</style>\n",
       "<div class=\"ansiout\"></div>"
      ]
     },
     "metadata": {
      "application/vnd.databricks.v1+output": {
       "addedWidgets": {},
       "arguments": {},
       "data": "<div class=\"ansiout\"></div>",
       "datasetInfos": [],
       "metadata": {},
       "removedWidgets": [],
       "type": "html"
      }
     },
     "output_type": "display_data"
    }
   ],
   "source": [
    "# Use code below to unmount\n",
    "# dbutils.fs.unmount(\"/mnt/mount_S3_PDP_mile6\")"
   ]
  },
  {
   "cell_type": "code",
   "execution_count": 0,
   "metadata": {
    "application/vnd.databricks.v1+cell": {
     "cellMetadata": {
      "byteLimit": 2048000,
      "implicitDf": true,
      "rowLimit": 10000
     },
     "inputWidgets": {},
     "nuid": "cf397b49-e442-405a-9842-0270c580dad1",
     "showTitle": false,
     "title": ""
    }
   },
   "outputs": [
    {
     "output_type": "display_data",
     "data": {
      "text/html": [
       "<style scoped>\n",
       "  .table-result-container {\n",
       "    max-height: 300px;\n",
       "    overflow: auto;\n",
       "  }\n",
       "  table, th, td {\n",
       "    border: 1px solid black;\n",
       "    border-collapse: collapse;\n",
       "  }\n",
       "  th, td {\n",
       "    padding: 5px;\n",
       "  }\n",
       "  th {\n",
       "    text-align: left;\n",
       "  }\n",
       "</style><div class='table-result-container'><table class='table-result'><thead style='background-color: white'><tr><th>key</th><th>value</th></tr></thead><tbody><tr><td>spark.databricks.delta.formatCheck.enabled</td><td>false</td></tr></tbody></table></div>"
      ]
     },
     "metadata": {
      "application/vnd.databricks.v1+output": {
       "addedWidgets": {},
       "aggData": [],
       "aggError": "",
       "aggOverflow": false,
       "aggSchema": [],
       "aggSeriesLimitReached": false,
       "aggType": "",
       "arguments": {},
       "columnCustomDisplayInfos": {},
       "data": [
        [
         "spark.databricks.delta.formatCheck.enabled",
         "false"
        ]
       ],
       "datasetInfos": [],
       "dbfsResultPath": null,
       "isJsonSchema": true,
       "metadata": {},
       "overflow": false,
       "plotOptions": {
        "customPlotOptions": {},
        "displayType": "table",
        "pivotAggregation": null,
        "pivotColumns": null,
        "xColumns": null,
        "yColumns": null
       },
       "removedWidgets": [],
       "schema": [
        {
         "metadata": "{}",
         "name": "key",
         "type": "\"string\""
        },
        {
         "metadata": "{}",
         "name": "value",
         "type": "\"string\""
        }
       ],
       "type": "table"
      }
     },
     "output_type": "display_data"
    }
   ],
   "source": [
    "%sql\n",
    "-- Disable format checks during the reading of Delta tables\n",
    "SET spark.databricks.delta.formatCheck.enabled=false"
   ]
  },
  {
   "cell_type": "code",
   "execution_count": 0,
   "metadata": {
    "application/vnd.databricks.v1+cell": {
     "cellMetadata": {
      "byteLimit": 2048000,
      "rowLimit": 10000
     },
     "inputWidgets": {},
     "nuid": "74f9a5bc-05c3-4fca-a596-4eab043c2a9e",
     "showTitle": false,
     "title": ""
    }
   },
   "outputs": [
    {
     "output_type": "display_data",
     "data": {
      "text/html": [
       "<style scoped>\n",
       "  .ansiout {\n",
       "    display: block;\n",
       "    unicode-bidi: embed;\n",
       "    white-space: pre-wrap;\n",
       "    word-wrap: break-word;\n",
       "    word-break: break-all;\n",
       "    font-family: \"Menlo\", \"Monaco\", \"Consolas\", \"Ubuntu Mono\", \"Source Code Pro\", monospace;\n",
       "    font-size: 13px;\n",
       "    color: #555;\n",
       "    margin-left: 4px;\n",
       "    line-height: 19px;\n",
       "  }\n",
       "</style>\n",
       "<div class=\"ansiout\"></div>"
      ]
     },
     "metadata": {
      "application/vnd.databricks.v1+output": {
       "addedWidgets": {},
       "arguments": {},
       "data": "<div class=\"ansiout\"></div>",
       "datasetInfos": [],
       "metadata": {},
       "removedWidgets": [],
       "type": "html"
      }
     },
     "output_type": "display_data"
    }
   ],
   "source": [
    "# Define a function that reads in JSONs from mounted S3 bucket topic 0e172e8c4bc3.<your-topic-ending>. Replace the topic ending with 'pin', 'geo' or 'user' when calling this function. Function returns a DataFrame.\n",
    "\n",
    "def spark_read_from_s3(topic_ending):\n",
    "    # Asterisk(*) indicates reading all the content of the specified file that have .json extension\n",
    "    file_location = f\"/mnt/mount_S3_PDP_mile6/topics/0e172e8c4bc3.{topic_ending}/partition=0/*.json\"\n",
    "    file_type = \"json\"\n",
    "    # Ask Spark to infer the schema\n",
    "    infer_schema = \"true\"\n",
    "    # Read in JSONs from mounted S3 bucket chosen topic\n",
    "    df = spark.read.format(file_type) \\\n",
    "    .option(\"inferSchema\", infer_schema) \\\n",
    "    .load(file_location)\n",
    "    return df\n",
    "\n",
    "# Calling function to extract all three df's.\n",
    "df_pin = spark_read_from_s3('pin')\n",
    "df_geo = spark_read_from_s3('geo')\n",
    "df_user = spark_read_from_s3('user')\n",
    "\n",
    "# Check the data using display(), however it is here \"hashed out\" to not overload the notebook for the reader.\n",
    "# display(df_pin)\n",
    "# display(df_geo)\n",
    "# display(df_user)"
   ]
  },
  {
   "cell_type": "code",
   "execution_count": 0,
   "metadata": {
    "application/vnd.databricks.v1+cell": {
     "cellMetadata": {
      "byteLimit": 2048000,
      "rowLimit": 10000
     },
     "inputWidgets": {},
     "nuid": "b97dd941-bf0d-4a52-85a2-cb2f02fe2719",
     "showTitle": false,
     "title": ""
    }
   },
   "outputs": [
    {
     "output_type": "display_data",
     "data": {
      "text/html": [
       "<style scoped>\n",
       "  .ansiout {\n",
       "    display: block;\n",
       "    unicode-bidi: embed;\n",
       "    white-space: pre-wrap;\n",
       "    word-wrap: break-word;\n",
       "    word-break: break-all;\n",
       "    font-family: \"Menlo\", \"Monaco\", \"Consolas\", \"Ubuntu Mono\", \"Source Code Pro\", monospace;\n",
       "    font-size: 13px;\n",
       "    color: #555;\n",
       "    margin-left: 4px;\n",
       "    line-height: 19px;\n",
       "  }\n",
       "</style>\n",
       "<div class=\"ansiout\">Out[319]: 1746</div>"
      ]
     },
     "metadata": {
      "application/vnd.databricks.v1+output": {
       "addedWidgets": {},
       "arguments": {},
       "data": "<div class=\"ansiout\">Out[319]: 1746</div>",
       "datasetInfos": [],
       "metadata": {},
       "removedWidgets": [],
       "type": "html"
      }
     },
     "output_type": "display_data"
    }
   ],
   "source": [
    "# Drop the duplicates \n",
    "df_pin = df_pin.dropDuplicates()\n",
    "df_geo = df_geo.dropDuplicates()\n",
    "df_user = df_user.dropDuplicates()\n",
    "\n",
    "# Check if duplicates were deleted. Compare to original DF number of rows: 2094.\n",
    "df_pin.count()   "
   ]
  },
  {
   "cell_type": "code",
   "execution_count": 0,
   "metadata": {
    "application/vnd.databricks.v1+cell": {
     "cellMetadata": {
      "byteLimit": 2048000,
      "rowLimit": 10000
     },
     "inputWidgets": {},
     "nuid": "a3e41c44-6143-470e-8b41-b9a49d422227",
     "showTitle": false,
     "title": ""
    }
   },
   "outputs": [
    {
     "output_type": "display_data",
     "data": {
      "text/html": [
       "<style scoped>\n",
       "  .ansiout {\n",
       "    display: block;\n",
       "    unicode-bidi: embed;\n",
       "    white-space: pre-wrap;\n",
       "    word-wrap: break-word;\n",
       "    word-break: break-all;\n",
       "    font-family: \"Menlo\", \"Monaco\", \"Consolas\", \"Ubuntu Mono\", \"Source Code Pro\", monospace;\n",
       "    font-size: 13px;\n",
       "    color: #555;\n",
       "    margin-left: 4px;\n",
       "    line-height: 19px;\n",
       "  }\n",
       "</style>\n",
       "<div class=\"ansiout\"></div>"
      ]
     },
     "metadata": {
      "application/vnd.databricks.v1+output": {
       "addedWidgets": {},
       "arguments": {},
       "data": "<div class=\"ansiout\"></div>",
       "datasetInfos": [],
       "metadata": {},
       "removedWidgets": [],
       "type": "html"
      }
     },
     "output_type": "display_data"
    },
    {
     "output_type": "display_data",
     "data": {
      "text/html": [
       "<style scoped>\n",
       "  .ansiout {\n",
       "    display: block;\n",
       "    unicode-bidi: embed;\n",
       "    white-space: pre-wrap;\n",
       "    word-wrap: break-word;\n",
       "    word-break: break-all;\n",
       "    font-family: \"Menlo\", \"Monaco\", \"Consolas\", \"Ubuntu Mono\", \"Source Code Pro\", monospace;\n",
       "    font-size: 13px;\n",
       "    color: #555;\n",
       "    margin-left: 4px;\n",
       "    line-height: 19px;\n",
       "  }\n",
       "</style>\n",
       "<div class=\"ansiout\"></div>"
      ]
     },
     "metadata": {
      "application/vnd.databricks.v1+output": {
       "addedWidgets": {},
       "arguments": {},
       "data": "<div class=\"ansiout\"></div>",
       "datasetInfos": [],
       "metadata": {},
       "removedWidgets": [],
       "type": "html"
      }
     },
     "output_type": "display_data"
    },
    {
     "output_type": "display_data",
     "data": {
      "text/html": [
       "<style scoped>\n",
       "  .ansiout {\n",
       "    display: block;\n",
       "    unicode-bidi: embed;\n",
       "    white-space: pre-wrap;\n",
       "    word-wrap: break-word;\n",
       "    word-break: break-all;\n",
       "    font-family: \"Menlo\", \"Monaco\", \"Consolas\", \"Ubuntu Mono\", \"Source Code Pro\", monospace;\n",
       "    font-size: 13px;\n",
       "    color: #555;\n",
       "    margin-left: 4px;\n",
       "    line-height: 19px;\n",
       "  }\n",
       "</style>\n",
       "<div class=\"ansiout\"></div>"
      ]
     },
     "metadata": {
      "application/vnd.databricks.v1+output": {
       "addedWidgets": {},
       "arguments": {},
       "data": "<div class=\"ansiout\"></div>",
       "datasetInfos": [],
       "metadata": {},
       "removedWidgets": [],
       "type": "html"
      }
     },
     "output_type": "display_data"
    },
    {
     "output_type": "display_data",
     "data": {
      "text/html": [
       "<style scoped>\n",
       "  .ansiout {\n",
       "    display: block;\n",
       "    unicode-bidi: embed;\n",
       "    white-space: pre-wrap;\n",
       "    word-wrap: break-word;\n",
       "    word-break: break-all;\n",
       "    font-family: \"Menlo\", \"Monaco\", \"Consolas\", \"Ubuntu Mono\", \"Source Code Pro\", monospace;\n",
       "    font-size: 13px;\n",
       "    color: #555;\n",
       "    margin-left: 4px;\n",
       "    line-height: 19px;\n",
       "  }\n",
       "</style>\n",
       "<div class=\"ansiout\"></div>"
      ]
     },
     "metadata": {
      "application/vnd.databricks.v1+output": {
       "addedWidgets": {},
       "arguments": {},
       "data": "<div class=\"ansiout\"></div>",
       "datasetInfos": [],
       "metadata": {},
       "removedWidgets": [],
       "type": "html"
      }
     },
     "output_type": "display_data"
    },
    {
     "output_type": "display_data",
     "data": {
      "text/html": [
       "<style scoped>\n",
       "  .ansiout {\n",
       "    display: block;\n",
       "    unicode-bidi: embed;\n",
       "    white-space: pre-wrap;\n",
       "    word-wrap: break-word;\n",
       "    word-break: break-all;\n",
       "    font-family: \"Menlo\", \"Monaco\", \"Consolas\", \"Ubuntu Mono\", \"Source Code Pro\", monospace;\n",
       "    font-size: 13px;\n",
       "    color: #555;\n",
       "    margin-left: 4px;\n",
       "    line-height: 19px;\n",
       "  }\n",
       "</style>\n",
       "<div class=\"ansiout\"></div>"
      ]
     },
     "metadata": {
      "application/vnd.databricks.v1+output": {
       "addedWidgets": {},
       "arguments": {},
       "data": "<div class=\"ansiout\"></div>",
       "datasetInfos": [],
       "metadata": {},
       "removedWidgets": [],
       "type": "html"
      }
     },
     "output_type": "display_data"
    },
    {
     "output_type": "display_data",
     "data": {
      "text/html": [
       "<style scoped>\n",
       "  .ansiout {\n",
       "    display: block;\n",
       "    unicode-bidi: embed;\n",
       "    white-space: pre-wrap;\n",
       "    word-wrap: break-word;\n",
       "    word-break: break-all;\n",
       "    font-family: \"Menlo\", \"Monaco\", \"Consolas\", \"Ubuntu Mono\", \"Source Code Pro\", monospace;\n",
       "    font-size: 13px;\n",
       "    color: #555;\n",
       "    margin-left: 4px;\n",
       "    line-height: 19px;\n",
       "  }\n",
       "</style>\n",
       "<div class=\"ansiout\"></div>"
      ]
     },
     "metadata": {
      "application/vnd.databricks.v1+output": {
       "addedWidgets": {},
       "arguments": {},
       "data": "<div class=\"ansiout\"></div>",
       "datasetInfos": [],
       "metadata": {},
       "removedWidgets": [],
       "type": "html"
      }
     },
     "output_type": "display_data"
    },
    {
     "output_type": "display_data",
     "data": {
      "text/html": [
       "<style scoped>\n",
       "  .ansiout {\n",
       "    display: block;\n",
       "    unicode-bidi: embed;\n",
       "    white-space: pre-wrap;\n",
       "    word-wrap: break-word;\n",
       "    word-break: break-all;\n",
       "    font-family: \"Menlo\", \"Monaco\", \"Consolas\", \"Ubuntu Mono\", \"Source Code Pro\", monospace;\n",
       "    font-size: 13px;\n",
       "    color: #555;\n",
       "    margin-left: 4px;\n",
       "    line-height: 19px;\n",
       "  }\n",
       "</style>\n",
       "<div class=\"ansiout\"></div>"
      ]
     },
     "metadata": {
      "application/vnd.databricks.v1+output": {
       "addedWidgets": {},
       "arguments": {},
       "data": "<div class=\"ansiout\"></div>",
       "datasetInfos": [],
       "metadata": {},
       "removedWidgets": [],
       "type": "html"
      }
     },
     "output_type": "display_data"
    }
   ],
   "source": [
    "%run Users/kasalotas@yahoo.com/transformation_functions "
   ]
  },
  {
   "cell_type": "code",
   "execution_count": 0,
   "metadata": {
    "application/vnd.databricks.v1+cell": {
     "cellMetadata": {
      "byteLimit": 2048000,
      "rowLimit": 10000
     },
     "inputWidgets": {},
     "nuid": "070bb41e-a9e4-408c-82e8-4da6f59b4bd6",
     "showTitle": false,
     "title": ""
    }
   },
   "outputs": [
    {
     "output_type": "display_data",
     "data": {
      "text/html": [
       "<style scoped>\n",
       "  .ansiout {\n",
       "    display: block;\n",
       "    unicode-bidi: embed;\n",
       "    white-space: pre-wrap;\n",
       "    word-wrap: break-word;\n",
       "    word-break: break-all;\n",
       "    font-family: \"Menlo\", \"Monaco\", \"Consolas\", \"Ubuntu Mono\", \"Source Code Pro\", monospace;\n",
       "    font-size: 13px;\n",
       "    color: #555;\n",
       "    margin-left: 4px;\n",
       "    line-height: 19px;\n",
       "  }\n",
       "</style>\n",
       "<div class=\"ansiout\">root\n",
       "-- ind: integer (nullable = true)\n",
       "-- unique_id: string (nullable = true)\n",
       "-- title: string (nullable = true)\n",
       "-- description: string (nullable = true)\n",
       "-- follower_count: integer (nullable = true)\n",
       "-- poster_name: string (nullable = true)\n",
       "-- tag_list: string (nullable = true)\n",
       "-- is_image_or_video: string (nullable = true)\n",
       "-- image_src: string (nullable = true)\n",
       "-- save_location: string (nullable = true)\n",
       "-- category: string (nullable = true)\n",
       "\n",
       "</div>"
      ]
     },
     "metadata": {
      "application/vnd.databricks.v1+output": {
       "addedWidgets": {},
       "arguments": {},
       "data": "<div class=\"ansiout\">root\n |-- ind: integer (nullable = true)\n |-- unique_id: string (nullable = true)\n |-- title: string (nullable = true)\n |-- description: string (nullable = true)\n |-- follower_count: integer (nullable = true)\n |-- poster_name: string (nullable = true)\n |-- tag_list: string (nullable = true)\n |-- is_image_or_video: string (nullable = true)\n |-- image_src: string (nullable = true)\n |-- save_location: string (nullable = true)\n |-- category: string (nullable = true)\n\n</div>",
       "datasetInfos": [],
       "metadata": {},
       "removedWidgets": [],
       "type": "html"
      }
     },
     "output_type": "display_data"
    },
    {
     "output_type": "display_data",
     "data": {
      "text/html": [
       "<style scoped>\n",
       "  .table-result-container {\n",
       "    max-height: 300px;\n",
       "    overflow: auto;\n",
       "  }\n",
       "  table, th, td {\n",
       "    border: 1px solid black;\n",
       "    border-collapse: collapse;\n",
       "  }\n",
       "  th, td {\n",
       "    padding: 5px;\n",
       "  }\n",
       "  th {\n",
       "    text-align: left;\n",
       "  }\n",
       "</style><div class='table-result-container'><table class='table-result'><thead style='background-color: white'><tr><th>ind</th><th>unique_id</th><th>title</th><th>description</th><th>follower_count</th><th>poster_name</th><th>tag_list</th><th>is_image_or_video</th><th>image_src</th><th>save_location</th><th>category</th></tr></thead><tbody><tr><td>2793</td><td>65b4a439-3ada-49f3-9aa9-a572d5c311ba</td><td>Pink Glitter Jar Instructions</td><td>Learn how to make 4 unique DIY pink glitter jars with our helpful step-by-step instructions and video tutorial. They are perfect for practicing mindfulness with kids of all ages… </td><td>119000</td><td>Crafts and Activities for Kids with Fireflies and Mud Pies</td><td>Diy Crafts Videos,Diy Crafts To Sell,Diy Crafts For Kids,Fun Crafts,Kids Diy,Sell Diy,Decor Crafts,Glitter Projects For Kids,Christmas Decorations Diy Crafts</td><td>video</td><td>https://i.pinimg.com/videos/thumbnails/originals/68/1d/f5/681df5c917cd0ab7da8c9064bdcbbbb4.0000001.jpg</td><td> /data/diy-and-crafts</td><td>diy-and-crafts</td></tr><tr><td>4922</td><td>af8f10c0-9444-4b17-bf76-ae38449467fe</td><td>Reusable Led Bobo Balloon Flower Bouquet Party Decorations - Blue ROSE BOUQUET / 1 Pack</td><td>LED Luminous Balloon Rose Bouquet, Light Transparent Balloons with Flower, Ball Fake Roses for DIY Bouquets Wedding Party Gift Home Decoration Valentine's Day 2021 Gift Surprise… </td><td>5000</td><td>ifyousayido</td><td>Plastic Balloons,Bubble Balloons,Balloon Flowers,Balloon Bouquet,Birthday Balloon Decorations,Birthday Balloons,Yellow Rose Bouquet,Transparent Balloons,Valentines Balloons</td><td>image</td><td>https://i.pinimg.com/originals/64/56/54/6456541f16077250c63596dfe4c011dc.jpg</td><td> /data/event-planning</td><td>event-planning</td></tr><tr><td>2267</td><td>54de78c0-8ab3-4e96-bfc8-584a2046e5fc</td><td>20 DIY Christmas Gift Baskets for Your Loved Ones</td><td>These DIY baskets for Christmas. These DIY gift ideas for Christmas will help you get a better gift for your loved ones and transform the way you celebrate Christmas. #christmas… </td><td>76000</td><td>Craftsy Hacks</td><td>Diy Christmas Presents,Inexpensive Christmas Gifts,Neighbor Christmas Gifts,Christmas Gifts For Couples,Decoration Christmas,Handmade Christmas Gifts,Christmas Christmas,Christmas Gift Ideas,Thoughtful Christmas Gifts</td><td>image</td><td>https://i.pinimg.com/originals/c8/70/af/c870af77dc7ef58ffa07f57ae55a7a43.png</td><td> /data/christmas</td><td>christmas</td></tr><tr><td>4482</td><td>8489479d-b91b-46b8-8088-b29958cd2503</td><td>4 Tips for Booking your First Client without a Portfolio (2021) - EVENT PLANNING CERTIFICATE</td><td>Today I'm sharing four simple strategies event planners can use right now to book your first paying client without a portfolio.</td><td>884</td><td>Jody-Ann Rowe | Marketing Coach for Wedding Professionals</td><td>Event Planning Template,Event Planning Quotes,Event Planning Checklist,Event Planning Business,Event Planning Design,Party Planning,Wedding Planning,Wedding Ideas,Business Ideas</td><td>image</td><td>https://i.pinimg.com/originals/6d/ec/c5/6decc533f545a95eed6536640f419c1c.png</td><td> /data/event-planning</td><td>event-planning</td></tr><tr><td>5503</td><td>b50c58c0-5b43-4f31-9975-75d4ee7c6979</td><td>The Richest Man In Babylon Summary In 10 minutes Or Less {2019}</td><td>The richest man in Babylon summary, here are an in-depth review and summary of the best finance book. here is the fastest step by step proven method to become filthy rich.</td><td>21000</td><td>Dr Breathe Easy Finance | Personal Finance Tips | Making Money | Saving tips | Budgeting | Investing | Retirement</td><td>Finance Books,Finance Tips,Finance Quotes,Money Tips,Money Saving Tips,Money Budget,Money Hacks,Ways To Get Rich,Thing 1</td><td>image</td><td>https://i.pinimg.com/originals/04/aa/1f/04aa1f2f863d05ce7983fbf1420f7823.png</td><td> /data/finance</td><td>finance</td></tr><tr><td>3831</td><td>61649785-f7d5-4548-b621-93a5a145f35f</td><td>Struggling Learners and Language Immersion Education : Research-Based, Practitioner-Informed Responses to Educators' Top Questions</td><td>This handbook provides dual language and immersion educators with rich information and practical resources that address common concerns with children who struggle with language,… </td><td>2000000</td><td>Walmart</td><td>Language Immersion,Spanish Immersion,Language Acquisition,Bilingual Education,Dual Language,Background Information,Research,Literacy,No Response</td><td>image</td><td>https://i.pinimg.com/originals/a7/e2/72/a7e272ef258aaf2a9abe99781edd1c6b.jpg</td><td> /data/education</td><td>education</td></tr><tr><td>4837</td><td>06eabdd7-d008-42c8-858a-0737e94a5187</td><td>28 Bridal Shower Gifts That Aren't on the Couple's Registry</td><td>The role of maid of honor comes with its fair share of duties, one of which includes the giving of some seriously one-of-a-kind gifts. While the engagement gifts are all fun and… </td><td>10000</td><td>Modern MOH | How to be a Head Bridesmaid in Charge</td><td>Wedding Gifts For Bride And Groom,Diy Wedding Gifts,Wedding Shower Gifts,Bride Gifts,Wedding Ideas,Wedding Inspiration,Wedding Cards,Wedding Stuff,Dream Wedding</td><td>image</td><td>https://i.pinimg.com/originals/3f/01/b9/3f01b95c57e326885500cee84d6da3bd.jpg</td><td> /data/event-planning</td><td>event-planning</td></tr><tr><td>485</td><td>cf669122-4305-4807-a0dc-97a0f4481125</td><td>Collagraph Printmaking with Kids Using Wooden Blocks - Kids Art Classes, Camps, Parties and Events - Small Hands Big Art</td><td>This collagraph printmaking project had all the makings of a the perfect art experience! Big heavy blocks, movement, color theory, texture, & pattern! Not to mention the end res… </td><td>1000</td><td>Sharon Wojcik</td><td>Kids Printmaking,Collagraph Printmaking,Kids Art Class,Art For Kids,Art 2nd Grade,Atelier D Art,Art Lessons Elementary,Kindergarten Art Lessons,Collaborative Art</td><td>image</td><td>https://i.pinimg.com/originals/c3/71/03/c371035dd83164a6324d066bb011c669.jpg</td><td> /data/art</td><td>art</td></tr><tr><td>3419</td><td>d0b80187-0171-49b2-8ee4-572984244f65</td><td>Easy Christmas Tree Crafts Ideas for toddlers and preschoolers | Sharing Our Experiences</td><td>Easy Christmas tree Craft Ideas for toddlers and preschoolers. Engage your kids in these DIY</td><td>3000</td><td>Kids Crafts & Free Preschool Printables- Sharing Our Experiences</td><td>Christmas Crafts For Kids To Make,Christmas Tree Painting,Christmas Activities For Kids,Easy Christmas Crafts For Toddlers,Kid Activities,Christmas Handprint Crafts,Christmas Tree Crafts,Christmas Baby,Xmas Tree</td><td>image</td><td>https://i.pinimg.com/originals/69/f0/75/69f075939d4449dffa69519756c30e26.png</td><td> /data/diy-and-crafts</td><td>diy-and-crafts</td></tr><tr><td>2126</td><td>adc18caf-a7ed-49c8-b328-87a9fc92551f</td><td>JOLLY INSPIRATION TO STYLING TIERED TRAYS FOR HAPPY HOLIDAYS</td><td>Styling tiered trays to help your home say happy holidays is what we have in store for you today. We have a fun little surprise in this round up. Mini Christmas trees, peppermin… </td><td>46000</td><td>Life on Summerhill | Home, Holiday Decor & DIY Website</td><td>Dollar Tree Christmas,Mini Christmas Tree,Christmas Holidays,Christmas Ornaments,Christmas Mugs,Purple Christmas,Magical Christmas,Father Christmas,Christmas Wreaths</td><td>image</td><td>https://i.pinimg.com/originals/58/70/95/5870956a1dc6a43e8091afbeba71a427.jpg</td><td> /data/christmas</td><td>christmas</td></tr></tbody></table></div>"
      ]
     },
     "metadata": {
      "application/vnd.databricks.v1+output": {
       "addedWidgets": {},
       "aggData": [],
       "aggError": "",
       "aggOverflow": false,
       "aggSchema": [],
       "aggSeriesLimitReached": false,
       "aggType": "",
       "arguments": {},
       "columnCustomDisplayInfos": {},
       "data": [
        [
         2793,
         "65b4a439-3ada-49f3-9aa9-a572d5c311ba",
         "Pink Glitter Jar Instructions",
         "Learn how to make 4 unique DIY pink glitter jars with our helpful step-by-step instructions and video tutorial. They are perfect for practicing mindfulness with kids of all ages… ",
         119000,
         "Crafts and Activities for Kids with Fireflies and Mud Pies",
         "Diy Crafts Videos,Diy Crafts To Sell,Diy Crafts For Kids,Fun Crafts,Kids Diy,Sell Diy,Decor Crafts,Glitter Projects For Kids,Christmas Decorations Diy Crafts",
         "video",
         "https://i.pinimg.com/videos/thumbnails/originals/68/1d/f5/681df5c917cd0ab7da8c9064bdcbbbb4.0000001.jpg",
         " /data/diy-and-crafts",
         "diy-and-crafts"
        ],
        [
         4922,
         "af8f10c0-9444-4b17-bf76-ae38449467fe",
         "Reusable Led Bobo Balloon Flower Bouquet Party Decorations - Blue ROSE BOUQUET / 1 Pack",
         "LED Luminous Balloon Rose Bouquet, Light Transparent Balloons with Flower, Ball Fake Roses for DIY Bouquets Wedding Party Gift Home Decoration Valentine's Day 2021 Gift Surprise… ",
         5000,
         "ifyousayido",
         "Plastic Balloons,Bubble Balloons,Balloon Flowers,Balloon Bouquet,Birthday Balloon Decorations,Birthday Balloons,Yellow Rose Bouquet,Transparent Balloons,Valentines Balloons",
         "image",
         "https://i.pinimg.com/originals/64/56/54/6456541f16077250c63596dfe4c011dc.jpg",
         " /data/event-planning",
         "event-planning"
        ],
        [
         2267,
         "54de78c0-8ab3-4e96-bfc8-584a2046e5fc",
         "20 DIY Christmas Gift Baskets for Your Loved Ones",
         "These DIY baskets for Christmas. These DIY gift ideas for Christmas will help you get a better gift for your loved ones and transform the way you celebrate Christmas. #christmas… ",
         76000,
         "Craftsy Hacks",
         "Diy Christmas Presents,Inexpensive Christmas Gifts,Neighbor Christmas Gifts,Christmas Gifts For Couples,Decoration Christmas,Handmade Christmas Gifts,Christmas Christmas,Christmas Gift Ideas,Thoughtful Christmas Gifts",
         "image",
         "https://i.pinimg.com/originals/c8/70/af/c870af77dc7ef58ffa07f57ae55a7a43.png",
         " /data/christmas",
         "christmas"
        ],
        [
         4482,
         "8489479d-b91b-46b8-8088-b29958cd2503",
         "4 Tips for Booking your First Client without a Portfolio (2021) - EVENT PLANNING CERTIFICATE",
         "Today I'm sharing four simple strategies event planners can use right now to book your first paying client without a portfolio.",
         884,
         "Jody-Ann Rowe | Marketing Coach for Wedding Professionals",
         "Event Planning Template,Event Planning Quotes,Event Planning Checklist,Event Planning Business,Event Planning Design,Party Planning,Wedding Planning,Wedding Ideas,Business Ideas",
         "image",
         "https://i.pinimg.com/originals/6d/ec/c5/6decc533f545a95eed6536640f419c1c.png",
         " /data/event-planning",
         "event-planning"
        ],
        [
         5503,
         "b50c58c0-5b43-4f31-9975-75d4ee7c6979",
         "The Richest Man In Babylon Summary In 10 minutes Or Less {2019}",
         "The richest man in Babylon summary, here are an in-depth review and summary of the best finance book. here is the fastest step by step proven method to become filthy rich.",
         21000,
         "Dr Breathe Easy Finance | Personal Finance Tips | Making Money | Saving tips | Budgeting | Investing | Retirement",
         "Finance Books,Finance Tips,Finance Quotes,Money Tips,Money Saving Tips,Money Budget,Money Hacks,Ways To Get Rich,Thing 1",
         "image",
         "https://i.pinimg.com/originals/04/aa/1f/04aa1f2f863d05ce7983fbf1420f7823.png",
         " /data/finance",
         "finance"
        ],
        [
         3831,
         "61649785-f7d5-4548-b621-93a5a145f35f",
         "Struggling Learners and Language Immersion Education : Research-Based, Practitioner-Informed Responses to Educators' Top Questions",
         "This handbook provides dual language and immersion educators with rich information and practical resources that address common concerns with children who struggle with language,… ",
         2000000,
         "Walmart",
         "Language Immersion,Spanish Immersion,Language Acquisition,Bilingual Education,Dual Language,Background Information,Research,Literacy,No Response",
         "image",
         "https://i.pinimg.com/originals/a7/e2/72/a7e272ef258aaf2a9abe99781edd1c6b.jpg",
         " /data/education",
         "education"
        ],
        [
         4837,
         "06eabdd7-d008-42c8-858a-0737e94a5187",
         "28 Bridal Shower Gifts That Aren't on the Couple's Registry",
         "The role of maid of honor comes with its fair share of duties, one of which includes the giving of some seriously one-of-a-kind gifts. While the engagement gifts are all fun and… ",
         10000,
         "Modern MOH | How to be a Head Bridesmaid in Charge",
         "Wedding Gifts For Bride And Groom,Diy Wedding Gifts,Wedding Shower Gifts,Bride Gifts,Wedding Ideas,Wedding Inspiration,Wedding Cards,Wedding Stuff,Dream Wedding",
         "image",
         "https://i.pinimg.com/originals/3f/01/b9/3f01b95c57e326885500cee84d6da3bd.jpg",
         " /data/event-planning",
         "event-planning"
        ],
        [
         485,
         "cf669122-4305-4807-a0dc-97a0f4481125",
         "Collagraph Printmaking with Kids Using Wooden Blocks - Kids Art Classes, Camps, Parties and Events - Small Hands Big Art",
         "This collagraph printmaking project had all the makings of a the perfect art experience! Big heavy blocks, movement, color theory, texture, & pattern! Not to mention the end res… ",
         1000,
         "Sharon Wojcik",
         "Kids Printmaking,Collagraph Printmaking,Kids Art Class,Art For Kids,Art 2nd Grade,Atelier D Art,Art Lessons Elementary,Kindergarten Art Lessons,Collaborative Art",
         "image",
         "https://i.pinimg.com/originals/c3/71/03/c371035dd83164a6324d066bb011c669.jpg",
         " /data/art",
         "art"
        ],
        [
         3419,
         "d0b80187-0171-49b2-8ee4-572984244f65",
         "Easy Christmas Tree Crafts Ideas for toddlers and preschoolers | Sharing Our Experiences",
         "Easy Christmas tree Craft Ideas for toddlers and preschoolers. Engage your kids in these DIY",
         3000,
         "Kids Crafts & Free Preschool Printables- Sharing Our Experiences",
         "Christmas Crafts For Kids To Make,Christmas Tree Painting,Christmas Activities For Kids,Easy Christmas Crafts For Toddlers,Kid Activities,Christmas Handprint Crafts,Christmas Tree Crafts,Christmas Baby,Xmas Tree",
         "image",
         "https://i.pinimg.com/originals/69/f0/75/69f075939d4449dffa69519756c30e26.png",
         " /data/diy-and-crafts",
         "diy-and-crafts"
        ],
        [
         2126,
         "adc18caf-a7ed-49c8-b328-87a9fc92551f",
         "JOLLY INSPIRATION TO STYLING TIERED TRAYS FOR HAPPY HOLIDAYS",
         "Styling tiered trays to help your home say happy holidays is what we have in store for you today. We have a fun little surprise in this round up. Mini Christmas trees, peppermin… ",
         46000,
         "Life on Summerhill | Home, Holiday Decor & DIY Website",
         "Dollar Tree Christmas,Mini Christmas Tree,Christmas Holidays,Christmas Ornaments,Christmas Mugs,Purple Christmas,Magical Christmas,Father Christmas,Christmas Wreaths",
         "image",
         "https://i.pinimg.com/originals/58/70/95/5870956a1dc6a43e8091afbeba71a427.jpg",
         " /data/christmas",
         "christmas"
        ]
       ],
       "datasetInfos": [],
       "dbfsResultPath": null,
       "isJsonSchema": true,
       "metadata": {},
       "overflow": false,
       "plotOptions": {
        "customPlotOptions": {},
        "displayType": "table",
        "pivotAggregation": null,
        "pivotColumns": null,
        "xColumns": null,
        "yColumns": null
       },
       "removedWidgets": [],
       "schema": [
        {
         "metadata": "{}",
         "name": "ind",
         "type": "\"integer\""
        },
        {
         "metadata": "{}",
         "name": "unique_id",
         "type": "\"string\""
        },
        {
         "metadata": "{}",
         "name": "title",
         "type": "\"string\""
        },
        {
         "metadata": "{}",
         "name": "description",
         "type": "\"string\""
        },
        {
         "metadata": "{}",
         "name": "follower_count",
         "type": "\"integer\""
        },
        {
         "metadata": "{}",
         "name": "poster_name",
         "type": "\"string\""
        },
        {
         "metadata": "{}",
         "name": "tag_list",
         "type": "\"string\""
        },
        {
         "metadata": "{}",
         "name": "is_image_or_video",
         "type": "\"string\""
        },
        {
         "metadata": "{}",
         "name": "image_src",
         "type": "\"string\""
        },
        {
         "metadata": "{}",
         "name": "save_location",
         "type": "\"string\""
        },
        {
         "metadata": "{}",
         "name": "category",
         "type": "\"string\""
        }
       ],
       "type": "table"
      }
     },
     "output_type": "display_data"
    }
   ],
   "source": [
    "# MILE 7. TASK 1. Data transformation on df_pin dataframe.\n",
    "\n",
    "# Use clean_pin() from transformation_functions to perform cleaning tasks\n",
    "df_pin = clean_pin(df_pin)\n",
    "df_p = df_pin.limit(10)     # Use .limit() to have just 10 rows to display, and not the whole df.\n",
    "df_pin.printSchema()\n",
    "display(df_p)"
   ]
  },
  {
   "cell_type": "code",
   "execution_count": 0,
   "metadata": {
    "application/vnd.databricks.v1+cell": {
     "cellMetadata": {
      "byteLimit": 2048000,
      "rowLimit": 10000
     },
     "inputWidgets": {},
     "nuid": "015e6f34-d930-4fb1-82d1-e726fbf76ba4",
     "showTitle": false,
     "title": ""
    }
   },
   "outputs": [
    {
     "output_type": "display_data",
     "data": {
      "text/html": [
       "<style scoped>\n",
       "  .ansiout {\n",
       "    display: block;\n",
       "    unicode-bidi: embed;\n",
       "    white-space: pre-wrap;\n",
       "    word-wrap: break-word;\n",
       "    word-break: break-all;\n",
       "    font-family: \"Menlo\", \"Monaco\", \"Consolas\", \"Ubuntu Mono\", \"Source Code Pro\", monospace;\n",
       "    font-size: 13px;\n",
       "    color: #555;\n",
       "    margin-left: 4px;\n",
       "    line-height: 19px;\n",
       "  }\n",
       "</style>\n",
       "<div class=\"ansiout\">root\n",
       "-- ind: integer (nullable = true)\n",
       "-- country: string (nullable = true)\n",
       "-- coordinates: string (nullable = true)\n",
       "-- timestamp: timestamp (nullable = true)\n",
       "\n",
       "</div>"
      ]
     },
     "metadata": {
      "application/vnd.databricks.v1+output": {
       "addedWidgets": {},
       "arguments": {},
       "data": "<div class=\"ansiout\">root\n |-- ind: integer (nullable = true)\n |-- country: string (nullable = true)\n |-- coordinates: string (nullable = true)\n |-- timestamp: timestamp (nullable = true)\n\n</div>",
       "datasetInfos": [],
       "metadata": {},
       "removedWidgets": [],
       "type": "html"
      }
     },
     "output_type": "display_data"
    },
    {
     "output_type": "display_data",
     "data": {
      "text/html": [
       "<style scoped>\n",
       "  .table-result-container {\n",
       "    max-height: 300px;\n",
       "    overflow: auto;\n",
       "  }\n",
       "  table, th, td {\n",
       "    border: 1px solid black;\n",
       "    border-collapse: collapse;\n",
       "  }\n",
       "  th, td {\n",
       "    padding: 5px;\n",
       "  }\n",
       "  th {\n",
       "    text-align: left;\n",
       "  }\n",
       "</style><div class='table-result-container'><table class='table-result'><thead style='background-color: white'><tr><th>ind</th><th>country</th><th>coordinates</th><th>timestamp</th></tr></thead><tbody><tr><td>9935</td><td>Bouvet Island (Bouvetoya)</td><td>-88.516, -178.811</td><td>2022-02-04T05:27:15.000+0000</td></tr><tr><td>6906</td><td>Central African Republic</td><td>-88.5425, -157.374</td><td>2019-07-12T06:22:04.000+0000</td></tr><tr><td>10794</td><td>Cocos (Keeling) Islands</td><td>-89.5236, -154.567</td><td>2022-01-01T02:26:50.000+0000</td></tr><tr><td>10052</td><td>Central African Republic</td><td>14.7195, -130.921</td><td>2020-01-03T01:10:57.000+0000</td></tr><tr><td>6660</td><td>Bouvet Island (Bouvetoya)</td><td>-54.5264, 73.4883</td><td>2019-02-01T11:00:19.000+0000</td></tr><tr><td>5084</td><td>Slovakia (Slovak Republic)</td><td>87.8011, 53.0249</td><td>2022-01-06T22:16:07.000+0000</td></tr><tr><td>10020</td><td>Cocos (Keeling) Islands</td><td>-88.6883, -86.0607</td><td>2021-08-22T19:54:37.000+0000</td></tr><tr><td>7209</td><td>Central African Republic</td><td>-88.5425, -157.374</td><td>2020-02-12T11:09:50.000+0000</td></tr><tr><td>6740</td><td>Saint Pierre and Miquelon</td><td>-19.6583, 90.4449</td><td>2022-09-29T22:58:19.000+0000</td></tr><tr><td>7370</td><td>Saint Pierre and Miquelon</td><td>-24.2107, 138.463</td><td>2018-04-05T08:02:42.000+0000</td></tr></tbody></table></div>"
      ]
     },
     "metadata": {
      "application/vnd.databricks.v1+output": {
       "addedWidgets": {},
       "aggData": [],
       "aggError": "",
       "aggOverflow": false,
       "aggSchema": [],
       "aggSeriesLimitReached": false,
       "aggType": "",
       "arguments": {},
       "columnCustomDisplayInfos": {},
       "data": [
        [
         9935,
         "Bouvet Island (Bouvetoya)",
         "-88.516, -178.811",
         "2022-02-04T05:27:15.000+0000"
        ],
        [
         6906,
         "Central African Republic",
         "-88.5425, -157.374",
         "2019-07-12T06:22:04.000+0000"
        ],
        [
         10794,
         "Cocos (Keeling) Islands",
         "-89.5236, -154.567",
         "2022-01-01T02:26:50.000+0000"
        ],
        [
         10052,
         "Central African Republic",
         "14.7195, -130.921",
         "2020-01-03T01:10:57.000+0000"
        ],
        [
         6660,
         "Bouvet Island (Bouvetoya)",
         "-54.5264, 73.4883",
         "2019-02-01T11:00:19.000+0000"
        ],
        [
         5084,
         "Slovakia (Slovak Republic)",
         "87.8011, 53.0249",
         "2022-01-06T22:16:07.000+0000"
        ],
        [
         10020,
         "Cocos (Keeling) Islands",
         "-88.6883, -86.0607",
         "2021-08-22T19:54:37.000+0000"
        ],
        [
         7209,
         "Central African Republic",
         "-88.5425, -157.374",
         "2020-02-12T11:09:50.000+0000"
        ],
        [
         6740,
         "Saint Pierre and Miquelon",
         "-19.6583, 90.4449",
         "2022-09-29T22:58:19.000+0000"
        ],
        [
         7370,
         "Saint Pierre and Miquelon",
         "-24.2107, 138.463",
         "2018-04-05T08:02:42.000+0000"
        ]
       ],
       "datasetInfos": [],
       "dbfsResultPath": null,
       "isJsonSchema": true,
       "metadata": {},
       "overflow": false,
       "plotOptions": {
        "customPlotOptions": {},
        "displayType": "table",
        "pivotAggregation": null,
        "pivotColumns": null,
        "xColumns": null,
        "yColumns": null
       },
       "removedWidgets": [],
       "schema": [
        {
         "metadata": "{}",
         "name": "ind",
         "type": "\"integer\""
        },
        {
         "metadata": "{}",
         "name": "country",
         "type": "\"string\""
        },
        {
         "metadata": "{}",
         "name": "coordinates",
         "type": "\"string\""
        },
        {
         "metadata": "{}",
         "name": "timestamp",
         "type": "\"timestamp\""
        }
       ],
       "type": "table"
      }
     },
     "output_type": "display_data"
    }
   ],
   "source": [
    "# MILE 7. TASK 2. Data transformation on df_geo dataframe. \n",
    "\n",
    "# Use clean_geo() from transformation_functions to perform cleaning tasks\n",
    "df_geo = clean_geo(df_geo)\n",
    "df_g = df_geo.limit(10)\n",
    "df_geo.printSchema()\n",
    "display(df_g)\n"
   ]
  },
  {
   "cell_type": "code",
   "execution_count": 0,
   "metadata": {
    "application/vnd.databricks.v1+cell": {
     "cellMetadata": {
      "byteLimit": 2048000,
      "rowLimit": 10000
     },
     "inputWidgets": {},
     "nuid": "427c434d-ae11-46e5-8d40-648eade260dd",
     "showTitle": false,
     "title": ""
    }
   },
   "outputs": [
    {
     "output_type": "display_data",
     "data": {
      "text/html": [
       "<style scoped>\n",
       "  .ansiout {\n",
       "    display: block;\n",
       "    unicode-bidi: embed;\n",
       "    white-space: pre-wrap;\n",
       "    word-wrap: break-word;\n",
       "    word-break: break-all;\n",
       "    font-family: \"Menlo\", \"Monaco\", \"Consolas\", \"Ubuntu Mono\", \"Source Code Pro\", monospace;\n",
       "    font-size: 13px;\n",
       "    color: #555;\n",
       "    margin-left: 4px;\n",
       "    line-height: 19px;\n",
       "  }\n",
       "</style>\n",
       "<div class=\"ansiout\">root\n",
       "-- ind: integer (nullable = true)\n",
       "-- user_name: string (nullable = true)\n",
       "-- age: long (nullable = true)\n",
       "-- date_joined: timestamp (nullable = true)\n",
       "\n",
       "</div>"
      ]
     },
     "metadata": {
      "application/vnd.databricks.v1+output": {
       "addedWidgets": {},
       "arguments": {},
       "data": "<div class=\"ansiout\">root\n |-- ind: integer (nullable = true)\n |-- user_name: string (nullable = true)\n |-- age: long (nullable = true)\n |-- date_joined: timestamp (nullable = true)\n\n</div>",
       "datasetInfos": [],
       "metadata": {},
       "removedWidgets": [],
       "type": "html"
      }
     },
     "output_type": "display_data"
    },
    {
     "output_type": "display_data",
     "data": {
      "text/html": [
       "<style scoped>\n",
       "  .table-result-container {\n",
       "    max-height: 300px;\n",
       "    overflow: auto;\n",
       "  }\n",
       "  table, th, td {\n",
       "    border: 1px solid black;\n",
       "    border-collapse: collapse;\n",
       "  }\n",
       "  th, td {\n",
       "    padding: 5px;\n",
       "  }\n",
       "  th {\n",
       "    text-align: left;\n",
       "  }\n",
       "</style><div class='table-result-container'><table class='table-result'><thead style='background-color: white'><tr><th>ind</th><th>user_name</th><th>age</th><th>date_joined</th></tr></thead><tbody><tr><td>9426</td><td>Nicholas Mcdaniel</td><td>45</td><td>2017-05-24T01:41:26.000+0000</td></tr><tr><td>9332</td><td>Gregory Carpenter</td><td>23</td><td>2016-07-14T11:45:49.000+0000</td></tr><tr><td>4765</td><td>Danielle Gonzalez</td><td>36</td><td>2017-02-16T16:01:34.000+0000</td></tr><tr><td>7268</td><td>Alejandra Acevedo</td><td>20</td><td>2015-11-24T21:01:23.000+0000</td></tr><tr><td>3716</td><td>Catherine Ferrell</td><td>21</td><td>2017-01-02T03:01:09.000+0000</td></tr><tr><td>7116</td><td>Michael Mcconnell</td><td>59</td><td>2017-06-01T10:55:10.000+0000</td></tr><tr><td>1335</td><td>Benjamin Campbell</td><td>20</td><td>2015-11-16T13:25:08.000+0000</td></tr><tr><td>9355</td><td>Elizabeth Johnson</td><td>33</td><td>2016-12-09T23:34:15.000+0000</td></tr><tr><td>10204</td><td>Heather Gonzalez</td><td>41</td><td>2016-06-14T11:16:18.000+0000</td></tr><tr><td>10119</td><td>Chelsea Gonzalez</td><td>43</td><td>2016-07-21T15:25:08.000+0000</td></tr></tbody></table></div>"
      ]
     },
     "metadata": {
      "application/vnd.databricks.v1+output": {
       "addedWidgets": {},
       "aggData": [],
       "aggError": "",
       "aggOverflow": false,
       "aggSchema": [],
       "aggSeriesLimitReached": false,
       "aggType": "",
       "arguments": {},
       "columnCustomDisplayInfos": {},
       "data": [
        [
         9426,
         "Nicholas Mcdaniel",
         45,
         "2017-05-24T01:41:26.000+0000"
        ],
        [
         9332,
         "Gregory Carpenter",
         23,
         "2016-07-14T11:45:49.000+0000"
        ],
        [
         4765,
         "Danielle Gonzalez",
         36,
         "2017-02-16T16:01:34.000+0000"
        ],
        [
         7268,
         "Alejandra Acevedo",
         20,
         "2015-11-24T21:01:23.000+0000"
        ],
        [
         3716,
         "Catherine Ferrell",
         21,
         "2017-01-02T03:01:09.000+0000"
        ],
        [
         7116,
         "Michael Mcconnell",
         59,
         "2017-06-01T10:55:10.000+0000"
        ],
        [
         1335,
         "Benjamin Campbell",
         20,
         "2015-11-16T13:25:08.000+0000"
        ],
        [
         9355,
         "Elizabeth Johnson",
         33,
         "2016-12-09T23:34:15.000+0000"
        ],
        [
         10204,
         "Heather Gonzalez",
         41,
         "2016-06-14T11:16:18.000+0000"
        ],
        [
         10119,
         "Chelsea Gonzalez",
         43,
         "2016-07-21T15:25:08.000+0000"
        ]
       ],
       "datasetInfos": [],
       "dbfsResultPath": null,
       "isJsonSchema": true,
       "metadata": {},
       "overflow": false,
       "plotOptions": {
        "customPlotOptions": {},
        "displayType": "table",
        "pivotAggregation": null,
        "pivotColumns": null,
        "xColumns": null,
        "yColumns": null
       },
       "removedWidgets": [],
       "schema": [
        {
         "metadata": "{}",
         "name": "ind",
         "type": "\"integer\""
        },
        {
         "metadata": "{}",
         "name": "user_name",
         "type": "\"string\""
        },
        {
         "metadata": "{}",
         "name": "age",
         "type": "\"long\""
        },
        {
         "metadata": "{}",
         "name": "date_joined",
         "type": "\"timestamp\""
        }
       ],
       "type": "table"
      }
     },
     "output_type": "display_data"
    }
   ],
   "source": [
    "# MILE 7. TASK 3. Data transformation on df_user dataframe.\n",
    "\n",
    "# Use clean_user() from transformation_functions to perform cleaning tasks\n",
    "df_user = clean_user(df_user)\n",
    "df_u = df_user.limit(10)\n",
    "df_user.printSchema()\n",
    "display(df_u)"
   ]
  },
  {
   "cell_type": "code",
   "execution_count": 0,
   "metadata": {
    "application/vnd.databricks.v1+cell": {
     "cellMetadata": {
      "byteLimit": 2048000,
      "rowLimit": 10000
     },
     "inputWidgets": {},
     "nuid": "875ef209-a77b-4be2-921b-a218038170d9",
     "showTitle": false,
     "title": ""
    }
   },
   "outputs": [
    {
     "output_type": "display_data",
     "data": {
      "text/html": [
       "<style scoped>\n",
       "  .ansiout {\n",
       "    display: block;\n",
       "    unicode-bidi: embed;\n",
       "    white-space: pre-wrap;\n",
       "    word-wrap: break-word;\n",
       "    word-break: break-all;\n",
       "    font-family: \"Menlo\", \"Monaco\", \"Consolas\", \"Ubuntu Mono\", \"Source Code Pro\", monospace;\n",
       "    font-size: 13px;\n",
       "    color: #555;\n",
       "    margin-left: 4px;\n",
       "    line-height: 19px;\n",
       "  }\n",
       "</style>\n",
       "<div class=\"ansiout\"></div>"
      ]
     },
     "metadata": {
      "application/vnd.databricks.v1+output": {
       "addedWidgets": {},
       "arguments": {},
       "data": "<div class=\"ansiout\"></div>",
       "datasetInfos": [],
       "metadata": {},
       "removedWidgets": [],
       "type": "html"
      }
     },
     "output_type": "display_data"
    }
   ],
   "source": [
    "# MILE 7. TASK 4. Category with the most pins by country."
   ]
  },
  {
   "cell_type": "code",
   "execution_count": 0,
   "metadata": {
    "application/vnd.databricks.v1+cell": {
     "cellMetadata": {
      "byteLimit": 2048000,
      "rowLimit": 10000
     },
     "inputWidgets": {},
     "nuid": "a0fd0df1-fc24-4a14-a33a-d80863e2417c",
     "showTitle": false,
     "title": ""
    }
   },
   "outputs": [
    {
     "output_type": "display_data",
     "data": {
      "text/html": [
       "<style scoped>\n",
       "  .table-result-container {\n",
       "    max-height: 300px;\n",
       "    overflow: auto;\n",
       "  }\n",
       "  table, th, td {\n",
       "    border: 1px solid black;\n",
       "    border-collapse: collapse;\n",
       "  }\n",
       "  th, td {\n",
       "    padding: 5px;\n",
       "  }\n",
       "  th {\n",
       "    text-align: left;\n",
       "  }\n",
       "</style><div class='table-result-container'><table class='table-result'><thead style='background-color: white'><tr><th>country</th><th>category</th><th>category_count</th></tr></thead><tbody><tr><td>Afghanistan</td><td>education</td><td>14</td></tr><tr><td>Albania</td><td>art</td><td>29</td></tr><tr><td>Algeria</td><td>quotes</td><td>38</td></tr><tr><td>American Samoa</td><td>tattoos</td><td>12</td></tr><tr><td>Andorra</td><td>tattoos</td><td>11</td></tr><tr><td>Angola</td><td>diy-and-crafts</td><td>4</td></tr><tr><td>Anguilla</td><td>diy-and-crafts</td><td>6</td></tr><tr><td>Antarctica (the territory South of 60 deg S)</td><td>tattoos</td><td>6</td></tr><tr><td>Antigua and Barbuda</td><td>art</td><td>4</td></tr><tr><td>Argentina</td><td>tattoos</td><td>11</td></tr><tr><td>Armenia</td><td>art</td><td>5</td></tr><tr><td>Aruba</td><td>christmas</td><td>11</td></tr><tr><td>Australia</td><td>christmas</td><td>3</td></tr><tr><td>Austria</td><td>travel</td><td>5</td></tr><tr><td>Azerbaijan</td><td>finance</td><td>9</td></tr><tr><td>Bahamas</td><td>event-planning</td><td>5</td></tr><tr><td>Bahrain</td><td>finance</td><td>4</td></tr><tr><td>Bangladesh</td><td>christmas</td><td>10</td></tr><tr><td>Barbados</td><td>education</td><td>5</td></tr><tr><td>Belarus</td><td>travel</td><td>2</td></tr><tr><td>Belgium</td><td>travel</td><td>2</td></tr><tr><td>Belize</td><td>diy-and-crafts</td><td>6</td></tr><tr><td>Benin</td><td>finance</td><td>2</td></tr><tr><td>Bermuda</td><td>christmas</td><td>4</td></tr><tr><td>Bhutan</td><td>diy-and-crafts</td><td>3</td></tr><tr><td>Bolivia</td><td>home-decor</td><td>7</td></tr><tr><td>Bosnia and Herzegovina</td><td>christmas</td><td>3</td></tr><tr><td>Botswana</td><td>art</td><td>2</td></tr><tr><td>Bouvet Island (Bouvetoya)</td><td>travel</td><td>4</td></tr><tr><td>Brazil</td><td>finance</td><td>2</td></tr><tr><td>British Indian Ocean Territory (Chagos Archipelago)</td><td>mens-fashion</td><td>2</td></tr><tr><td>British Virgin Islands</td><td>christmas</td><td>6</td></tr><tr><td>Brunei Darussalam</td><td>event-planning</td><td>3</td></tr><tr><td>Bulgaria</td><td>christmas</td><td>7</td></tr><tr><td>Burkina Faso</td><td>quotes</td><td>4</td></tr><tr><td>Burundi</td><td>mens-fashion</td><td>2</td></tr><tr><td>Cambodia</td><td>beauty</td><td>2</td></tr><tr><td>Cameroon</td><td>diy-and-crafts</td><td>2</td></tr><tr><td>Canada</td><td>travel</td><td>2</td></tr><tr><td>Cape Verde</td><td>event-planning</td><td>2</td></tr><tr><td>Cayman Islands</td><td>travel</td><td>1</td></tr><tr><td>Central African Republic</td><td>mens-fashion</td><td>3</td></tr><tr><td>Chad</td><td>diy-and-crafts</td><td>4</td></tr><tr><td>Chile</td><td>travel</td><td>2</td></tr><tr><td>China</td><td>finance</td><td>1</td></tr><tr><td>Christmas Island</td><td>event-planning</td><td>3</td></tr><tr><td>Cocos (Keeling) Islands</td><td>event-planning</td><td>2</td></tr><tr><td>Colombia</td><td>home-decor</td><td>3</td></tr><tr><td>Comoros</td><td>quotes</td><td>2</td></tr><tr><td>Congo</td><td>finance</td><td>3</td></tr><tr><td>Cook Islands</td><td>travel</td><td>1</td></tr><tr><td>Costa Rica</td><td>home-decor</td><td>3</td></tr><tr><td>Cote d'Ivoire</td><td>event-planning</td><td>3</td></tr><tr><td>Croatia</td><td>finance</td><td>4</td></tr><tr><td>Cuba</td><td>diy-and-crafts</td><td>2</td></tr><tr><td>Cyprus</td><td>home-decor</td><td>2</td></tr><tr><td>Czech Republic</td><td>travel</td><td>3</td></tr><tr><td>Denmark</td><td>mens-fashion</td><td>1</td></tr><tr><td>Djibouti</td><td>diy-and-crafts</td><td>3</td></tr><tr><td>Dominica</td><td>event-planning</td><td>2</td></tr><tr><td>Dominican Republic</td><td>finance</td><td>3</td></tr><tr><td>Ecuador</td><td>mens-fashion</td><td>2</td></tr><tr><td>Egypt</td><td>home-decor</td><td>3</td></tr><tr><td>El Salvador</td><td>travel</td><td>1</td></tr><tr><td>Equatorial Guinea</td><td>event-planning</td><td>1</td></tr><tr><td>Eritrea</td><td>art</td><td>1</td></tr><tr><td>Estonia</td><td>vehicles</td><td>2</td></tr><tr><td>Ethiopia</td><td>art</td><td>2</td></tr><tr><td>Falkland Islands (Malvinas)</td><td>home-decor</td><td>2</td></tr><tr><td>Faroe Islands</td><td>event-planning</td><td>2</td></tr><tr><td>Fiji</td><td>mens-fashion</td><td>2</td></tr><tr><td>Finland</td><td>beauty</td><td>2</td></tr><tr><td>France</td><td>art</td><td>2</td></tr><tr><td>French Guiana</td><td>art</td><td>1</td></tr><tr><td>French Polynesia</td><td>event-planning</td><td>4</td></tr><tr><td>French Southern Territories</td><td>art</td><td>1</td></tr><tr><td>Gabon</td><td>travel</td><td>2</td></tr><tr><td>Gambia</td><td>travel</td><td>1</td></tr><tr><td>Georgia</td><td>education</td><td>3</td></tr><tr><td>Germany</td><td>finance</td><td>2</td></tr><tr><td>Ghana</td><td>art</td><td>2</td></tr><tr><td>Gibraltar</td><td>mens-fashion</td><td>2</td></tr><tr><td>Greece</td><td>mens-fashion</td><td>2</td></tr><tr><td>Greenland</td><td>christmas</td><td>1</td></tr><tr><td>Grenada</td><td>quotes</td><td>2</td></tr><tr><td>Guadeloupe</td><td>christmas</td><td>2</td></tr><tr><td>Guam</td><td>travel</td><td>1</td></tr><tr><td>Guatemala</td><td>finance</td><td>1</td></tr><tr><td>Guernsey</td><td>tattoos</td><td>1</td></tr><tr><td>Guinea</td><td>christmas</td><td>1</td></tr><tr><td>Guinea-Bissau</td><td>travel</td><td>2</td></tr><tr><td>Guyana</td><td>tattoos</td><td>1</td></tr><tr><td>Haiti</td><td>home-decor</td><td>1</td></tr><tr><td>Heard Island and McDonald Islands</td><td>mens-fashion</td><td>2</td></tr><tr><td>Holy See (Vatican City State)</td><td>mens-fashion</td><td>1</td></tr><tr><td>Honduras</td><td>event-planning</td><td>2</td></tr><tr><td>Hong Kong</td><td>home-decor</td><td>2</td></tr><tr><td>Hungary</td><td>vehicles</td><td>3</td></tr><tr><td>Iceland</td><td>tattoos</td><td>1</td></tr><tr><td>India</td><td>beauty</td><td>2</td></tr><tr><td>Indonesia</td><td>finance</td><td>4</td></tr><tr><td>Iran</td><td>christmas</td><td>2</td></tr><tr><td>Iraq</td><td>christmas</td><td>1</td></tr><tr><td>Ireland</td><td>mens-fashion</td><td>1</td></tr><tr><td>Isle of Man</td><td>art</td><td>2</td></tr><tr><td>Israel</td><td>art</td><td>1</td></tr><tr><td>Italy</td><td>beauty</td><td>1</td></tr><tr><td>Jamaica</td><td>finance</td><td>2</td></tr><tr><td>Japan</td><td>art</td><td>2</td></tr><tr><td>Jersey</td><td>quotes</td><td>1</td></tr><tr><td>Jordan</td><td>vehicles</td><td>1</td></tr><tr><td>Kazakhstan</td><td>beauty</td><td>1</td></tr><tr><td>Kenya</td><td>diy-and-crafts</td><td>2</td></tr><tr><td>Kiribati</td><td>beauty</td><td>2</td></tr><tr><td>Korea</td><td>travel</td><td>2</td></tr><tr><td>Kuwait</td><td>christmas</td><td>2</td></tr><tr><td>Kyrgyz Republic</td><td>vehicles</td><td>1</td></tr><tr><td>Lao People's Democratic Republic</td><td>beauty</td><td>1</td></tr><tr><td>Latvia</td><td>home-decor</td><td>1</td></tr><tr><td>Lebanon</td><td>quotes</td><td>3</td></tr><tr><td>Lesotho</td><td>art</td><td>3</td></tr><tr><td>Liberia</td><td>beauty</td><td>1</td></tr><tr><td>Libyan Arab Jamahiriya</td><td>christmas</td><td>2</td></tr><tr><td>Liechtenstein</td><td>mens-fashion</td><td>2</td></tr><tr><td>Lithuania</td><td>diy-and-crafts</td><td>1</td></tr><tr><td>Luxembourg</td><td>education</td><td>1</td></tr><tr><td>Macao</td><td>mens-fashion</td><td>1</td></tr><tr><td>Macedonia</td><td>finance</td><td>1</td></tr><tr><td>Madagascar</td><td>mens-fashion</td><td>1</td></tr><tr><td>Malawi</td><td>travel</td><td>2</td></tr><tr><td>Maldives</td><td>event-planning</td><td>2</td></tr><tr><td>Mali</td><td>mens-fashion</td><td>1</td></tr><tr><td>Malta</td><td>beauty</td><td>4</td></tr><tr><td>Marshall Islands</td><td>vehicles</td><td>1</td></tr><tr><td>Martinique</td><td>art</td><td>1</td></tr><tr><td>Mauritania</td><td>christmas</td><td>1</td></tr><tr><td>Mauritius</td><td>quotes</td><td>1</td></tr><tr><td>Mayotte</td><td>christmas</td><td>1</td></tr><tr><td>Mexico</td><td>vehicles</td><td>2</td></tr><tr><td>Micronesia</td><td>christmas</td><td>1</td></tr><tr><td>Moldova</td><td>beauty</td><td>2</td></tr><tr><td>Monaco</td><td>art</td><td>2</td></tr><tr><td>Mongolia</td><td>travel</td><td>1</td></tr><tr><td>Montenegro</td><td>diy-and-crafts</td><td>1</td></tr><tr><td>Montserrat</td><td>education</td><td>1</td></tr><tr><td>Morocco</td><td>quotes</td><td>2</td></tr><tr><td>Mozambique</td><td>home-decor</td><td>2</td></tr><tr><td>Myanmar</td><td>christmas</td><td>1</td></tr><tr><td>Namibia</td><td>quotes</td><td>1</td></tr><tr><td>Nauru</td><td>beauty</td><td>3</td></tr><tr><td>Nepal</td><td>mens-fashion</td><td>1</td></tr><tr><td>Netherlands</td><td>home-decor</td><td>3</td></tr><tr><td>Netherlands Antilles</td><td>beauty</td><td>2</td></tr><tr><td>New Caledonia</td><td>travel</td><td>2</td></tr><tr><td>New Zealand</td><td>quotes</td><td>2</td></tr><tr><td>Nicaragua</td><td>mens-fashion</td><td>2</td></tr><tr><td>Niger</td><td>education</td><td>1</td></tr><tr><td>Nigeria</td><td>education</td><td>2</td></tr><tr><td>Niue</td><td>quotes</td><td>2</td></tr><tr><td>Norfolk Island</td><td>mens-fashion</td><td>1</td></tr><tr><td>Norway</td><td>art</td><td>1</td></tr><tr><td>Oman</td><td>beauty</td><td>1</td></tr><tr><td>Pakistan</td><td>vehicles</td><td>1</td></tr><tr><td>Palau</td><td>education</td><td>1</td></tr><tr><td>Palestinian Territory</td><td>vehicles</td><td>1</td></tr><tr><td>Panama</td><td>vehicles</td><td>2</td></tr><tr><td>Papua New Guinea</td><td>quotes</td><td>3</td></tr><tr><td>Paraguay</td><td>quotes</td><td>1</td></tr><tr><td>Peru</td><td>art</td><td>1</td></tr><tr><td>Philippines</td><td>vehicles</td><td>1</td></tr><tr><td>Pitcairn Islands</td><td>diy-and-crafts</td><td>2</td></tr><tr><td>Poland</td><td>event-planning</td><td>1</td></tr><tr><td>Portugal</td><td>event-planning</td><td>1</td></tr><tr><td>Puerto Rico</td><td>christmas</td><td>2</td></tr><tr><td>Qatar</td><td>beauty</td><td>2</td></tr><tr><td>Reunion</td><td>home-decor</td><td>1</td></tr><tr><td>Romania</td><td>tattoos</td><td>1</td></tr><tr><td>Russian Federation</td><td>home-decor</td><td>1</td></tr><tr><td>Rwanda</td><td>travel</td><td>1</td></tr><tr><td>Saint Barthelemy</td><td>mens-fashion</td><td>1</td></tr><tr><td>Saint Helena</td><td>art</td><td>1</td></tr><tr><td>Saint Kitts and Nevis</td><td>home-decor</td><td>1</td></tr><tr><td>Saint Lucia</td><td>education</td><td>1</td></tr><tr><td>Saint Martin</td><td>quotes</td><td>1</td></tr><tr><td>Saint Pierre and Miquelon</td><td>mens-fashion</td><td>3</td></tr><tr><td>Saint Vincent and the Grenadines</td><td>christmas</td><td>1</td></tr><tr><td>Samoa</td><td>finance</td><td>1</td></tr><tr><td>San Marino</td><td>home-decor</td><td>2</td></tr><tr><td>Sao Tome and Principe</td><td>tattoos</td><td>1</td></tr><tr><td>Saudi Arabia</td><td>finance</td><td>1</td></tr><tr><td>Senegal</td><td>beauty</td><td>1</td></tr><tr><td>Serbia</td><td>vehicles</td><td>1</td></tr><tr><td>Seychelles</td><td>beauty</td><td>2</td></tr><tr><td>Singapore</td><td>art</td><td>1</td></tr><tr><td>Slovakia (Slovak Republic)</td><td>vehicles</td><td>1</td></tr><tr><td>Slovenia</td><td>education</td><td>1</td></tr><tr><td>Solomon Islands</td><td>vehicles</td><td>3</td></tr><tr><td>Somalia</td><td>quotes</td><td>1</td></tr><tr><td>South Africa</td><td>vehicles</td><td>1</td></tr><tr><td>South Georgia and the South Sandwich Islands</td><td>vehicles</td><td>1</td></tr><tr><td>Sri Lanka</td><td>mens-fashion</td><td>1</td></tr><tr><td>Sudan</td><td>art</td><td>1</td></tr><tr><td>Suriname</td><td>event-planning</td><td>1</td></tr><tr><td>Svalbard & Jan Mayen Islands</td><td>travel</td><td>1</td></tr><tr><td>Swaziland</td><td>quotes</td><td>1</td></tr><tr><td>Sweden</td><td>finance</td><td>1</td></tr><tr><td>Switzerland</td><td>quotes</td><td>1</td></tr><tr><td>Taiwan</td><td>mens-fashion</td><td>1</td></tr><tr><td>Tajikistan</td><td>beauty</td><td>1</td></tr><tr><td>Tanzania</td><td>travel</td><td>1</td></tr><tr><td>Thailand</td><td>home-decor</td><td>1</td></tr><tr><td>Timor-Leste</td><td>travel</td><td>2</td></tr><tr><td>Togo</td><td>christmas</td><td>1</td></tr><tr><td>Tokelau</td><td>vehicles</td><td>1</td></tr><tr><td>Tonga</td><td>beauty</td><td>1</td></tr><tr><td>Trinidad and Tobago</td><td>christmas</td><td>1</td></tr><tr><td>Tunisia</td><td>diy-and-crafts</td><td>1</td></tr><tr><td>Turkey</td><td>education</td><td>2</td></tr><tr><td>Turkmenistan</td><td>diy-and-crafts</td><td>1</td></tr><tr><td>Turks and Caicos Islands</td><td>event-planning</td><td>1</td></tr><tr><td>Tuvalu</td><td>tattoos</td><td>1</td></tr><tr><td>Uganda</td><td>event-planning</td><td>3</td></tr><tr><td>Ukraine</td><td>beauty</td><td>1</td></tr><tr><td>United Kingdom</td><td>quotes</td><td>1</td></tr><tr><td>United States Minor Outlying Islands</td><td>vehicles</td><td>1</td></tr><tr><td>United States Virgin Islands</td><td>art</td><td>2</td></tr><tr><td>United States of America</td><td>education</td><td>1</td></tr><tr><td>Uzbekistan</td><td>quotes</td><td>1</td></tr><tr><td>Vanuatu</td><td>education</td><td>1</td></tr><tr><td>Venezuela</td><td>diy-and-crafts</td><td>1</td></tr><tr><td>Vietnam</td><td>travel</td><td>1</td></tr><tr><td>Wallis and Futuna</td><td>home-decor</td><td>1</td></tr><tr><td>Western Sahara</td><td>travel</td><td>1</td></tr><tr><td>Yemen</td><td>christmas</td><td>1</td></tr><tr><td>Zambia</td><td>mens-fashion</td><td>1</td></tr></tbody></table></div>"
      ]
     },
     "metadata": {
      "application/vnd.databricks.v1+output": {
       "addedWidgets": {},
       "aggData": [],
       "aggError": "",
       "aggOverflow": false,
       "aggSchema": [],
       "aggSeriesLimitReached": false,
       "aggType": "",
       "arguments": {},
       "columnCustomDisplayInfos": {},
       "data": [
        [
         "Afghanistan",
         "education",
         14
        ],
        [
         "Albania",
         "art",
         29
        ],
        [
         "Algeria",
         "quotes",
         38
        ],
        [
         "American Samoa",
         "tattoos",
         12
        ],
        [
         "Andorra",
         "tattoos",
         11
        ],
        [
         "Angola",
         "diy-and-crafts",
         4
        ],
        [
         "Anguilla",
         "diy-and-crafts",
         6
        ],
        [
         "Antarctica (the territory South of 60 deg S)",
         "tattoos",
         6
        ],
        [
         "Antigua and Barbuda",
         "art",
         4
        ],
        [
         "Argentina",
         "tattoos",
         11
        ],
        [
         "Armenia",
         "art",
         5
        ],
        [
         "Aruba",
         "christmas",
         11
        ],
        [
         "Australia",
         "christmas",
         3
        ],
        [
         "Austria",
         "travel",
         5
        ],
        [
         "Azerbaijan",
         "finance",
         9
        ],
        [
         "Bahamas",
         "event-planning",
         5
        ],
        [
         "Bahrain",
         "finance",
         4
        ],
        [
         "Bangladesh",
         "christmas",
         10
        ],
        [
         "Barbados",
         "education",
         5
        ],
        [
         "Belarus",
         "travel",
         2
        ],
        [
         "Belgium",
         "travel",
         2
        ],
        [
         "Belize",
         "diy-and-crafts",
         6
        ],
        [
         "Benin",
         "finance",
         2
        ],
        [
         "Bermuda",
         "christmas",
         4
        ],
        [
         "Bhutan",
         "diy-and-crafts",
         3
        ],
        [
         "Bolivia",
         "home-decor",
         7
        ],
        [
         "Bosnia and Herzegovina",
         "christmas",
         3
        ],
        [
         "Botswana",
         "art",
         2
        ],
        [
         "Bouvet Island (Bouvetoya)",
         "travel",
         4
        ],
        [
         "Brazil",
         "finance",
         2
        ],
        [
         "British Indian Ocean Territory (Chagos Archipelago)",
         "mens-fashion",
         2
        ],
        [
         "British Virgin Islands",
         "christmas",
         6
        ],
        [
         "Brunei Darussalam",
         "event-planning",
         3
        ],
        [
         "Bulgaria",
         "christmas",
         7
        ],
        [
         "Burkina Faso",
         "quotes",
         4
        ],
        [
         "Burundi",
         "mens-fashion",
         2
        ],
        [
         "Cambodia",
         "beauty",
         2
        ],
        [
         "Cameroon",
         "diy-and-crafts",
         2
        ],
        [
         "Canada",
         "travel",
         2
        ],
        [
         "Cape Verde",
         "event-planning",
         2
        ],
        [
         "Cayman Islands",
         "travel",
         1
        ],
        [
         "Central African Republic",
         "mens-fashion",
         3
        ],
        [
         "Chad",
         "diy-and-crafts",
         4
        ],
        [
         "Chile",
         "travel",
         2
        ],
        [
         "China",
         "finance",
         1
        ],
        [
         "Christmas Island",
         "event-planning",
         3
        ],
        [
         "Cocos (Keeling) Islands",
         "event-planning",
         2
        ],
        [
         "Colombia",
         "home-decor",
         3
        ],
        [
         "Comoros",
         "quotes",
         2
        ],
        [
         "Congo",
         "finance",
         3
        ],
        [
         "Cook Islands",
         "travel",
         1
        ],
        [
         "Costa Rica",
         "home-decor",
         3
        ],
        [
         "Cote d'Ivoire",
         "event-planning",
         3
        ],
        [
         "Croatia",
         "finance",
         4
        ],
        [
         "Cuba",
         "diy-and-crafts",
         2
        ],
        [
         "Cyprus",
         "home-decor",
         2
        ],
        [
         "Czech Republic",
         "travel",
         3
        ],
        [
         "Denmark",
         "mens-fashion",
         1
        ],
        [
         "Djibouti",
         "diy-and-crafts",
         3
        ],
        [
         "Dominica",
         "event-planning",
         2
        ],
        [
         "Dominican Republic",
         "finance",
         3
        ],
        [
         "Ecuador",
         "mens-fashion",
         2
        ],
        [
         "Egypt",
         "home-decor",
         3
        ],
        [
         "El Salvador",
         "travel",
         1
        ],
        [
         "Equatorial Guinea",
         "event-planning",
         1
        ],
        [
         "Eritrea",
         "art",
         1
        ],
        [
         "Estonia",
         "vehicles",
         2
        ],
        [
         "Ethiopia",
         "art",
         2
        ],
        [
         "Falkland Islands (Malvinas)",
         "home-decor",
         2
        ],
        [
         "Faroe Islands",
         "event-planning",
         2
        ],
        [
         "Fiji",
         "mens-fashion",
         2
        ],
        [
         "Finland",
         "beauty",
         2
        ],
        [
         "France",
         "art",
         2
        ],
        [
         "French Guiana",
         "art",
         1
        ],
        [
         "French Polynesia",
         "event-planning",
         4
        ],
        [
         "French Southern Territories",
         "art",
         1
        ],
        [
         "Gabon",
         "travel",
         2
        ],
        [
         "Gambia",
         "travel",
         1
        ],
        [
         "Georgia",
         "education",
         3
        ],
        [
         "Germany",
         "finance",
         2
        ],
        [
         "Ghana",
         "art",
         2
        ],
        [
         "Gibraltar",
         "mens-fashion",
         2
        ],
        [
         "Greece",
         "mens-fashion",
         2
        ],
        [
         "Greenland",
         "christmas",
         1
        ],
        [
         "Grenada",
         "quotes",
         2
        ],
        [
         "Guadeloupe",
         "christmas",
         2
        ],
        [
         "Guam",
         "travel",
         1
        ],
        [
         "Guatemala",
         "finance",
         1
        ],
        [
         "Guernsey",
         "tattoos",
         1
        ],
        [
         "Guinea",
         "christmas",
         1
        ],
        [
         "Guinea-Bissau",
         "travel",
         2
        ],
        [
         "Guyana",
         "tattoos",
         1
        ],
        [
         "Haiti",
         "home-decor",
         1
        ],
        [
         "Heard Island and McDonald Islands",
         "mens-fashion",
         2
        ],
        [
         "Holy See (Vatican City State)",
         "mens-fashion",
         1
        ],
        [
         "Honduras",
         "event-planning",
         2
        ],
        [
         "Hong Kong",
         "home-decor",
         2
        ],
        [
         "Hungary",
         "vehicles",
         3
        ],
        [
         "Iceland",
         "tattoos",
         1
        ],
        [
         "India",
         "beauty",
         2
        ],
        [
         "Indonesia",
         "finance",
         4
        ],
        [
         "Iran",
         "christmas",
         2
        ],
        [
         "Iraq",
         "christmas",
         1
        ],
        [
         "Ireland",
         "mens-fashion",
         1
        ],
        [
         "Isle of Man",
         "art",
         2
        ],
        [
         "Israel",
         "art",
         1
        ],
        [
         "Italy",
         "beauty",
         1
        ],
        [
         "Jamaica",
         "finance",
         2
        ],
        [
         "Japan",
         "art",
         2
        ],
        [
         "Jersey",
         "quotes",
         1
        ],
        [
         "Jordan",
         "vehicles",
         1
        ],
        [
         "Kazakhstan",
         "beauty",
         1
        ],
        [
         "Kenya",
         "diy-and-crafts",
         2
        ],
        [
         "Kiribati",
         "beauty",
         2
        ],
        [
         "Korea",
         "travel",
         2
        ],
        [
         "Kuwait",
         "christmas",
         2
        ],
        [
         "Kyrgyz Republic",
         "vehicles",
         1
        ],
        [
         "Lao People's Democratic Republic",
         "beauty",
         1
        ],
        [
         "Latvia",
         "home-decor",
         1
        ],
        [
         "Lebanon",
         "quotes",
         3
        ],
        [
         "Lesotho",
         "art",
         3
        ],
        [
         "Liberia",
         "beauty",
         1
        ],
        [
         "Libyan Arab Jamahiriya",
         "christmas",
         2
        ],
        [
         "Liechtenstein",
         "mens-fashion",
         2
        ],
        [
         "Lithuania",
         "diy-and-crafts",
         1
        ],
        [
         "Luxembourg",
         "education",
         1
        ],
        [
         "Macao",
         "mens-fashion",
         1
        ],
        [
         "Macedonia",
         "finance",
         1
        ],
        [
         "Madagascar",
         "mens-fashion",
         1
        ],
        [
         "Malawi",
         "travel",
         2
        ],
        [
         "Maldives",
         "event-planning",
         2
        ],
        [
         "Mali",
         "mens-fashion",
         1
        ],
        [
         "Malta",
         "beauty",
         4
        ],
        [
         "Marshall Islands",
         "vehicles",
         1
        ],
        [
         "Martinique",
         "art",
         1
        ],
        [
         "Mauritania",
         "christmas",
         1
        ],
        [
         "Mauritius",
         "quotes",
         1
        ],
        [
         "Mayotte",
         "christmas",
         1
        ],
        [
         "Mexico",
         "vehicles",
         2
        ],
        [
         "Micronesia",
         "christmas",
         1
        ],
        [
         "Moldova",
         "beauty",
         2
        ],
        [
         "Monaco",
         "art",
         2
        ],
        [
         "Mongolia",
         "travel",
         1
        ],
        [
         "Montenegro",
         "diy-and-crafts",
         1
        ],
        [
         "Montserrat",
         "education",
         1
        ],
        [
         "Morocco",
         "quotes",
         2
        ],
        [
         "Mozambique",
         "home-decor",
         2
        ],
        [
         "Myanmar",
         "christmas",
         1
        ],
        [
         "Namibia",
         "quotes",
         1
        ],
        [
         "Nauru",
         "beauty",
         3
        ],
        [
         "Nepal",
         "mens-fashion",
         1
        ],
        [
         "Netherlands",
         "home-decor",
         3
        ],
        [
         "Netherlands Antilles",
         "beauty",
         2
        ],
        [
         "New Caledonia",
         "travel",
         2
        ],
        [
         "New Zealand",
         "quotes",
         2
        ],
        [
         "Nicaragua",
         "mens-fashion",
         2
        ],
        [
         "Niger",
         "education",
         1
        ],
        [
         "Nigeria",
         "education",
         2
        ],
        [
         "Niue",
         "quotes",
         2
        ],
        [
         "Norfolk Island",
         "mens-fashion",
         1
        ],
        [
         "Norway",
         "art",
         1
        ],
        [
         "Oman",
         "beauty",
         1
        ],
        [
         "Pakistan",
         "vehicles",
         1
        ],
        [
         "Palau",
         "education",
         1
        ],
        [
         "Palestinian Territory",
         "vehicles",
         1
        ],
        [
         "Panama",
         "vehicles",
         2
        ],
        [
         "Papua New Guinea",
         "quotes",
         3
        ],
        [
         "Paraguay",
         "quotes",
         1
        ],
        [
         "Peru",
         "art",
         1
        ],
        [
         "Philippines",
         "vehicles",
         1
        ],
        [
         "Pitcairn Islands",
         "diy-and-crafts",
         2
        ],
        [
         "Poland",
         "event-planning",
         1
        ],
        [
         "Portugal",
         "event-planning",
         1
        ],
        [
         "Puerto Rico",
         "christmas",
         2
        ],
        [
         "Qatar",
         "beauty",
         2
        ],
        [
         "Reunion",
         "home-decor",
         1
        ],
        [
         "Romania",
         "tattoos",
         1
        ],
        [
         "Russian Federation",
         "home-decor",
         1
        ],
        [
         "Rwanda",
         "travel",
         1
        ],
        [
         "Saint Barthelemy",
         "mens-fashion",
         1
        ],
        [
         "Saint Helena",
         "art",
         1
        ],
        [
         "Saint Kitts and Nevis",
         "home-decor",
         1
        ],
        [
         "Saint Lucia",
         "education",
         1
        ],
        [
         "Saint Martin",
         "quotes",
         1
        ],
        [
         "Saint Pierre and Miquelon",
         "mens-fashion",
         3
        ],
        [
         "Saint Vincent and the Grenadines",
         "christmas",
         1
        ],
        [
         "Samoa",
         "finance",
         1
        ],
        [
         "San Marino",
         "home-decor",
         2
        ],
        [
         "Sao Tome and Principe",
         "tattoos",
         1
        ],
        [
         "Saudi Arabia",
         "finance",
         1
        ],
        [
         "Senegal",
         "beauty",
         1
        ],
        [
         "Serbia",
         "vehicles",
         1
        ],
        [
         "Seychelles",
         "beauty",
         2
        ],
        [
         "Singapore",
         "art",
         1
        ],
        [
         "Slovakia (Slovak Republic)",
         "vehicles",
         1
        ],
        [
         "Slovenia",
         "education",
         1
        ],
        [
         "Solomon Islands",
         "vehicles",
         3
        ],
        [
         "Somalia",
         "quotes",
         1
        ],
        [
         "South Africa",
         "vehicles",
         1
        ],
        [
         "South Georgia and the South Sandwich Islands",
         "vehicles",
         1
        ],
        [
         "Sri Lanka",
         "mens-fashion",
         1
        ],
        [
         "Sudan",
         "art",
         1
        ],
        [
         "Suriname",
         "event-planning",
         1
        ],
        [
         "Svalbard & Jan Mayen Islands",
         "travel",
         1
        ],
        [
         "Swaziland",
         "quotes",
         1
        ],
        [
         "Sweden",
         "finance",
         1
        ],
        [
         "Switzerland",
         "quotes",
         1
        ],
        [
         "Taiwan",
         "mens-fashion",
         1
        ],
        [
         "Tajikistan",
         "beauty",
         1
        ],
        [
         "Tanzania",
         "travel",
         1
        ],
        [
         "Thailand",
         "home-decor",
         1
        ],
        [
         "Timor-Leste",
         "travel",
         2
        ],
        [
         "Togo",
         "christmas",
         1
        ],
        [
         "Tokelau",
         "vehicles",
         1
        ],
        [
         "Tonga",
         "beauty",
         1
        ],
        [
         "Trinidad and Tobago",
         "christmas",
         1
        ],
        [
         "Tunisia",
         "diy-and-crafts",
         1
        ],
        [
         "Turkey",
         "education",
         2
        ],
        [
         "Turkmenistan",
         "diy-and-crafts",
         1
        ],
        [
         "Turks and Caicos Islands",
         "event-planning",
         1
        ],
        [
         "Tuvalu",
         "tattoos",
         1
        ],
        [
         "Uganda",
         "event-planning",
         3
        ],
        [
         "Ukraine",
         "beauty",
         1
        ],
        [
         "United Kingdom",
         "quotes",
         1
        ],
        [
         "United States Minor Outlying Islands",
         "vehicles",
         1
        ],
        [
         "United States Virgin Islands",
         "art",
         2
        ],
        [
         "United States of America",
         "education",
         1
        ],
        [
         "Uzbekistan",
         "quotes",
         1
        ],
        [
         "Vanuatu",
         "education",
         1
        ],
        [
         "Venezuela",
         "diy-and-crafts",
         1
        ],
        [
         "Vietnam",
         "travel",
         1
        ],
        [
         "Wallis and Futuna",
         "home-decor",
         1
        ],
        [
         "Western Sahara",
         "travel",
         1
        ],
        [
         "Yemen",
         "christmas",
         1
        ],
        [
         "Zambia",
         "mens-fashion",
         1
        ]
       ],
       "datasetInfos": [],
       "dbfsResultPath": null,
       "isJsonSchema": true,
       "metadata": {},
       "overflow": false,
       "plotOptions": {
        "customPlotOptions": {},
        "displayType": "table",
        "pivotAggregation": null,
        "pivotColumns": null,
        "xColumns": null,
        "yColumns": null
       },
       "removedWidgets": [],
       "schema": [
        {
         "metadata": "{}",
         "name": "country",
         "type": "\"string\""
        },
        {
         "metadata": "{}",
         "name": "category",
         "type": "\"string\""
        },
        {
         "metadata": "{}",
         "name": "category_count",
         "type": "\"long\""
        }
       ],
       "type": "table"
      }
     },
     "output_type": "display_data"
    }
   ],
   "source": [
    "from pyspark.sql.functions import col, row_number \n",
    "from pyspark.sql.window import Window \n",
    "\n",
    "# Join dataframes df_pin and df_geo to obtain necessary columns in one table\n",
    "df_pin_geo = df_pin.join(df_geo, df_pin[\"ind\"] == df_geo[\"ind\"], how=\"inner\")\n",
    "\n",
    "# Group by country and category, then find the max count for each group \n",
    "cat_count = df_pin_geo.groupBy(\"country\", \"category\").agg(count(\"category\").alias(\"count\"))\n",
    "result = cat_count.groupBy(\"country\", \"category\").agg(max(\"count\").alias(\"category_count\")) \n",
    "\n",
    "# Use window function to get the row_number for each partition (county).\n",
    "windowSpec = Window.partitionBy(\"country\").orderBy(col(\"category_count\").desc())\n",
    "final_result = result.withColumn(\"rank\", row_number().over(windowSpec)).filter(col(\"rank\") == 1).drop(\"rank\")\n",
    "\n",
    "# Show the final result \n",
    "display(final_result)"
   ]
  },
  {
   "cell_type": "code",
   "execution_count": 0,
   "metadata": {
    "application/vnd.databricks.v1+cell": {
     "cellMetadata": {
      "byteLimit": 2048000,
      "rowLimit": 10000
     },
     "inputWidgets": {},
     "nuid": "9b5e8289-5aec-463d-b185-4d36ac753264",
     "showTitle": false,
     "title": ""
    }
   },
   "outputs": [
    {
     "output_type": "display_data",
     "data": {
      "text/html": [
       "<style scoped>\n",
       "  .ansiout {\n",
       "    display: block;\n",
       "    unicode-bidi: embed;\n",
       "    white-space: pre-wrap;\n",
       "    word-wrap: break-word;\n",
       "    word-break: break-all;\n",
       "    font-family: \"Menlo\", \"Monaco\", \"Consolas\", \"Ubuntu Mono\", \"Source Code Pro\", monospace;\n",
       "    font-size: 13px;\n",
       "    color: #555;\n",
       "    margin-left: 4px;\n",
       "    line-height: 19px;\n",
       "  }\n",
       "</style>\n",
       "<div class=\"ansiout\"></div>"
      ]
     },
     "metadata": {
      "application/vnd.databricks.v1+output": {
       "addedWidgets": {},
       "arguments": {},
       "data": "<div class=\"ansiout\"></div>",
       "datasetInfos": [],
       "metadata": {},
       "removedWidgets": [],
       "type": "html"
      }
     },
     "output_type": "display_data"
    }
   ],
   "source": [
    "# MILE 7. TASK 5. The most popular category each year."
   ]
  },
  {
   "cell_type": "code",
   "execution_count": 0,
   "metadata": {
    "application/vnd.databricks.v1+cell": {
     "cellMetadata": {
      "byteLimit": 2048000,
      "rowLimit": 10000
     },
     "inputWidgets": {},
     "nuid": "ab5fd444-ed2f-4242-a05e-76690430d2b7",
     "showTitle": false,
     "title": ""
    }
   },
   "outputs": [
    {
     "output_type": "display_data",
     "data": {
      "text/html": [
       "<style scoped>\n",
       "  .table-result-container {\n",
       "    max-height: 300px;\n",
       "    overflow: auto;\n",
       "  }\n",
       "  table, th, td {\n",
       "    border: 1px solid black;\n",
       "    border-collapse: collapse;\n",
       "  }\n",
       "  th, td {\n",
       "    padding: 5px;\n",
       "  }\n",
       "  th {\n",
       "    text-align: left;\n",
       "  }\n",
       "</style><div class='table-result-container'><table class='table-result'><thead style='background-color: white'><tr><th>category</th><th>post_year</th><th>category_count</th></tr></thead><tbody><tr><td>vehicles</td><td>2017</td><td>31</td></tr><tr><td>event-planning</td><td>2017</td><td>30</td></tr><tr><td>finance</td><td>2017</td><td>28</td></tr><tr><td>christmas</td><td>2017</td><td>27</td></tr><tr><td>mens-fashion</td><td>2017</td><td>26</td></tr><tr><td>beauty</td><td>2017</td><td>21</td></tr><tr><td>home-decor</td><td>2017</td><td>20</td></tr><tr><td>education</td><td>2017</td><td>18</td></tr><tr><td>travel</td><td>2017</td><td>17</td></tr><tr><td>art</td><td>2017</td><td>16</td></tr><tr><td>quotes</td><td>2017</td><td>14</td></tr><tr><td>tattoos</td><td>2017</td><td>14</td></tr><tr><td>diy-and-crafts</td><td>2017</td><td>13</td></tr><tr><td>christmas</td><td>2016</td><td>80</td></tr><tr><td>travel</td><td>2016</td><td>78</td></tr><tr><td>mens-fashion</td><td>2016</td><td>77</td></tr><tr><td>vehicles</td><td>2016</td><td>66</td></tr><tr><td>beauty</td><td>2016</td><td>64</td></tr><tr><td>home-decor</td><td>2016</td><td>62</td></tr><tr><td>diy-and-crafts</td><td>2016</td><td>62</td></tr><tr><td>finance</td><td>2016</td><td>60</td></tr><tr><td>event-planning</td><td>2016</td><td>58</td></tr><tr><td>art</td><td>2016</td><td>58</td></tr><tr><td>quotes</td><td>2016</td><td>48</td></tr><tr><td>education</td><td>2016</td><td>41</td></tr><tr><td>tattoos</td><td>2016</td><td>33</td></tr></tbody></table></div>"
      ]
     },
     "metadata": {
      "application/vnd.databricks.v1+output": {
       "addedWidgets": {},
       "aggData": [],
       "aggError": "",
       "aggOverflow": false,
       "aggSchema": [],
       "aggSeriesLimitReached": false,
       "aggType": "",
       "arguments": {},
       "columnCustomDisplayInfos": {},
       "data": [
        [
         "vehicles",
         2017,
         31
        ],
        [
         "event-planning",
         2017,
         30
        ],
        [
         "finance",
         2017,
         28
        ],
        [
         "christmas",
         2017,
         27
        ],
        [
         "mens-fashion",
         2017,
         26
        ],
        [
         "beauty",
         2017,
         21
        ],
        [
         "home-decor",
         2017,
         20
        ],
        [
         "education",
         2017,
         18
        ],
        [
         "travel",
         2017,
         17
        ],
        [
         "art",
         2017,
         16
        ],
        [
         "quotes",
         2017,
         14
        ],
        [
         "tattoos",
         2017,
         14
        ],
        [
         "diy-and-crafts",
         2017,
         13
        ],
        [
         "christmas",
         2016,
         80
        ],
        [
         "travel",
         2016,
         78
        ],
        [
         "mens-fashion",
         2016,
         77
        ],
        [
         "vehicles",
         2016,
         66
        ],
        [
         "beauty",
         2016,
         64
        ],
        [
         "home-decor",
         2016,
         62
        ],
        [
         "diy-and-crafts",
         2016,
         62
        ],
        [
         "finance",
         2016,
         60
        ],
        [
         "event-planning",
         2016,
         58
        ],
        [
         "art",
         2016,
         58
        ],
        [
         "quotes",
         2016,
         48
        ],
        [
         "education",
         2016,
         41
        ],
        [
         "tattoos",
         2016,
         33
        ]
       ],
       "datasetInfos": [],
       "dbfsResultPath": null,
       "isJsonSchema": true,
       "metadata": {},
       "overflow": false,
       "plotOptions": {
        "customPlotOptions": {},
        "displayType": "table",
        "pivotAggregation": null,
        "pivotColumns": null,
        "xColumns": null,
        "yColumns": null
       },
       "removedWidgets": [],
       "schema": [
        {
         "metadata": "{}",
         "name": "category",
         "type": "\"string\""
        },
        {
         "metadata": "{}",
         "name": "post_year",
         "type": "\"integer\""
        },
        {
         "metadata": "{}",
         "name": "category_count",
         "type": "\"long\""
        }
       ],
       "type": "table"
      }
     },
     "output_type": "display_data"
    }
   ],
   "source": [
    "from pyspark.sql.functions import year\n",
    "\n",
    "# Join dataframes df_pin and df_user to obtain necessary columns in one table\n",
    "df_pin_user = df_pin.join(df_user, df_pin[\"ind\"] == df_user[\"ind\"], how=\"inner\")\n",
    "\n",
    "# Filter data between 2016 and 2018 (data reached only max to 2018)\n",
    "filtered_df = df_pin_user.filter((year(df_pin_user[\"date_joined\"]) >= 2016) & (year(df_pin_user[\"date_joined\"]) <= 2018))\n",
    "\n",
    "# Extract year from the timestamp column\n",
    "filtered_df = filtered_df.withColumn(\"post_year\", year(filtered_df[\"date_joined\"]))\n",
    "\n",
    "# Group by 'category' and 'post_year', count the number of posts\n",
    "result = filtered_df.groupBy(\"category\", \"post_year\").count()\n",
    "result = result.orderBy(col(\"post_year\").desc(), col(\"count\").desc())\n",
    "result = result.withColumnRenamed(\"count\", \"category_count\")\n",
    "\n",
    "# Display the resulting DataFrame\n",
    "display(result)\n"
   ]
  },
  {
   "cell_type": "code",
   "execution_count": 0,
   "metadata": {
    "application/vnd.databricks.v1+cell": {
     "cellMetadata": {
      "byteLimit": 2048000,
      "rowLimit": 10000
     },
     "inputWidgets": {},
     "nuid": "e2376983-6e8b-4600-8026-a32c4fa00b6d",
     "showTitle": false,
     "title": ""
    }
   },
   "outputs": [
    {
     "output_type": "display_data",
     "data": {
      "text/html": [
       "<style scoped>\n",
       "  .ansiout {\n",
       "    display: block;\n",
       "    unicode-bidi: embed;\n",
       "    white-space: pre-wrap;\n",
       "    word-wrap: break-word;\n",
       "    word-break: break-all;\n",
       "    font-family: \"Menlo\", \"Monaco\", \"Consolas\", \"Ubuntu Mono\", \"Source Code Pro\", monospace;\n",
       "    font-size: 13px;\n",
       "    color: #555;\n",
       "    margin-left: 4px;\n",
       "    line-height: 19px;\n",
       "  }\n",
       "</style>\n",
       "<div class=\"ansiout\"></div>"
      ]
     },
     "metadata": {
      "application/vnd.databricks.v1+output": {
       "addedWidgets": {},
       "arguments": {},
       "data": "<div class=\"ansiout\"></div>",
       "datasetInfos": [],
       "metadata": {},
       "removedWidgets": [],
       "type": "html"
      }
     },
     "output_type": "display_data"
    }
   ],
   "source": [
    "# MILE 7. TASK 6. User with the most fallowers in each country."
   ]
  },
  {
   "cell_type": "code",
   "execution_count": 0,
   "metadata": {
    "application/vnd.databricks.v1+cell": {
     "cellMetadata": {
      "byteLimit": 2048000,
      "rowLimit": 10000
     },
     "inputWidgets": {},
     "nuid": "788378cb-df9b-4abb-9c5f-a07da4de56f9",
     "showTitle": false,
     "title": ""
    }
   },
   "outputs": [
    {
     "output_type": "display_data",
     "data": {
      "text/html": [
       "<style scoped>\n",
       "  .table-result-container {\n",
       "    max-height: 300px;\n",
       "    overflow: auto;\n",
       "  }\n",
       "  table, th, td {\n",
       "    border: 1px solid black;\n",
       "    border-collapse: collapse;\n",
       "  }\n",
       "  th, td {\n",
       "    padding: 5px;\n",
       "  }\n",
       "  th {\n",
       "    text-align: left;\n",
       "  }\n",
       "</style><div class='table-result-container'><table class='table-result'><thead style='background-color: white'><tr><th>country</th><th>follower_count</th></tr></thead><tbody><tr><td>Anguilla</td><td>15000000</td></tr></tbody></table></div>"
      ]
     },
     "metadata": {
      "application/vnd.databricks.v1+output": {
       "addedWidgets": {},
       "aggData": [],
       "aggError": "",
       "aggOverflow": false,
       "aggSchema": [],
       "aggSeriesLimitReached": false,
       "aggType": "",
       "arguments": {},
       "columnCustomDisplayInfos": {},
       "data": [
        [
         "Anguilla",
         15000000
        ]
       ],
       "datasetInfos": [],
       "dbfsResultPath": null,
       "isJsonSchema": true,
       "metadata": {},
       "overflow": false,
       "plotOptions": {
        "customPlotOptions": {},
        "displayType": "table",
        "pivotAggregation": null,
        "pivotColumns": null,
        "xColumns": null,
        "yColumns": null
       },
       "removedWidgets": [],
       "schema": [
        {
         "metadata": "{}",
         "name": "country",
         "type": "\"string\""
        },
        {
         "metadata": "{}",
         "name": "follower_count",
         "type": "\"integer\""
        }
       ],
       "type": "table"
      }
     },
     "output_type": "display_data"
    }
   ],
   "source": [
    "# STEP 1.\n",
    "# Group by country and category, then find the max count for each group \n",
    "follower_df = df_pin_geo.select(\"country\",\"poster_name\", \"follower_count\")\n",
    "max_followers = follower_df.orderBy(col(\"follower_count\").desc())\n",
    "\n",
    "# STEP 2.\n",
    "# Find the country with the greatest follower count. Use limit() to return a new DataFrame.\n",
    "max_followers = max_followers.drop(\"poster_name\")\n",
    "result = max_followers.limit(1)\n",
    "display(result)"
   ]
  },
  {
   "cell_type": "code",
   "execution_count": 0,
   "metadata": {
    "application/vnd.databricks.v1+cell": {
     "cellMetadata": {
      "byteLimit": 2048000,
      "rowLimit": 10000
     },
     "inputWidgets": {},
     "nuid": "a924c3e4-ce2a-4ad8-adf2-56548d135ff5",
     "showTitle": false,
     "title": ""
    }
   },
   "outputs": [
    {
     "output_type": "display_data",
     "data": {
      "text/html": [
       "<style scoped>\n",
       "  .ansiout {\n",
       "    display: block;\n",
       "    unicode-bidi: embed;\n",
       "    white-space: pre-wrap;\n",
       "    word-wrap: break-word;\n",
       "    word-break: break-all;\n",
       "    font-family: \"Menlo\", \"Monaco\", \"Consolas\", \"Ubuntu Mono\", \"Source Code Pro\", monospace;\n",
       "    font-size: 13px;\n",
       "    color: #555;\n",
       "    margin-left: 4px;\n",
       "    line-height: 19px;\n",
       "  }\n",
       "</style>\n",
       "<div class=\"ansiout\"></div>"
      ]
     },
     "metadata": {
      "application/vnd.databricks.v1+output": {
       "addedWidgets": {},
       "arguments": {},
       "data": "<div class=\"ansiout\"></div>",
       "datasetInfos": [],
       "metadata": {},
       "removedWidgets": [],
       "type": "html"
      }
     },
     "output_type": "display_data"
    }
   ],
   "source": [
    "# MILE 7. TASK 7. The most popular category for different age groups."
   ]
  },
  {
   "cell_type": "code",
   "execution_count": 0,
   "metadata": {
    "application/vnd.databricks.v1+cell": {
     "cellMetadata": {
      "byteLimit": 2048000,
      "rowLimit": 10000
     },
     "inputWidgets": {},
     "nuid": "8a645417-3e82-4c59-b87d-9b7bd1c65a26",
     "showTitle": false,
     "title": ""
    }
   },
   "outputs": [
    {
     "output_type": "display_data",
     "data": {
      "text/html": [
       "<style scoped>\n",
       "  .table-result-container {\n",
       "    max-height: 300px;\n",
       "    overflow: auto;\n",
       "  }\n",
       "  table, th, td {\n",
       "    border: 1px solid black;\n",
       "    border-collapse: collapse;\n",
       "  }\n",
       "  th, td {\n",
       "    padding: 5px;\n",
       "  }\n",
       "  th {\n",
       "    text-align: left;\n",
       "  }\n",
       "</style><div class='table-result-container'><table class='table-result'><thead style='background-color: white'><tr><th>age_group</th><th>category</th><th>category_count</th></tr></thead><tbody><tr><td>18-24</td><td>tattoos</td><td>88</td></tr><tr><td>25-35</td><td>christmas</td><td>55</td></tr><tr><td>36-50</td><td>finance</td><td>40</td></tr><tr><td>50+</td><td>vehicles</td><td>21</td></tr></tbody></table></div>"
      ]
     },
     "metadata": {
      "application/vnd.databricks.v1+output": {
       "addedWidgets": {},
       "aggData": [],
       "aggError": "",
       "aggOverflow": false,
       "aggSchema": [],
       "aggSeriesLimitReached": false,
       "aggType": "",
       "arguments": {},
       "columnCustomDisplayInfos": {},
       "data": [
        [
         "18-24",
         "tattoos",
         88
        ],
        [
         "25-35",
         "christmas",
         55
        ],
        [
         "36-50",
         "finance",
         40
        ],
        [
         "50+",
         "vehicles",
         21
        ]
       ],
       "datasetInfos": [],
       "dbfsResultPath": null,
       "isJsonSchema": true,
       "metadata": {},
       "overflow": false,
       "plotOptions": {
        "customPlotOptions": {},
        "displayType": "table",
        "pivotAggregation": null,
        "pivotColumns": null,
        "xColumns": null,
        "yColumns": null
       },
       "removedWidgets": [],
       "schema": [
        {
         "metadata": "{}",
         "name": "age_group",
         "type": "\"string\""
        },
        {
         "metadata": "{}",
         "name": "category",
         "type": "\"string\""
        },
        {
         "metadata": "{}",
         "name": "category_count",
         "type": "\"long\""
        }
       ],
       "type": "table"
      }
     },
     "output_type": "display_data"
    }
   ],
   "source": [
    "from pyspark.sql.functions import udf\n",
    "\n",
    "# Use udf function and withColumn to create a new column with age ranges based on \"age\" column.\n",
    "age_group = udf(lambda age: '18-24' if age >= 18 and age <= 24 else              # No users <18\n",
    "                       '25-35' if (age >= 25 and age <= 35) else\n",
    "                       '36-50' if (age >= 36 and age <= 50) else\n",
    "                       '50+' if (age > 50) else '')\n",
    "\n",
    "df_age_group = df_pin_user.withColumn(\"age_group\", age_group(df_pin_user.age))\n",
    "\n",
    "# Group by age_group and category, then find the max count for each group\n",
    "category_count = df_age_group.groupBy(\"age_group\", \"category\").agg(count(\"category\").alias(\"category_count\"))\n",
    "result = category_count.groupBy(\"age_group\", \"category\").agg(max(\"category_count\").alias(\"category_count\")) \n",
    "\n",
    "# Use window function to get the row_number for each partition (age_group).\n",
    "windowSpec = Window.partitionBy(\"age_group\").orderBy(col(\"category_count\").desc())\n",
    "final_result = result.withColumn(\"rank\", row_number().over(windowSpec)).filter(col(\"rank\") == 1).drop(\"rank\")\n",
    "\n",
    "display(final_result)"
   ]
  },
  {
   "cell_type": "code",
   "execution_count": 0,
   "metadata": {
    "application/vnd.databricks.v1+cell": {
     "cellMetadata": {
      "byteLimit": 2048000,
      "rowLimit": 10000
     },
     "inputWidgets": {},
     "nuid": "1489c80f-1a01-4d34-aa9e-9f16fb016a62",
     "showTitle": false,
     "title": ""
    }
   },
   "outputs": [
    {
     "output_type": "display_data",
     "data": {
      "text/html": [
       "<style scoped>\n",
       "  .ansiout {\n",
       "    display: block;\n",
       "    unicode-bidi: embed;\n",
       "    white-space: pre-wrap;\n",
       "    word-wrap: break-word;\n",
       "    word-break: break-all;\n",
       "    font-family: \"Menlo\", \"Monaco\", \"Consolas\", \"Ubuntu Mono\", \"Source Code Pro\", monospace;\n",
       "    font-size: 13px;\n",
       "    color: #555;\n",
       "    margin-left: 4px;\n",
       "    line-height: 19px;\n",
       "  }\n",
       "</style>\n",
       "<div class=\"ansiout\"></div>"
      ]
     },
     "metadata": {
      "application/vnd.databricks.v1+output": {
       "addedWidgets": {},
       "arguments": {},
       "data": "<div class=\"ansiout\"></div>",
       "datasetInfos": [],
       "metadata": {},
       "removedWidgets": [],
       "type": "html"
      }
     },
     "output_type": "display_data"
    }
   ],
   "source": [
    "# MILE 7. TASK 8. The median follower count for users based on age group."
   ]
  },
  {
   "cell_type": "code",
   "execution_count": 0,
   "metadata": {
    "application/vnd.databricks.v1+cell": {
     "cellMetadata": {
      "byteLimit": 2048000,
      "rowLimit": 10000
     },
     "inputWidgets": {},
     "nuid": "dcc8ed32-ba64-4c9a-9316-3e9028f79b5d",
     "showTitle": false,
     "title": ""
    }
   },
   "outputs": [
    {
     "output_type": "display_data",
     "data": {
      "text/html": [
       "<style scoped>\n",
       "  .table-result-container {\n",
       "    max-height: 300px;\n",
       "    overflow: auto;\n",
       "  }\n",
       "  table, th, td {\n",
       "    border: 1px solid black;\n",
       "    border-collapse: collapse;\n",
       "  }\n",
       "  th, td {\n",
       "    padding: 5px;\n",
       "  }\n",
       "  th {\n",
       "    text-align: left;\n",
       "  }\n",
       "</style><div class='table-result-container'><table class='table-result'><thead style='background-color: white'><tr><th>age_group</th><th>median</th></tr></thead><tbody><tr><td>18-24</td><td>127000</td></tr><tr><td>25-35</td><td>22000</td></tr><tr><td>36-50</td><td>7000</td></tr><tr><td>50+</td><td>1000</td></tr></tbody></table></div>"
      ]
     },
     "metadata": {
      "application/vnd.databricks.v1+output": {
       "addedWidgets": {},
       "aggData": [],
       "aggError": "",
       "aggOverflow": false,
       "aggSchema": [],
       "aggSeriesLimitReached": false,
       "aggType": "",
       "arguments": {},
       "columnCustomDisplayInfos": {},
       "data": [
        [
         "18-24",
         127000
        ],
        [
         "25-35",
         22000
        ],
        [
         "36-50",
         7000
        ],
        [
         "50+",
         1000
        ]
       ],
       "datasetInfos": [],
       "dbfsResultPath": null,
       "isJsonSchema": true,
       "metadata": {},
       "overflow": false,
       "plotOptions": {
        "customPlotOptions": {},
        "displayType": "table",
        "pivotAggregation": null,
        "pivotColumns": null,
        "xColumns": null,
        "yColumns": null
       },
       "removedWidgets": [],
       "schema": [
        {
         "metadata": "{}",
         "name": "age_group",
         "type": "\"string\""
        },
        {
         "metadata": "{}",
         "name": "median",
         "type": "\"integer\""
        }
       ],
       "type": "table"
      }
     },
     "output_type": "display_data"
    }
   ],
   "source": [
    "# Use previously defined df_age_group to select relevant columns\n",
    "sorted_followers = df_age_group.select(\"age_group\", \"follower_count\")\n",
    "\n",
    "# Group by age_group, then find the median count for each group \n",
    "sorted_followers = sorted_followers.orderBy(col(\"age_group\").asc())\n",
    "median_follower_count = sorted_followers.groupBy(\"age_group\").agg(expr(\"percentile_approx(follower_count, 0.5) as median\"))\n",
    "display(median_follower_count)\n"
   ]
  },
  {
   "cell_type": "code",
   "execution_count": 0,
   "metadata": {
    "application/vnd.databricks.v1+cell": {
     "cellMetadata": {
      "byteLimit": 2048000,
      "rowLimit": 10000
     },
     "inputWidgets": {},
     "nuid": "6aa41f3f-e322-4f6a-b17a-9a62dcc2e9e9",
     "showTitle": false,
     "title": ""
    }
   },
   "outputs": [
    {
     "output_type": "display_data",
     "data": {
      "text/html": [
       "<style scoped>\n",
       "  .ansiout {\n",
       "    display: block;\n",
       "    unicode-bidi: embed;\n",
       "    white-space: pre-wrap;\n",
       "    word-wrap: break-word;\n",
       "    word-break: break-all;\n",
       "    font-family: \"Menlo\", \"Monaco\", \"Consolas\", \"Ubuntu Mono\", \"Source Code Pro\", monospace;\n",
       "    font-size: 13px;\n",
       "    color: #555;\n",
       "    margin-left: 4px;\n",
       "    line-height: 19px;\n",
       "  }\n",
       "</style>\n",
       "<div class=\"ansiout\"></div>"
      ]
     },
     "metadata": {
      "application/vnd.databricks.v1+output": {
       "addedWidgets": {},
       "arguments": {},
       "data": "<div class=\"ansiout\"></div>",
       "datasetInfos": [],
       "metadata": {},
       "removedWidgets": [],
       "type": "html"
      }
     },
     "output_type": "display_data"
    }
   ],
   "source": [
    "# MILE 7. TASK 9."
   ]
  },
  {
   "cell_type": "code",
   "execution_count": 0,
   "metadata": {
    "application/vnd.databricks.v1+cell": {
     "cellMetadata": {
      "byteLimit": 2048000,
      "rowLimit": 10000
     },
     "inputWidgets": {},
     "nuid": "0943a57b-a563-42e5-a274-b0f15294aa72",
     "showTitle": false,
     "title": ""
    }
   },
   "outputs": [
    {
     "output_type": "display_data",
     "data": {
      "text/html": [
       "<style scoped>\n",
       "  .table-result-container {\n",
       "    max-height: 300px;\n",
       "    overflow: auto;\n",
       "  }\n",
       "  table, th, td {\n",
       "    border: 1px solid black;\n",
       "    border-collapse: collapse;\n",
       "  }\n",
       "  th, td {\n",
       "    padding: 5px;\n",
       "  }\n",
       "  th {\n",
       "    text-align: left;\n",
       "  }\n",
       "</style><div class='table-result-container'><table class='table-result'><thead style='background-color: white'><tr><th>post_year</th><th>number_users_joined</th></tr></thead><tbody><tr><td>2015</td><td>300</td></tr><tr><td>2016</td><td>675</td></tr><tr><td>2017</td><td>275</td></tr></tbody></table></div>"
      ]
     },
     "metadata": {
      "application/vnd.databricks.v1+output": {
       "addedWidgets": {},
       "aggData": [],
       "aggError": "",
       "aggOverflow": false,
       "aggSchema": [],
       "aggSeriesLimitReached": false,
       "aggType": "",
       "arguments": {},
       "columnCustomDisplayInfos": {},
       "data": [
        [
         2015,
         300
        ],
        [
         2016,
         675
        ],
        [
         2017,
         275
        ]
       ],
       "datasetInfos": [],
       "dbfsResultPath": null,
       "isJsonSchema": true,
       "metadata": {},
       "overflow": false,
       "plotOptions": {
        "customPlotOptions": {},
        "displayType": "table",
        "pivotAggregation": null,
        "pivotColumns": null,
        "xColumns": null,
        "yColumns": null
       },
       "removedWidgets": [],
       "schema": [
        {
         "metadata": "{}",
         "name": "post_year",
         "type": "\"integer\""
        },
        {
         "metadata": "{}",
         "name": "number_users_joined",
         "type": "\"long\""
        }
       ],
       "type": "table"
      }
     },
     "output_type": "display_data"
    }
   ],
   "source": [
    "# Filter data between 2015 and 2020 \n",
    "filtered_df = df_pin_user.filter((year(df_pin_user[\"date_joined\"]) >= 2015) & (year(df_pin_user[\"date_joined\"]) <= 2020))\n",
    "\n",
    "# Extract year from the timestamp column\n",
    "post_year_df = filtered_df.withColumn(\"post_year\", year(filtered_df[\"date_joined\"]))\n",
    "\n",
    "# Group by 'post_year', count the number of unique poster_names assuming that poster_name is unique to each account\n",
    "result = post_year_df.groupBy(\"post_year\").agg(countDistinct(\"poster_name\").alias(\"number_users_joined\"))\n",
    "\n",
    "# Display the resulting DataFrame\n",
    "display(result)\n"
   ]
  },
  {
   "cell_type": "code",
   "execution_count": 0,
   "metadata": {
    "application/vnd.databricks.v1+cell": {
     "cellMetadata": {
      "byteLimit": 2048000,
      "rowLimit": 10000
     },
     "inputWidgets": {},
     "nuid": "3aab4b0b-9277-4713-b840-73dbeb22075e",
     "showTitle": false,
     "title": ""
    }
   },
   "outputs": [
    {
     "output_type": "display_data",
     "data": {
      "text/html": [
       "<style scoped>\n",
       "  .ansiout {\n",
       "    display: block;\n",
       "    unicode-bidi: embed;\n",
       "    white-space: pre-wrap;\n",
       "    word-wrap: break-word;\n",
       "    word-break: break-all;\n",
       "    font-family: \"Menlo\", \"Monaco\", \"Consolas\", \"Ubuntu Mono\", \"Source Code Pro\", monospace;\n",
       "    font-size: 13px;\n",
       "    color: #555;\n",
       "    margin-left: 4px;\n",
       "    line-height: 19px;\n",
       "  }\n",
       "</style>\n",
       "<div class=\"ansiout\"></div>"
      ]
     },
     "metadata": {
      "application/vnd.databricks.v1+output": {
       "addedWidgets": {},
       "arguments": {},
       "data": "<div class=\"ansiout\"></div>",
       "datasetInfos": [],
       "metadata": {},
       "removedWidgets": [],
       "type": "html"
      }
     },
     "output_type": "display_data"
    }
   ],
   "source": [
    "# MILE 7. TASK 10."
   ]
  },
  {
   "cell_type": "code",
   "execution_count": 0,
   "metadata": {
    "application/vnd.databricks.v1+cell": {
     "cellMetadata": {
      "byteLimit": 2048000,
      "rowLimit": 10000
     },
     "inputWidgets": {},
     "nuid": "6d5df784-b497-49fb-bb2f-67e0d5f9f45b",
     "showTitle": false,
     "title": ""
    }
   },
   "outputs": [
    {
     "output_type": "display_data",
     "data": {
      "text/html": [
       "<style scoped>\n",
       "  .table-result-container {\n",
       "    max-height: 300px;\n",
       "    overflow: auto;\n",
       "  }\n",
       "  table, th, td {\n",
       "    border: 1px solid black;\n",
       "    border-collapse: collapse;\n",
       "  }\n",
       "  th, td {\n",
       "    padding: 5px;\n",
       "  }\n",
       "  th {\n",
       "    text-align: left;\n",
       "  }\n",
       "</style><div class='table-result-container'><table class='table-result'><thead style='background-color: white'><tr><th>post_year</th><th>median_follower_count</th></tr></thead><tbody><tr><td>2015</td><td>150000</td></tr><tr><td>2016</td><td>19000</td></tr><tr><td>2017</td><td>3000</td></tr></tbody></table></div>"
      ]
     },
     "metadata": {
      "application/vnd.databricks.v1+output": {
       "addedWidgets": {},
       "aggData": [],
       "aggError": "",
       "aggOverflow": false,
       "aggSchema": [],
       "aggSeriesLimitReached": false,
       "aggType": "",
       "arguments": {},
       "columnCustomDisplayInfos": {},
       "data": [
        [
         2015,
         150000
        ],
        [
         2016,
         19000
        ],
        [
         2017,
         3000
        ]
       ],
       "datasetInfos": [],
       "dbfsResultPath": null,
       "isJsonSchema": true,
       "metadata": {},
       "overflow": false,
       "plotOptions": {
        "customPlotOptions": {},
        "displayType": "table",
        "pivotAggregation": null,
        "pivotColumns": null,
        "xColumns": null,
        "yColumns": null
       },
       "removedWidgets": [],
       "schema": [
        {
         "metadata": "{}",
         "name": "post_year",
         "type": "\"integer\""
        },
        {
         "metadata": "{}",
         "name": "median_follower_count",
         "type": "\"integer\""
        }
       ],
       "type": "table"
      }
     },
     "output_type": "display_data"
    }
   ],
   "source": [
    "# Selec columns from previously defined post_year_df, which fltered df_pin_user based on year\n",
    "follower_df = post_year_df.select(\"post_year\", \"follower_count\")\n",
    "\n",
    "# Group by age_group, then find the median count for each group \n",
    "median_follower_count = follower_df.groupBy(\"post_year\").agg(expr(\"percentile_approx(follower_count, 0.5) as median_follower_count\"))\n",
    "display(median_follower_count)"
   ]
  },
  {
   "cell_type": "code",
   "execution_count": 0,
   "metadata": {
    "application/vnd.databricks.v1+cell": {
     "cellMetadata": {
      "byteLimit": 2048000,
      "rowLimit": 10000
     },
     "inputWidgets": {},
     "nuid": "75db3838-e553-4053-a29b-ff4c4dac3f8e",
     "showTitle": false,
     "title": ""
    }
   },
   "outputs": [
    {
     "output_type": "display_data",
     "data": {
      "text/html": [
       "<style scoped>\n",
       "  .ansiout {\n",
       "    display: block;\n",
       "    unicode-bidi: embed;\n",
       "    white-space: pre-wrap;\n",
       "    word-wrap: break-word;\n",
       "    word-break: break-all;\n",
       "    font-family: \"Menlo\", \"Monaco\", \"Consolas\", \"Ubuntu Mono\", \"Source Code Pro\", monospace;\n",
       "    font-size: 13px;\n",
       "    color: #555;\n",
       "    margin-left: 4px;\n",
       "    line-height: 19px;\n",
       "  }\n",
       "</style>\n",
       "<div class=\"ansiout\"></div>"
      ]
     },
     "metadata": {
      "application/vnd.databricks.v1+output": {
       "addedWidgets": {},
       "arguments": {},
       "data": "<div class=\"ansiout\"></div>",
       "datasetInfos": [],
       "metadata": {},
       "removedWidgets": [],
       "type": "html"
      }
     },
     "output_type": "display_data"
    }
   ],
   "source": [
    "# MILE 7. TASK 11."
   ]
  },
  {
   "cell_type": "code",
   "execution_count": 0,
   "metadata": {
    "application/vnd.databricks.v1+cell": {
     "cellMetadata": {
      "byteLimit": 2048000,
      "rowLimit": 10000
     },
     "inputWidgets": {},
     "nuid": "3a5bdff4-5492-4abb-9300-98ce10ac9d63",
     "showTitle": false,
     "title": ""
    }
   },
   "outputs": [
    {
     "output_type": "display_data",
     "data": {
      "text/html": [
       "<style scoped>\n",
       "  .table-result-container {\n",
       "    max-height: 300px;\n",
       "    overflow: auto;\n",
       "  }\n",
       "  table, th, td {\n",
       "    border: 1px solid black;\n",
       "    border-collapse: collapse;\n",
       "  }\n",
       "  th, td {\n",
       "    padding: 5px;\n",
       "  }\n",
       "  th {\n",
       "    text-align: left;\n",
       "  }\n",
       "</style><div class='table-result-container'><table class='table-result'><thead style='background-color: white'><tr><th>post_year</th><th>age_group</th><th>median_follower_count</th></tr></thead><tbody><tr><td>2017</td><td>18-24</td><td>12000</td></tr><tr><td>2017</td><td>25-35</td><td>2000</td></tr><tr><td>2017</td><td>36-50</td><td>3000</td></tr><tr><td>2017</td><td>50+</td><td>1000</td></tr><tr><td>2016</td><td>18-24</td><td>46000</td></tr><tr><td>2016</td><td>25-35</td><td>21000</td></tr><tr><td>2016</td><td>36-50</td><td>8000</td></tr><tr><td>2016</td><td>50+</td><td>1000</td></tr><tr><td>2015</td><td>18-24</td><td>267000</td></tr><tr><td>2015</td><td>25-35</td><td>42000</td></tr><tr><td>2015</td><td>36-50</td><td>13000</td></tr><tr><td>2015</td><td>50+</td><td>14000</td></tr></tbody></table></div>"
      ]
     },
     "metadata": {
      "application/vnd.databricks.v1+output": {
       "addedWidgets": {},
       "aggData": [],
       "aggError": "",
       "aggOverflow": false,
       "aggSchema": [],
       "aggSeriesLimitReached": false,
       "aggType": "",
       "arguments": {},
       "columnCustomDisplayInfos": {},
       "data": [
        [
         2017,
         "18-24",
         12000
        ],
        [
         2017,
         "25-35",
         2000
        ],
        [
         2017,
         "36-50",
         3000
        ],
        [
         2017,
         "50+",
         1000
        ],
        [
         2016,
         "18-24",
         46000
        ],
        [
         2016,
         "25-35",
         21000
        ],
        [
         2016,
         "36-50",
         8000
        ],
        [
         2016,
         "50+",
         1000
        ],
        [
         2015,
         "18-24",
         267000
        ],
        [
         2015,
         "25-35",
         42000
        ],
        [
         2015,
         "36-50",
         13000
        ],
        [
         2015,
         "50+",
         14000
        ]
       ],
       "datasetInfos": [],
       "dbfsResultPath": null,
       "isJsonSchema": true,
       "metadata": {},
       "overflow": false,
       "plotOptions": {
        "customPlotOptions": {},
        "displayType": "table",
        "pivotAggregation": null,
        "pivotColumns": null,
        "xColumns": null,
        "yColumns": null
       },
       "removedWidgets": [],
       "schema": [
        {
         "metadata": "{}",
         "name": "post_year",
         "type": "\"integer\""
        },
        {
         "metadata": "{}",
         "name": "age_group",
         "type": "\"string\""
        },
        {
         "metadata": "{}",
         "name": "median_follower_count",
         "type": "\"integer\""
        }
       ],
       "type": "table"
      }
     },
     "output_type": "display_data"
    }
   ],
   "source": [
    "# Add a age_group column into previously defined post_year_df (joint pin data and user data df with post_year column)\n",
    "df_post_year_age_group = post_year_df.withColumn(\"age_group\", age_group(post_year_df.age))\n",
    "\n",
    "# Select columns that should be displayed\n",
    "follower_df = df_post_year_age_group.select(\"post_year\", \"age_group\", \"follower_count\")\n",
    "\n",
    "# Group by age_group, then find the median count for each group \n",
    "follower_df = follower_df.orderBy(col(\"post_year\").desc(), col(\"age_group\").asc())\n",
    "median_follower_count = follower_df.groupBy(\"post_year\", \"age_group\").agg(expr(\"percentile_approx(follower_count, 0.5) as median_follower_count\"))\n",
    "\n",
    "display(median_follower_count)"
   ]
  }
 ],
 "metadata": {
  "application/vnd.databricks.v1+notebook": {
   "dashboards": [],
   "language": "python",
   "notebookMetadata": {
    "mostRecentlyExecutedCommandWithImplicitDF": {
     "commandId": 2949001881399713,
     "dataframes": [
      "_sqldf"
     ]
    },
    "pythonIndentUnit": 4
   },
   "notebookName": "Mount-S3-to-Databricks",
   "widgets": {}
  }
 },
 "nbformat": 4,
 "nbformat_minor": 0
}
