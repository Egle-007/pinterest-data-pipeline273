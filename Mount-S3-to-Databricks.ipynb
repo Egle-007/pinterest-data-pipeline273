{
 "cells": [
  {
   "cell_type": "code",
   "execution_count": null,
   "metadata": {
    "application/vnd.databricks.v1+cell": {
     "cellMetadata": {
      "byteLimit": 2048000,
      "rowLimit": 10000
     },
     "inputWidgets": {},
     "nuid": "7179cf84-c2d2-4c2c-b4b6-8c34b48d269c",
     "showTitle": false,
     "title": ""
    }
   },
   "outputs": [
    {
     "data": {
      "text/html": [
       "<style scoped>\n",
       "  .ansiout {\n",
       "    display: block;\n",
       "    unicode-bidi: embed;\n",
       "    white-space: pre-wrap;\n",
       "    word-wrap: break-word;\n",
       "    word-break: break-all;\n",
       "    font-family: \"Menlo\", \"Monaco\", \"Consolas\", \"Ubuntu Mono\", \"Source Code Pro\", monospace;\n",
       "    font-size: 13px;\n",
       "    color: #555;\n",
       "    margin-left: 4px;\n",
       "    line-height: 19px;\n",
       "  }\n",
       "</style>\n",
       "<div class=\"ansiout\"></div>"
      ]
     },
     "metadata": {
      "application/vnd.databricks.v1+output": {
       "addedWidgets": {},
       "arguments": {},
       "data": "<div class=\"ansiout\"></div>",
       "datasetInfos": [],
       "metadata": {},
       "removedWidgets": [],
       "type": "html"
      }
     },
     "output_type": "display_data"
    }
   ],
   "source": [
    "# MILE 6. MOUNT THE S3 BUCKET TO THE DATABRICKS ACCOUNT."
   ]
  },
  {
   "cell_type": "code",
   "execution_count": null,
   "metadata": {
    "application/vnd.databricks.v1+cell": {
     "cellMetadata": {
      "byteLimit": 2048000,
      "rowLimit": 10000
     },
     "inputWidgets": {},
     "nuid": "d6d75642-0a99-4cb7-9a9a-ba38df2239c3",
     "showTitle": false,
     "title": ""
    }
   },
   "outputs": [
    {
     "data": {
      "text/html": [
       "<style scoped>\n",
       "  .ansiout {\n",
       "    display: block;\n",
       "    unicode-bidi: embed;\n",
       "    white-space: pre-wrap;\n",
       "    word-wrap: break-word;\n",
       "    word-break: break-all;\n",
       "    font-family: \"Menlo\", \"Monaco\", \"Consolas\", \"Ubuntu Mono\", \"Source Code Pro\", monospace;\n",
       "    font-size: 13px;\n",
       "    color: #555;\n",
       "    margin-left: 4px;\n",
       "    line-height: 19px;\n",
       "  }\n",
       "</style>\n",
       "<div class=\"ansiout\"></div>"
      ]
     },
     "metadata": {
      "application/vnd.databricks.v1+output": {
       "addedWidgets": {},
       "arguments": {},
       "data": "<div class=\"ansiout\"></div>",
       "datasetInfos": [],
       "metadata": {},
       "removedWidgets": [],
       "type": "html"
      }
     },
     "output_type": "display_data"
    }
   ],
   "source": [
    "# Import libraries\n",
    "\n",
    "# pyspark functions\n",
    "from pyspark.sql.functions import *\n",
    "# URL processing\n",
    "import urllib\n",
    "\n",
    "# Reading the table containing the AWS keys to Databricks\n",
    "delta_table_path = \"dbfs:/user/hive/warehouse/authentication_credentials\"\n",
    "\n",
    "# Read the Delta table to a Spark DataFrame\n",
    "aws_keys_df = spark.read.format(\"delta\").load(delta_table_path)\n",
    "\n",
    "# Get the AWS access key and secret key from the spark dataframe\n",
    "ACCESS_KEY = aws_keys_df.select('Access key ID').collect()[0]['Access key ID']\n",
    "SECRET_KEY = aws_keys_df.select('Secret access key').collect()[0]['Secret access key']\n",
    "# Encode the secrete key\n",
    "ENCODED_SECRET_KEY = urllib.parse.quote(string=SECRET_KEY, safe=\"\")\n",
    "\n",
    "# Now the S3 bucket can be mounted by passing in the S3 URL and the desired mount name to dbutils.fs.mount()\n",
    "\n",
    "# AWS S3 bucket name\n",
    "AWS_S3_BUCKET = \"user-0e172e8c4bc3-bucket\"\n",
    "# Mount name for the bucket\n",
    "MOUNT_NAME = \"/mnt/mount_S3_PDP_mile6\"\n",
    "# Source url\n",
    "SOURCE_URL = \"s3n://{0}:{1}@{2}\".format(ACCESS_KEY, ENCODED_SECRET_KEY, AWS_S3_BUCKET)\n",
    "# Mount the drive\n",
    "dbutils.fs.mount(SOURCE_URL, MOUNT_NAME)\n",
    "\n",
    "# To check if the S3 bucket was mounted succesfully this command was run: \n",
    "# display(dbutils.fs.ls(\"/mnt/mount_S3_PDP_mile6/topics/0e172e8c4bc3.pin/partition=0/\")). \n",
    "\n",
    "# Not displaying here to save time on scroling for the evaluator."
   ]
  },
  {
   "cell_type": "code",
   "execution_count": null,
   "metadata": {
    "application/vnd.databricks.v1+cell": {
     "cellMetadata": {
      "byteLimit": 2048000,
      "rowLimit": 10000
     },
     "inputWidgets": {},
     "nuid": "a9ec06c4-8f34-4ae7-bd8e-f9361582a06a",
     "showTitle": false,
     "title": ""
    }
   },
   "outputs": [
    {
     "data": {
      "text/html": [
       "<style scoped>\n",
       "  .ansiout {\n",
       "    display: block;\n",
       "    unicode-bidi: embed;\n",
       "    white-space: pre-wrap;\n",
       "    word-wrap: break-word;\n",
       "    word-break: break-all;\n",
       "    font-family: \"Menlo\", \"Monaco\", \"Consolas\", \"Ubuntu Mono\", \"Source Code Pro\", monospace;\n",
       "    font-size: 13px;\n",
       "    color: #555;\n",
       "    margin-left: 4px;\n",
       "    line-height: 19px;\n",
       "  }\n",
       "</style>\n",
       "<div class=\"ansiout\"></div>"
      ]
     },
     "metadata": {
      "application/vnd.databricks.v1+output": {
       "addedWidgets": {},
       "arguments": {},
       "data": "<div class=\"ansiout\"></div>",
       "datasetInfos": [],
       "metadata": {},
       "removedWidgets": [],
       "type": "html"
      }
     },
     "output_type": "display_data"
    }
   ],
   "source": [
    "# dbutils.fs.unmount(\"/mnt/mount_S3_PDP_mile6\") - for unmounting"
   ]
  },
  {
   "cell_type": "code",
   "execution_count": null,
   "metadata": {
    "application/vnd.databricks.v1+cell": {
     "cellMetadata": {
      "byteLimit": 2048000,
      "implicitDf": true,
      "rowLimit": 10000
     },
     "inputWidgets": {},
     "nuid": "cf397b49-e442-405a-9842-0270c580dad1",
     "showTitle": false,
     "title": ""
    }
   },
   "outputs": [
    {
     "data": {
      "text/html": [
       "<style scoped>\n",
       "  .table-result-container {\n",
       "    max-height: 300px;\n",
       "    overflow: auto;\n",
       "  }\n",
       "  table, th, td {\n",
       "    border: 1px solid black;\n",
       "    border-collapse: collapse;\n",
       "  }\n",
       "  th, td {\n",
       "    padding: 5px;\n",
       "  }\n",
       "  th {\n",
       "    text-align: left;\n",
       "  }\n",
       "</style><div class='table-result-container'><table class='table-result'><thead style='background-color: white'><tr><th>key</th><th>value</th></tr></thead><tbody><tr><td>spark.databricks.delta.formatCheck.enabled</td><td>false</td></tr></tbody></table></div>"
      ]
     },
     "metadata": {
      "application/vnd.databricks.v1+output": {
       "addedWidgets": {},
       "aggData": [],
       "aggError": "",
       "aggOverflow": false,
       "aggSchema": [],
       "aggSeriesLimitReached": false,
       "aggType": "",
       "arguments": {},
       "columnCustomDisplayInfos": {},
       "data": [
        [
         "spark.databricks.delta.formatCheck.enabled",
         "false"
        ]
       ],
       "datasetInfos": [],
       "dbfsResultPath": null,
       "isJsonSchema": true,
       "metadata": {},
       "overflow": false,
       "plotOptions": {
        "customPlotOptions": {},
        "displayType": "table",
        "pivotAggregation": null,
        "pivotColumns": null,
        "xColumns": null,
        "yColumns": null
       },
       "removedWidgets": [],
       "schema": [
        {
         "metadata": "{}",
         "name": "key",
         "type": "\"string\""
        },
        {
         "metadata": "{}",
         "name": "value",
         "type": "\"string\""
        }
       ],
       "type": "table"
      }
     },
     "output_type": "display_data"
    }
   ],
   "source": [
    "%sql\n",
    "-- Disable format checks during the reading of Delta tables\n",
    "SET spark.databricks.delta.formatCheck.enabled=false"
   ]
  },
  {
   "cell_type": "code",
   "execution_count": null,
   "metadata": {
    "application/vnd.databricks.v1+cell": {
     "cellMetadata": {
      "byteLimit": 2048000,
      "rowLimit": 10000
     },
     "inputWidgets": {},
     "nuid": "74f9a5bc-05c3-4fca-a596-4eab043c2a9e",
     "showTitle": false,
     "title": ""
    }
   },
   "outputs": [
    {
     "data": {
      "text/html": [
       "<style scoped>\n",
       "  .ansiout {\n",
       "    display: block;\n",
       "    unicode-bidi: embed;\n",
       "    white-space: pre-wrap;\n",
       "    word-wrap: break-word;\n",
       "    word-break: break-all;\n",
       "    font-family: \"Menlo\", \"Monaco\", \"Consolas\", \"Ubuntu Mono\", \"Source Code Pro\", monospace;\n",
       "    font-size: 13px;\n",
       "    color: #555;\n",
       "    margin-left: 4px;\n",
       "    line-height: 19px;\n",
       "  }\n",
       "</style>\n",
       "<div class=\"ansiout\"></div>"
      ]
     },
     "metadata": {
      "application/vnd.databricks.v1+output": {
       "addedWidgets": {},
       "arguments": {},
       "data": "<div class=\"ansiout\"></div>",
       "datasetInfos": [],
       "metadata": {},
       "removedWidgets": [],
       "type": "html"
      }
     },
     "output_type": "display_data"
    }
   ],
   "source": [
    "# Define a function to read in JSONs from mounted S3 bucket topic 0e172e8c4bc3.<your-topic-ending>. Replace the topic ending with 'pin', 'geo' or 'user' when calling this function. Function returns a DataFrame.\n",
    "\n",
    "def spark_read_from_s3(topic_ending):\n",
    "    # Asterisk(*) indicates reading all the content of the specified file that have .json extension\n",
    "    file_location = f\"/mnt/mount_S3_PDP_mile6/topics/0e172e8c4bc3.{topic_ending}/partition=0/*.json\"\n",
    "    file_type = \"json\"\n",
    "    # Ask Spark to infer the schema\n",
    "    infer_schema = \"true\"\n",
    "    # Read in JSONs from mounted S3 bucket chosen topic\n",
    "    df = spark.read.format(file_type) \\\n",
    "    .option(\"inferSchema\", infer_schema) \\\n",
    "    .load(file_location)\n",
    "    return df\n",
    "\n",
    "# Calling function to extract all three df's.\n",
    "df_pin = spark_read_from_s3('pin')\n",
    "df_geo = spark_read_from_s3('geo')\n",
    "df_user = spark_read_from_s3('user')\n"
   ]
  },
  {
   "cell_type": "code",
   "execution_count": null,
   "metadata": {
    "application/vnd.databricks.v1+cell": {
     "cellMetadata": {
      "byteLimit": 2048000,
      "rowLimit": 10000
     },
     "inputWidgets": {},
     "nuid": "b97dd941-bf0d-4a52-85a2-cb2f02fe2719",
     "showTitle": false,
     "title": ""
    }
   },
   "outputs": [
    {
     "data": {
      "text/html": [
       "<style scoped>\n",
       "  .ansiout {\n",
       "    display: block;\n",
       "    unicode-bidi: embed;\n",
       "    white-space: pre-wrap;\n",
       "    word-wrap: break-word;\n",
       "    word-break: break-all;\n",
       "    font-family: \"Menlo\", \"Monaco\", \"Consolas\", \"Ubuntu Mono\", \"Source Code Pro\", monospace;\n",
       "    font-size: 13px;\n",
       "    color: #555;\n",
       "    margin-left: 4px;\n",
       "    line-height: 19px;\n",
       "  }\n",
       "</style>\n",
       "<div class=\"ansiout\">Out[249]: 1746</div>"
      ]
     },
     "metadata": {
      "application/vnd.databricks.v1+output": {
       "addedWidgets": {},
       "arguments": {},
       "data": "<div class=\"ansiout\">Out[249]: 1746</div>",
       "datasetInfos": [],
       "metadata": {},
       "removedWidgets": [],
       "type": "html"
      }
     },
     "output_type": "display_data"
    }
   ],
   "source": [
    "# Drop the duplicates \n",
    "df_pin = df_pin.dropDuplicates()\n",
    "df_geo = df_geo.dropDuplicates()\n",
    "df_user = df_user.dropDuplicates()\n",
    "\n",
    "# Check if duplicates were deleted. Compare to original DF number of rows: 2094.\n",
    "df_pin.count() "
   ]
  },
  {
   "cell_type": "code",
   "execution_count": null,
   "metadata": {
    "application/vnd.databricks.v1+cell": {
     "cellMetadata": {
      "byteLimit": 2048000,
      "rowLimit": 10000
     },
     "inputWidgets": {},
     "nuid": "a3e41c44-6143-470e-8b41-b9a49d422227",
     "showTitle": false,
     "title": ""
    }
   },
   "outputs": [
    {
     "data": {
      "text/html": [
       "<style scoped>\n",
       "  .ansiout {\n",
       "    display: block;\n",
       "    unicode-bidi: embed;\n",
       "    white-space: pre-wrap;\n",
       "    word-wrap: break-word;\n",
       "    word-break: break-all;\n",
       "    font-family: \"Menlo\", \"Monaco\", \"Consolas\", \"Ubuntu Mono\", \"Source Code Pro\", monospace;\n",
       "    font-size: 13px;\n",
       "    color: #555;\n",
       "    margin-left: 4px;\n",
       "    line-height: 19px;\n",
       "  }\n",
       "</style>\n",
       "<div class=\"ansiout\"></div>"
      ]
     },
     "metadata": {
      "application/vnd.databricks.v1+output": {
       "addedWidgets": {},
       "arguments": {},
       "data": "<div class=\"ansiout\"></div>",
       "datasetInfos": [],
       "metadata": {},
       "removedWidgets": [],
       "type": "html"
      }
     },
     "output_type": "display_data"
    },
    {
     "data": {
      "text/html": [
       "<style scoped>\n",
       "  .ansiout {\n",
       "    display: block;\n",
       "    unicode-bidi: embed;\n",
       "    white-space: pre-wrap;\n",
       "    word-wrap: break-word;\n",
       "    word-break: break-all;\n",
       "    font-family: \"Menlo\", \"Monaco\", \"Consolas\", \"Ubuntu Mono\", \"Source Code Pro\", monospace;\n",
       "    font-size: 13px;\n",
       "    color: #555;\n",
       "    margin-left: 4px;\n",
       "    line-height: 19px;\n",
       "  }\n",
       "</style>\n",
       "<div class=\"ansiout\"></div>"
      ]
     },
     "metadata": {
      "application/vnd.databricks.v1+output": {
       "addedWidgets": {},
       "arguments": {},
       "data": "<div class=\"ansiout\"></div>",
       "datasetInfos": [],
       "metadata": {},
       "removedWidgets": [],
       "type": "html"
      }
     },
     "output_type": "display_data"
    },
    {
     "data": {
      "text/html": [
       "<style scoped>\n",
       "  .ansiout {\n",
       "    display: block;\n",
       "    unicode-bidi: embed;\n",
       "    white-space: pre-wrap;\n",
       "    word-wrap: break-word;\n",
       "    word-break: break-all;\n",
       "    font-family: \"Menlo\", \"Monaco\", \"Consolas\", \"Ubuntu Mono\", \"Source Code Pro\", monospace;\n",
       "    font-size: 13px;\n",
       "    color: #555;\n",
       "    margin-left: 4px;\n",
       "    line-height: 19px;\n",
       "  }\n",
       "</style>\n",
       "<div class=\"ansiout\"></div>"
      ]
     },
     "metadata": {
      "application/vnd.databricks.v1+output": {
       "addedWidgets": {},
       "arguments": {},
       "data": "<div class=\"ansiout\"></div>",
       "datasetInfos": [],
       "metadata": {},
       "removedWidgets": [],
       "type": "html"
      }
     },
     "output_type": "display_data"
    },
    {
     "data": {
      "text/html": [
       "<style scoped>\n",
       "  .ansiout {\n",
       "    display: block;\n",
       "    unicode-bidi: embed;\n",
       "    white-space: pre-wrap;\n",
       "    word-wrap: break-word;\n",
       "    word-break: break-all;\n",
       "    font-family: \"Menlo\", \"Monaco\", \"Consolas\", \"Ubuntu Mono\", \"Source Code Pro\", monospace;\n",
       "    font-size: 13px;\n",
       "    color: #555;\n",
       "    margin-left: 4px;\n",
       "    line-height: 19px;\n",
       "  }\n",
       "</style>\n",
       "<div class=\"ansiout\"></div>"
      ]
     },
     "metadata": {
      "application/vnd.databricks.v1+output": {
       "addedWidgets": {},
       "arguments": {},
       "data": "<div class=\"ansiout\"></div>",
       "datasetInfos": [],
       "metadata": {},
       "removedWidgets": [],
       "type": "html"
      }
     },
     "output_type": "display_data"
    },
    {
     "data": {
      "text/html": [
       "<style scoped>\n",
       "  .ansiout {\n",
       "    display: block;\n",
       "    unicode-bidi: embed;\n",
       "    white-space: pre-wrap;\n",
       "    word-wrap: break-word;\n",
       "    word-break: break-all;\n",
       "    font-family: \"Menlo\", \"Monaco\", \"Consolas\", \"Ubuntu Mono\", \"Source Code Pro\", monospace;\n",
       "    font-size: 13px;\n",
       "    color: #555;\n",
       "    margin-left: 4px;\n",
       "    line-height: 19px;\n",
       "  }\n",
       "</style>\n",
       "<div class=\"ansiout\"></div>"
      ]
     },
     "metadata": {
      "application/vnd.databricks.v1+output": {
       "addedWidgets": {},
       "arguments": {},
       "data": "<div class=\"ansiout\"></div>",
       "datasetInfos": [],
       "metadata": {},
       "removedWidgets": [],
       "type": "html"
      }
     },
     "output_type": "display_data"
    },
    {
     "data": {
      "text/html": [
       "<style scoped>\n",
       "  .ansiout {\n",
       "    display: block;\n",
       "    unicode-bidi: embed;\n",
       "    white-space: pre-wrap;\n",
       "    word-wrap: break-word;\n",
       "    word-break: break-all;\n",
       "    font-family: \"Menlo\", \"Monaco\", \"Consolas\", \"Ubuntu Mono\", \"Source Code Pro\", monospace;\n",
       "    font-size: 13px;\n",
       "    color: #555;\n",
       "    margin-left: 4px;\n",
       "    line-height: 19px;\n",
       "  }\n",
       "</style>\n",
       "<div class=\"ansiout\"></div>"
      ]
     },
     "metadata": {
      "application/vnd.databricks.v1+output": {
       "addedWidgets": {},
       "arguments": {},
       "data": "<div class=\"ansiout\"></div>",
       "datasetInfos": [],
       "metadata": {},
       "removedWidgets": [],
       "type": "html"
      }
     },
     "output_type": "display_data"
    },
    {
     "data": {
      "text/html": [
       "<style scoped>\n",
       "  .ansiout {\n",
       "    display: block;\n",
       "    unicode-bidi: embed;\n",
       "    white-space: pre-wrap;\n",
       "    word-wrap: break-word;\n",
       "    word-break: break-all;\n",
       "    font-family: \"Menlo\", \"Monaco\", \"Consolas\", \"Ubuntu Mono\", \"Source Code Pro\", monospace;\n",
       "    font-size: 13px;\n",
       "    color: #555;\n",
       "    margin-left: 4px;\n",
       "    line-height: 19px;\n",
       "  }\n",
       "</style>\n",
       "<div class=\"ansiout\"></div>"
      ]
     },
     "metadata": {
      "application/vnd.databricks.v1+output": {
       "addedWidgets": {},
       "arguments": {},
       "data": "<div class=\"ansiout\"></div>",
       "datasetInfos": [],
       "metadata": {},
       "removedWidgets": [],
       "type": "html"
      }
     },
     "output_type": "display_data"
    }
   ],
   "source": [
    "%run Users/kasalotas@yahoo.com/transformation_functions "
   ]
  },
  {
   "cell_type": "code",
   "execution_count": null,
   "metadata": {
    "application/vnd.databricks.v1+cell": {
     "cellMetadata": {
      "byteLimit": 2048000,
      "rowLimit": 10000
     },
     "inputWidgets": {},
     "nuid": "070bb41e-a9e4-408c-82e8-4da6f59b4bd6",
     "showTitle": false,
     "title": ""
    }
   },
   "outputs": [
    {
     "data": {
      "text/html": [
       "<style scoped>\n",
       "  .ansiout {\n",
       "    display: block;\n",
       "    unicode-bidi: embed;\n",
       "    white-space: pre-wrap;\n",
       "    word-wrap: break-word;\n",
       "    word-break: break-all;\n",
       "    font-family: \"Menlo\", \"Monaco\", \"Consolas\", \"Ubuntu Mono\", \"Source Code Pro\", monospace;\n",
       "    font-size: 13px;\n",
       "    color: #555;\n",
       "    margin-left: 4px;\n",
       "    line-height: 19px;\n",
       "  }\n",
       "</style>\n",
       "<div class=\"ansiout\">root\n",
       "-- ind: integer (nullable = true)\n",
       "-- unique_id: string (nullable = true)\n",
       "-- title: string (nullable = true)\n",
       "-- description: string (nullable = true)\n",
       "-- follower_count: integer (nullable = true)\n",
       "-- poster_name: string (nullable = true)\n",
       "-- tag_list: string (nullable = true)\n",
       "-- is_image_or_video: string (nullable = true)\n",
       "-- image_src: string (nullable = true)\n",
       "-- save_location: string (nullable = true)\n",
       "-- category: string (nullable = true)\n",
       "\n",
       "</div>"
      ]
     },
     "metadata": {
      "application/vnd.databricks.v1+output": {
       "addedWidgets": {},
       "arguments": {},
       "data": "<div class=\"ansiout\">root\n |-- ind: integer (nullable = true)\n |-- unique_id: string (nullable = true)\n |-- title: string (nullable = true)\n |-- description: string (nullable = true)\n |-- follower_count: integer (nullable = true)\n |-- poster_name: string (nullable = true)\n |-- tag_list: string (nullable = true)\n |-- is_image_or_video: string (nullable = true)\n |-- image_src: string (nullable = true)\n |-- save_location: string (nullable = true)\n |-- category: string (nullable = true)\n\n</div>",
       "datasetInfos": [],
       "metadata": {},
       "removedWidgets": [],
       "type": "html"
      }
     },
     "output_type": "display_data"
    },
    {
     "data": {
      "text/html": [
       "<style scoped>\n",
       "  .table-result-container {\n",
       "    max-height: 300px;\n",
       "    overflow: auto;\n",
       "  }\n",
       "  table, th, td {\n",
       "    border: 1px solid black;\n",
       "    border-collapse: collapse;\n",
       "  }\n",
       "  th, td {\n",
       "    padding: 5px;\n",
       "  }\n",
       "  th {\n",
       "    text-align: left;\n",
       "  }\n",
       "</style><div class='table-result-container'><table class='table-result'><thead style='background-color: white'><tr><th>ind</th><th>unique_id</th><th>title</th><th>description</th><th>follower_count</th><th>poster_name</th><th>tag_list</th><th>is_image_or_video</th><th>image_src</th><th>save_location</th><th>category</th></tr></thead><tbody><tr><td>7028</td><td>cc96f759-8aea-4036-8d45-ce881562b7ed</td><td>Men's Fashion on Instagram: “#fashionmen #model #2015 #mystylish #fashion #instafashion #body #outfit #nyc #mens #adidas #nike”</td><td>490 Likes, 22 Comments - Men's Fashion (@fashionformen_) on Instagram: “#fashionmen #model #2015 #mystylish #fashion #instafashion #body #outfit #nyc #mens #adidas #nike”</td><td>4</td><td>Erik Dunteman</td><td>Mode Masculine,Fashion Night,Urban Fashion,Mode Outfits,Fashion Outfits,Fashion Fashion,Fashion Lookbook,Street Fashion,Trendy Outfits</td><td>image</td><td>https://i.pinimg.com/originals/e4/f1/1b/e4f11bf7c762d766514e0a7b8565b762.jpg</td><td> /data/mens-fashion</td><td>mens-fashion</td></tr><tr><td>3351</td><td>282a8cf2-d4f3-4d21-837c-90c953b737cf</td><td>Easy Christmas Crafts for Kids - Fruit Loop Candy Cane</td><td>If you're looking for easy Christmas crafts for kids, this is it! You only need 2 things to make them - Fruit Loop cereal and pipe cleaners! They're a great fine motor activity… </td><td>29000</td><td>Lindsey Blogs</td><td>Kids Food Crafts,Preschool Christmas Crafts,Christmas Crafts For Kids To Make,Christmas Activities For Kids,Christmas Tree Crafts,Toddler Christmas,Toddler Crafts,Preschool Winter,Winter Activities</td><td>image</td><td>https://i.pinimg.com/originals/f4/40/aa/f440aae805984076e0886407677e0ec2.png</td><td> /data/diy-and-crafts</td><td>diy-and-crafts</td></tr><tr><td>2780</td><td>e8bd0e91-9560-42cd-86c4-b754870a0e89</td><td>Quick & Easy Kids Halloween Crafts & Activities - Over the Big Moon</td><td>These Kids Halloween Crafts and Activities are perfect for Halloween and for kids of all ages - some require craft suppies and others are printable!</td><td>79000</td><td>Pam from Over the Big Moon</td><td>Fall Crafts For Kids,Toddler Crafts,Kids Crafts,Arts And Crafts,Halloween Crafts For Kindergarten,Halloween Crafts For Kids To Make,Halloween Crafts For Preschoolers,Preschool Halloween Crafts,Winter Craft</td><td>image</td><td>https://i.pinimg.com/originals/f4/28/50/f428509f9ef819a04f6d2f8224233c22.jpg</td><td> /data/diy-and-crafts</td><td>diy-and-crafts</td></tr><tr><td>7914</td><td>37921664-2eeb-438a-bbe4-518847565874</td><td>5 Forgiveness Quotes To Help You Set Yourself Free, Let Go, and Heal - Strong with Purpose | Healing & Intuitive Living</td><td>The beauty is that we have the ability to heal and forgive. Read these 5 Forgiveness Quotes To Help You Set Yourself Free, Let Go, and Heal. #quoteoftheday #inspiring</td><td>8000</td><td>Strong with Purpose | Healing & Intuitive Living</td><td>Quotable Quotes,Wisdom Quotes,True Quotes,Great Quotes,Words Quotes,Motivational Quotes,Inspirational Quotes,Sayings,Quotes Quotes</td><td>image</td><td>https://i.pinimg.com/originals/8b/95/56/8b95568cda89362b6e31c80c2ea6599e.jpg</td><td> /data/quotes</td><td>quotes</td></tr><tr><td>3008</td><td>649ca299-a339-4136-a126-501515c93c8d</td><td>Upcycled Denim Rag Rug DIY Instructions</td><td>Turn those old jeans into practical rag rugs with just some scrap yarn and a little crochet know-how. I'll show you how to cut the jeans into strips and crochet them together to… </td><td>100000</td><td>My Poppet - A Craft, Travel & Food Blog for Colourful Living</td><td>Pot Mason Diy,Mason Jar Crafts,Bottle Crafts,Rag Rug Diy,Diy Crochet Rag Rug,Scrap Yarn Crochet,Diy Rugs,Crochet Rug Patterns,Free Crochet</td><td>video</td><td>https://i.pinimg.com/videos/thumbnails/originals/0b/10/af/0b10af74b987322a6f4384470bf4eaf0.0000001.jpg</td><td> /data/diy-and-crafts</td><td>diy-and-crafts</td></tr><tr><td>4821</td><td>bcc09577-7104-4270-8388-f94bef985211</td><td>Cricut Maker Adaptive QuickSwap Tools - Happily Ever After, Etc.</td><td>This is a sponsored conversation written by me on behalf of Cricut. The opinions and text are all mine. Earlier this year when Cricut released the Scoring Wheel I took a look at… </td><td>53000</td><td>Happily Ever After Etc</td><td>Homemade Wedding Invitations,Affordable Wedding Invitations,Cricut Wedding Invitations,Wedding Stationery,Invitation Paper,Wedding Planner,Making Ideas,Event Planning,Super Easy</td><td>image</td><td>https://i.pinimg.com/originals/1f/3c/7d/1f3c7da004601c12f4747ca6594da832.jpg</td><td> /data/event-planning</td><td>event-planning</td></tr><tr><td>2098</td><td>e7c36d58-9fd6-457b-b093-390f1e6e2e62</td><td>How to Make Easy DIY Gnomes | Free Pattern Download PDF, Ideas & Instructions | Be Brave and Bloom</td><td>How to make easy DIY gnomes. FREE Pattern included with simple tutorial and instructions. Make gnomes for any holiday, celebration, or gift; Christmas Santa and skier, Valentine… </td><td>12000</td><td>cindy munson</td><td>Christmas Decorations Sewing,Christmas Ornament Crafts,Christmas Gnome,Christmas Knitting,Xmas Crafts,Christmas Sewing Gifts,Easy Diy Crafts,Diy Holiday Gifts,Gnomes</td><td>image</td><td>https://i.pinimg.com/originals/62/c7/57/62c7573c8ab4b276887dbd2fb8c96c3c.jpg</td><td> /data/christmas</td><td>christmas</td></tr><tr><td>10120</td><td>9d18af84-7e86-42d1-8415-63cf1f8dd45e</td><td>Where to Stay in London + The Best Hotels in London: Area by Area</td><td>Travelling to London and wondering where to stay? Don't miss this insider's guide to the best areas to stay in London and the best hotels in London. Cool things to do and places… </td><td>376</td><td>London x London -  Cool Things To Do + London Travel</td><td>London Places,London Hotels,London England Hotels,London England Travel,London Restaurants,Cool Places To Visit,Places To Travel,Places To Go,Travel Destinations</td><td>image</td><td>https://i.pinimg.com/originals/53/bb/29/53bb29993450a1fb5223bcaf524d9deb.jpg</td><td> /data/travel</td><td>travel</td></tr><tr><td>2829</td><td>c20383f7-c788-4104-a71c-5bb075e486aa</td><td>Paper Plate Fall Gnome - Kid Craft</td><td>Autumn days are here again and we have been busy on Glued To My Crafts. Click to see our latest Paper Plate Fall Gnome kid craft idea come to life so you can recreate with your… </td><td>226000</td><td>Glued To My Crafts</td><td>Christmas Art For Kids,Preschool Christmas Crafts,Preschool Arts And Crafts,Christmas Arts And Crafts,Animal Crafts For Kids,Christmas Paper Plates,Winter Crafts For Kids,Halloween Crafts For Kids,Classroom Crafts</td><td>image</td><td>https://i.pinimg.com/originals/12/24/56/122456dcb6b48ca9e70f667c13c962c7.jpg</td><td> /data/diy-and-crafts</td><td>diy-and-crafts</td></tr><tr><td>4027</td><td>29c9790d-a6e1-4713-be58-bf91a0677cc4</td><td>Data collection in the special education classroom</td><td>Data collection in the special education classroom is a big undertaking. A better understanding of the data collection process allows you to collect data more easily and to dete… </td><td>38000</td><td>Especially Education</td><td>Special Education Organization,Preschool Special Education,Elementary Education,Kids Education,Education System,Special Education Progress Monitoring,Physical Education,Finland Education,Education Reform</td><td>image</td><td>https://i.pinimg.com/originals/68/7a/7f/687a7f9acb7b4dac402fe18ffb0b60f4.jpg</td><td> /data/education</td><td>education</td></tr></tbody></table></div>"
      ]
     },
     "metadata": {
      "application/vnd.databricks.v1+output": {
       "addedWidgets": {},
       "aggData": [],
       "aggError": "",
       "aggOverflow": false,
       "aggSchema": [],
       "aggSeriesLimitReached": false,
       "aggType": "",
       "arguments": {},
       "columnCustomDisplayInfos": {},
       "data": [
        [
         7028,
         "cc96f759-8aea-4036-8d45-ce881562b7ed",
         "Men's Fashion on Instagram: “#fashionmen #model #2015 #mystylish #fashion #instafashion #body #outfit #nyc #mens #adidas #nike”",
         "490 Likes, 22 Comments - Men's Fashion (@fashionformen_) on Instagram: “#fashionmen #model #2015 #mystylish #fashion #instafashion #body #outfit #nyc #mens #adidas #nike”",
         4,
         "Erik Dunteman",
         "Mode Masculine,Fashion Night,Urban Fashion,Mode Outfits,Fashion Outfits,Fashion Fashion,Fashion Lookbook,Street Fashion,Trendy Outfits",
         "image",
         "https://i.pinimg.com/originals/e4/f1/1b/e4f11bf7c762d766514e0a7b8565b762.jpg",
         " /data/mens-fashion",
         "mens-fashion"
        ],
        [
         3351,
         "282a8cf2-d4f3-4d21-837c-90c953b737cf",
         "Easy Christmas Crafts for Kids - Fruit Loop Candy Cane",
         "If you're looking for easy Christmas crafts for kids, this is it! You only need 2 things to make them - Fruit Loop cereal and pipe cleaners! They're a great fine motor activity… ",
         29000,
         "Lindsey Blogs",
         "Kids Food Crafts,Preschool Christmas Crafts,Christmas Crafts For Kids To Make,Christmas Activities For Kids,Christmas Tree Crafts,Toddler Christmas,Toddler Crafts,Preschool Winter,Winter Activities",
         "image",
         "https://i.pinimg.com/originals/f4/40/aa/f440aae805984076e0886407677e0ec2.png",
         " /data/diy-and-crafts",
         "diy-and-crafts"
        ],
        [
         2780,
         "e8bd0e91-9560-42cd-86c4-b754870a0e89",
         "Quick & Easy Kids Halloween Crafts & Activities - Over the Big Moon",
         "These Kids Halloween Crafts and Activities are perfect for Halloween and for kids of all ages - some require craft suppies and others are printable!",
         79000,
         "Pam from Over the Big Moon",
         "Fall Crafts For Kids,Toddler Crafts,Kids Crafts,Arts And Crafts,Halloween Crafts For Kindergarten,Halloween Crafts For Kids To Make,Halloween Crafts For Preschoolers,Preschool Halloween Crafts,Winter Craft",
         "image",
         "https://i.pinimg.com/originals/f4/28/50/f428509f9ef819a04f6d2f8224233c22.jpg",
         " /data/diy-and-crafts",
         "diy-and-crafts"
        ],
        [
         7914,
         "37921664-2eeb-438a-bbe4-518847565874",
         "5 Forgiveness Quotes To Help You Set Yourself Free, Let Go, and Heal - Strong with Purpose | Healing & Intuitive Living",
         "The beauty is that we have the ability to heal and forgive. Read these 5 Forgiveness Quotes To Help You Set Yourself Free, Let Go, and Heal. #quoteoftheday #inspiring",
         8000,
         "Strong with Purpose | Healing & Intuitive Living",
         "Quotable Quotes,Wisdom Quotes,True Quotes,Great Quotes,Words Quotes,Motivational Quotes,Inspirational Quotes,Sayings,Quotes Quotes",
         "image",
         "https://i.pinimg.com/originals/8b/95/56/8b95568cda89362b6e31c80c2ea6599e.jpg",
         " /data/quotes",
         "quotes"
        ],
        [
         3008,
         "649ca299-a339-4136-a126-501515c93c8d",
         "Upcycled Denim Rag Rug DIY Instructions",
         "Turn those old jeans into practical rag rugs with just some scrap yarn and a little crochet know-how. I'll show you how to cut the jeans into strips and crochet them together to… ",
         100000,
         "My Poppet - A Craft, Travel & Food Blog for Colourful Living",
         "Pot Mason Diy,Mason Jar Crafts,Bottle Crafts,Rag Rug Diy,Diy Crochet Rag Rug,Scrap Yarn Crochet,Diy Rugs,Crochet Rug Patterns,Free Crochet",
         "video",
         "https://i.pinimg.com/videos/thumbnails/originals/0b/10/af/0b10af74b987322a6f4384470bf4eaf0.0000001.jpg",
         " /data/diy-and-crafts",
         "diy-and-crafts"
        ],
        [
         4821,
         "bcc09577-7104-4270-8388-f94bef985211",
         "Cricut Maker Adaptive QuickSwap Tools - Happily Ever After, Etc.",
         "This is a sponsored conversation written by me on behalf of Cricut. The opinions and text are all mine. Earlier this year when Cricut released the Scoring Wheel I took a look at… ",
         53000,
         "Happily Ever After Etc",
         "Homemade Wedding Invitations,Affordable Wedding Invitations,Cricut Wedding Invitations,Wedding Stationery,Invitation Paper,Wedding Planner,Making Ideas,Event Planning,Super Easy",
         "image",
         "https://i.pinimg.com/originals/1f/3c/7d/1f3c7da004601c12f4747ca6594da832.jpg",
         " /data/event-planning",
         "event-planning"
        ],
        [
         2098,
         "e7c36d58-9fd6-457b-b093-390f1e6e2e62",
         "How to Make Easy DIY Gnomes | Free Pattern Download PDF, Ideas & Instructions | Be Brave and Bloom",
         "How to make easy DIY gnomes. FREE Pattern included with simple tutorial and instructions. Make gnomes for any holiday, celebration, or gift; Christmas Santa and skier, Valentine… ",
         12000,
         "cindy munson",
         "Christmas Decorations Sewing,Christmas Ornament Crafts,Christmas Gnome,Christmas Knitting,Xmas Crafts,Christmas Sewing Gifts,Easy Diy Crafts,Diy Holiday Gifts,Gnomes",
         "image",
         "https://i.pinimg.com/originals/62/c7/57/62c7573c8ab4b276887dbd2fb8c96c3c.jpg",
         " /data/christmas",
         "christmas"
        ],
        [
         10120,
         "9d18af84-7e86-42d1-8415-63cf1f8dd45e",
         "Where to Stay in London + The Best Hotels in London: Area by Area",
         "Travelling to London and wondering where to stay? Don't miss this insider's guide to the best areas to stay in London and the best hotels in London. Cool things to do and places… ",
         376,
         "London x London -  Cool Things To Do + London Travel",
         "London Places,London Hotels,London England Hotels,London England Travel,London Restaurants,Cool Places To Visit,Places To Travel,Places To Go,Travel Destinations",
         "image",
         "https://i.pinimg.com/originals/53/bb/29/53bb29993450a1fb5223bcaf524d9deb.jpg",
         " /data/travel",
         "travel"
        ],
        [
         2829,
         "c20383f7-c788-4104-a71c-5bb075e486aa",
         "Paper Plate Fall Gnome - Kid Craft",
         "Autumn days are here again and we have been busy on Glued To My Crafts. Click to see our latest Paper Plate Fall Gnome kid craft idea come to life so you can recreate with your… ",
         226000,
         "Glued To My Crafts",
         "Christmas Art For Kids,Preschool Christmas Crafts,Preschool Arts And Crafts,Christmas Arts And Crafts,Animal Crafts For Kids,Christmas Paper Plates,Winter Crafts For Kids,Halloween Crafts For Kids,Classroom Crafts",
         "image",
         "https://i.pinimg.com/originals/12/24/56/122456dcb6b48ca9e70f667c13c962c7.jpg",
         " /data/diy-and-crafts",
         "diy-and-crafts"
        ],
        [
         4027,
         "29c9790d-a6e1-4713-be58-bf91a0677cc4",
         "Data collection in the special education classroom",
         "Data collection in the special education classroom is a big undertaking. A better understanding of the data collection process allows you to collect data more easily and to dete… ",
         38000,
         "Especially Education",
         "Special Education Organization,Preschool Special Education,Elementary Education,Kids Education,Education System,Special Education Progress Monitoring,Physical Education,Finland Education,Education Reform",
         "image",
         "https://i.pinimg.com/originals/68/7a/7f/687a7f9acb7b4dac402fe18ffb0b60f4.jpg",
         " /data/education",
         "education"
        ]
       ],
       "datasetInfos": [],
       "dbfsResultPath": null,
       "isJsonSchema": true,
       "metadata": {},
       "overflow": false,
       "plotOptions": {
        "customPlotOptions": {},
        "displayType": "table",
        "pivotAggregation": null,
        "pivotColumns": null,
        "xColumns": null,
        "yColumns": null
       },
       "removedWidgets": [],
       "schema": [
        {
         "metadata": "{}",
         "name": "ind",
         "type": "\"integer\""
        },
        {
         "metadata": "{}",
         "name": "unique_id",
         "type": "\"string\""
        },
        {
         "metadata": "{}",
         "name": "title",
         "type": "\"string\""
        },
        {
         "metadata": "{}",
         "name": "description",
         "type": "\"string\""
        },
        {
         "metadata": "{}",
         "name": "follower_count",
         "type": "\"integer\""
        },
        {
         "metadata": "{}",
         "name": "poster_name",
         "type": "\"string\""
        },
        {
         "metadata": "{}",
         "name": "tag_list",
         "type": "\"string\""
        },
        {
         "metadata": "{}",
         "name": "is_image_or_video",
         "type": "\"string\""
        },
        {
         "metadata": "{}",
         "name": "image_src",
         "type": "\"string\""
        },
        {
         "metadata": "{}",
         "name": "save_location",
         "type": "\"string\""
        },
        {
         "metadata": "{}",
         "name": "category",
         "type": "\"string\""
        }
       ],
       "type": "table"
      }
     },
     "output_type": "display_data"
    }
   ],
   "source": [
    "# MILE 7. TASK 1. Data transformation on df_pin dataframe.\n",
    "\n",
    "df_pin = clean_pin(df_pin)\n",
    "df_p = df_pin.limit(10)    # Use .limit() to have just 10 rows to display and not the whole df.\n",
    "df_pin.printSchema()\n",
    "display(df_p)"
   ]
  },
  {
   "cell_type": "code",
   "execution_count": null,
   "metadata": {
    "application/vnd.databricks.v1+cell": {
     "cellMetadata": {
      "byteLimit": 2048000,
      "rowLimit": 10000
     },
     "inputWidgets": {},
     "nuid": "015e6f34-d930-4fb1-82d1-e726fbf76ba4",
     "showTitle": false,
     "title": ""
    }
   },
   "outputs": [
    {
     "data": {
      "text/html": [
       "<style scoped>\n",
       "  .ansiout {\n",
       "    display: block;\n",
       "    unicode-bidi: embed;\n",
       "    white-space: pre-wrap;\n",
       "    word-wrap: break-word;\n",
       "    word-break: break-all;\n",
       "    font-family: \"Menlo\", \"Monaco\", \"Consolas\", \"Ubuntu Mono\", \"Source Code Pro\", monospace;\n",
       "    font-size: 13px;\n",
       "    color: #555;\n",
       "    margin-left: 4px;\n",
       "    line-height: 19px;\n",
       "  }\n",
       "</style>\n",
       "<div class=\"ansiout\">root\n",
       "-- ind: long (nullable = true)\n",
       "-- country: string (nullable = true)\n",
       "-- coordinates: string (nullable = true)\n",
       "-- timestamp: timestamp (nullable = true)\n",
       "\n",
       "</div>"
      ]
     },
     "metadata": {
      "application/vnd.databricks.v1+output": {
       "addedWidgets": {},
       "arguments": {},
       "data": "<div class=\"ansiout\">root\n |-- ind: long (nullable = true)\n |-- country: string (nullable = true)\n |-- coordinates: string (nullable = true)\n |-- timestamp: timestamp (nullable = true)\n\n</div>",
       "datasetInfos": [],
       "metadata": {},
       "removedWidgets": [],
       "type": "html"
      }
     },
     "output_type": "display_data"
    },
    {
     "data": {
      "text/html": [
       "<style scoped>\n",
       "  .table-result-container {\n",
       "    max-height: 300px;\n",
       "    overflow: auto;\n",
       "  }\n",
       "  table, th, td {\n",
       "    border: 1px solid black;\n",
       "    border-collapse: collapse;\n",
       "  }\n",
       "  th, td {\n",
       "    padding: 5px;\n",
       "  }\n",
       "  th {\n",
       "    text-align: left;\n",
       "  }\n",
       "</style><div class='table-result-container'><table class='table-result'><thead style='background-color: white'><tr><th>ind</th><th>country</th><th>coordinates</th><th>timestamp</th></tr></thead><tbody><tr><td>813</td><td>French Southern Territories</td><td>-70.9146, -136.554</td><td>2022-06-13T23:08:43.000+0000</td></tr><tr><td>8677</td><td>Bouvet Island (Bouvetoya)</td><td>-84.3984, -144.933</td><td>2020-02-12T23:24:01.000+0000</td></tr><tr><td>6547</td><td>Falkland Islands (Malvinas)</td><td>-51.4908, -55.086</td><td>2021-11-25T15:37:05.000+0000</td></tr><tr><td>204</td><td>United States Virgin Islands</td><td>29.2096, -13.1258</td><td>2018-11-23T15:01:11.000+0000</td></tr><tr><td>5379</td><td>Falkland Islands (Malvinas)</td><td>47.3574, -88.0068</td><td>2018-08-21T01:22:46.000+0000</td></tr><tr><td>974</td><td>Svalbard & Jan Mayen Islands</td><td>-56.9556, 94.6183</td><td>2022-03-17T09:24:07.000+0000</td></tr><tr><td>5244</td><td>French Southern Territories</td><td>27.8614, -130.864</td><td>2021-01-26T03:26:43.000+0000</td></tr><tr><td>6277</td><td>Falkland Islands (Malvinas)</td><td>-51.4908, -55.086</td><td>2019-02-21T03:07:17.000+0000</td></tr><tr><td>303</td><td>United States Virgin Islands</td><td>31.1892, -163.128</td><td>2022-08-17T16:18:21.000+0000</td></tr><tr><td>10369</td><td>Bouvet Island (Bouvetoya)</td><td>-79.0994, -101.415</td><td>2020-02-01T10:43:06.000+0000</td></tr></tbody></table></div>"
      ]
     },
     "metadata": {
      "application/vnd.databricks.v1+output": {
       "addedWidgets": {},
       "aggData": [],
       "aggError": "",
       "aggOverflow": false,
       "aggSchema": [],
       "aggSeriesLimitReached": false,
       "aggType": "",
       "arguments": {},
       "columnCustomDisplayInfos": {},
       "data": [
        [
         813,
         "French Southern Territories",
         "-70.9146, -136.554",
         "2022-06-13T23:08:43.000+0000"
        ],
        [
         8677,
         "Bouvet Island (Bouvetoya)",
         "-84.3984, -144.933",
         "2020-02-12T23:24:01.000+0000"
        ],
        [
         6547,
         "Falkland Islands (Malvinas)",
         "-51.4908, -55.086",
         "2021-11-25T15:37:05.000+0000"
        ],
        [
         204,
         "United States Virgin Islands",
         "29.2096, -13.1258",
         "2018-11-23T15:01:11.000+0000"
        ],
        [
         5379,
         "Falkland Islands (Malvinas)",
         "47.3574, -88.0068",
         "2018-08-21T01:22:46.000+0000"
        ],
        [
         974,
         "Svalbard & Jan Mayen Islands",
         "-56.9556, 94.6183",
         "2022-03-17T09:24:07.000+0000"
        ],
        [
         5244,
         "French Southern Territories",
         "27.8614, -130.864",
         "2021-01-26T03:26:43.000+0000"
        ],
        [
         6277,
         "Falkland Islands (Malvinas)",
         "-51.4908, -55.086",
         "2019-02-21T03:07:17.000+0000"
        ],
        [
         303,
         "United States Virgin Islands",
         "31.1892, -163.128",
         "2022-08-17T16:18:21.000+0000"
        ],
        [
         10369,
         "Bouvet Island (Bouvetoya)",
         "-79.0994, -101.415",
         "2020-02-01T10:43:06.000+0000"
        ]
       ],
       "datasetInfos": [],
       "dbfsResultPath": null,
       "isJsonSchema": true,
       "metadata": {},
       "overflow": false,
       "plotOptions": {
        "customPlotOptions": {},
        "displayType": "table",
        "pivotAggregation": null,
        "pivotColumns": null,
        "xColumns": null,
        "yColumns": null
       },
       "removedWidgets": [],
       "schema": [
        {
         "metadata": "{}",
         "name": "ind",
         "type": "\"long\""
        },
        {
         "metadata": "{}",
         "name": "country",
         "type": "\"string\""
        },
        {
         "metadata": "{}",
         "name": "coordinates",
         "type": "\"string\""
        },
        {
         "metadata": "{}",
         "name": "timestamp",
         "type": "\"timestamp\""
        }
       ],
       "type": "table"
      }
     },
     "output_type": "display_data"
    }
   ],
   "source": [
    "# MILE 7. TASK 2. Data transformation on df_geo dataframe. \n",
    "\n",
    "df_geo = clean_geo(df_geo)\n",
    "df_g = df_geo.limit(10)\n",
    "df_geo.printSchema()\n",
    "display(df_g)\n"
   ]
  },
  {
   "cell_type": "code",
   "execution_count": null,
   "metadata": {
    "application/vnd.databricks.v1+cell": {
     "cellMetadata": {
      "byteLimit": 2048000,
      "rowLimit": 10000
     },
     "inputWidgets": {},
     "nuid": "427c434d-ae11-46e5-8d40-648eade260dd",
     "showTitle": false,
     "title": ""
    }
   },
   "outputs": [
    {
     "data": {
      "text/html": [
       "<style scoped>\n",
       "  .ansiout {\n",
       "    display: block;\n",
       "    unicode-bidi: embed;\n",
       "    white-space: pre-wrap;\n",
       "    word-wrap: break-word;\n",
       "    word-break: break-all;\n",
       "    font-family: \"Menlo\", \"Monaco\", \"Consolas\", \"Ubuntu Mono\", \"Source Code Pro\", monospace;\n",
       "    font-size: 13px;\n",
       "    color: #555;\n",
       "    margin-left: 4px;\n",
       "    line-height: 19px;\n",
       "  }\n",
       "</style>\n",
       "<div class=\"ansiout\">root\n",
       "-- ind: long (nullable = true)\n",
       "-- user_name: string (nullable = true)\n",
       "-- age: long (nullable = true)\n",
       "-- date_joined: timestamp (nullable = true)\n",
       "\n",
       "</div>"
      ]
     },
     "metadata": {
      "application/vnd.databricks.v1+output": {
       "addedWidgets": {},
       "arguments": {},
       "data": "<div class=\"ansiout\">root\n |-- ind: long (nullable = true)\n |-- user_name: string (nullable = true)\n |-- age: long (nullable = true)\n |-- date_joined: timestamp (nullable = true)\n\n</div>",
       "datasetInfos": [],
       "metadata": {},
       "removedWidgets": [],
       "type": "html"
      }
     },
     "output_type": "display_data"
    },
    {
     "data": {
      "text/html": [
       "<style scoped>\n",
       "  .table-result-container {\n",
       "    max-height: 300px;\n",
       "    overflow: auto;\n",
       "  }\n",
       "  table, th, td {\n",
       "    border: 1px solid black;\n",
       "    border-collapse: collapse;\n",
       "  }\n",
       "  th, td {\n",
       "    padding: 5px;\n",
       "  }\n",
       "  th {\n",
       "    text-align: left;\n",
       "  }\n",
       "</style><div class='table-result-container'><table class='table-result'><thead style='background-color: white'><tr><th>ind</th><th>user_name</th><th>age</th><th>date_joined</th></tr></thead><tbody><tr><td>1487</td><td>Jonathan Rodriguez</td><td>30</td><td>2016-09-05T12:31:44.000+0000</td></tr><tr><td>6806</td><td>Christopher Daniel</td><td>25</td><td>2016-04-15T17:06:49.000+0000</td></tr><tr><td>4761</td><td>Christopher Norman</td><td>40</td><td>2017-03-07T21:33:30.000+0000</td></tr><tr><td>10721</td><td>Garrett Hernandez</td><td>53</td><td>2017-04-05T13:59:02.000+0000</td></tr><tr><td>10675</td><td>Christopher Combs</td><td>42</td><td>2016-02-08T16:47:33.000+0000</td></tr><tr><td>2532</td><td>Danielle Hernandez</td><td>24</td><td>2016-03-24T23:39:08.000+0000</td></tr><tr><td>7206</td><td>Christina Anderson</td><td>27</td><td>2016-03-03T11:25:21.000+0000</td></tr><tr><td>2267</td><td>Andrea Blankenship</td><td>27</td><td>2016-04-11T21:27:52.000+0000</td></tr><tr><td>7790</td><td>Michelle Gutierrez</td><td>39</td><td>2017-07-19T07:12:04.000+0000</td></tr><tr><td>10600</td><td>Robert Mclaughlin</td><td>49</td><td>2016-02-27T04:42:03.000+0000</td></tr></tbody></table></div>"
      ]
     },
     "metadata": {
      "application/vnd.databricks.v1+output": {
       "addedWidgets": {},
       "aggData": [],
       "aggError": "",
       "aggOverflow": false,
       "aggSchema": [],
       "aggSeriesLimitReached": false,
       "aggType": "",
       "arguments": {},
       "columnCustomDisplayInfos": {},
       "data": [
        [
         1487,
         "Jonathan Rodriguez",
         30,
         "2016-09-05T12:31:44.000+0000"
        ],
        [
         6806,
         "Christopher Daniel",
         25,
         "2016-04-15T17:06:49.000+0000"
        ],
        [
         4761,
         "Christopher Norman",
         40,
         "2017-03-07T21:33:30.000+0000"
        ],
        [
         10721,
         "Garrett Hernandez",
         53,
         "2017-04-05T13:59:02.000+0000"
        ],
        [
         10675,
         "Christopher Combs",
         42,
         "2016-02-08T16:47:33.000+0000"
        ],
        [
         2532,
         "Danielle Hernandez",
         24,
         "2016-03-24T23:39:08.000+0000"
        ],
        [
         7206,
         "Christina Anderson",
         27,
         "2016-03-03T11:25:21.000+0000"
        ],
        [
         2267,
         "Andrea Blankenship",
         27,
         "2016-04-11T21:27:52.000+0000"
        ],
        [
         7790,
         "Michelle Gutierrez",
         39,
         "2017-07-19T07:12:04.000+0000"
        ],
        [
         10600,
         "Robert Mclaughlin",
         49,
         "2016-02-27T04:42:03.000+0000"
        ]
       ],
       "datasetInfos": [],
       "dbfsResultPath": null,
       "isJsonSchema": true,
       "metadata": {},
       "overflow": false,
       "plotOptions": {
        "customPlotOptions": {},
        "displayType": "table",
        "pivotAggregation": null,
        "pivotColumns": null,
        "xColumns": null,
        "yColumns": null
       },
       "removedWidgets": [],
       "schema": [
        {
         "metadata": "{}",
         "name": "ind",
         "type": "\"long\""
        },
        {
         "metadata": "{}",
         "name": "user_name",
         "type": "\"string\""
        },
        {
         "metadata": "{}",
         "name": "age",
         "type": "\"long\""
        },
        {
         "metadata": "{}",
         "name": "date_joined",
         "type": "\"timestamp\""
        }
       ],
       "type": "table"
      }
     },
     "output_type": "display_data"
    }
   ],
   "source": [
    "# MILE 7. TASK 3. Data transformation on df_user dataframe.\n",
    "\n",
    "df_user = clean_user(df_user)\n",
    "df_u = df_user.limit(10)\n",
    "df_user.printSchema()\n",
    "display(df_u)"
   ]
  },
  {
   "cell_type": "code",
   "execution_count": null,
   "metadata": {
    "application/vnd.databricks.v1+cell": {
     "cellMetadata": {
      "byteLimit": 2048000,
      "rowLimit": 10000
     },
     "inputWidgets": {},
     "nuid": "875ef209-a77b-4be2-921b-a218038170d9",
     "showTitle": false,
     "title": ""
    }
   },
   "outputs": [
    {
     "data": {
      "text/html": [
       "<style scoped>\n",
       "  .ansiout {\n",
       "    display: block;\n",
       "    unicode-bidi: embed;\n",
       "    white-space: pre-wrap;\n",
       "    word-wrap: break-word;\n",
       "    word-break: break-all;\n",
       "    font-family: \"Menlo\", \"Monaco\", \"Consolas\", \"Ubuntu Mono\", \"Source Code Pro\", monospace;\n",
       "    font-size: 13px;\n",
       "    color: #555;\n",
       "    margin-left: 4px;\n",
       "    line-height: 19px;\n",
       "  }\n",
       "</style>\n",
       "<div class=\"ansiout\"></div>"
      ]
     },
     "metadata": {
      "application/vnd.databricks.v1+output": {
       "addedWidgets": {},
       "arguments": {},
       "data": "<div class=\"ansiout\"></div>",
       "datasetInfos": [],
       "metadata": {},
       "removedWidgets": [],
       "type": "html"
      }
     },
     "output_type": "display_data"
    }
   ],
   "source": [
    "# MILE 7. TASK 4. Category with the most pins by country."
   ]
  },
  {
   "cell_type": "code",
   "execution_count": null,
   "metadata": {
    "application/vnd.databricks.v1+cell": {
     "cellMetadata": {
      "byteLimit": 2048000,
      "rowLimit": 10000
     },
     "inputWidgets": {},
     "nuid": "a0fd0df1-fc24-4a14-a33a-d80863e2417c",
     "showTitle": false,
     "title": ""
    }
   },
   "outputs": [
    {
     "data": {
      "text/html": [
       "<style scoped>\n",
       "  .table-result-container {\n",
       "    max-height: 300px;\n",
       "    overflow: auto;\n",
       "  }\n",
       "  table, th, td {\n",
       "    border: 1px solid black;\n",
       "    border-collapse: collapse;\n",
       "  }\n",
       "  th, td {\n",
       "    padding: 5px;\n",
       "  }\n",
       "  th {\n",
       "    text-align: left;\n",
       "  }\n",
       "</style><div class='table-result-container'><table class='table-result'><thead style='background-color: white'><tr><th>country</th><th>category</th><th>category_count</th></tr></thead><tbody><tr><td>Afghanistan</td><td>education</td><td>14</td></tr><tr><td>Albania</td><td>art</td><td>29</td></tr><tr><td>Algeria</td><td>quotes</td><td>38</td></tr><tr><td>American Samoa</td><td>tattoos</td><td>12</td></tr><tr><td>Andorra</td><td>tattoos</td><td>11</td></tr><tr><td>Angola</td><td>diy-and-crafts</td><td>4</td></tr><tr><td>Anguilla</td><td>diy-and-crafts</td><td>6</td></tr><tr><td>Antarctica (the territory South of 60 deg S)</td><td>tattoos</td><td>6</td></tr><tr><td>Antigua and Barbuda</td><td>art</td><td>4</td></tr><tr><td>Argentina</td><td>tattoos</td><td>11</td></tr><tr><td>Armenia</td><td>art</td><td>5</td></tr><tr><td>Aruba</td><td>christmas</td><td>11</td></tr><tr><td>Australia</td><td>christmas</td><td>3</td></tr><tr><td>Austria</td><td>travel</td><td>5</td></tr><tr><td>Azerbaijan</td><td>finance</td><td>9</td></tr><tr><td>Bahamas</td><td>event-planning</td><td>5</td></tr><tr><td>Bahrain</td><td>finance</td><td>4</td></tr><tr><td>Bangladesh</td><td>christmas</td><td>10</td></tr><tr><td>Barbados</td><td>education</td><td>5</td></tr><tr><td>Belarus</td><td>travel</td><td>2</td></tr><tr><td>Belgium</td><td>travel</td><td>2</td></tr><tr><td>Belize</td><td>diy-and-crafts</td><td>6</td></tr><tr><td>Benin</td><td>finance</td><td>2</td></tr><tr><td>Bermuda</td><td>christmas</td><td>4</td></tr><tr><td>Bhutan</td><td>diy-and-crafts</td><td>3</td></tr><tr><td>Bolivia</td><td>home-decor</td><td>7</td></tr><tr><td>Bosnia and Herzegovina</td><td>christmas</td><td>3</td></tr><tr><td>Botswana</td><td>art</td><td>2</td></tr><tr><td>Bouvet Island (Bouvetoya)</td><td>travel</td><td>4</td></tr><tr><td>Brazil</td><td>finance</td><td>2</td></tr><tr><td>British Indian Ocean Territory (Chagos Archipelago)</td><td>mens-fashion</td><td>2</td></tr><tr><td>British Virgin Islands</td><td>christmas</td><td>6</td></tr><tr><td>Brunei Darussalam</td><td>event-planning</td><td>3</td></tr><tr><td>Bulgaria</td><td>christmas</td><td>7</td></tr><tr><td>Burkina Faso</td><td>quotes</td><td>4</td></tr><tr><td>Burundi</td><td>mens-fashion</td><td>2</td></tr><tr><td>Cambodia</td><td>beauty</td><td>2</td></tr><tr><td>Cameroon</td><td>diy-and-crafts</td><td>2</td></tr><tr><td>Canada</td><td>travel</td><td>2</td></tr><tr><td>Cape Verde</td><td>event-planning</td><td>2</td></tr><tr><td>Cayman Islands</td><td>travel</td><td>1</td></tr><tr><td>Central African Republic</td><td>mens-fashion</td><td>3</td></tr><tr><td>Chad</td><td>diy-and-crafts</td><td>4</td></tr><tr><td>Chile</td><td>travel</td><td>2</td></tr><tr><td>China</td><td>finance</td><td>1</td></tr><tr><td>Christmas Island</td><td>event-planning</td><td>3</td></tr><tr><td>Cocos (Keeling) Islands</td><td>event-planning</td><td>2</td></tr><tr><td>Colombia</td><td>home-decor</td><td>3</td></tr><tr><td>Comoros</td><td>quotes</td><td>2</td></tr><tr><td>Congo</td><td>finance</td><td>3</td></tr><tr><td>Cook Islands</td><td>travel</td><td>1</td></tr><tr><td>Costa Rica</td><td>home-decor</td><td>3</td></tr><tr><td>Cote d'Ivoire</td><td>event-planning</td><td>3</td></tr><tr><td>Croatia</td><td>finance</td><td>4</td></tr><tr><td>Cuba</td><td>diy-and-crafts</td><td>2</td></tr><tr><td>Cyprus</td><td>home-decor</td><td>2</td></tr><tr><td>Czech Republic</td><td>travel</td><td>3</td></tr><tr><td>Denmark</td><td>mens-fashion</td><td>1</td></tr><tr><td>Djibouti</td><td>diy-and-crafts</td><td>3</td></tr><tr><td>Dominica</td><td>event-planning</td><td>2</td></tr><tr><td>Dominican Republic</td><td>finance</td><td>3</td></tr><tr><td>Ecuador</td><td>mens-fashion</td><td>2</td></tr><tr><td>Egypt</td><td>home-decor</td><td>3</td></tr><tr><td>El Salvador</td><td>travel</td><td>1</td></tr><tr><td>Equatorial Guinea</td><td>event-planning</td><td>1</td></tr><tr><td>Eritrea</td><td>art</td><td>1</td></tr><tr><td>Estonia</td><td>vehicles</td><td>2</td></tr><tr><td>Ethiopia</td><td>art</td><td>2</td></tr><tr><td>Falkland Islands (Malvinas)</td><td>home-decor</td><td>2</td></tr><tr><td>Faroe Islands</td><td>event-planning</td><td>2</td></tr><tr><td>Fiji</td><td>mens-fashion</td><td>2</td></tr><tr><td>Finland</td><td>beauty</td><td>2</td></tr><tr><td>France</td><td>art</td><td>2</td></tr><tr><td>French Guiana</td><td>art</td><td>1</td></tr><tr><td>French Polynesia</td><td>event-planning</td><td>4</td></tr><tr><td>French Southern Territories</td><td>art</td><td>1</td></tr><tr><td>Gabon</td><td>travel</td><td>2</td></tr><tr><td>Gambia</td><td>travel</td><td>1</td></tr><tr><td>Georgia</td><td>education</td><td>3</td></tr><tr><td>Germany</td><td>finance</td><td>2</td></tr><tr><td>Ghana</td><td>art</td><td>2</td></tr><tr><td>Gibraltar</td><td>mens-fashion</td><td>2</td></tr><tr><td>Greece</td><td>mens-fashion</td><td>2</td></tr><tr><td>Greenland</td><td>christmas</td><td>1</td></tr><tr><td>Grenada</td><td>quotes</td><td>2</td></tr><tr><td>Guadeloupe</td><td>christmas</td><td>2</td></tr><tr><td>Guam</td><td>travel</td><td>1</td></tr><tr><td>Guatemala</td><td>finance</td><td>1</td></tr><tr><td>Guernsey</td><td>tattoos</td><td>1</td></tr><tr><td>Guinea</td><td>christmas</td><td>1</td></tr><tr><td>Guinea-Bissau</td><td>travel</td><td>2</td></tr><tr><td>Guyana</td><td>tattoos</td><td>1</td></tr><tr><td>Haiti</td><td>home-decor</td><td>1</td></tr><tr><td>Heard Island and McDonald Islands</td><td>mens-fashion</td><td>2</td></tr><tr><td>Holy See (Vatican City State)</td><td>mens-fashion</td><td>1</td></tr><tr><td>Honduras</td><td>event-planning</td><td>2</td></tr><tr><td>Hong Kong</td><td>home-decor</td><td>2</td></tr><tr><td>Hungary</td><td>vehicles</td><td>3</td></tr><tr><td>Iceland</td><td>tattoos</td><td>1</td></tr><tr><td>India</td><td>beauty</td><td>2</td></tr><tr><td>Indonesia</td><td>finance</td><td>4</td></tr><tr><td>Iran</td><td>christmas</td><td>2</td></tr><tr><td>Iraq</td><td>christmas</td><td>1</td></tr><tr><td>Ireland</td><td>mens-fashion</td><td>1</td></tr><tr><td>Isle of Man</td><td>art</td><td>2</td></tr><tr><td>Israel</td><td>art</td><td>1</td></tr><tr><td>Italy</td><td>beauty</td><td>1</td></tr><tr><td>Jamaica</td><td>finance</td><td>2</td></tr><tr><td>Japan</td><td>art</td><td>2</td></tr><tr><td>Jersey</td><td>quotes</td><td>1</td></tr><tr><td>Jordan</td><td>vehicles</td><td>1</td></tr><tr><td>Kazakhstan</td><td>beauty</td><td>1</td></tr><tr><td>Kenya</td><td>diy-and-crafts</td><td>2</td></tr><tr><td>Kiribati</td><td>beauty</td><td>2</td></tr><tr><td>Korea</td><td>travel</td><td>2</td></tr><tr><td>Kuwait</td><td>christmas</td><td>2</td></tr><tr><td>Kyrgyz Republic</td><td>vehicles</td><td>1</td></tr><tr><td>Lao People's Democratic Republic</td><td>beauty</td><td>1</td></tr><tr><td>Latvia</td><td>home-decor</td><td>1</td></tr><tr><td>Lebanon</td><td>quotes</td><td>3</td></tr><tr><td>Lesotho</td><td>art</td><td>3</td></tr><tr><td>Liberia</td><td>beauty</td><td>1</td></tr><tr><td>Libyan Arab Jamahiriya</td><td>christmas</td><td>2</td></tr><tr><td>Liechtenstein</td><td>mens-fashion</td><td>2</td></tr><tr><td>Lithuania</td><td>diy-and-crafts</td><td>1</td></tr><tr><td>Luxembourg</td><td>education</td><td>1</td></tr><tr><td>Macao</td><td>mens-fashion</td><td>1</td></tr><tr><td>Macedonia</td><td>finance</td><td>1</td></tr><tr><td>Madagascar</td><td>mens-fashion</td><td>1</td></tr><tr><td>Malawi</td><td>travel</td><td>2</td></tr><tr><td>Maldives</td><td>event-planning</td><td>2</td></tr><tr><td>Mali</td><td>mens-fashion</td><td>1</td></tr><tr><td>Malta</td><td>beauty</td><td>4</td></tr><tr><td>Marshall Islands</td><td>vehicles</td><td>1</td></tr><tr><td>Martinique</td><td>art</td><td>1</td></tr><tr><td>Mauritania</td><td>christmas</td><td>1</td></tr><tr><td>Mauritius</td><td>quotes</td><td>1</td></tr><tr><td>Mayotte</td><td>christmas</td><td>1</td></tr><tr><td>Mexico</td><td>vehicles</td><td>2</td></tr><tr><td>Micronesia</td><td>christmas</td><td>1</td></tr><tr><td>Moldova</td><td>beauty</td><td>2</td></tr><tr><td>Monaco</td><td>art</td><td>2</td></tr><tr><td>Mongolia</td><td>travel</td><td>1</td></tr><tr><td>Montenegro</td><td>diy-and-crafts</td><td>1</td></tr><tr><td>Montserrat</td><td>education</td><td>1</td></tr><tr><td>Morocco</td><td>quotes</td><td>2</td></tr><tr><td>Mozambique</td><td>home-decor</td><td>2</td></tr><tr><td>Myanmar</td><td>christmas</td><td>1</td></tr><tr><td>Namibia</td><td>quotes</td><td>1</td></tr><tr><td>Nauru</td><td>beauty</td><td>3</td></tr><tr><td>Nepal</td><td>mens-fashion</td><td>1</td></tr><tr><td>Netherlands</td><td>home-decor</td><td>3</td></tr><tr><td>Netherlands Antilles</td><td>beauty</td><td>2</td></tr><tr><td>New Caledonia</td><td>travel</td><td>2</td></tr><tr><td>New Zealand</td><td>quotes</td><td>2</td></tr><tr><td>Nicaragua</td><td>mens-fashion</td><td>2</td></tr><tr><td>Niger</td><td>education</td><td>1</td></tr><tr><td>Nigeria</td><td>education</td><td>2</td></tr><tr><td>Niue</td><td>quotes</td><td>2</td></tr><tr><td>Norfolk Island</td><td>mens-fashion</td><td>1</td></tr><tr><td>Norway</td><td>art</td><td>1</td></tr><tr><td>Oman</td><td>beauty</td><td>1</td></tr><tr><td>Pakistan</td><td>vehicles</td><td>1</td></tr><tr><td>Palau</td><td>education</td><td>1</td></tr><tr><td>Palestinian Territory</td><td>vehicles</td><td>1</td></tr><tr><td>Panama</td><td>vehicles</td><td>2</td></tr><tr><td>Papua New Guinea</td><td>quotes</td><td>3</td></tr><tr><td>Paraguay</td><td>quotes</td><td>1</td></tr><tr><td>Peru</td><td>art</td><td>1</td></tr><tr><td>Philippines</td><td>vehicles</td><td>1</td></tr><tr><td>Pitcairn Islands</td><td>diy-and-crafts</td><td>2</td></tr><tr><td>Poland</td><td>event-planning</td><td>1</td></tr><tr><td>Portugal</td><td>event-planning</td><td>1</td></tr><tr><td>Puerto Rico</td><td>christmas</td><td>2</td></tr><tr><td>Qatar</td><td>beauty</td><td>2</td></tr><tr><td>Reunion</td><td>home-decor</td><td>1</td></tr><tr><td>Romania</td><td>tattoos</td><td>1</td></tr><tr><td>Russian Federation</td><td>home-decor</td><td>1</td></tr><tr><td>Rwanda</td><td>travel</td><td>1</td></tr><tr><td>Saint Barthelemy</td><td>mens-fashion</td><td>1</td></tr><tr><td>Saint Helena</td><td>art</td><td>1</td></tr><tr><td>Saint Kitts and Nevis</td><td>home-decor</td><td>1</td></tr><tr><td>Saint Lucia</td><td>education</td><td>1</td></tr><tr><td>Saint Martin</td><td>quotes</td><td>1</td></tr><tr><td>Saint Pierre and Miquelon</td><td>mens-fashion</td><td>3</td></tr><tr><td>Saint Vincent and the Grenadines</td><td>christmas</td><td>1</td></tr><tr><td>Samoa</td><td>finance</td><td>1</td></tr><tr><td>San Marino</td><td>home-decor</td><td>2</td></tr><tr><td>Sao Tome and Principe</td><td>tattoos</td><td>1</td></tr><tr><td>Saudi Arabia</td><td>finance</td><td>1</td></tr><tr><td>Senegal</td><td>beauty</td><td>1</td></tr><tr><td>Serbia</td><td>vehicles</td><td>1</td></tr><tr><td>Seychelles</td><td>beauty</td><td>2</td></tr><tr><td>Singapore</td><td>art</td><td>1</td></tr><tr><td>Slovakia (Slovak Republic)</td><td>vehicles</td><td>1</td></tr><tr><td>Slovenia</td><td>education</td><td>1</td></tr><tr><td>Solomon Islands</td><td>vehicles</td><td>3</td></tr><tr><td>Somalia</td><td>quotes</td><td>1</td></tr><tr><td>South Africa</td><td>vehicles</td><td>1</td></tr><tr><td>South Georgia and the South Sandwich Islands</td><td>vehicles</td><td>1</td></tr><tr><td>Sri Lanka</td><td>mens-fashion</td><td>1</td></tr><tr><td>Sudan</td><td>art</td><td>1</td></tr><tr><td>Suriname</td><td>event-planning</td><td>1</td></tr><tr><td>Svalbard & Jan Mayen Islands</td><td>travel</td><td>1</td></tr><tr><td>Swaziland</td><td>quotes</td><td>1</td></tr><tr><td>Sweden</td><td>finance</td><td>1</td></tr><tr><td>Switzerland</td><td>quotes</td><td>1</td></tr><tr><td>Taiwan</td><td>mens-fashion</td><td>1</td></tr><tr><td>Tajikistan</td><td>beauty</td><td>1</td></tr><tr><td>Tanzania</td><td>travel</td><td>1</td></tr><tr><td>Thailand</td><td>home-decor</td><td>1</td></tr><tr><td>Timor-Leste</td><td>travel</td><td>2</td></tr><tr><td>Togo</td><td>christmas</td><td>1</td></tr><tr><td>Tokelau</td><td>vehicles</td><td>1</td></tr><tr><td>Tonga</td><td>beauty</td><td>1</td></tr><tr><td>Trinidad and Tobago</td><td>christmas</td><td>1</td></tr><tr><td>Tunisia</td><td>diy-and-crafts</td><td>1</td></tr><tr><td>Turkey</td><td>education</td><td>2</td></tr><tr><td>Turkmenistan</td><td>diy-and-crafts</td><td>1</td></tr><tr><td>Turks and Caicos Islands</td><td>event-planning</td><td>1</td></tr><tr><td>Tuvalu</td><td>tattoos</td><td>1</td></tr><tr><td>Uganda</td><td>event-planning</td><td>3</td></tr><tr><td>Ukraine</td><td>beauty</td><td>1</td></tr><tr><td>United Kingdom</td><td>quotes</td><td>1</td></tr><tr><td>United States Minor Outlying Islands</td><td>vehicles</td><td>1</td></tr><tr><td>United States Virgin Islands</td><td>art</td><td>2</td></tr><tr><td>United States of America</td><td>education</td><td>1</td></tr><tr><td>Uzbekistan</td><td>quotes</td><td>1</td></tr><tr><td>Vanuatu</td><td>education</td><td>1</td></tr><tr><td>Venezuela</td><td>diy-and-crafts</td><td>1</td></tr><tr><td>Vietnam</td><td>travel</td><td>1</td></tr><tr><td>Wallis and Futuna</td><td>home-decor</td><td>1</td></tr><tr><td>Western Sahara</td><td>travel</td><td>1</td></tr><tr><td>Yemen</td><td>christmas</td><td>1</td></tr><tr><td>Zambia</td><td>mens-fashion</td><td>1</td></tr></tbody></table></div>"
      ]
     },
     "metadata": {
      "application/vnd.databricks.v1+output": {
       "addedWidgets": {},
       "aggData": [],
       "aggError": "",
       "aggOverflow": false,
       "aggSchema": [],
       "aggSeriesLimitReached": false,
       "aggType": "",
       "arguments": {},
       "columnCustomDisplayInfos": {},
       "data": [
        [
         "Afghanistan",
         "education",
         14
        ],
        [
         "Albania",
         "art",
         29
        ],
        [
         "Algeria",
         "quotes",
         38
        ],
        [
         "American Samoa",
         "tattoos",
         12
        ],
        [
         "Andorra",
         "tattoos",
         11
        ],
        [
         "Angola",
         "diy-and-crafts",
         4
        ],
        [
         "Anguilla",
         "diy-and-crafts",
         6
        ],
        [
         "Antarctica (the territory South of 60 deg S)",
         "tattoos",
         6
        ],
        [
         "Antigua and Barbuda",
         "art",
         4
        ],
        [
         "Argentina",
         "tattoos",
         11
        ],
        [
         "Armenia",
         "art",
         5
        ],
        [
         "Aruba",
         "christmas",
         11
        ],
        [
         "Australia",
         "christmas",
         3
        ],
        [
         "Austria",
         "travel",
         5
        ],
        [
         "Azerbaijan",
         "finance",
         9
        ],
        [
         "Bahamas",
         "event-planning",
         5
        ],
        [
         "Bahrain",
         "finance",
         4
        ],
        [
         "Bangladesh",
         "christmas",
         10
        ],
        [
         "Barbados",
         "education",
         5
        ],
        [
         "Belarus",
         "travel",
         2
        ],
        [
         "Belgium",
         "travel",
         2
        ],
        [
         "Belize",
         "diy-and-crafts",
         6
        ],
        [
         "Benin",
         "finance",
         2
        ],
        [
         "Bermuda",
         "christmas",
         4
        ],
        [
         "Bhutan",
         "diy-and-crafts",
         3
        ],
        [
         "Bolivia",
         "home-decor",
         7
        ],
        [
         "Bosnia and Herzegovina",
         "christmas",
         3
        ],
        [
         "Botswana",
         "art",
         2
        ],
        [
         "Bouvet Island (Bouvetoya)",
         "travel",
         4
        ],
        [
         "Brazil",
         "finance",
         2
        ],
        [
         "British Indian Ocean Territory (Chagos Archipelago)",
         "mens-fashion",
         2
        ],
        [
         "British Virgin Islands",
         "christmas",
         6
        ],
        [
         "Brunei Darussalam",
         "event-planning",
         3
        ],
        [
         "Bulgaria",
         "christmas",
         7
        ],
        [
         "Burkina Faso",
         "quotes",
         4
        ],
        [
         "Burundi",
         "mens-fashion",
         2
        ],
        [
         "Cambodia",
         "beauty",
         2
        ],
        [
         "Cameroon",
         "diy-and-crafts",
         2
        ],
        [
         "Canada",
         "travel",
         2
        ],
        [
         "Cape Verde",
         "event-planning",
         2
        ],
        [
         "Cayman Islands",
         "travel",
         1
        ],
        [
         "Central African Republic",
         "mens-fashion",
         3
        ],
        [
         "Chad",
         "diy-and-crafts",
         4
        ],
        [
         "Chile",
         "travel",
         2
        ],
        [
         "China",
         "finance",
         1
        ],
        [
         "Christmas Island",
         "event-planning",
         3
        ],
        [
         "Cocos (Keeling) Islands",
         "event-planning",
         2
        ],
        [
         "Colombia",
         "home-decor",
         3
        ],
        [
         "Comoros",
         "quotes",
         2
        ],
        [
         "Congo",
         "finance",
         3
        ],
        [
         "Cook Islands",
         "travel",
         1
        ],
        [
         "Costa Rica",
         "home-decor",
         3
        ],
        [
         "Cote d'Ivoire",
         "event-planning",
         3
        ],
        [
         "Croatia",
         "finance",
         4
        ],
        [
         "Cuba",
         "diy-and-crafts",
         2
        ],
        [
         "Cyprus",
         "home-decor",
         2
        ],
        [
         "Czech Republic",
         "travel",
         3
        ],
        [
         "Denmark",
         "mens-fashion",
         1
        ],
        [
         "Djibouti",
         "diy-and-crafts",
         3
        ],
        [
         "Dominica",
         "event-planning",
         2
        ],
        [
         "Dominican Republic",
         "finance",
         3
        ],
        [
         "Ecuador",
         "mens-fashion",
         2
        ],
        [
         "Egypt",
         "home-decor",
         3
        ],
        [
         "El Salvador",
         "travel",
         1
        ],
        [
         "Equatorial Guinea",
         "event-planning",
         1
        ],
        [
         "Eritrea",
         "art",
         1
        ],
        [
         "Estonia",
         "vehicles",
         2
        ],
        [
         "Ethiopia",
         "art",
         2
        ],
        [
         "Falkland Islands (Malvinas)",
         "home-decor",
         2
        ],
        [
         "Faroe Islands",
         "event-planning",
         2
        ],
        [
         "Fiji",
         "mens-fashion",
         2
        ],
        [
         "Finland",
         "beauty",
         2
        ],
        [
         "France",
         "art",
         2
        ],
        [
         "French Guiana",
         "art",
         1
        ],
        [
         "French Polynesia",
         "event-planning",
         4
        ],
        [
         "French Southern Territories",
         "art",
         1
        ],
        [
         "Gabon",
         "travel",
         2
        ],
        [
         "Gambia",
         "travel",
         1
        ],
        [
         "Georgia",
         "education",
         3
        ],
        [
         "Germany",
         "finance",
         2
        ],
        [
         "Ghana",
         "art",
         2
        ],
        [
         "Gibraltar",
         "mens-fashion",
         2
        ],
        [
         "Greece",
         "mens-fashion",
         2
        ],
        [
         "Greenland",
         "christmas",
         1
        ],
        [
         "Grenada",
         "quotes",
         2
        ],
        [
         "Guadeloupe",
         "christmas",
         2
        ],
        [
         "Guam",
         "travel",
         1
        ],
        [
         "Guatemala",
         "finance",
         1
        ],
        [
         "Guernsey",
         "tattoos",
         1
        ],
        [
         "Guinea",
         "christmas",
         1
        ],
        [
         "Guinea-Bissau",
         "travel",
         2
        ],
        [
         "Guyana",
         "tattoos",
         1
        ],
        [
         "Haiti",
         "home-decor",
         1
        ],
        [
         "Heard Island and McDonald Islands",
         "mens-fashion",
         2
        ],
        [
         "Holy See (Vatican City State)",
         "mens-fashion",
         1
        ],
        [
         "Honduras",
         "event-planning",
         2
        ],
        [
         "Hong Kong",
         "home-decor",
         2
        ],
        [
         "Hungary",
         "vehicles",
         3
        ],
        [
         "Iceland",
         "tattoos",
         1
        ],
        [
         "India",
         "beauty",
         2
        ],
        [
         "Indonesia",
         "finance",
         4
        ],
        [
         "Iran",
         "christmas",
         2
        ],
        [
         "Iraq",
         "christmas",
         1
        ],
        [
         "Ireland",
         "mens-fashion",
         1
        ],
        [
         "Isle of Man",
         "art",
         2
        ],
        [
         "Israel",
         "art",
         1
        ],
        [
         "Italy",
         "beauty",
         1
        ],
        [
         "Jamaica",
         "finance",
         2
        ],
        [
         "Japan",
         "art",
         2
        ],
        [
         "Jersey",
         "quotes",
         1
        ],
        [
         "Jordan",
         "vehicles",
         1
        ],
        [
         "Kazakhstan",
         "beauty",
         1
        ],
        [
         "Kenya",
         "diy-and-crafts",
         2
        ],
        [
         "Kiribati",
         "beauty",
         2
        ],
        [
         "Korea",
         "travel",
         2
        ],
        [
         "Kuwait",
         "christmas",
         2
        ],
        [
         "Kyrgyz Republic",
         "vehicles",
         1
        ],
        [
         "Lao People's Democratic Republic",
         "beauty",
         1
        ],
        [
         "Latvia",
         "home-decor",
         1
        ],
        [
         "Lebanon",
         "quotes",
         3
        ],
        [
         "Lesotho",
         "art",
         3
        ],
        [
         "Liberia",
         "beauty",
         1
        ],
        [
         "Libyan Arab Jamahiriya",
         "christmas",
         2
        ],
        [
         "Liechtenstein",
         "mens-fashion",
         2
        ],
        [
         "Lithuania",
         "diy-and-crafts",
         1
        ],
        [
         "Luxembourg",
         "education",
         1
        ],
        [
         "Macao",
         "mens-fashion",
         1
        ],
        [
         "Macedonia",
         "finance",
         1
        ],
        [
         "Madagascar",
         "mens-fashion",
         1
        ],
        [
         "Malawi",
         "travel",
         2
        ],
        [
         "Maldives",
         "event-planning",
         2
        ],
        [
         "Mali",
         "mens-fashion",
         1
        ],
        [
         "Malta",
         "beauty",
         4
        ],
        [
         "Marshall Islands",
         "vehicles",
         1
        ],
        [
         "Martinique",
         "art",
         1
        ],
        [
         "Mauritania",
         "christmas",
         1
        ],
        [
         "Mauritius",
         "quotes",
         1
        ],
        [
         "Mayotte",
         "christmas",
         1
        ],
        [
         "Mexico",
         "vehicles",
         2
        ],
        [
         "Micronesia",
         "christmas",
         1
        ],
        [
         "Moldova",
         "beauty",
         2
        ],
        [
         "Monaco",
         "art",
         2
        ],
        [
         "Mongolia",
         "travel",
         1
        ],
        [
         "Montenegro",
         "diy-and-crafts",
         1
        ],
        [
         "Montserrat",
         "education",
         1
        ],
        [
         "Morocco",
         "quotes",
         2
        ],
        [
         "Mozambique",
         "home-decor",
         2
        ],
        [
         "Myanmar",
         "christmas",
         1
        ],
        [
         "Namibia",
         "quotes",
         1
        ],
        [
         "Nauru",
         "beauty",
         3
        ],
        [
         "Nepal",
         "mens-fashion",
         1
        ],
        [
         "Netherlands",
         "home-decor",
         3
        ],
        [
         "Netherlands Antilles",
         "beauty",
         2
        ],
        [
         "New Caledonia",
         "travel",
         2
        ],
        [
         "New Zealand",
         "quotes",
         2
        ],
        [
         "Nicaragua",
         "mens-fashion",
         2
        ],
        [
         "Niger",
         "education",
         1
        ],
        [
         "Nigeria",
         "education",
         2
        ],
        [
         "Niue",
         "quotes",
         2
        ],
        [
         "Norfolk Island",
         "mens-fashion",
         1
        ],
        [
         "Norway",
         "art",
         1
        ],
        [
         "Oman",
         "beauty",
         1
        ],
        [
         "Pakistan",
         "vehicles",
         1
        ],
        [
         "Palau",
         "education",
         1
        ],
        [
         "Palestinian Territory",
         "vehicles",
         1
        ],
        [
         "Panama",
         "vehicles",
         2
        ],
        [
         "Papua New Guinea",
         "quotes",
         3
        ],
        [
         "Paraguay",
         "quotes",
         1
        ],
        [
         "Peru",
         "art",
         1
        ],
        [
         "Philippines",
         "vehicles",
         1
        ],
        [
         "Pitcairn Islands",
         "diy-and-crafts",
         2
        ],
        [
         "Poland",
         "event-planning",
         1
        ],
        [
         "Portugal",
         "event-planning",
         1
        ],
        [
         "Puerto Rico",
         "christmas",
         2
        ],
        [
         "Qatar",
         "beauty",
         2
        ],
        [
         "Reunion",
         "home-decor",
         1
        ],
        [
         "Romania",
         "tattoos",
         1
        ],
        [
         "Russian Federation",
         "home-decor",
         1
        ],
        [
         "Rwanda",
         "travel",
         1
        ],
        [
         "Saint Barthelemy",
         "mens-fashion",
         1
        ],
        [
         "Saint Helena",
         "art",
         1
        ],
        [
         "Saint Kitts and Nevis",
         "home-decor",
         1
        ],
        [
         "Saint Lucia",
         "education",
         1
        ],
        [
         "Saint Martin",
         "quotes",
         1
        ],
        [
         "Saint Pierre and Miquelon",
         "mens-fashion",
         3
        ],
        [
         "Saint Vincent and the Grenadines",
         "christmas",
         1
        ],
        [
         "Samoa",
         "finance",
         1
        ],
        [
         "San Marino",
         "home-decor",
         2
        ],
        [
         "Sao Tome and Principe",
         "tattoos",
         1
        ],
        [
         "Saudi Arabia",
         "finance",
         1
        ],
        [
         "Senegal",
         "beauty",
         1
        ],
        [
         "Serbia",
         "vehicles",
         1
        ],
        [
         "Seychelles",
         "beauty",
         2
        ],
        [
         "Singapore",
         "art",
         1
        ],
        [
         "Slovakia (Slovak Republic)",
         "vehicles",
         1
        ],
        [
         "Slovenia",
         "education",
         1
        ],
        [
         "Solomon Islands",
         "vehicles",
         3
        ],
        [
         "Somalia",
         "quotes",
         1
        ],
        [
         "South Africa",
         "vehicles",
         1
        ],
        [
         "South Georgia and the South Sandwich Islands",
         "vehicles",
         1
        ],
        [
         "Sri Lanka",
         "mens-fashion",
         1
        ],
        [
         "Sudan",
         "art",
         1
        ],
        [
         "Suriname",
         "event-planning",
         1
        ],
        [
         "Svalbard & Jan Mayen Islands",
         "travel",
         1
        ],
        [
         "Swaziland",
         "quotes",
         1
        ],
        [
         "Sweden",
         "finance",
         1
        ],
        [
         "Switzerland",
         "quotes",
         1
        ],
        [
         "Taiwan",
         "mens-fashion",
         1
        ],
        [
         "Tajikistan",
         "beauty",
         1
        ],
        [
         "Tanzania",
         "travel",
         1
        ],
        [
         "Thailand",
         "home-decor",
         1
        ],
        [
         "Timor-Leste",
         "travel",
         2
        ],
        [
         "Togo",
         "christmas",
         1
        ],
        [
         "Tokelau",
         "vehicles",
         1
        ],
        [
         "Tonga",
         "beauty",
         1
        ],
        [
         "Trinidad and Tobago",
         "christmas",
         1
        ],
        [
         "Tunisia",
         "diy-and-crafts",
         1
        ],
        [
         "Turkey",
         "education",
         2
        ],
        [
         "Turkmenistan",
         "diy-and-crafts",
         1
        ],
        [
         "Turks and Caicos Islands",
         "event-planning",
         1
        ],
        [
         "Tuvalu",
         "tattoos",
         1
        ],
        [
         "Uganda",
         "event-planning",
         3
        ],
        [
         "Ukraine",
         "beauty",
         1
        ],
        [
         "United Kingdom",
         "quotes",
         1
        ],
        [
         "United States Minor Outlying Islands",
         "vehicles",
         1
        ],
        [
         "United States Virgin Islands",
         "art",
         2
        ],
        [
         "United States of America",
         "education",
         1
        ],
        [
         "Uzbekistan",
         "quotes",
         1
        ],
        [
         "Vanuatu",
         "education",
         1
        ],
        [
         "Venezuela",
         "diy-and-crafts",
         1
        ],
        [
         "Vietnam",
         "travel",
         1
        ],
        [
         "Wallis and Futuna",
         "home-decor",
         1
        ],
        [
         "Western Sahara",
         "travel",
         1
        ],
        [
         "Yemen",
         "christmas",
         1
        ],
        [
         "Zambia",
         "mens-fashion",
         1
        ]
       ],
       "datasetInfos": [],
       "dbfsResultPath": null,
       "isJsonSchema": true,
       "metadata": {},
       "overflow": false,
       "plotOptions": {
        "customPlotOptions": {},
        "displayType": "table",
        "pivotAggregation": null,
        "pivotColumns": null,
        "xColumns": null,
        "yColumns": null
       },
       "removedWidgets": [],
       "schema": [
        {
         "metadata": "{}",
         "name": "country",
         "type": "\"string\""
        },
        {
         "metadata": "{}",
         "name": "category",
         "type": "\"string\""
        },
        {
         "metadata": "{}",
         "name": "category_count",
         "type": "\"long\""
        }
       ],
       "type": "table"
      }
     },
     "output_type": "display_data"
    }
   ],
   "source": [
    "from pyspark.sql.functions import col, row_number \n",
    "from pyspark.sql.window import Window \n",
    "\n",
    "# Join dataframes df_pin and df_geo to obtain necessary columns in one table\n",
    "df_pin_geo = df_pin.join(df_geo, df_pin[\"ind\"] == df_geo[\"ind\"], how=\"inner\")\n",
    "\n",
    "# Group by country and category, then find the max count for each group \n",
    "cat_count = df_pin_geo.groupBy(\"country\", \"category\").agg(count(\"category\").alias(\"count\"))\n",
    "result = cat_count.groupBy(\"country\", \"category\").agg(max(\"count\").alias(\"category_count\")) \n",
    "\n",
    "# Use window function to get the row_number for each partition (county).\n",
    "windowSpec = Window.partitionBy(\"country\").orderBy(col(\"category_count\").desc())\n",
    "final_result = result.withColumn(\"rank\", row_number().over(windowSpec)).filter(col(\"rank\") == 1).drop(\"rank\")\n",
    "\n",
    "# Show the final result \n",
    "display(final_result)"
   ]
  },
  {
   "cell_type": "code",
   "execution_count": null,
   "metadata": {
    "application/vnd.databricks.v1+cell": {
     "cellMetadata": {
      "byteLimit": 2048000,
      "rowLimit": 10000
     },
     "inputWidgets": {},
     "nuid": "9b5e8289-5aec-463d-b185-4d36ac753264",
     "showTitle": false,
     "title": ""
    }
   },
   "outputs": [
    {
     "data": {
      "text/html": [
       "<style scoped>\n",
       "  .ansiout {\n",
       "    display: block;\n",
       "    unicode-bidi: embed;\n",
       "    white-space: pre-wrap;\n",
       "    word-wrap: break-word;\n",
       "    word-break: break-all;\n",
       "    font-family: \"Menlo\", \"Monaco\", \"Consolas\", \"Ubuntu Mono\", \"Source Code Pro\", monospace;\n",
       "    font-size: 13px;\n",
       "    color: #555;\n",
       "    margin-left: 4px;\n",
       "    line-height: 19px;\n",
       "  }\n",
       "</style>\n",
       "<div class=\"ansiout\"></div>"
      ]
     },
     "metadata": {
      "application/vnd.databricks.v1+output": {
       "addedWidgets": {},
       "arguments": {},
       "data": "<div class=\"ansiout\"></div>",
       "datasetInfos": [],
       "metadata": {},
       "removedWidgets": [],
       "type": "html"
      }
     },
     "output_type": "display_data"
    }
   ],
   "source": [
    "# MILE 7. TASK 5. The most popular category each year."
   ]
  },
  {
   "cell_type": "code",
   "execution_count": null,
   "metadata": {
    "application/vnd.databricks.v1+cell": {
     "cellMetadata": {
      "byteLimit": 2048000,
      "rowLimit": 10000
     },
     "inputWidgets": {},
     "nuid": "ab5fd444-ed2f-4242-a05e-76690430d2b7",
     "showTitle": false,
     "title": ""
    }
   },
   "outputs": [
    {
     "data": {
      "text/html": [
       "<style scoped>\n",
       "  .table-result-container {\n",
       "    max-height: 300px;\n",
       "    overflow: auto;\n",
       "  }\n",
       "  table, th, td {\n",
       "    border: 1px solid black;\n",
       "    border-collapse: collapse;\n",
       "  }\n",
       "  th, td {\n",
       "    padding: 5px;\n",
       "  }\n",
       "  th {\n",
       "    text-align: left;\n",
       "  }\n",
       "</style><div class='table-result-container'><table class='table-result'><thead style='background-color: white'><tr><th>category</th><th>post_year</th><th>category_count</th></tr></thead><tbody><tr><td>vehicles</td><td>2017</td><td>31</td></tr><tr><td>event-planning</td><td>2017</td><td>30</td></tr><tr><td>finance</td><td>2017</td><td>28</td></tr><tr><td>christmas</td><td>2017</td><td>27</td></tr><tr><td>mens-fashion</td><td>2017</td><td>26</td></tr><tr><td>beauty</td><td>2017</td><td>21</td></tr><tr><td>home-decor</td><td>2017</td><td>20</td></tr><tr><td>education</td><td>2017</td><td>18</td></tr><tr><td>travel</td><td>2017</td><td>17</td></tr><tr><td>art</td><td>2017</td><td>16</td></tr><tr><td>quotes</td><td>2017</td><td>14</td></tr><tr><td>tattoos</td><td>2017</td><td>14</td></tr><tr><td>diy-and-crafts</td><td>2017</td><td>13</td></tr><tr><td>christmas</td><td>2016</td><td>80</td></tr><tr><td>travel</td><td>2016</td><td>78</td></tr><tr><td>mens-fashion</td><td>2016</td><td>77</td></tr><tr><td>vehicles</td><td>2016</td><td>66</td></tr><tr><td>beauty</td><td>2016</td><td>64</td></tr><tr><td>home-decor</td><td>2016</td><td>62</td></tr><tr><td>diy-and-crafts</td><td>2016</td><td>62</td></tr><tr><td>finance</td><td>2016</td><td>60</td></tr><tr><td>event-planning</td><td>2016</td><td>58</td></tr><tr><td>art</td><td>2016</td><td>58</td></tr><tr><td>quotes</td><td>2016</td><td>48</td></tr><tr><td>education</td><td>2016</td><td>41</td></tr><tr><td>tattoos</td><td>2016</td><td>33</td></tr></tbody></table></div>"
      ]
     },
     "metadata": {
      "application/vnd.databricks.v1+output": {
       "addedWidgets": {},
       "aggData": [],
       "aggError": "",
       "aggOverflow": false,
       "aggSchema": [],
       "aggSeriesLimitReached": false,
       "aggType": "",
       "arguments": {},
       "columnCustomDisplayInfos": {},
       "data": [
        [
         "vehicles",
         2017,
         31
        ],
        [
         "event-planning",
         2017,
         30
        ],
        [
         "finance",
         2017,
         28
        ],
        [
         "christmas",
         2017,
         27
        ],
        [
         "mens-fashion",
         2017,
         26
        ],
        [
         "beauty",
         2017,
         21
        ],
        [
         "home-decor",
         2017,
         20
        ],
        [
         "education",
         2017,
         18
        ],
        [
         "travel",
         2017,
         17
        ],
        [
         "art",
         2017,
         16
        ],
        [
         "quotes",
         2017,
         14
        ],
        [
         "tattoos",
         2017,
         14
        ],
        [
         "diy-and-crafts",
         2017,
         13
        ],
        [
         "christmas",
         2016,
         80
        ],
        [
         "travel",
         2016,
         78
        ],
        [
         "mens-fashion",
         2016,
         77
        ],
        [
         "vehicles",
         2016,
         66
        ],
        [
         "beauty",
         2016,
         64
        ],
        [
         "home-decor",
         2016,
         62
        ],
        [
         "diy-and-crafts",
         2016,
         62
        ],
        [
         "finance",
         2016,
         60
        ],
        [
         "event-planning",
         2016,
         58
        ],
        [
         "art",
         2016,
         58
        ],
        [
         "quotes",
         2016,
         48
        ],
        [
         "education",
         2016,
         41
        ],
        [
         "tattoos",
         2016,
         33
        ]
       ],
       "datasetInfos": [],
       "dbfsResultPath": null,
       "isJsonSchema": true,
       "metadata": {},
       "overflow": false,
       "plotOptions": {
        "customPlotOptions": {},
        "displayType": "table",
        "pivotAggregation": null,
        "pivotColumns": null,
        "xColumns": null,
        "yColumns": null
       },
       "removedWidgets": [],
       "schema": [
        {
         "metadata": "{}",
         "name": "category",
         "type": "\"string\""
        },
        {
         "metadata": "{}",
         "name": "post_year",
         "type": "\"integer\""
        },
        {
         "metadata": "{}",
         "name": "category_count",
         "type": "\"long\""
        }
       ],
       "type": "table"
      }
     },
     "output_type": "display_data"
    }
   ],
   "source": [
    "from pyspark.sql.functions import year\n",
    "\n",
    "# Join dataframes df_pin and df_user to obtain necessary columns in one table\n",
    "df_pin_user = df_pin.join(df_user, df_pin[\"ind\"] == df_user[\"ind\"], how=\"inner\")\n",
    "\n",
    "# Filter data between 2016 and 2018 (data reached only max to 2018)\n",
    "filtered_df = df_pin_user.filter((year(df_pin_user[\"date_joined\"]) >= 2016) & (year(df_pin_user[\"date_joined\"]) <= 2018))\n",
    "\n",
    "# Extract year from the timestamp column\n",
    "filtered_df = filtered_df.withColumn(\"post_year\", year(filtered_df[\"date_joined\"]))\n",
    "\n",
    "# Group by 'category' and 'post_year', count the number of posts\n",
    "result = filtered_df.groupBy(\"category\", \"post_year\").count()\n",
    "result = result.orderBy(col(\"post_year\").desc(), col(\"count\").desc())\n",
    "result = result.withColumnRenamed(\"count\", \"category_count\")\n",
    "\n",
    "# Display the resulting DataFrame\n",
    "display(result)\n"
   ]
  },
  {
   "cell_type": "code",
   "execution_count": null,
   "metadata": {
    "application/vnd.databricks.v1+cell": {
     "cellMetadata": {
      "byteLimit": 2048000,
      "rowLimit": 10000
     },
     "inputWidgets": {},
     "nuid": "e2376983-6e8b-4600-8026-a32c4fa00b6d",
     "showTitle": false,
     "title": ""
    }
   },
   "outputs": [
    {
     "data": {
      "text/html": [
       "<style scoped>\n",
       "  .ansiout {\n",
       "    display: block;\n",
       "    unicode-bidi: embed;\n",
       "    white-space: pre-wrap;\n",
       "    word-wrap: break-word;\n",
       "    word-break: break-all;\n",
       "    font-family: \"Menlo\", \"Monaco\", \"Consolas\", \"Ubuntu Mono\", \"Source Code Pro\", monospace;\n",
       "    font-size: 13px;\n",
       "    color: #555;\n",
       "    margin-left: 4px;\n",
       "    line-height: 19px;\n",
       "  }\n",
       "</style>\n",
       "<div class=\"ansiout\"></div>"
      ]
     },
     "metadata": {
      "application/vnd.databricks.v1+output": {
       "addedWidgets": {},
       "arguments": {},
       "data": "<div class=\"ansiout\"></div>",
       "datasetInfos": [],
       "metadata": {},
       "removedWidgets": [],
       "type": "html"
      }
     },
     "output_type": "display_data"
    }
   ],
   "source": [
    "# MILE 7. TASK 6. User with the most fallowers in each country."
   ]
  },
  {
   "cell_type": "code",
   "execution_count": null,
   "metadata": {
    "application/vnd.databricks.v1+cell": {
     "cellMetadata": {
      "byteLimit": 2048000,
      "rowLimit": 10000
     },
     "inputWidgets": {},
     "nuid": "788378cb-df9b-4abb-9c5f-a07da4de56f9",
     "showTitle": false,
     "title": ""
    }
   },
   "outputs": [
    {
     "data": {
      "text/html": [
       "<style scoped>\n",
       "  .table-result-container {\n",
       "    max-height: 300px;\n",
       "    overflow: auto;\n",
       "  }\n",
       "  table, th, td {\n",
       "    border: 1px solid black;\n",
       "    border-collapse: collapse;\n",
       "  }\n",
       "  th, td {\n",
       "    padding: 5px;\n",
       "  }\n",
       "  th {\n",
       "    text-align: left;\n",
       "  }\n",
       "</style><div class='table-result-container'><table class='table-result'><thead style='background-color: white'><tr><th>country</th><th>follower_count</th></tr></thead><tbody><tr><td>Anguilla</td><td>15000000</td></tr></tbody></table></div>"
      ]
     },
     "metadata": {
      "application/vnd.databricks.v1+output": {
       "addedWidgets": {},
       "aggData": [],
       "aggError": "",
       "aggOverflow": false,
       "aggSchema": [],
       "aggSeriesLimitReached": false,
       "aggType": "",
       "arguments": {},
       "columnCustomDisplayInfos": {},
       "data": [
        [
         "Anguilla",
         15000000
        ]
       ],
       "datasetInfos": [],
       "dbfsResultPath": null,
       "isJsonSchema": true,
       "metadata": {},
       "overflow": false,
       "plotOptions": {
        "customPlotOptions": {},
        "displayType": "table",
        "pivotAggregation": null,
        "pivotColumns": null,
        "xColumns": null,
        "yColumns": null
       },
       "removedWidgets": [],
       "schema": [
        {
         "metadata": "{}",
         "name": "country",
         "type": "\"string\""
        },
        {
         "metadata": "{}",
         "name": "follower_count",
         "type": "\"integer\""
        }
       ],
       "type": "table"
      }
     },
     "output_type": "display_data"
    }
   ],
   "source": [
    "# STEP 1.\n",
    "# Group by country and category, then find the max count for each group \n",
    "follower_df = df_pin_geo.select(\"country\",\"poster_name\", \"follower_count\")\n",
    "max_followers = follower_df.orderBy(col(\"follower_count\").desc())\n",
    "\n",
    "# STEP 2.\n",
    "# Find the country with the greatest follower count. Use limit() to return a new DataFrame.\n",
    "max_followers = max_followers.drop(\"poster_name\")\n",
    "result = max_followers.limit(1)\n",
    "display(result)"
   ]
  },
  {
   "cell_type": "code",
   "execution_count": null,
   "metadata": {
    "application/vnd.databricks.v1+cell": {
     "cellMetadata": {
      "byteLimit": 2048000,
      "rowLimit": 10000
     },
     "inputWidgets": {},
     "nuid": "a924c3e4-ce2a-4ad8-adf2-56548d135ff5",
     "showTitle": false,
     "title": ""
    }
   },
   "outputs": [
    {
     "data": {
      "text/html": [
       "<style scoped>\n",
       "  .ansiout {\n",
       "    display: block;\n",
       "    unicode-bidi: embed;\n",
       "    white-space: pre-wrap;\n",
       "    word-wrap: break-word;\n",
       "    word-break: break-all;\n",
       "    font-family: \"Menlo\", \"Monaco\", \"Consolas\", \"Ubuntu Mono\", \"Source Code Pro\", monospace;\n",
       "    font-size: 13px;\n",
       "    color: #555;\n",
       "    margin-left: 4px;\n",
       "    line-height: 19px;\n",
       "  }\n",
       "</style>\n",
       "<div class=\"ansiout\"></div>"
      ]
     },
     "metadata": {
      "application/vnd.databricks.v1+output": {
       "addedWidgets": {},
       "arguments": {},
       "data": "<div class=\"ansiout\"></div>",
       "datasetInfos": [],
       "metadata": {},
       "removedWidgets": [],
       "type": "html"
      }
     },
     "output_type": "display_data"
    }
   ],
   "source": [
    "# MILE 7. TASK 7. The most popular category for different age groups."
   ]
  },
  {
   "cell_type": "code",
   "execution_count": null,
   "metadata": {
    "application/vnd.databricks.v1+cell": {
     "cellMetadata": {
      "byteLimit": 2048000,
      "rowLimit": 10000
     },
     "inputWidgets": {},
     "nuid": "8a645417-3e82-4c59-b87d-9b7bd1c65a26",
     "showTitle": false,
     "title": ""
    }
   },
   "outputs": [
    {
     "data": {
      "text/html": [
       "<style scoped>\n",
       "  .table-result-container {\n",
       "    max-height: 300px;\n",
       "    overflow: auto;\n",
       "  }\n",
       "  table, th, td {\n",
       "    border: 1px solid black;\n",
       "    border-collapse: collapse;\n",
       "  }\n",
       "  th, td {\n",
       "    padding: 5px;\n",
       "  }\n",
       "  th {\n",
       "    text-align: left;\n",
       "  }\n",
       "</style><div class='table-result-container'><table class='table-result'><thead style='background-color: white'><tr><th>age_group</th><th>category</th><th>category_count</th></tr></thead><tbody><tr><td>18-24</td><td>tattoos</td><td>88</td></tr><tr><td>25-35</td><td>christmas</td><td>55</td></tr><tr><td>36-50</td><td>finance</td><td>40</td></tr><tr><td>50+</td><td>vehicles</td><td>21</td></tr></tbody></table></div>"
      ]
     },
     "metadata": {
      "application/vnd.databricks.v1+output": {
       "addedWidgets": {},
       "aggData": [],
       "aggError": "",
       "aggOverflow": false,
       "aggSchema": [],
       "aggSeriesLimitReached": false,
       "aggType": "",
       "arguments": {},
       "columnCustomDisplayInfos": {},
       "data": [
        [
         "18-24",
         "tattoos",
         88
        ],
        [
         "25-35",
         "christmas",
         55
        ],
        [
         "36-50",
         "finance",
         40
        ],
        [
         "50+",
         "vehicles",
         21
        ]
       ],
       "datasetInfos": [],
       "dbfsResultPath": null,
       "isJsonSchema": true,
       "metadata": {},
       "overflow": false,
       "plotOptions": {
        "customPlotOptions": {},
        "displayType": "table",
        "pivotAggregation": null,
        "pivotColumns": null,
        "xColumns": null,
        "yColumns": null
       },
       "removedWidgets": [],
       "schema": [
        {
         "metadata": "{}",
         "name": "age_group",
         "type": "\"string\""
        },
        {
         "metadata": "{}",
         "name": "category",
         "type": "\"string\""
        },
        {
         "metadata": "{}",
         "name": "category_count",
         "type": "\"long\""
        }
       ],
       "type": "table"
      }
     },
     "output_type": "display_data"
    }
   ],
   "source": [
    "from pyspark.sql.functions import udf\n",
    "\n",
    "# Use udf function and withColumn to create a new column with age ranges based on \"age\" column.\n",
    "age_group = udf(lambda age: '18-24' if age >= 18 and age <= 24 else              # No users <18\n",
    "                       '25-35' if (age >= 25 and age <= 35) else\n",
    "                       '36-50' if (age >= 36 and age <= 50) else\n",
    "                       '50+' if (age > 50) else '')\n",
    "\n",
    "df_age_group = df_pin_user.withColumn(\"age_group\", age_group(df_pin_user.age))\n",
    "\n",
    "# Group by age_group and category, then find the max count for each group\n",
    "category_count = df_age_group.groupBy(\"age_group\", \"category\").agg(count(\"category\").alias(\"category_count\"))\n",
    "result = category_count.groupBy(\"age_group\", \"category\").agg(max(\"category_count\").alias(\"category_count\")) \n",
    "\n",
    "# Use window function to get the row_number for each partition (age_group).\n",
    "windowSpec = Window.partitionBy(\"age_group\").orderBy(col(\"category_count\").desc())\n",
    "final_result = result.withColumn(\"rank\", row_number().over(windowSpec)).filter(col(\"rank\") == 1).drop(\"rank\")\n",
    "\n",
    "display(final_result)"
   ]
  },
  {
   "cell_type": "code",
   "execution_count": null,
   "metadata": {
    "application/vnd.databricks.v1+cell": {
     "cellMetadata": {
      "byteLimit": 2048000,
      "rowLimit": 10000
     },
     "inputWidgets": {},
     "nuid": "1489c80f-1a01-4d34-aa9e-9f16fb016a62",
     "showTitle": false,
     "title": ""
    }
   },
   "outputs": [
    {
     "data": {
      "text/html": [
       "<style scoped>\n",
       "  .ansiout {\n",
       "    display: block;\n",
       "    unicode-bidi: embed;\n",
       "    white-space: pre-wrap;\n",
       "    word-wrap: break-word;\n",
       "    word-break: break-all;\n",
       "    font-family: \"Menlo\", \"Monaco\", \"Consolas\", \"Ubuntu Mono\", \"Source Code Pro\", monospace;\n",
       "    font-size: 13px;\n",
       "    color: #555;\n",
       "    margin-left: 4px;\n",
       "    line-height: 19px;\n",
       "  }\n",
       "</style>\n",
       "<div class=\"ansiout\"></div>"
      ]
     },
     "metadata": {
      "application/vnd.databricks.v1+output": {
       "addedWidgets": {},
       "arguments": {},
       "data": "<div class=\"ansiout\"></div>",
       "datasetInfos": [],
       "metadata": {},
       "removedWidgets": [],
       "type": "html"
      }
     },
     "output_type": "display_data"
    }
   ],
   "source": [
    "# MILE 7. TASK 8. The median follower count for users based on age group."
   ]
  },
  {
   "cell_type": "code",
   "execution_count": null,
   "metadata": {
    "application/vnd.databricks.v1+cell": {
     "cellMetadata": {
      "byteLimit": 2048000,
      "rowLimit": 10000
     },
     "inputWidgets": {},
     "nuid": "dcc8ed32-ba64-4c9a-9316-3e9028f79b5d",
     "showTitle": false,
     "title": ""
    }
   },
   "outputs": [
    {
     "data": {
      "text/html": [
       "<style scoped>\n",
       "  .table-result-container {\n",
       "    max-height: 300px;\n",
       "    overflow: auto;\n",
       "  }\n",
       "  table, th, td {\n",
       "    border: 1px solid black;\n",
       "    border-collapse: collapse;\n",
       "  }\n",
       "  th, td {\n",
       "    padding: 5px;\n",
       "  }\n",
       "  th {\n",
       "    text-align: left;\n",
       "  }\n",
       "</style><div class='table-result-container'><table class='table-result'><thead style='background-color: white'><tr><th>age_group</th><th>median</th></tr></thead><tbody><tr><td>18-24</td><td>127000</td></tr><tr><td>25-35</td><td>22000</td></tr><tr><td>36-50</td><td>7000</td></tr><tr><td>50+</td><td>1000</td></tr></tbody></table></div>"
      ]
     },
     "metadata": {
      "application/vnd.databricks.v1+output": {
       "addedWidgets": {},
       "aggData": [],
       "aggError": "",
       "aggOverflow": false,
       "aggSchema": [],
       "aggSeriesLimitReached": false,
       "aggType": "",
       "arguments": {},
       "columnCustomDisplayInfos": {},
       "data": [
        [
         "18-24",
         127000
        ],
        [
         "25-35",
         22000
        ],
        [
         "36-50",
         7000
        ],
        [
         "50+",
         1000
        ]
       ],
       "datasetInfos": [],
       "dbfsResultPath": null,
       "isJsonSchema": true,
       "metadata": {},
       "overflow": false,
       "plotOptions": {
        "customPlotOptions": {},
        "displayType": "table",
        "pivotAggregation": null,
        "pivotColumns": null,
        "xColumns": null,
        "yColumns": null
       },
       "removedWidgets": [],
       "schema": [
        {
         "metadata": "{}",
         "name": "age_group",
         "type": "\"string\""
        },
        {
         "metadata": "{}",
         "name": "median",
         "type": "\"integer\""
        }
       ],
       "type": "table"
      }
     },
     "output_type": "display_data"
    }
   ],
   "source": [
    "# Use previously defined df_age_group to select relevant columns\n",
    "sorted_followers = df_age_group.select(\"age_group\", \"follower_count\")\n",
    "\n",
    "# Group by age_group, then find the median count for each group \n",
    "sorted_followers = sorted_followers.orderBy(col(\"age_group\").asc())\n",
    "median_follower_count = sorted_followers.groupBy(\"age_group\").agg(expr(\"percentile_approx(follower_count, 0.5) as median\"))\n",
    "display(median_follower_count)\n"
   ]
  },
  {
   "cell_type": "code",
   "execution_count": null,
   "metadata": {
    "application/vnd.databricks.v1+cell": {
     "cellMetadata": {
      "byteLimit": 2048000,
      "rowLimit": 10000
     },
     "inputWidgets": {},
     "nuid": "6aa41f3f-e322-4f6a-b17a-9a62dcc2e9e9",
     "showTitle": false,
     "title": ""
    }
   },
   "outputs": [
    {
     "data": {
      "text/html": [
       "<style scoped>\n",
       "  .ansiout {\n",
       "    display: block;\n",
       "    unicode-bidi: embed;\n",
       "    white-space: pre-wrap;\n",
       "    word-wrap: break-word;\n",
       "    word-break: break-all;\n",
       "    font-family: \"Menlo\", \"Monaco\", \"Consolas\", \"Ubuntu Mono\", \"Source Code Pro\", monospace;\n",
       "    font-size: 13px;\n",
       "    color: #555;\n",
       "    margin-left: 4px;\n",
       "    line-height: 19px;\n",
       "  }\n",
       "</style>\n",
       "<div class=\"ansiout\"></div>"
      ]
     },
     "metadata": {
      "application/vnd.databricks.v1+output": {
       "addedWidgets": {},
       "arguments": {},
       "data": "<div class=\"ansiout\"></div>",
       "datasetInfos": [],
       "metadata": {},
       "removedWidgets": [],
       "type": "html"
      }
     },
     "output_type": "display_data"
    }
   ],
   "source": [
    "# MILE 7. TASK 9."
   ]
  },
  {
   "cell_type": "code",
   "execution_count": null,
   "metadata": {
    "application/vnd.databricks.v1+cell": {
     "cellMetadata": {
      "byteLimit": 2048000,
      "rowLimit": 10000
     },
     "inputWidgets": {},
     "nuid": "0943a57b-a563-42e5-a274-b0f15294aa72",
     "showTitle": false,
     "title": ""
    }
   },
   "outputs": [
    {
     "data": {
      "text/html": [
       "<style scoped>\n",
       "  .table-result-container {\n",
       "    max-height: 300px;\n",
       "    overflow: auto;\n",
       "  }\n",
       "  table, th, td {\n",
       "    border: 1px solid black;\n",
       "    border-collapse: collapse;\n",
       "  }\n",
       "  th, td {\n",
       "    padding: 5px;\n",
       "  }\n",
       "  th {\n",
       "    text-align: left;\n",
       "  }\n",
       "</style><div class='table-result-container'><table class='table-result'><thead style='background-color: white'><tr><th>post_year</th><th>number_users_joined</th></tr></thead><tbody><tr><td>2015</td><td>300</td></tr><tr><td>2016</td><td>675</td></tr><tr><td>2017</td><td>275</td></tr></tbody></table></div>"
      ]
     },
     "metadata": {
      "application/vnd.databricks.v1+output": {
       "addedWidgets": {},
       "aggData": [],
       "aggError": "",
       "aggOverflow": false,
       "aggSchema": [],
       "aggSeriesLimitReached": false,
       "aggType": "",
       "arguments": {},
       "columnCustomDisplayInfos": {},
       "data": [
        [
         2015,
         300
        ],
        [
         2016,
         675
        ],
        [
         2017,
         275
        ]
       ],
       "datasetInfos": [],
       "dbfsResultPath": null,
       "isJsonSchema": true,
       "metadata": {},
       "overflow": false,
       "plotOptions": {
        "customPlotOptions": {},
        "displayType": "table",
        "pivotAggregation": null,
        "pivotColumns": null,
        "xColumns": null,
        "yColumns": null
       },
       "removedWidgets": [],
       "schema": [
        {
         "metadata": "{}",
         "name": "post_year",
         "type": "\"integer\""
        },
        {
         "metadata": "{}",
         "name": "number_users_joined",
         "type": "\"long\""
        }
       ],
       "type": "table"
      }
     },
     "output_type": "display_data"
    }
   ],
   "source": [
    "# Filter data between 2015 and 2020 \n",
    "filtered_df = df_pin_user.filter((year(df_pin_user[\"date_joined\"]) >= 2015) & (year(df_pin_user[\"date_joined\"]) <= 2020))\n",
    "\n",
    "# Extract year from the timestamp column\n",
    "post_year_df = filtered_df.withColumn(\"post_year\", year(filtered_df[\"date_joined\"]))\n",
    "\n",
    "# Group by 'post_year', count the number of unique poster_names assuming that poster_name is unique to each account\n",
    "result = post_year_df.groupBy(\"post_year\").agg(countDistinct(\"poster_name\").alias(\"number_users_joined\"))\n",
    "\n",
    "# Display the resulting DataFrame\n",
    "display(result)\n"
   ]
  },
  {
   "cell_type": "code",
   "execution_count": null,
   "metadata": {
    "application/vnd.databricks.v1+cell": {
     "cellMetadata": {
      "byteLimit": 2048000,
      "rowLimit": 10000
     },
     "inputWidgets": {},
     "nuid": "3aab4b0b-9277-4713-b840-73dbeb22075e",
     "showTitle": false,
     "title": ""
    }
   },
   "outputs": [
    {
     "data": {
      "text/html": [
       "<style scoped>\n",
       "  .ansiout {\n",
       "    display: block;\n",
       "    unicode-bidi: embed;\n",
       "    white-space: pre-wrap;\n",
       "    word-wrap: break-word;\n",
       "    word-break: break-all;\n",
       "    font-family: \"Menlo\", \"Monaco\", \"Consolas\", \"Ubuntu Mono\", \"Source Code Pro\", monospace;\n",
       "    font-size: 13px;\n",
       "    color: #555;\n",
       "    margin-left: 4px;\n",
       "    line-height: 19px;\n",
       "  }\n",
       "</style>\n",
       "<div class=\"ansiout\"></div>"
      ]
     },
     "metadata": {
      "application/vnd.databricks.v1+output": {
       "addedWidgets": {},
       "arguments": {},
       "data": "<div class=\"ansiout\"></div>",
       "datasetInfos": [],
       "metadata": {},
       "removedWidgets": [],
       "type": "html"
      }
     },
     "output_type": "display_data"
    }
   ],
   "source": [
    "# MILE 7. TASK 10."
   ]
  },
  {
   "cell_type": "code",
   "execution_count": null,
   "metadata": {
    "application/vnd.databricks.v1+cell": {
     "cellMetadata": {
      "byteLimit": 2048000,
      "rowLimit": 10000
     },
     "inputWidgets": {},
     "nuid": "6d5df784-b497-49fb-bb2f-67e0d5f9f45b",
     "showTitle": false,
     "title": ""
    }
   },
   "outputs": [
    {
     "data": {
      "text/html": [
       "<style scoped>\n",
       "  .table-result-container {\n",
       "    max-height: 300px;\n",
       "    overflow: auto;\n",
       "  }\n",
       "  table, th, td {\n",
       "    border: 1px solid black;\n",
       "    border-collapse: collapse;\n",
       "  }\n",
       "  th, td {\n",
       "    padding: 5px;\n",
       "  }\n",
       "  th {\n",
       "    text-align: left;\n",
       "  }\n",
       "</style><div class='table-result-container'><table class='table-result'><thead style='background-color: white'><tr><th>post_year</th><th>median_follower_count</th></tr></thead><tbody><tr><td>2015</td><td>150000</td></tr><tr><td>2016</td><td>19000</td></tr><tr><td>2017</td><td>3000</td></tr></tbody></table></div>"
      ]
     },
     "metadata": {
      "application/vnd.databricks.v1+output": {
       "addedWidgets": {},
       "aggData": [],
       "aggError": "",
       "aggOverflow": false,
       "aggSchema": [],
       "aggSeriesLimitReached": false,
       "aggType": "",
       "arguments": {},
       "columnCustomDisplayInfos": {},
       "data": [
        [
         2015,
         150000
        ],
        [
         2016,
         19000
        ],
        [
         2017,
         3000
        ]
       ],
       "datasetInfos": [],
       "dbfsResultPath": null,
       "isJsonSchema": true,
       "metadata": {},
       "overflow": false,
       "plotOptions": {
        "customPlotOptions": {},
        "displayType": "table",
        "pivotAggregation": null,
        "pivotColumns": null,
        "xColumns": null,
        "yColumns": null
       },
       "removedWidgets": [],
       "schema": [
        {
         "metadata": "{}",
         "name": "post_year",
         "type": "\"integer\""
        },
        {
         "metadata": "{}",
         "name": "median_follower_count",
         "type": "\"integer\""
        }
       ],
       "type": "table"
      }
     },
     "output_type": "display_data"
    }
   ],
   "source": [
    "# Selec columns from previously defined post_year_df, which fltered df_pin_user based on year\n",
    "follower_df = post_year_df.select(\"post_year\", \"follower_count\")\n",
    "\n",
    "# Group by age_group, then find the median count for each group \n",
    "median_follower_count = follower_df.groupBy(\"post_year\").agg(expr(\"percentile_approx(follower_count, 0.5) as median_follower_count\"))\n",
    "display(median_follower_count)"
   ]
  },
  {
   "cell_type": "code",
   "execution_count": null,
   "metadata": {
    "application/vnd.databricks.v1+cell": {
     "cellMetadata": {
      "byteLimit": 2048000,
      "rowLimit": 10000
     },
     "inputWidgets": {},
     "nuid": "75db3838-e553-4053-a29b-ff4c4dac3f8e",
     "showTitle": false,
     "title": ""
    }
   },
   "outputs": [
    {
     "data": {
      "text/html": [
       "<style scoped>\n",
       "  .ansiout {\n",
       "    display: block;\n",
       "    unicode-bidi: embed;\n",
       "    white-space: pre-wrap;\n",
       "    word-wrap: break-word;\n",
       "    word-break: break-all;\n",
       "    font-family: \"Menlo\", \"Monaco\", \"Consolas\", \"Ubuntu Mono\", \"Source Code Pro\", monospace;\n",
       "    font-size: 13px;\n",
       "    color: #555;\n",
       "    margin-left: 4px;\n",
       "    line-height: 19px;\n",
       "  }\n",
       "</style>\n",
       "<div class=\"ansiout\"></div>"
      ]
     },
     "metadata": {
      "application/vnd.databricks.v1+output": {
       "addedWidgets": {},
       "arguments": {},
       "data": "<div class=\"ansiout\"></div>",
       "datasetInfos": [],
       "metadata": {},
       "removedWidgets": [],
       "type": "html"
      }
     },
     "output_type": "display_data"
    }
   ],
   "source": [
    "# MILE 7. TASK 11."
   ]
  },
  {
   "cell_type": "code",
   "execution_count": null,
   "metadata": {
    "application/vnd.databricks.v1+cell": {
     "cellMetadata": {
      "byteLimit": 2048000,
      "rowLimit": 10000
     },
     "inputWidgets": {},
     "nuid": "3a5bdff4-5492-4abb-9300-98ce10ac9d63",
     "showTitle": false,
     "title": ""
    }
   },
   "outputs": [
    {
     "data": {
      "text/html": [
       "<style scoped>\n",
       "  .table-result-container {\n",
       "    max-height: 300px;\n",
       "    overflow: auto;\n",
       "  }\n",
       "  table, th, td {\n",
       "    border: 1px solid black;\n",
       "    border-collapse: collapse;\n",
       "  }\n",
       "  th, td {\n",
       "    padding: 5px;\n",
       "  }\n",
       "  th {\n",
       "    text-align: left;\n",
       "  }\n",
       "</style><div class='table-result-container'><table class='table-result'><thead style='background-color: white'><tr><th>post_year</th><th>age_group</th><th>median_follower_count</th></tr></thead><tbody><tr><td>2017</td><td>18-24</td><td>12000</td></tr><tr><td>2017</td><td>25-35</td><td>2000</td></tr><tr><td>2017</td><td>36-50</td><td>3000</td></tr><tr><td>2017</td><td>50+</td><td>1000</td></tr><tr><td>2016</td><td>18-24</td><td>46000</td></tr><tr><td>2016</td><td>25-35</td><td>21000</td></tr><tr><td>2016</td><td>36-50</td><td>8000</td></tr><tr><td>2016</td><td>50+</td><td>1000</td></tr><tr><td>2015</td><td>18-24</td><td>267000</td></tr><tr><td>2015</td><td>25-35</td><td>42000</td></tr><tr><td>2015</td><td>36-50</td><td>13000</td></tr><tr><td>2015</td><td>50+</td><td>14000</td></tr></tbody></table></div>"
      ]
     },
     "metadata": {
      "application/vnd.databricks.v1+output": {
       "addedWidgets": {},
       "aggData": [],
       "aggError": "",
       "aggOverflow": false,
       "aggSchema": [],
       "aggSeriesLimitReached": false,
       "aggType": "",
       "arguments": {},
       "columnCustomDisplayInfos": {},
       "data": [
        [
         2017,
         "18-24",
         12000
        ],
        [
         2017,
         "25-35",
         2000
        ],
        [
         2017,
         "36-50",
         3000
        ],
        [
         2017,
         "50+",
         1000
        ],
        [
         2016,
         "18-24",
         46000
        ],
        [
         2016,
         "25-35",
         21000
        ],
        [
         2016,
         "36-50",
         8000
        ],
        [
         2016,
         "50+",
         1000
        ],
        [
         2015,
         "18-24",
         267000
        ],
        [
         2015,
         "25-35",
         42000
        ],
        [
         2015,
         "36-50",
         13000
        ],
        [
         2015,
         "50+",
         14000
        ]
       ],
       "datasetInfos": [],
       "dbfsResultPath": null,
       "isJsonSchema": true,
       "metadata": {},
       "overflow": false,
       "plotOptions": {
        "customPlotOptions": {},
        "displayType": "table",
        "pivotAggregation": null,
        "pivotColumns": null,
        "xColumns": null,
        "yColumns": null
       },
       "removedWidgets": [],
       "schema": [
        {
         "metadata": "{}",
         "name": "post_year",
         "type": "\"integer\""
        },
        {
         "metadata": "{}",
         "name": "age_group",
         "type": "\"string\""
        },
        {
         "metadata": "{}",
         "name": "median_follower_count",
         "type": "\"integer\""
        }
       ],
       "type": "table"
      }
     },
     "output_type": "display_data"
    }
   ],
   "source": [
    "# Add a age_group column into previously defined post_year_df (joint pin data and user data df with post_year column)\n",
    "df_post_year_age_group = post_year_df.withColumn(\"age_group\", age_group(post_year_df.age))\n",
    "\n",
    "# Select columns that should be displayed\n",
    "follower_df = df_post_year_age_group.select(\"post_year\", \"age_group\", \"follower_count\")\n",
    "\n",
    "# Group by age_group, then find the median count for each group \n",
    "follower_df = follower_df.orderBy(col(\"post_year\").desc(), col(\"age_group\").asc())\n",
    "median_follower_count = follower_df.groupBy(\"post_year\", \"age_group\").agg(expr(\"percentile_approx(follower_count, 0.5) as median_follower_count\"))\n",
    "\n",
    "display(median_follower_count)"
   ]
  }
 ],
 "metadata": {
  "application/vnd.databricks.v1+notebook": {
   "dashboards": [],
   "language": "python",
   "notebookMetadata": {
    "mostRecentlyExecutedCommandWithImplicitDF": {
     "commandId": 2949001881399713,
     "dataframes": [
      "_sqldf"
     ]
    },
    "pythonIndentUnit": 4
   },
   "notebookName": "Mount-S3-to-Databricks",
   "widgets": {}
  },
  "language_info": {
   "name": "python"
  }
 },
 "nbformat": 4,
 "nbformat_minor": 0
}
