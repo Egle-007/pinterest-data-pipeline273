{
 "cells": [
  {
   "cell_type": "code",
   "execution_count": 0,
   "metadata": {
    "application/vnd.databricks.v1+cell": {
     "cellMetadata": {
      "byteLimit": 2048000,
      "rowLimit": 10000
     },
     "inputWidgets": {},
     "nuid": "47f391c2-5112-452d-ace1-387f9a384de8",
     "showTitle": false,
     "title": ""
    }
   },
   "outputs": [
    {
     "output_type": "display_data",
     "data": {
      "text/html": [
       "<style scoped>\n",
       "  .ansiout {\n",
       "    display: block;\n",
       "    unicode-bidi: embed;\n",
       "    white-space: pre-wrap;\n",
       "    word-wrap: break-word;\n",
       "    word-break: break-all;\n",
       "    font-family: \"Menlo\", \"Monaco\", \"Consolas\", \"Ubuntu Mono\", \"Source Code Pro\", monospace;\n",
       "    font-size: 13px;\n",
       "    color: #555;\n",
       "    margin-left: 4px;\n",
       "    line-height: 19px;\n",
       "  }\n",
       "</style>\n",
       "<div class=\"ansiout\"></div>"
      ]
     },
     "metadata": {
      "application/vnd.databricks.v1+output": {
       "addedWidgets": {},
       "arguments": {},
       "data": "<div class=\"ansiout\"></div>",
       "datasetInfos": [],
       "metadata": {},
       "removedWidgets": [],
       "type": "html"
      }
     },
     "output_type": "display_data"
    }
   ],
   "source": [
    "from pyspark.sql.types import *\n",
    "from pyspark.sql.functions import *\n",
    "import urllib\n",
    "\n",
    "# Define the path to the Delta table\n",
    "delta_table_path = \"dbfs:/user/hive/warehouse/authentication_credentials\"\n",
    "\n",
    "# Read the Delta table to a Spark DataFrame\n",
    "aws_keys_df = spark.read.format(\"delta\").load(delta_table_path)\n",
    "\n",
    "# Get the AWS access key and secret key from the spark dataframe\n",
    "ACCESS_KEY = aws_keys_df.select('Access key ID').collect()[0]['Access key ID']\n",
    "SECRET_KEY = aws_keys_df.select('Secret access key').collect()[0]['Secret access key']\n",
    "\n",
    "# Encode the secrete key\n",
    "ENCODED_SECRET_KEY = urllib.parse.quote(string=SECRET_KEY, safe=\"\")"
   ]
  },
  {
   "cell_type": "code",
   "execution_count": 0,
   "metadata": {
    "application/vnd.databricks.v1+cell": {
     "cellMetadata": {
      "byteLimit": 2048000,
      "implicitDf": true,
      "rowLimit": 10000
     },
     "inputWidgets": {},
     "nuid": "8d968ffa-6ad2-496c-8165-a1660daf5c9b",
     "showTitle": false,
     "title": ""
    }
   },
   "outputs": [
    {
     "output_type": "display_data",
     "data": {
      "text/html": [
       "<style scoped>\n",
       "  .table-result-container {\n",
       "    max-height: 300px;\n",
       "    overflow: auto;\n",
       "  }\n",
       "  table, th, td {\n",
       "    border: 1px solid black;\n",
       "    border-collapse: collapse;\n",
       "  }\n",
       "  th, td {\n",
       "    padding: 5px;\n",
       "  }\n",
       "  th {\n",
       "    text-align: left;\n",
       "  }\n",
       "</style><div class='table-result-container'><table class='table-result'><thead style='background-color: white'><tr><th>key</th><th>value</th></tr></thead><tbody><tr><td>spark.databricks.delta.formatCheck.enabled</td><td>false</td></tr></tbody></table></div>"
      ]
     },
     "metadata": {
      "application/vnd.databricks.v1+output": {
       "addedWidgets": {},
       "aggData": [],
       "aggError": "",
       "aggOverflow": false,
       "aggSchema": [],
       "aggSeriesLimitReached": false,
       "aggType": "",
       "arguments": {},
       "columnCustomDisplayInfos": {},
       "data": [
        [
         "spark.databricks.delta.formatCheck.enabled",
         "false"
        ]
       ],
       "datasetInfos": [],
       "dbfsResultPath": null,
       "isJsonSchema": true,
       "metadata": {},
       "overflow": false,
       "plotOptions": {
        "customPlotOptions": {},
        "displayType": "table",
        "pivotAggregation": null,
        "pivotColumns": null,
        "xColumns": null,
        "yColumns": null
       },
       "removedWidgets": [],
       "schema": [
        {
         "metadata": "{}",
         "name": "key",
         "type": "\"string\""
        },
        {
         "metadata": "{}",
         "name": "value",
         "type": "\"string\""
        }
       ],
       "type": "table"
      }
     },
     "output_type": "display_data"
    }
   ],
   "source": [
    "%sql\n",
    "-- Disable format checks during the reading of Delta tables\n",
    "SET spark.databricks.delta.formatCheck.enabled=false"
   ]
  },
  {
   "cell_type": "code",
   "execution_count": 0,
   "metadata": {
    "application/vnd.databricks.v1+cell": {
     "cellMetadata": {
      "byteLimit": 2048000,
      "rowLimit": 10000
     },
     "inputWidgets": {},
     "nuid": "c565a95d-d593-4f98-b5ac-c5d68ba1cf11",
     "showTitle": false,
     "title": ""
    }
   },
   "outputs": [
    {
     "output_type": "display_data",
     "data": {
      "text/html": [
       "<style scoped>\n",
       "  .ansiout {\n",
       "    display: block;\n",
       "    unicode-bidi: embed;\n",
       "    white-space: pre-wrap;\n",
       "    word-wrap: break-word;\n",
       "    word-break: break-all;\n",
       "    font-family: \"Menlo\", \"Monaco\", \"Consolas\", \"Ubuntu Mono\", \"Source Code Pro\", monospace;\n",
       "    font-size: 13px;\n",
       "    color: #555;\n",
       "    margin-left: 4px;\n",
       "    line-height: 19px;\n",
       "  }\n",
       "</style>\n",
       "<div class=\"ansiout\"></div>"
      ]
     },
     "metadata": {
      "application/vnd.databricks.v1+output": {
       "addedWidgets": {},
       "arguments": {},
       "data": "<div class=\"ansiout\"></div>",
       "datasetInfos": [],
       "metadata": {},
       "removedWidgets": [],
       "type": "html"
      }
     },
     "output_type": "display_data"
    }
   ],
   "source": [
    "from pyspark.sql.types import StructType, StructField, StringType\n",
    "\n",
    "# Define the schema for each DataFrame to provide the structure to the streaming data\n",
    "pinSchema = StructType([ \n",
    "    StructField(\"index\", StringType(), True), \n",
    "    StructField(\"unique_id\", StringType(), True), \n",
    "    StructField(\"title\", StringType(), True), \n",
    "    StructField(\"description\", StringType(), True), \n",
    "    StructField(\"poster_name\", StringType(), True), \n",
    "    StructField(\"follower_count\", StringType(), True), \n",
    "    StructField(\"tag_list\", StringType(), True), \n",
    "    StructField(\"is_image_or_video\", StringType(), True), \n",
    "    StructField(\"image_src\", StringType(), True), \n",
    "    StructField(\"downloaded\", StringType(), True), \n",
    "    StructField(\"save_location\", StringType(), True), \n",
    "    StructField(\"category\", StringType(), True)\n",
    "])\n",
    "\n",
    "geoSchema = StructType([\n",
    "    StructField(\"index\", StringType(), True), \n",
    "    StructField(\"timestamp\", StringType(), True), \n",
    "    StructField(\"latitude\", StringType(), True), \n",
    "    StructField(\"longitude\", StringType(), True),\n",
    "    StructField(\"country\", StringType(), True)\n",
    "])\n",
    "\n",
    "userSchema = StructType([\n",
    "    StructField(\"index\", StringType(), True), \n",
    "    StructField(\"first_name\", StringType(), True), \n",
    "    StructField(\"last_name\", StringType(), True), \n",
    "    StructField(\"age\", StringType(), True),\n",
    "    StructField(\"date_joined\", StringType(), True)\n",
    "])"
   ]
  },
  {
   "cell_type": "code",
   "execution_count": 0,
   "metadata": {
    "application/vnd.databricks.v1+cell": {
     "cellMetadata": {
      "byteLimit": 2048000,
      "rowLimit": 10000
     },
     "inputWidgets": {},
     "nuid": "e1916c39-8fd4-44f4-b046-da7ded47b128",
     "showTitle": false,
     "title": ""
    }
   },
   "outputs": [
    {
     "output_type": "display_data",
     "data": {
      "text/html": [
       "<style scoped>\n",
       "  .ansiout {\n",
       "    display: block;\n",
       "    unicode-bidi: embed;\n",
       "    white-space: pre-wrap;\n",
       "    word-wrap: break-word;\n",
       "    word-break: break-all;\n",
       "    font-family: \"Menlo\", \"Monaco\", \"Consolas\", \"Ubuntu Mono\", \"Source Code Pro\", monospace;\n",
       "    font-size: 13px;\n",
       "    color: #555;\n",
       "    margin-left: 4px;\n",
       "    line-height: 19px;\n",
       "  }\n",
       "</style>\n",
       "<div class=\"ansiout\"></div>"
      ]
     },
     "metadata": {
      "application/vnd.databricks.v1+output": {
       "addedWidgets": {},
       "arguments": {},
       "data": "<div class=\"ansiout\"></div>",
       "datasetInfos": [],
       "metadata": {},
       "removedWidgets": [],
       "type": "html"
      }
     },
     "output_type": "display_data"
    }
   ],
   "source": [
    "\n",
    "\n",
    "class Streams:\n",
    "    ''' \n",
    "    Streams is a class used to read the streaming data from AWS Kinesis, deserialise it, and converting it to a streaming DataFrame (df) based on chosen schema.\n",
    "    \n",
    "    Parameters:\n",
    "    -------\n",
    "    stream_name: string\n",
    "        A name of the stream in Kinesis \n",
    "\n",
    "    Methods:\n",
    "    -------\n",
    "    load_stream()\n",
    "        Reads the streaming data from Kinesis and returns a df.\n",
    "    deserialise_stream()\n",
    "        Returns a deserialised data column of the df casted as a string.\n",
    "    convert_to_df(schema)\n",
    "        Converts deserialised data into a df using from_json() function and chosen schema. Returns a streaming df.\n",
    "    '''\n",
    "    def __init__(self, stream_name):\n",
    "        self.stream_name = stream_name\n",
    "\n",
    "    def load_stream(self):\n",
    "        df = spark \\\n",
    "        .readStream \\\n",
    "        .format('kinesis') \\\n",
    "        .option('streamName', self.stream_name) \\\n",
    "        .option('initialPosition','earliest') \\\n",
    "        .option('region','us-east-1') \\\n",
    "        .option('awsAccessKey', ACCESS_KEY) \\\n",
    "        .option('awsSecretKey', SECRET_KEY) \\\n",
    "        .load()\n",
    "        return df\n",
    "\n",
    "    def deserialise_stream(self):\n",
    "        return self.load_stream().selectExpr(\"CAST(data as STRING)\")\n",
    "         \n",
    "    \n",
    "    def convert_to_df(self, schema):\n",
    "        df = self.deserialise_stream().withColumn(\"jsonData\", from_json(col(\"data\"), schema)).select(\"jsonData.*\")\n",
    "        return df\n",
    "\n",
    "pin_stream = Streams('streaming-0e172e8c4bc3-pin')\n",
    "geo_stream = Streams('streaming-0e172e8c4bc3-geo')\n",
    "user_stream = Streams('streaming-0e172e8c4bc3-user')\n",
    "\n",
    "df_pin = pin_stream.convert_to_df(pinSchema)\n",
    "df_geo = geo_stream.convert_to_df(geoSchema)\n",
    "df_user = user_stream.convert_to_df(userSchema)\n"
   ]
  },
  {
   "cell_type": "code",
   "execution_count": 0,
   "metadata": {
    "application/vnd.databricks.v1+cell": {
     "cellMetadata": {
      "byteLimit": 2048000,
      "rowLimit": 10000
     },
     "inputWidgets": {},
     "nuid": "55cafe90-603f-4dec-96b0-06a3463098d4",
     "showTitle": false,
     "title": ""
    }
   },
   "outputs": [
    {
     "output_type": "display_data",
     "data": {
      "text/html": [
       "<style scoped>\n",
       "  .ansiout {\n",
       "    display: block;\n",
       "    unicode-bidi: embed;\n",
       "    white-space: pre-wrap;\n",
       "    word-wrap: break-word;\n",
       "    word-break: break-all;\n",
       "    font-family: \"Menlo\", \"Monaco\", \"Consolas\", \"Ubuntu Mono\", \"Source Code Pro\", monospace;\n",
       "    font-size: 13px;\n",
       "    color: #555;\n",
       "    margin-left: 4px;\n",
       "    line-height: 19px;\n",
       "  }\n",
       "</style>\n",
       "<div class=\"ansiout\"></div>"
      ]
     },
     "metadata": {
      "application/vnd.databricks.v1+output": {
       "addedWidgets": {},
       "arguments": {},
       "data": "<div class=\"ansiout\"></div>",
       "datasetInfos": [],
       "metadata": {},
       "removedWidgets": [],
       "type": "html"
      }
     },
     "output_type": "display_data"
    },
    {
     "output_type": "display_data",
     "data": {
      "text/html": [
       "<style scoped>\n",
       "  .ansiout {\n",
       "    display: block;\n",
       "    unicode-bidi: embed;\n",
       "    white-space: pre-wrap;\n",
       "    word-wrap: break-word;\n",
       "    word-break: break-all;\n",
       "    font-family: \"Menlo\", \"Monaco\", \"Consolas\", \"Ubuntu Mono\", \"Source Code Pro\", monospace;\n",
       "    font-size: 13px;\n",
       "    color: #555;\n",
       "    margin-left: 4px;\n",
       "    line-height: 19px;\n",
       "  }\n",
       "</style>\n",
       "<div class=\"ansiout\"></div>"
      ]
     },
     "metadata": {
      "application/vnd.databricks.v1+output": {
       "addedWidgets": {},
       "arguments": {},
       "data": "<div class=\"ansiout\"></div>",
       "datasetInfos": [],
       "metadata": {},
       "removedWidgets": [],
       "type": "html"
      }
     },
     "output_type": "display_data"
    },
    {
     "output_type": "display_data",
     "data": {
      "text/html": [
       "<style scoped>\n",
       "  .ansiout {\n",
       "    display: block;\n",
       "    unicode-bidi: embed;\n",
       "    white-space: pre-wrap;\n",
       "    word-wrap: break-word;\n",
       "    word-break: break-all;\n",
       "    font-family: \"Menlo\", \"Monaco\", \"Consolas\", \"Ubuntu Mono\", \"Source Code Pro\", monospace;\n",
       "    font-size: 13px;\n",
       "    color: #555;\n",
       "    margin-left: 4px;\n",
       "    line-height: 19px;\n",
       "  }\n",
       "</style>\n",
       "<div class=\"ansiout\"></div>"
      ]
     },
     "metadata": {
      "application/vnd.databricks.v1+output": {
       "addedWidgets": {},
       "arguments": {},
       "data": "<div class=\"ansiout\"></div>",
       "datasetInfos": [],
       "metadata": {},
       "removedWidgets": [],
       "type": "html"
      }
     },
     "output_type": "display_data"
    },
    {
     "output_type": "display_data",
     "data": {
      "text/html": [
       "<style scoped>\n",
       "  .ansiout {\n",
       "    display: block;\n",
       "    unicode-bidi: embed;\n",
       "    white-space: pre-wrap;\n",
       "    word-wrap: break-word;\n",
       "    word-break: break-all;\n",
       "    font-family: \"Menlo\", \"Monaco\", \"Consolas\", \"Ubuntu Mono\", \"Source Code Pro\", monospace;\n",
       "    font-size: 13px;\n",
       "    color: #555;\n",
       "    margin-left: 4px;\n",
       "    line-height: 19px;\n",
       "  }\n",
       "</style>\n",
       "<div class=\"ansiout\"></div>"
      ]
     },
     "metadata": {
      "application/vnd.databricks.v1+output": {
       "addedWidgets": {},
       "arguments": {},
       "data": "<div class=\"ansiout\"></div>",
       "datasetInfos": [],
       "metadata": {},
       "removedWidgets": [],
       "type": "html"
      }
     },
     "output_type": "display_data"
    },
    {
     "output_type": "display_data",
     "data": {
      "text/html": [
       "<style scoped>\n",
       "  .ansiout {\n",
       "    display: block;\n",
       "    unicode-bidi: embed;\n",
       "    white-space: pre-wrap;\n",
       "    word-wrap: break-word;\n",
       "    word-break: break-all;\n",
       "    font-family: \"Menlo\", \"Monaco\", \"Consolas\", \"Ubuntu Mono\", \"Source Code Pro\", monospace;\n",
       "    font-size: 13px;\n",
       "    color: #555;\n",
       "    margin-left: 4px;\n",
       "    line-height: 19px;\n",
       "  }\n",
       "</style>\n",
       "<div class=\"ansiout\"></div>"
      ]
     },
     "metadata": {
      "application/vnd.databricks.v1+output": {
       "addedWidgets": {},
       "arguments": {},
       "data": "<div class=\"ansiout\"></div>",
       "datasetInfos": [],
       "metadata": {},
       "removedWidgets": [],
       "type": "html"
      }
     },
     "output_type": "display_data"
    },
    {
     "output_type": "display_data",
     "data": {
      "text/html": [
       "<style scoped>\n",
       "  .ansiout {\n",
       "    display: block;\n",
       "    unicode-bidi: embed;\n",
       "    white-space: pre-wrap;\n",
       "    word-wrap: break-word;\n",
       "    word-break: break-all;\n",
       "    font-family: \"Menlo\", \"Monaco\", \"Consolas\", \"Ubuntu Mono\", \"Source Code Pro\", monospace;\n",
       "    font-size: 13px;\n",
       "    color: #555;\n",
       "    margin-left: 4px;\n",
       "    line-height: 19px;\n",
       "  }\n",
       "</style>\n",
       "<div class=\"ansiout\"></div>"
      ]
     },
     "metadata": {
      "application/vnd.databricks.v1+output": {
       "addedWidgets": {},
       "arguments": {},
       "data": "<div class=\"ansiout\"></div>",
       "datasetInfos": [],
       "metadata": {},
       "removedWidgets": [],
       "type": "html"
      }
     },
     "output_type": "display_data"
    },
    {
     "output_type": "display_data",
     "data": {
      "text/html": [
       "<style scoped>\n",
       "  .ansiout {\n",
       "    display: block;\n",
       "    unicode-bidi: embed;\n",
       "    white-space: pre-wrap;\n",
       "    word-wrap: break-word;\n",
       "    word-break: break-all;\n",
       "    font-family: \"Menlo\", \"Monaco\", \"Consolas\", \"Ubuntu Mono\", \"Source Code Pro\", monospace;\n",
       "    font-size: 13px;\n",
       "    color: #555;\n",
       "    margin-left: 4px;\n",
       "    line-height: 19px;\n",
       "  }\n",
       "</style>\n",
       "<div class=\"ansiout\"></div>"
      ]
     },
     "metadata": {
      "application/vnd.databricks.v1+output": {
       "addedWidgets": {},
       "arguments": {},
       "data": "<div class=\"ansiout\"></div>",
       "datasetInfos": [],
       "metadata": {},
       "removedWidgets": [],
       "type": "html"
      }
     },
     "output_type": "display_data"
    }
   ],
   "source": [
    "%run Users/kasalotas@yahoo.com/transformation_functions"
   ]
  },
  {
   "cell_type": "code",
   "execution_count": 0,
   "metadata": {
    "application/vnd.databricks.v1+cell": {
     "cellMetadata": {
      "byteLimit": 2048000,
      "rowLimit": 10000
     },
     "inputWidgets": {},
     "nuid": "d3569933-ddf7-47bf-811a-144e98626a5c",
     "showTitle": false,
     "title": ""
    }
   },
   "outputs": [
    {
     "output_type": "display_data",
     "data": {
      "text/html": [
       "<style scoped>\n",
       "  .table-result-container {\n",
       "    max-height: 300px;\n",
       "    overflow: auto;\n",
       "  }\n",
       "  table, th, td {\n",
       "    border: 1px solid black;\n",
       "    border-collapse: collapse;\n",
       "  }\n",
       "  th, td {\n",
       "    padding: 5px;\n",
       "  }\n",
       "  th {\n",
       "    text-align: left;\n",
       "  }\n",
       "</style><div class='table-result-container'><table class='table-result'><thead style='background-color: white'><tr><th>ind</th><th>unique_id</th><th>title</th><th>description</th><th>follower_count</th><th>poster_name</th><th>tag_list</th><th>is_image_or_video</th><th>image_src</th><th>save_location</th><th>category</th></tr></thead><tbody><tr><td>7528</td><td>fbe53c66-3442-4773-b19e-d3ec6f54dddf</td><td>No Title Data Available</td><td>No description available Story format</td><td>null</td><td>User Info Error</td><td>N,o, ,T,a,g,s, ,A,v,a,i,l,a,b,l,e</td><td>multi-video(story page format)</td><td>Image src error.</td><td> /data/mens-fashion</td><td>mens-fashion</td></tr><tr><td>2863</td><td>9bf39437-42a6-4f02-99a0-9a0383d8cd70</td><td>25 Super Fun Summer Crafts for Kids - Of Life and Lisa</td><td>Keep the kids busy this summer with these easy diy crafts and projects. Creative and…</td><td>124000</td><td>Of Life & Lisa | Lifestyle Blog</td><td>Summer Crafts For Kids,Fun Crafts For Kids,Summer Kids,Toddler Crafts,Crafts To Do,Diy For Kids,Summer Snow,Diys For Summer,Craft Ideas For Girls</td><td>image</td><td>https://i.pinimg.com/originals/b3/bc/e2/b3bce2964e8c8975387b39660eed5f16.jpg</td><td> /data/diy-and-crafts</td><td>diy-and-crafts</td></tr><tr><td>5730</td><td>1e1f0c8b-9fcf-460b-9154-c775827206eb</td><td>Island Oasis Coupon Organizer</td><td>Description Coupon Organizer in a fun colorful fabric -island oasis, Great Size for the \"basic\" couponer - holds up to 500 coupons with ease, and is made long enough so that you… </td><td>0</td><td>Consuelo Aguirre</td><td>Grocery Items,Grocery Coupons,Care Organization,Coupon Organization,Extreme Couponing,Couponing 101,Life Binder,Save My Money,Love Coupons</td><td>image</td><td>https://i.pinimg.com/originals/65/bb/ea/65bbeaf458907bb079317d8303c4fa0e.jpg</td><td> /data/finance</td><td>finance</td></tr><tr><td>8304</td><td>5b6d0913-25e4-43ab-839d-85d5516f78a4</td><td>The #1 Reason You’re Not His Priority Anymore - Matthew Coast</td><td>#lovequotes #matchmaker #matchmadeinheaven #loveyourself #respectyourself</td><td>51000</td><td>Commitment Connection</td><td>Wise Quotes,Quotable Quotes,Words Quotes,Wise Words,Quotes To Live By,Great Quotes,Motivational Quotes,Inspirational Quotes,Funny Quotes</td><td>image</td><td>https://i.pinimg.com/originals/c6/64/ee/c664ee71524fb5a6e7b7b49233f93b43.png</td><td> /data/quotes</td><td>quotes</td></tr><tr><td>8731</td><td>ea760f71-febf-4023-b592-d17396659039</td><td>20 Koi Fish Tattoos For Lucky Men</td><td>Koi fish tattoos are a popular choice for men who want to make a statement, thanks to their rich symbolism and bold design.</td><td>211000</td><td>TheTrendSpotter</td><td>Dr Tattoo,Wörter Tattoos,Pisces Tattoos,Tatoo Art,Dream Tattoos,Dope Tattoos,Mini Tattoos,Finger Tattoos,Body Art Tattoos</td><td>image</td><td>https://i.pinimg.com/originals/8a/0c/0a/8a0c0a7b6236565c519acd41ad1a52c0.jpg</td><td> /data/tattoos</td><td>tattoos</td></tr><tr><td>1313</td><td>44662045-e891-4821-8a19-ebe7eedd371a</td><td>Liquid Lash Extensions Mascara</td><td>Instantly create the look of lash extensions with this award-winning, best-selling mascara that won't clump, flake or smudge. Available in 3 shades!</td><td>43000</td><td>Thrive Causemetics</td><td>N,o, ,T,a,g,s, ,A,v,a,i,l,a,b,l,e</td><td>video</td><td>https://i.pinimg.com/videos/thumbnails/originals/69/84/e2/6984e20f3e262098fa9c0614c3453254.0000001.jpg</td><td> /data/beauty</td><td>beauty</td></tr><tr><td>4315</td><td>21b59ba9-829d-4c33-8c27-4cd4c56d26b8</td><td>Podcasts for Teachers or Parents of Teenagers</td><td>Podcasts for Teachers or Parents of Teenagers: Teaching teens middle school and high school can feel joyful and rewarding most days, but can also frustrate you with one challeng… </td><td>25000</td><td>Math Giraffe</td><td>Middle School Classroom,High School Students,High School Teachers,Middle School Tips,High School Counseling,Ela Classroom,High School Science,Future Classroom,Google Classroom</td><td>image</td><td>https://i.pinimg.com/originals/50/19/31/501931a27ee4d076658980851b995b2c.jpg</td><td> /data/education</td><td>education</td></tr><tr><td>10794</td><td>c4bd2577-a7bb-4409-bb7a-17d5ed7e1cf1</td><td>TireBuyer</td><td>Nissan GT-R. Sick.</td><td>437</td><td>Ray Uyemura</td><td>Lowrider,Old Vintage Cars,Antique Cars,Austin Martin,Nissan Gtr Black,Jaguar,1959 Cadillac,Cadillac Ct6,Old School Cars</td><td>image</td><td>https://i.pinimg.com/originals/0d/29/9f/0d299f3df020395aa7ce8387f40fbeed.jpg</td><td> /data/vehicles</td><td>vehicles</td></tr><tr><td>5494</td><td>8fb2af68-543b-4639-8119-de33d28706ed</td><td>Dave Ramsey's 7 Baby Steps: What Are They And Will They Work For You</td><td>If you love budgeting, make sure to give Dave Ramsey's 7 Baby Steps a try. Follow these steps to begin your debt snowball, build an emergency fund, invest and reach riches. I ca… </td><td>26000</td><td>Living Low Key | Save Money, Make Money, & Frugal Living</td><td>Financial Peace,Financial Tips,Saving Money Quotes,Total Money Makeover,Budgeting Finances,Money Management,Wealth Management,Personal Finance,Making Ideas</td><td>image</td><td>https://i.pinimg.com/originals/1e/9d/90/1e9d906e4e150e3b95187f3b76ea7c71.png</td><td> /data/finance</td><td>finance</td></tr><tr><td>5069</td><td>b75b6f87-deb3-444f-b29e-ce9161b2df49</td><td>The Vault: Curated & Refined Wedding Inspiration</td><td>Sacramento California Wedding 2 Chic Events & Design Jodi Yorston Photography Wilson Vineyards Barn Miosa Couture Yellow Barn Vineyard Outdoor Candles DIY</td><td>6000000</td><td>Style Me Pretty</td><td>60th Anniversary Parties,Anniversary Decorations,Golden Anniversary,25th Wedding Anniversary,Anniversary Pictures,Anniversary Ideas,Birthday Decorations,Event Planning Design,Event Design</td><td>image</td><td>https://i.pinimg.com/originals/7e/45/90/7e45905fefa36347e83333fd6d091140.jpg</td><td> /data/event-planning</td><td>event-planning</td></tr><tr><td>2923</td><td>52fa3af5-24a4-4ccb-8f17-9c3eb12327ee</td><td>UFO Paper Plate Craft</td><td>A fun space activity for kids. Preshoolers and kindergartners will love making their own alien spacecraft!</td><td>192000</td><td>The Crafting Chicks</td><td>Paper Plate Crafts For Kids,Fun Crafts For Kids,Summer Crafts,Toddler Crafts,Art For Kids,Outer Space Crafts For Kids,Kid Crafts,Space Kids,Back To School Crafts For Kids</td><td>image</td><td>https://i.pinimg.com/originals/6f/e8/aa/6fe8aa405513c6d2f77b5f47d17cdce8.jpg</td><td> /data/diy-and-crafts</td><td>diy-and-crafts</td></tr><tr><td>3089</td><td>88f9227e-88d0-4b1c-b0be-bcfc3028b8e2</td><td>No Title Data Available</td><td>No description available Story format</td><td>null</td><td>User Info Error</td><td>N,o, ,T,a,g,s, ,A,v,a,i,l,a,b,l,e</td><td>multi-video(story page format)</td><td>Image src error.</td><td> /data/diy-and-crafts</td><td>diy-and-crafts</td></tr><tr><td>6063</td><td>60693727-4927-4bd6-a8c5-096a392d63e6</td><td>41 Gorgeous Fall Decor Ideas For Your Home - Chaylor & Mads</td><td>Beautiful and easy ways to update every room in your home with fall decor. Plus, my favorite finds in fall decor for 2020!</td><td>92000</td><td>Kristen | Lifestyle, Mom Tips & Teacher Stuff Blog</td><td>Fall Home Decor,Autumn Home,Fall Decor Outdoor,Front Porch Fall Decor,Home Decor Ideas,Porch Ideas For Fall,Fall Outdoor Decorating,Decorating Ideas For Fall,Fall Front Doors</td><td>image</td><td>https://i.pinimg.com/originals/e5/ae/dc/e5aedc14ce557e3a69f672e0f8c88f6e.png</td><td> /data/home-decor</td><td>home-decor</td></tr><tr><td>3454</td><td>46bd3f86-b09d-4e29-9033-7ff2df595e51</td><td>What can you use to color resin?</td><td>HELPFUL RESOURCES – Check out my resin colorants resources page here with links to all the products mentioned in this article (and more). Let me know if you have any that you lo… </td><td>6000</td><td>Mixed Media Crafts</td><td>Epoxy Resin Art,Diy Resin Art,Diy Resin Crafts,Resin Molds,Ice Resin,Resin Pour,Diy Epoxy,Diy Resin Painting,Diy Resin Dice</td><td>image</td><td>https://i.pinimg.com/originals/d4/12/78/d4127833023ca32600571ddca16f1556.jpg</td><td> /data/diy-and-crafts</td><td>diy-and-crafts</td></tr><tr><td>7554</td><td>c6fa12f4-0d4a-4b07-a335-5bf9f37f8281</td><td>Craig Style</td><td>imgentleboss: “ - More about men’s fashion at @Gentleboss - GB’s Facebook - ”</td><td>940</td><td>iElylike ..✿◕‿◕✿ஐ✿◕‿◕✿</td><td>Mens Fashion Blog,Look Fashion,Autumn Fashion,Fashion News,Fashion Sale,80s Fashion,Paris Fashion,Runway Fashion,Fashion Trends</td><td>image</td><td>https://i.pinimg.com/originals/e7/6e/8e/e76e8ed6cc838b84a934c6948a5caff7.jpg</td><td> /data/mens-fashion</td><td>mens-fashion</td></tr><tr><td>6145</td><td>82e13a07-db99-43a3-b1c0-89a4b75821da</td><td>HOLIDAY MANTLE DECOR - @AMAZON & @TARGET FINDS</td><td>Holiday mantle decor, Christmas decor, metallic mercury glass style Christmas trees, eucalyptus vine, evergreen pine branches, white neutral holiday decor, cozy mantle for the h… </td><td>83000</td><td>Stylin by Aylin</td><td>Winter Home Decor,Christmas Living Room Decor,Living Room Decor Cozy,Christmas Decor,Cozy Fireplace,Rustic Fireplace Decor,Fireplace Decorations,Rustic Room,House Decorations</td><td>image</td><td>https://i.pinimg.com/originals/9d/82/1a/9d821a80acd8f90c16454e978bd9b115.jpg</td><td> /data/home-decor</td><td>home-decor</td></tr><tr><td>10625</td><td>d31885b7-742a-4e2a-bbb7-ac5f9d334340</td><td>Jaguar Type E</td><td>1937 Jaguar SS100 - 2 1/2 Litre Roadster, one of the most sought after pre-war sports cars</td><td>8000</td><td>hobbyDB</td><td>Jaguar Type E,Jaguar Xk,Jaguar Cars,Jaguar Roadster,Jaguar Sport,Retro Cars,Vintage Cars,Antique Cars,British Sports Cars</td><td>image</td><td>https://i.pinimg.com/originals/26/81/a7/2681a71bd0c8f7fd0ab79c455338a49a.jpg</td><td> /data/vehicles</td><td>vehicles</td></tr><tr><td>2959</td><td>439cac4b-18e8-4aaa-88c5-edb26a701111</td><td>The Cutest Toilet Paper Crafts</td><td>One thing I love about Crafts is how the evolve! These toilet paper rolls are adorable and modern. I love that something as simple as a recycled toilet paper roll can be taken t… </td><td>502000</td><td>CraftGossip.com</td><td>Toilet Paper Roll Crafts,Cardboard Crafts,Diy Paper,Paper Crafting,Toilet Paper Rolls,Cardboard Playhouse,Paper Art,Kids Crafts,Toddler Crafts</td><td>image</td><td>https://i.pinimg.com/originals/c6/cd/0d/c6cd0d04da9cfc11566cfd34eeb1f918.jpg</td><td> /data/diy-and-crafts</td><td>diy-and-crafts</td></tr><tr><td>9875</td><td>782dcbad-ff91-40a6-ba60-216efe29adb7</td><td>European Bucket List: 35 Things NOT To Miss When Traveling Europe</td><td>35 European bucket list destinations for any traveler heading to Europe. From Cinque Terre, Italy to Iceland - there are so many amazing sites to see in Europe.</td><td>28000</td><td>Nicki </td><td>Backpacking Europe,Europe Travel Guide,Travel Guides,Travel Packing,Traveling Europe,Travelling,Travel Backpack,Budget Travel,2 Week Europe Itinerary</td><td>image</td><td>https://i.pinimg.com/originals/71/04/1a/71041ad83ede43d9665741e719c58a86.jpg</td><td> /data/travel</td><td>travel</td></tr><tr><td>2418</td><td>da8745a6-5160-46c4-877d-181d50a729fd</td><td>100 DIY Christmas Centerpieces You'll Love To Decorate Your Home With For The Christmas Season - Hike n Dip</td><td>Here are the best DIY Christmas Centerpieces ideas perfect for your Christmas & holiday season home decor. From Christmas Vignettes to Table Centerpieces.</td><td>500000</td><td>HikenDip</td><td>Farmhouse Christmas Decor,Rustic Christmas,Christmas Time,Vintage Christmas,Xmas,Primitive Christmas Crafts,Christmas Vignette,Indoor Christmas Decorations,Diy Christmas Ornaments</td><td>image</td><td>https://i.pinimg.com/originals/aa/6d/0f/aa6d0f44d7c1c96b998cb9aa6c4446b8.png</td><td> /data/christmas</td><td>christmas</td></tr><tr><td>3156</td><td>fa6e31a4-18c2-4eca-a6d8-e903eee2c2a4</td><td>Handprint Reindeer Ornaments - Crafty Morning</td><td>This post may contain affiliate links, read our Disclosure Policy for more information. As an Amazon Associate I earn from qualifying purchases, thank you! Make some cute handpr… </td><td>892000</td><td>Michelle {CraftyMorning.com}</td><td>Christmas Gifts For Parents,Christmas Decorations For Kids,Christmas Crafts For Toddlers,Preschool Christmas,Christmas Crafts For Gifts,Christmas Activities,Toddler Crafts,Kids Christmas,Christmas Feeling</td><td>image</td><td>https://i.pinimg.com/originals/ff/fe/38/fffe384f3ec18a0d87cb2d80cc8c1499.jpg</td><td> /data/diy-and-crafts</td><td>diy-and-crafts</td></tr><tr><td>428</td><td>610b3f83-9fe0-469d-946c-d16b577fca71</td><td>Fashion Designer Isaac Mizrahi’s Updated 1930s New York City Apartment</td><td>Fashion designer Issac Mizrahi’s Greenwich Village home is an amalgamation of three apartments that was 20 years in the making</td><td>3000000</td><td>Architectural Digest</td><td>Modern Art,Contemporary Art,Contemporary Kitchens,Contemporary Bedroom,New York City Apartment,Manhattan Apartment,Art Moderne,Architectural Digest,Painting Inspiration</td><td>image</td><td>https://i.pinimg.com/originals/f4/6c/54/f46c546a2e480022a42d842b7dca157e.jpg</td><td> /data/art</td><td>art</td></tr><tr><td>7343</td><td>b8c63a95-6fe8-4d7f-9455-1eef3462fee0</td><td>This Fashion Rule Is Nonsense, And We Should All Forget About It</td><td>Black And Brown Outfits You Need To Try This Fall Season. The trick with black and brown outfits is to know how to combine colors, fabrics, and shapes to get a cohesive look. So… </td><td>1000000</td><td>Cultura Colectiva</td><td>Winter Outfits Men,Stylish Mens Outfits,Casual Outfits,Men Casual,Smart Casual,Outfits For Men,Fall Outfits,Mens Winter Boots,Business Casual Men</td><td>image</td><td>https://i.pinimg.com/originals/3e/49/09/3e4909c0ccc4dbba3cad83d97eab4a61.png</td><td> /data/mens-fashion</td><td>mens-fashion</td></tr><tr><td>2074</td><td>86ed09a7-842d-496d-9501-010c654eb340</td><td>35 Christmas Decorating Ideas We Bet You Haven't Thought Of</td><td>20 Christmas Decorating Ideas We Bet You Haven't Thought Of via @PureWow</td><td>868000</td><td>PureWow</td><td>Holiday Centerpieces,Xmas Decorations,Centerpiece Ideas,Table Centerpieces,Valentine Decorations,Wedding Centerpieces,Outdoor Decorations,Christmas Centerpieces With Candles,Christmas Dining Table Decorations</td><td>image</td><td>https://i.pinimg.com/originals/e9/b9/f0/e9b9f01cc3b2cf41948b45854335396c.jpg</td><td> /data/christmas</td><td>christmas</td></tr><tr><td>9979</td><td>2b2abc85-fc51-481f-8ae6-17681993da28</td><td>Paris in the Summer. 10 fun things to do in Paris in the Summertime • Petite in Paris</td><td>Are you traveling to Paris during the summer? Find out what to do in Paris, France during the summer. Fun summertime activities in Paris. Enjoy the incredible outdoors when trav… </td><td>3000</td><td>Petite in Paris</td><td>Torre Eiffel Paris,Tour Eiffel,Picnic In Paris,Hello France,Voyage Europe,Destination Voyage,Beautiful Places To Travel,Travel Aesthetic,Paris Travel</td><td>image</td><td>https://i.pinimg.com/originals/6c/4c/90/6c4c90bba27ebf8c8bfe4c1acfb9f07a.jpg</td><td> /data/travel</td><td>travel</td></tr><tr><td>10138</td><td>927c4658-cc3f-4b92-9b5c-70743d0c238d</td><td>14 Amazing Things To Do In Costa Rica | Volcanoes, Waterfalls, Wildlife And More</td><td>This Costa Rica itinerary is the ultimate guide to spending two weeks in Costa Rica. Find out about visiting La Fortuna, Arenal, Monteverde, Naranjo, Corcovado National Park, Or… </td><td>10000</td><td>Wanderlust Chloe ✈️ Travel guides, inspo and adventure travel ✈️</td><td>Costa Rica Travel,Rio Celeste Costa Rica,Dream Vacations,Vacation Spots,Vacation Travel,Travel Pictures,Travel Photos,Fortuna Costa Rica,Costa Rica Pictures</td><td>image</td><td>https://i.pinimg.com/originals/30/93/cb/3093cb01d9de2d125fda8ba5e3e41946.jpg</td><td> /data/travel</td><td>travel</td></tr><tr><td>9672</td><td>1a5050a4-ac82-472c-aeff-3457de8bbee9</td><td>Lake Moraine, Banff, Canada</td><td>On our Calgary to Vancouver road trip we got to spend time in Banff, Canada. We visited the stunning Lake Moraine as well as Lake Louise and plenty of other of Canada's natural… </td><td>7000</td><td>Travel Mad Mum</td><td>Beautiful Places To Travel,Cool Places To Visit,Beautiful Roads,Beautiful Scenery,Wonderful Places,Lac Moraine,Moraine Lake,Lac Louise,Natur Wallpaper</td><td>video</td><td>https://i.pinimg.com/videos/thumbnails/originals/57/9d/52/579d52242ae5609978c754d393e44e81.0000001.jpg</td><td> /data/travel</td><td>travel</td></tr><tr><td>8653</td><td>24b1343c-4d86-4705-8ec9-7f1f2df2d77e</td><td>Unique Women Tattoos Ideas 2020</td><td>We welcome you to our latest collection of Beautiful Tattoo Ideas For Women. Check out and get inspired by the most beautiful design for yourself.</td><td>21000</td><td>ALL FOR WOMAN</td><td>Small Back Tattoos,Small Girl Tattoos,Little Tattoos,Tattoo Girls,Mini Tattoos,Tattoo Small,Back Tattoo Women,Tattoo On Back,Girl Back Tattoos</td><td>image</td><td>https://i.pinimg.com/originals/fa/cf/7c/facf7cd752a4bc7c09faaa8925ab80b1.jpg</td><td> /data/tattoos</td><td>tattoos</td></tr><tr><td>8887</td><td>5df9f6e5-07f5-4ce8-a82e-96586bbc05d8</td><td>25 Ultra Sexy Back Tattoo Ideas For Girls</td><td>Tattoos are one of the most efficient ways through which one decides to express themselves…</td><td>4000</td><td>RapidLeaks</td><td>Dream Tattoos,Body Art Tattoos,New Tattoos,Small Tattoos,Cross Tattoos,Random Tattoos,Fashion Tattoos,Bird Tattoos,Fitness Tattoos</td><td>image</td><td>https://i.pinimg.com/originals/ab/8e/50/ab8e505b04d4abc8f23e273c15f8a65d.jpg</td><td> /data/tattoos</td><td>tattoos</td></tr><tr><td>7922</td><td>a584581c-1b38-4731-a1cc-f36115ecf229</td><td>45 Top Life Quotes School Did Not Teach You</td><td>summcoco gives you inspiration for the women fashion trends you want. Thinking about a new look or lifestyle? This is your ultimate resource to get the hottest trends. 45 Top Li… </td><td>306000</td><td>Sumcoco | Decor Ideas, Hairstyles, Nails Fashion Advice</td><td>Life Quotes Love,Inspirational Quotes About Love,Mood Quotes,Motivational Quotes,Tears Quotes,Quotes About Sadness,Deep Quotes About Life,Quotes Quotes,Quote Life</td><td>image</td><td>https://i.pinimg.com/originals/bb/c0/e6/bbc0e6a797079505f11ac12bcb0b8c66.jpg</td><td> /data/quotes</td><td>quotes</td></tr><tr><td>1014</td><td>9ac94307-bb27-410e-b554-0a0ab6c19847</td><td>Hairstyles & Beauty</td><td>Untitled</td><td>0</td><td>Grecia Perales</td><td>Hair Inspo,Hair Inspiration,Motivation Inspiration,Cl Rapper,Foto Glamour,Kreative Portraits,Classy Aesthetic,Pretty Hairstyles,Hair Looks</td><td>image</td><td>https://i.pinimg.com/originals/af/c4/59/afc459bd6e1fd8f9aef212504afebf3a.jpg</td><td> /data/beauty</td><td>beauty</td></tr><tr><td>4913</td><td>4d2d79c6-9ca8-46c9-a38e-931c5d967804</td><td>How to Work From Home as an Event Planner</td><td>Do you love planning parties? Do you want to work-at-home? This post covers everything you need to know about becoming a home-based event planner!</td><td>110000</td><td>The Work at Home Woman</td><td>Event Planning Tips,Event Planning Business,Party Planning,Business Ideas,Craft Business,Business Chic,Business Inspiration,Business Goals,Business Opportunities</td><td>image</td><td>https://i.pinimg.com/originals/4d/a3/a4/4da3a4730418239f1b43ce81fb032c15.jpg</td><td> /data/event-planning</td><td>event-planning</td></tr><tr><td>4137</td><td>bf275054-4464-448b-9143-1bf101aa366d</td><td>15 Essential Classroom Items For First Year Teachers / First Year Teacher Must Haves</td><td>15 Essential Classroom Items For First Year Teachers / First Year Teacher Must Haves</td><td>5000</td><td>Write Your Story | Budgeting, Healthy Lifestyle, Faith</td><td>1st Year Teachers,First Year Teaching,First Grade Teachers,Elementary Teacher,Montessori Elementary,Teaching Reading,History Teachers,High School Classroom,First Grade Classroom</td><td>image</td><td>https://i.pinimg.com/originals/4b/b9/a8/4bb9a85f609a8384ed9c9ab14e7bcea0.jpg</td><td> /data/education</td><td>education</td></tr><tr><td>7166</td><td>4a844b03-e161-47a1-904b-591eb5dc4fb1</td><td>The Killers - Mr. Brightside - Women's T-Shirt - Heather Dark Grey / S</td><td>Women's T-shirt. Design inspired by the rock band The Killers' hit \"Mr. Brightside\". One of the greatest song from the album Hot Fuss released in 2004. Soft and light, 100% cott… </td><td>27</td><td>Mala Rock | Rock T-shirts</td><td>Mr Brightside,Rock T Shirts,Greatest Songs,Timeless Classic,Rock Bands,Album,T Shirts For Women,Inspired,Hot</td><td>image</td><td>https://i.pinimg.com/originals/8c/42/39/8c42391d35fcad51a4a79f7cd81bf26d.jpg</td><td> /data/mens-fashion</td><td>mens-fashion</td></tr><tr><td>9546</td><td>efd5b2d6-2f69-40cd-bb59-41f18c089e52</td><td>20 Amazing Trips to Take in Your Twenties!</td><td>The best trips to take when you are young!</td><td>89000</td><td>The World Pursuit Travel Website</td><td>Fun Places To Go,Beautiful Places To Travel,Best Places To Travel,Travel Jobs,Holiday Places,Future Travel,Travel Around The World,Adventure Travel,Travel Photos</td><td>video</td><td>https://i.pinimg.com/videos/thumbnails/originals/81/97/c1/8197c1beef8bcb19bea5d8b422211f34.0000001.jpg</td><td> /data/travel</td><td>travel</td></tr><tr><td>2411</td><td>4e11801e-7a64-4f1e-90dd-e900677595c5</td><td>The Sweetest Gingerbread House Ornaments Kids Can Make</td><td>Transform mini terra cotta pots into the sweetest gingerbread house ornaments! Kids will love making this adorable Christmas craft to hang on the tree.</td><td>20000</td><td>Projects with Kids</td><td>Noel Christmas,Diy Christmas Ornaments,Homemade Christmas,Simple Christmas,Gingerbread Ornaments,Christmas Gingerbread,Gingerbread Houses,Preschool Christmas,Ornaments Ideas</td><td>image</td><td>https://i.pinimg.com/originals/13/28/09/1328097d7c290d1bf8642b01a6ba1c6c.jpg</td><td> /data/christmas</td><td>christmas</td></tr><tr><td>9590</td><td>b849e976-52f6-45d7-8b25-51559318f167</td><td>Top 20 Things To See And Do In Ireland</td><td>Best spots to see for travel through Ireland!</td><td>130000</td><td>Fun Life Crisis</td><td>Vacation Ideas,Vacation Spots,Emerald Isle,London England,Travel Guides,Travel Tips,Travel Hacks,Travel Packing,Places To Travel</td><td>image</td><td>https://i.pinimg.com/originals/c7/50/d3/c750d36524856873d64406652d69b4fb.png</td><td> /data/travel</td><td>travel</td></tr><tr><td>2698</td><td>73f16302-4871-486a-8836-947530526337</td><td>DIY Dollar Tree Valentine's Day Wreath</td><td>DIY Dollar Store Valentine’s Day Heart Wreath Decoration. There are so many great Valentine crafts at the Dollar Tree right now! During our last trip, we picked up a few supplie… </td><td>9000</td><td>South Lumina Style</td><td>Valentine Day Wreaths,Valentines Day Hearts,Valentines Day Decorations,Valentine Day Crafts,Holiday Crafts,Diy Christmas,Christmas Wreaths,Valentine Tree,Printable Valentine</td><td>image</td><td>https://i.pinimg.com/originals/dc/f6/8a/dcf68adcc63c339c24fa5664f1115994.png</td><td> /data/diy-and-crafts</td><td>diy-and-crafts</td></tr><tr><td>4508</td><td>9064f4a2-2753-476c-815e-db360f45a93e</td><td>Custom Event and Shop Neon Sign Lights - Event & Shop</td><td>Personalize your event or shop with a customized neon sign. Make a statement with your own custom vibes! This light is 32 -40 inches (80cm-100cm) if you need something bigger, p… </td><td>111</td><td>Life of Neon | Custom Neon Light Signs | Home Decor Wall Art</td><td>Our Wedding,Wedding Venues,Dream Wedding,Wedding Cakes,Church Wedding,Wedding Flowers,Lace Wedding,Wedding Rings,Wedding Dresses</td><td>image</td><td>https://i.pinimg.com/originals/e9/c0/7c/e9c07cf0cf16cab23764a36718ab76c1.jpg</td><td> /data/event-planning</td><td>event-planning</td></tr><tr><td>831</td><td>5e65914d-9f58-4ff1-9676-658e426e8ce5</td><td>creating mixed-media faces tutorial</td><td>Free quick inspirational video on creating a mixed media face with acrylic, collage, stenciling and simple techniques. Come on over to watch</td><td>27000</td><td>Shawn Petite</td><td>Collage Kunst,Paper Collage Art,Collage Art Mixed Media,Mixed Media Painting,Mixed Media Canvas,Canvas Collage,Art Collages,Wall Canvas,Canvas Art</td><td>video</td><td>https://i.pinimg.com/videos/thumbnails/originals/05/86/a4/0586a4116e1fc34efc25e064ccd123e8.0000001.jpg</td><td> /data/art</td><td>art</td></tr><tr><td>5076</td><td>fa3af29c-dc78-4eed-a4c5-52a407ea04c0</td><td>Quiz: Test Your Event IQ! - Pointers For Planners</td><td>So you're thinking of getting your event planner certification, but how much do you REALLY know about event planning? Event planners need to be knowledgeable and able to answer… </td><td>5000</td><td>QC Career School</td><td>Diy Wedding Food,Best Wedding Makeup,Wedding Events,Wedding Tips,Wedding Stuff,Weddings,Event Planning Business,Business Events,Wedding Makeup Tutorial</td><td>image</td><td>https://i.pinimg.com/originals/6f/19/bc/6f19bce24921bf843540fc04da9eb6bf.jpg</td><td> /data/event-planning</td><td>event-planning</td></tr><tr><td>10663</td><td>d5208c16-82ae-4fd1-87f0-36e5ef789412</td><td>21+ Classic Car Picture of the 1950s - Vintagetopia</td><td>There are a lot of options of places to stay so you probably only have to book the initial one so you know the best place to land from the airport</td><td>171000</td><td>vintagetopia</td><td>Old Classic Cars,Classic Trucks,Old Vintage Cars,Antique Cars,Vintage Trucks,Antique Trucks,Cadillac,Convertible,Mustang</td><td>image</td><td>https://i.pinimg.com/originals/e9/01/4d/e9014d537dd2b81c606e8466cef3904c.jpg</td><td> /data/vehicles</td><td>vehicles</td></tr><tr><td>5468</td><td>91ee49f6-0070-4270-ba19-fde88ba51c91</td><td>Budgets, Spouses & Making It Work! - Tshanina Peterson</td><td>Don't fight about budgets and money with your spouse! Here are a few tips that we've found that make it work in our marriage!</td><td>313</td><td>Annamarie Hilton</td><td>Ways To Save Money,Money Tips,Money Saving Tips,How To Make Money,Managing Money,Saving Time,College Fund,Scholarships For College,Education College</td><td>image</td><td>https://i.pinimg.com/originals/37/d5/82/37d58296bcef3471a633c76b89d8625e.jpg</td><td> /data/finance</td><td>finance</td></tr><tr><td>205</td><td>f4afd543-b9fe-44c3-8064-f2198faa1372</td><td>DIY Abstract Heart Painting and a Fun Paint Party</td><td>Use our easy step by step tutorial to create a DIY abstract heart painting on any canvas size. Lots of inspiration to help you choose colors.</td><td>410000</td><td>The Creativity Exchange</td><td>Painting & Drawing,Watercolor Paintings,Original Paintings,Owl Watercolor,Acrylic Paintings,Owl Art,Bird Art,Beginner Painting,Animal Paintings</td><td>image</td><td>https://i.pinimg.com/originals/33/85/f8/3385f82ee5e8ecdcccdf798bdcbee3d2.jpg</td><td> /data/art</td><td>art</td></tr><tr><td>7790</td><td>9cd89fb9-d1af-4e66-85ca-c9d656c918b4</td><td>50 Heart Touching Sad Quotes That Will Make You Cry</td><td>Are you looking for some heart touching sad quotes and sayings; Here we have collected for you 50 best heart touching sad quotes..</td><td>112</td><td>AnnaLee Kick</td><td>Crush Quotes For Girls,Sad Crush Quotes,Hurt Quotes,Love Me Quotes,Mood Quotes,Quotes To Live By,Life Quotes,Quotes Quotes,Sad Quotes That Make You Cry</td><td>image</td><td>https://i.pinimg.com/originals/0c/0f/40/0c0f408d96458080e0c82adb50be8e8f.jpg</td><td> /data/quotes</td><td>quotes</td></tr><tr><td>8606</td><td>71757040-bfc8-4631-9cac-22801e61d9e3</td><td>30+ Eagle Tattoos Ideas for Women</td><td>summcoco gives you inspiration for the women fashion trends you want. Thinking about a new look or lifestyle? This is your ultimate resource to get the hottest trends. 30+ Eagle… </td><td>306000</td><td>Sumcoco | Decor Ideas, Hairstyles, Nails Fashion Advice</td><td>White Bird Tattoos,Rose Tattoos,Flower Tattoos,Tattoo Black,Bird And Flower Tattoo,Tattoo Floral,Mini Tattoos,Flower Art,Girls With Sleeve Tattoos</td><td>image</td><td>https://i.pinimg.com/originals/8d/c6/ed/8dc6ed0b212393187a14c7d07a88060f.png</td><td> /data/tattoos</td><td>tattoos</td></tr><tr><td>9759</td><td>d105eb6e-0f9f-46e7-8d02-d24b62f6ae90</td><td>8 Best Greek Islands You Have To Visit - TheFab20s</td><td>Although you'd think Greek islands are fairly similar, you'd be completely wrong! Each island has it's own personality and appeal. Here are the 8 Best Greek Islands to visit, es… </td><td>42000</td><td>TheFab20s | Travel+Food+DIY+Listicles</td><td>Greek Islands To Visit,Best Greek Islands,Greece Islands,Cool Places To Visit,Places To Go,Best Places In Portugal,Copenhagen Travel,Paros Island,Santorini Island</td><td>image</td><td>https://i.pinimg.com/originals/06/1d/ce/061dce38929dec8e74844442116bea4a.jpg</td><td> /data/travel</td><td>travel</td></tr><tr><td>719</td><td>d7c53e34-9540-4f48-a31b-89b6ed1852bb</td><td>10 Art Sub Lessons that only need a Pencil</td><td>10 art sub lessons that only need a pencil. Cover lessons for art teachers. Make the perfect art sub lessson folder with this amazing resources.</td><td>25000</td><td>The Arty Teacher</td><td>Art Lessons For Kids,Art Lessons Elementary,Art For Kids,Art Sub Plans,Art Lesson Plans,Art Substitute Plans,High School Art,Middle School Art,Primary School Art</td><td>image</td><td>https://i.pinimg.com/originals/ee/a8/78/eea878911033897d981a69d9f6b2fb7c.png</td><td> /data/art</td><td>art</td></tr><tr><td>1704</td><td>5fbf9863-fb79-477c-a5b6-540c3020a55f</td><td>Christmas Trees From Pallet Wood | Holiday DIY</td><td>Christmas Trees From Pallet Wood | Holiday DIY: Deck the yard with some fun outdoor Christmas Trees! We made these merry and bright decorations from two old pallets we had lying… </td><td>3000000</td><td>Instructables</td><td>Pallet Wood Christmas Tree,Wooden Christmas Crafts,Diy Christmas Tree,Christmas Projects,Holiday Crafts,Wooden Xmas Trees,Different Christmas Trees,Pallet Tree,Christmas Kitchen</td><td>image</td><td>https://i.pinimg.com/originals/64/7b/ca/647bca35169b7c144604116c64bcba8a.png</td><td> /data/christmas</td><td>christmas</td></tr><tr><td>2482</td><td>08604f20-fa17-4b9a-9949-781717eca6cd</td><td>FORNT PORCH CHRISTMAS DECORATING IDEAS</td><td>Christmas decorating ideas for porches. Beautiful holiday decor ideas for front porches both small and large. Outdoor decorations like sleds, lanterns, Christmas trees, wreaths,… </td><td>46000</td><td>Life on Summerhill | Home, Holiday Decor & DIY Website</td><td>Diy Christmas Decorations For Home,Farmhouse Christmas Decor,Christmas Home,Christmas Holidays,Christmas Front Porches,How To Decorate For Christmas,Christmas Porch Ideas,Christmas Decorating Ideas,Large Outdoor Christmas Decorations</td><td>video</td><td>https://i.pinimg.com/videos/thumbnails/originals/40/83/f5/4083f5b4971bf235f89a4784ab87271e.0000001.jpg</td><td> /data/christmas</td><td>christmas</td></tr><tr><td>8930</td><td>a2999c28-f7b2-4577-af87-49d21d6d8a18</td><td>135 Sunflower Tattoo Ideas - [Best Rated Designs in 2021]</td><td>We have put together the Ultimative Sunflower Tattoo Collection in 2020. Check out our highest rated handpicked Sunflower designs here!</td><td>800000</td><td>Next Luxury</td><td>Sunflower Tattoo Sleeve,Sunflower Tattoo Shoulder,Sunflower Tattoo Small,Sunflower Tattoos,Sunflower Tattoo Design,Shoulder Tattoo,Sunflower Mandala Tattoo,Sunflower Tattoo Meaning,Form Tattoo</td><td>image</td><td>https://i.pinimg.com/originals/18/de/6c/18de6c81a8637e224c7d63dce1414ceb.jpg</td><td> /data/tattoos</td><td>tattoos</td></tr><tr><td>7294</td><td>9d8409ef-bea7-4133-a021-c58b9c042210</td><td>Foolproof Fall Fashion For Men You'll Love</td><td>Looking for the coolest fall fashion for men this season? Click to read this article on fall fashion for men to look sharp on LLEGANCE.</td><td>28000</td><td>LLEGANCE | Workwear Fashion Woman Advice For Driven Professionals</td><td>Fashion 90s,Autumn Fashion,Fashion Ideas,Trendy Fashion,Fashion Photo,Fashion Outfits,Fashion Trends,Urban Fashion Men,Men's Casual Fashion</td><td>image</td><td>https://i.pinimg.com/originals/4c/bf/2d/4cbf2d6e04d2502612169220553f4cef.jpg</td><td> /data/mens-fashion</td><td>mens-fashion</td></tr><tr><td>808</td><td>23f67e42-db9f-4aae-8b82-cbec64ad9f4d</td><td>Chalk Pastel Hot Chocolate Art Project</td><td>Kids will use chalk pastels and black paper to create this bold and bright hot chocolate art project! Easy to follow tutorial included.</td><td>20000</td><td>Projects with Kids</td><td>Hot Chocolate Art,Chocolate Crafts,Art Activities For Kids,Preschool Art,Preschool Winter,Christmas Activities,Winter Art Projects,Clay Art Projects,Chalk Pastel Art</td><td>image</td><td>https://i.pinimg.com/originals/5a/d3/82/5ad38202cf8acb022cb8f46ce2a78ad6.jpg</td><td> /data/art</td><td>art</td></tr><tr><td>771</td><td>a5021766-a8aa-4dc7-9857-4da6b8e3dc1a</td><td>African Sunset Shadow Tracing Art - Taming Little Monsters</td><td>Use your mini world figures to create this beautiful African sunset. Your kids will love learning about shadows, angles and distortion in this fun art and STEM activity for kids.</td><td>4000</td><td>Taming Little Monsters - Fun Activities for Kids</td><td>African Art Projects,Cool Art Projects,Projects For Kids,African Art For Kids,African Crafts Kids,Art Club Projects,Art Education Projects,Tracing Art,African Sunset</td><td>image</td><td>https://i.pinimg.com/originals/e3/aa/35/e3aa350f8f104d0e59f26d7f17ea7461.png</td><td> /data/art</td><td>art</td></tr><tr><td>4076</td><td>3a52d364-7c04-47cb-a3e5-56d9e2b77528</td><td>Phonics Activities Your Kids Will Love - The Literacy Nest</td><td>Hi everyone! As a teacher using the Orton-Gillingham approach, I am constantly looking for phonics activities that my students will find fun and engaging. Using Orton-Gillingham… </td><td>22000</td><td>The Literacy Nest</td><td>Literacy Games,Kindergarten Activities,Literacy Centers,Fun Phonics Activities,Listening Activities,Vocabulary Games,Literacy Stations,Letter Activities,Montessori Activities</td><td>image</td><td>https://i.pinimg.com/originals/58/8e/38/588e380b19942a71a86a69d9c9973d25.png</td><td> /data/education</td><td>education</td></tr><tr><td>1545</td><td>0c629541-cc5b-4b61-bd3f-613346893258</td><td>Oil Cleansing Method: What it is and why you should do it.</td><td>The oil cleansing method is a simple, natural way to have clean skin without using toxic chemicals. It will leave your face radiant and soft!</td><td>85000</td><td>Thank Your Body</td><td>Beauty Care,Diy Beauty,Beauty Hacks,Beauty Shop,Oil Cleansing Method,Goji,Korean Skincare Routine,Homemade Beauty Products,Organic Beauty</td><td>image</td><td>https://i.pinimg.com/originals/2c/1c/da/2c1cda7da86ee711536bbacfe89c75c9.jpg</td><td> /data/beauty</td><td>beauty</td></tr><tr><td>2293</td><td>1fd7d4cc-54c1-4542-9c1f-449cb4c875f4</td><td>Over 40 of the BEST Homemade Christmas Ornament Ideas</td><td>Over 40 of the BEST Homemade Christmas Ornaments...these easy Holiday crafts are so fun to make for Kids and Adults! Lots of great class party ideas!</td><td>245000</td><td>Kitchen Fun With My 3 Sons</td><td>Diy Christmas Lights,Homemade Christmas Decorations,Christmas Crafts For Gifts,Mini Christmas Tree,Christmas Ornament Crafts,Homemade Christmas Gifts,Xmas Decorations,Simple Christmas,Handmade Christmas</td><td>image</td><td>https://i.pinimg.com/originals/d0/d3/a3/d0d3a31e87296224d5ba8896904b5b88.jpg</td><td> /data/christmas</td><td>christmas</td></tr><tr><td>10509</td><td>6a5f0e7e-1389-4e54-942f-4cb69f09f140</td><td>Flying Car</td><td>No description available Story format</td><td>89000</td><td>TheSuperBOO!</td><td>Electric Off Road Vehicle,Cool Illusions,Flying Vehicles,Wow Video,Art And Craft Videos,Top Luxury Cars,Chevy Muscle Cars,Street Racing Cars,Funny Videos Clean</td><td>multi-video(story page format)</td><td>https://i.pinimg.com/videos/thumbnails/originals/4a/d4/96/4ad4961606179854f1141a90f50f002c.0000001.jpg</td><td> /data/vehicles</td><td>vehicles</td></tr><tr><td>2015</td><td>72359164-4419-452c-81cb-74f30a5a26b7</td><td>16 Blissful Christmas Table Decor Ideas That You Must See</td><td>Take a look at this new collection of Christmas decor featuring 16 Blissful Christmas Table Decor Ideas That You Must See. Happy holidays!</td><td>616000</td><td>ArchitectureArtDesigns</td><td>Kids Crafts,Christmas Crafts For Kids,Homemade Christmas,Christmas Projects,Holiday Crafts,Christmas Gift Ideas,Preschool Christmas,Tree Crafts,Christmas Inspiration</td><td>image</td><td>https://i.pinimg.com/originals/5f/70/30/5f7030a35bb8a1491e915fb0ae29bcf5.jpg</td><td> /data/christmas</td><td>christmas</td></tr><tr><td>1094</td><td>6deacdcd-75ed-4dd8-8951-9b77453f38e0</td><td>9 colors lazy lipstick - 9 colors lazy lipstick4</td><td>9 colors lazy lipstick</td><td>8000</td><td>Jiew82633</td><td>Nail Inspo,Lazy,Lipstick,How To Apply,Makeup,Colors,Products,Make Up,Lipsticks</td><td>image</td><td>https://i.pinimg.com/originals/25/cf/8c/25cf8cb74b43ab95591342c2bbe4ecd8.jpg</td><td> /data/beauty</td><td>beauty</td></tr><tr><td>603</td><td>78e21a64-53b0-4745-8294-e8c456f0ccc1</td><td>How to Create Alcohol Ink Rings For Gorgeous Pieces of Art -</td><td>Learn to create alcohol ink rings for gorgeous pieces of art. Each ring sits on top of another, giving a multilayered appearance</td><td>7000</td><td>Kim Cook-Thirteen Chairs-Slates Mugs And Tees</td><td>Alcohol Ink Tiles,Alcohol Ink Glass,Alcohol Ink Crafts,Alcohol Ink Painting,Pour Painting,Zealand Tattoo,Copics,Types Of Art,Art Techniques</td><td>image</td><td>https://i.pinimg.com/originals/03/03/1f/03031fdc9775d0c06f61d68e51362379.png</td><td> /data/art</td><td>art</td></tr><tr><td>7768</td><td>ae1a61f6-d958-40fe-ba93-6a78b3a73178</td><td>16 Motivational Quotes Get You Inspired Today - Boss Babe Chronicles</td><td>motivation quotes</td><td>45000</td><td>Boss Babe Chronicles | Personal Development, Finances, Self Care</td><td>Motivacional Quotes,Motivational Quotes For Life,Uplifting Quotes,True Quotes,Words Quotes,Empowering Quotes,Boss Up Quotes,Inspirational Success Quotes,Boss Babe Quotes Work Hard</td><td>image</td><td>https://i.pinimg.com/originals/ee/b4/bc/eeb4bccdb074edb787ea61711e0c4dfd.jpg</td><td> /data/quotes</td><td>quotes</td></tr><tr><td>5630</td><td>d41e703c-c97c-4c5a-9f9c-338982ca7504</td><td>7 Insanely Useful Money Management Worksheets</td><td>Get your personal finance in order with these 8 fr…</td><td>46000</td><td>R.J. Weiss at The Ways To Wealth | Personal Finance | Debt Payoff</td><td>Ways To Save Money,Money Tips,Money Saving Tips,Money Budget,Saving Ideas,Budgeting Finances,Budgeting Tips,Planning Budget,Budget Planer</td><td>image</td><td>https://i.pinimg.com/originals/f1/4f/cc/f14fcc75ee73ff22c983bdce70c022e2.jpg</td><td> /data/finance</td><td>finance</td></tr><tr><td>8578</td><td>036ec267-658b-4dad-a097-8ef0b4f30c0d</td><td>Snake Collarbone Temporary Tattoo. Halloween Tattoos  Spooky | Etsy</td><td>Snake temporary tattoo for collarbone. Spooky 3D tattoo for Halloween Includes 2 copies, 1 for the right side and 1 for the left side Apply with water and remove anytime with ba… </td><td>0</td><td>Livitrevisani</td><td>Finger Tattoo Designs,Small Tattoo Designs,Finger Tattoos,Small 3d Tattoos,Cool Tattoos,Line Work Tattoo,Back Tattoo,Collarbone Tattoo,Tattoo Neck</td><td>image</td><td>https://i.pinimg.com/originals/d8/b7/a1/d8b7a11a3fe64e7fab91d3afb1536537.jpg</td><td> /data/tattoos</td><td>tattoos</td></tr><tr><td>9936</td><td>1f3154a6-13f0-4049-8d5c-faea15b9f07c</td><td>Chasing Waterfalls in Costa Rica</td><td>Volcanoes, hikes, and hot springs in Costa Rica! The ultimate 5 day travel itinerary. - #costarica #travel #blogging #blog #bucketlist</td><td>22000</td><td>Jess Wandering</td><td>Costa Rica Reisen,Costa Rica Travel,Vacation Places,Dream Vacations,Vacation Spots,Vacation Food,Vacation Ideas,Voyage Dubai,Beautiful Places To Travel</td><td>image</td><td>https://i.pinimg.com/originals/60/fe/4c/60fe4c3602e8e50e2e9f787ed27d2aba.jpg</td><td> /data/travel</td><td>travel</td></tr><tr><td>6844</td><td>69c3f268-274f-44bd-9cb4-427e64fefc44</td><td>♔the-fashman♔</td><td>billy-george: “Summer styles ”</td><td>377</td><td>Au'vey Smith</td><td>Fashion Week Hommes,La Fashion Week,Fashion Moda,Urban Fashion,Trendy Fashion,Fashion Spring,Fashion 2017,New Mens Fashion,Trendy Clothing</td><td>image</td><td>https://i.pinimg.com/originals/3c/8c/53/3c8c534cd02334c50047bd3a4feccce9.jpg</td><td> /data/mens-fashion</td><td>mens-fashion</td></tr><tr><td>3419</td><td>d0b80187-0171-49b2-8ee4-572984244f65</td><td>Easy Christmas Tree Crafts Ideas for toddlers and preschoolers | Sharing Our Experiences</td><td>Easy Christmas tree Craft Ideas for toddlers and preschoolers. Engage your kids in these DIY</td><td>3000</td><td>Kids Crafts & Free Preschool Printables- Sharing Our Experiences</td><td>Christmas Crafts For Kids To Make,Christmas Tree Painting,Christmas Activities For Kids,Easy Christmas Crafts For Toddlers,Kid Activities,Christmas Handprint Crafts,Christmas Tree Crafts,Christmas Baby,Xmas Tree</td><td>image</td><td>https://i.pinimg.com/originals/69/f0/75/69f075939d4449dffa69519756c30e26.png</td><td> /data/diy-and-crafts</td><td>diy-and-crafts</td></tr><tr><td>1268</td><td>e2f2cec5-cda5-42b2-ab9d-6dddf863e94e</td><td>Janet on Twitter</td><td>Here’s how to get long-lasting makeup, so you can do your face in the morning and be set for the entire day. Follow these makeup tips for foundation, lipstick and more using pro… </td><td>3000</td><td>Tony</td><td>Beauty Makeup,Eye Makeup,Diy Beauty,Beauty Ideas,Beauty Skin,Homemade Beauty,Wolf Makeup,Oily Skin Makeup,Face Beauty</td><td>image</td><td>https://i.pinimg.com/originals/d9/d1/3b/d9d13b9ac47d54940f05a75345a873d4.jpg</td><td> /data/beauty</td><td>beauty</td></tr></tbody></table></div>"
      ]
     },
     "metadata": {
      "application/vnd.databricks.v1+output": {
       "addedWidgets": {},
       "aggData": [],
       "aggError": "",
       "aggOverflow": false,
       "aggSchema": [],
       "aggSeriesLimitReached": false,
       "aggType": "",
       "arguments": {},
       "columnCustomDisplayInfos": {},
       "data": [
        [
         7528,
         "fbe53c66-3442-4773-b19e-d3ec6f54dddf",
         "No Title Data Available",
         "No description available Story format",
         null,
         "User Info Error",
         "N,o, ,T,a,g,s, ,A,v,a,i,l,a,b,l,e",
         "multi-video(story page format)",
         "Image src error.",
         " /data/mens-fashion",
         "mens-fashion"
        ],
        [
         2863,
         "9bf39437-42a6-4f02-99a0-9a0383d8cd70",
         "25 Super Fun Summer Crafts for Kids - Of Life and Lisa",
         "Keep the kids busy this summer with these easy diy crafts and projects. Creative and…",
         124000,
         "Of Life & Lisa | Lifestyle Blog",
         "Summer Crafts For Kids,Fun Crafts For Kids,Summer Kids,Toddler Crafts,Crafts To Do,Diy For Kids,Summer Snow,Diys For Summer,Craft Ideas For Girls",
         "image",
         "https://i.pinimg.com/originals/b3/bc/e2/b3bce2964e8c8975387b39660eed5f16.jpg",
         " /data/diy-and-crafts",
         "diy-and-crafts"
        ],
        [
         5730,
         "1e1f0c8b-9fcf-460b-9154-c775827206eb",
         "Island Oasis Coupon Organizer",
         "Description Coupon Organizer in a fun colorful fabric -island oasis, Great Size for the \"basic\" couponer - holds up to 500 coupons with ease, and is made long enough so that you… ",
         0,
         "Consuelo Aguirre",
         "Grocery Items,Grocery Coupons,Care Organization,Coupon Organization,Extreme Couponing,Couponing 101,Life Binder,Save My Money,Love Coupons",
         "image",
         "https://i.pinimg.com/originals/65/bb/ea/65bbeaf458907bb079317d8303c4fa0e.jpg",
         " /data/finance",
         "finance"
        ],
        [
         8304,
         "5b6d0913-25e4-43ab-839d-85d5516f78a4",
         "The #1 Reason You’re Not His Priority Anymore - Matthew Coast",
         "#lovequotes #matchmaker #matchmadeinheaven #loveyourself #respectyourself",
         51000,
         "Commitment Connection",
         "Wise Quotes,Quotable Quotes,Words Quotes,Wise Words,Quotes To Live By,Great Quotes,Motivational Quotes,Inspirational Quotes,Funny Quotes",
         "image",
         "https://i.pinimg.com/originals/c6/64/ee/c664ee71524fb5a6e7b7b49233f93b43.png",
         " /data/quotes",
         "quotes"
        ],
        [
         8731,
         "ea760f71-febf-4023-b592-d17396659039",
         "20 Koi Fish Tattoos For Lucky Men",
         "Koi fish tattoos are a popular choice for men who want to make a statement, thanks to their rich symbolism and bold design.",
         211000,
         "TheTrendSpotter",
         "Dr Tattoo,Wörter Tattoos,Pisces Tattoos,Tatoo Art,Dream Tattoos,Dope Tattoos,Mini Tattoos,Finger Tattoos,Body Art Tattoos",
         "image",
         "https://i.pinimg.com/originals/8a/0c/0a/8a0c0a7b6236565c519acd41ad1a52c0.jpg",
         " /data/tattoos",
         "tattoos"
        ],
        [
         1313,
         "44662045-e891-4821-8a19-ebe7eedd371a",
         "Liquid Lash Extensions Mascara",
         "Instantly create the look of lash extensions with this award-winning, best-selling mascara that won't clump, flake or smudge. Available in 3 shades!",
         43000,
         "Thrive Causemetics",
         "N,o, ,T,a,g,s, ,A,v,a,i,l,a,b,l,e",
         "video",
         "https://i.pinimg.com/videos/thumbnails/originals/69/84/e2/6984e20f3e262098fa9c0614c3453254.0000001.jpg",
         " /data/beauty",
         "beauty"
        ],
        [
         4315,
         "21b59ba9-829d-4c33-8c27-4cd4c56d26b8",
         "Podcasts for Teachers or Parents of Teenagers",
         "Podcasts for Teachers or Parents of Teenagers: Teaching teens middle school and high school can feel joyful and rewarding most days, but can also frustrate you with one challeng… ",
         25000,
         "Math Giraffe",
         "Middle School Classroom,High School Students,High School Teachers,Middle School Tips,High School Counseling,Ela Classroom,High School Science,Future Classroom,Google Classroom",
         "image",
         "https://i.pinimg.com/originals/50/19/31/501931a27ee4d076658980851b995b2c.jpg",
         " /data/education",
         "education"
        ],
        [
         10794,
         "c4bd2577-a7bb-4409-bb7a-17d5ed7e1cf1",
         "TireBuyer",
         "Nissan GT-R. Sick.",
         437,
         "Ray Uyemura",
         "Lowrider,Old Vintage Cars,Antique Cars,Austin Martin,Nissan Gtr Black,Jaguar,1959 Cadillac,Cadillac Ct6,Old School Cars",
         "image",
         "https://i.pinimg.com/originals/0d/29/9f/0d299f3df020395aa7ce8387f40fbeed.jpg",
         " /data/vehicles",
         "vehicles"
        ],
        [
         5494,
         "8fb2af68-543b-4639-8119-de33d28706ed",
         "Dave Ramsey's 7 Baby Steps: What Are They And Will They Work For You",
         "If you love budgeting, make sure to give Dave Ramsey's 7 Baby Steps a try. Follow these steps to begin your debt snowball, build an emergency fund, invest and reach riches. I ca… ",
         26000,
         "Living Low Key | Save Money, Make Money, & Frugal Living",
         "Financial Peace,Financial Tips,Saving Money Quotes,Total Money Makeover,Budgeting Finances,Money Management,Wealth Management,Personal Finance,Making Ideas",
         "image",
         "https://i.pinimg.com/originals/1e/9d/90/1e9d906e4e150e3b95187f3b76ea7c71.png",
         " /data/finance",
         "finance"
        ],
        [
         5069,
         "b75b6f87-deb3-444f-b29e-ce9161b2df49",
         "The Vault: Curated & Refined Wedding Inspiration",
         "Sacramento California Wedding 2 Chic Events & Design Jodi Yorston Photography Wilson Vineyards Barn Miosa Couture Yellow Barn Vineyard Outdoor Candles DIY",
         6000000,
         "Style Me Pretty",
         "60th Anniversary Parties,Anniversary Decorations,Golden Anniversary,25th Wedding Anniversary,Anniversary Pictures,Anniversary Ideas,Birthday Decorations,Event Planning Design,Event Design",
         "image",
         "https://i.pinimg.com/originals/7e/45/90/7e45905fefa36347e83333fd6d091140.jpg",
         " /data/event-planning",
         "event-planning"
        ],
        [
         2923,
         "52fa3af5-24a4-4ccb-8f17-9c3eb12327ee",
         "UFO Paper Plate Craft",
         "A fun space activity for kids. Preshoolers and kindergartners will love making their own alien spacecraft!",
         192000,
         "The Crafting Chicks",
         "Paper Plate Crafts For Kids,Fun Crafts For Kids,Summer Crafts,Toddler Crafts,Art For Kids,Outer Space Crafts For Kids,Kid Crafts,Space Kids,Back To School Crafts For Kids",
         "image",
         "https://i.pinimg.com/originals/6f/e8/aa/6fe8aa405513c6d2f77b5f47d17cdce8.jpg",
         " /data/diy-and-crafts",
         "diy-and-crafts"
        ],
        [
         3089,
         "88f9227e-88d0-4b1c-b0be-bcfc3028b8e2",
         "No Title Data Available",
         "No description available Story format",
         null,
         "User Info Error",
         "N,o, ,T,a,g,s, ,A,v,a,i,l,a,b,l,e",
         "multi-video(story page format)",
         "Image src error.",
         " /data/diy-and-crafts",
         "diy-and-crafts"
        ],
        [
         6063,
         "60693727-4927-4bd6-a8c5-096a392d63e6",
         "41 Gorgeous Fall Decor Ideas For Your Home - Chaylor & Mads",
         "Beautiful and easy ways to update every room in your home with fall decor. Plus, my favorite finds in fall decor for 2020!",
         92000,
         "Kristen | Lifestyle, Mom Tips & Teacher Stuff Blog",
         "Fall Home Decor,Autumn Home,Fall Decor Outdoor,Front Porch Fall Decor,Home Decor Ideas,Porch Ideas For Fall,Fall Outdoor Decorating,Decorating Ideas For Fall,Fall Front Doors",
         "image",
         "https://i.pinimg.com/originals/e5/ae/dc/e5aedc14ce557e3a69f672e0f8c88f6e.png",
         " /data/home-decor",
         "home-decor"
        ],
        [
         3454,
         "46bd3f86-b09d-4e29-9033-7ff2df595e51",
         "What can you use to color resin?",
         "HELPFUL RESOURCES – Check out my resin colorants resources page here with links to all the products mentioned in this article (and more). Let me know if you have any that you lo… ",
         6000,
         "Mixed Media Crafts",
         "Epoxy Resin Art,Diy Resin Art,Diy Resin Crafts,Resin Molds,Ice Resin,Resin Pour,Diy Epoxy,Diy Resin Painting,Diy Resin Dice",
         "image",
         "https://i.pinimg.com/originals/d4/12/78/d4127833023ca32600571ddca16f1556.jpg",
         " /data/diy-and-crafts",
         "diy-and-crafts"
        ],
        [
         7554,
         "c6fa12f4-0d4a-4b07-a335-5bf9f37f8281",
         "Craig Style",
         "imgentleboss: “ - More about men’s fashion at @Gentleboss - GB’s Facebook - ”",
         940,
         "iElylike ..✿◕‿◕✿ஐ✿◕‿◕✿",
         "Mens Fashion Blog,Look Fashion,Autumn Fashion,Fashion News,Fashion Sale,80s Fashion,Paris Fashion,Runway Fashion,Fashion Trends",
         "image",
         "https://i.pinimg.com/originals/e7/6e/8e/e76e8ed6cc838b84a934c6948a5caff7.jpg",
         " /data/mens-fashion",
         "mens-fashion"
        ],
        [
         6145,
         "82e13a07-db99-43a3-b1c0-89a4b75821da",
         "HOLIDAY MANTLE DECOR - @AMAZON & @TARGET FINDS",
         "Holiday mantle decor, Christmas decor, metallic mercury glass style Christmas trees, eucalyptus vine, evergreen pine branches, white neutral holiday decor, cozy mantle for the h… ",
         83000,
         "Stylin by Aylin",
         "Winter Home Decor,Christmas Living Room Decor,Living Room Decor Cozy,Christmas Decor,Cozy Fireplace,Rustic Fireplace Decor,Fireplace Decorations,Rustic Room,House Decorations",
         "image",
         "https://i.pinimg.com/originals/9d/82/1a/9d821a80acd8f90c16454e978bd9b115.jpg",
         " /data/home-decor",
         "home-decor"
        ],
        [
         10625,
         "d31885b7-742a-4e2a-bbb7-ac5f9d334340",
         "Jaguar Type E",
         "1937 Jaguar SS100 - 2 1/2 Litre Roadster, one of the most sought after pre-war sports cars",
         8000,
         "hobbyDB",
         "Jaguar Type E,Jaguar Xk,Jaguar Cars,Jaguar Roadster,Jaguar Sport,Retro Cars,Vintage Cars,Antique Cars,British Sports Cars",
         "image",
         "https://i.pinimg.com/originals/26/81/a7/2681a71bd0c8f7fd0ab79c455338a49a.jpg",
         " /data/vehicles",
         "vehicles"
        ],
        [
         2959,
         "439cac4b-18e8-4aaa-88c5-edb26a701111",
         "The Cutest Toilet Paper Crafts",
         "One thing I love about Crafts is how the evolve! These toilet paper rolls are adorable and modern. I love that something as simple as a recycled toilet paper roll can be taken t… ",
         502000,
         "CraftGossip.com",
         "Toilet Paper Roll Crafts,Cardboard Crafts,Diy Paper,Paper Crafting,Toilet Paper Rolls,Cardboard Playhouse,Paper Art,Kids Crafts,Toddler Crafts",
         "image",
         "https://i.pinimg.com/originals/c6/cd/0d/c6cd0d04da9cfc11566cfd34eeb1f918.jpg",
         " /data/diy-and-crafts",
         "diy-and-crafts"
        ],
        [
         9875,
         "782dcbad-ff91-40a6-ba60-216efe29adb7",
         "European Bucket List: 35 Things NOT To Miss When Traveling Europe",
         "35 European bucket list destinations for any traveler heading to Europe. From Cinque Terre, Italy to Iceland - there are so many amazing sites to see in Europe.",
         28000,
         "Nicki ",
         "Backpacking Europe,Europe Travel Guide,Travel Guides,Travel Packing,Traveling Europe,Travelling,Travel Backpack,Budget Travel,2 Week Europe Itinerary",
         "image",
         "https://i.pinimg.com/originals/71/04/1a/71041ad83ede43d9665741e719c58a86.jpg",
         " /data/travel",
         "travel"
        ],
        [
         2418,
         "da8745a6-5160-46c4-877d-181d50a729fd",
         "100 DIY Christmas Centerpieces You'll Love To Decorate Your Home With For The Christmas Season - Hike n Dip",
         "Here are the best DIY Christmas Centerpieces ideas perfect for your Christmas & holiday season home decor. From Christmas Vignettes to Table Centerpieces.",
         500000,
         "HikenDip",
         "Farmhouse Christmas Decor,Rustic Christmas,Christmas Time,Vintage Christmas,Xmas,Primitive Christmas Crafts,Christmas Vignette,Indoor Christmas Decorations,Diy Christmas Ornaments",
         "image",
         "https://i.pinimg.com/originals/aa/6d/0f/aa6d0f44d7c1c96b998cb9aa6c4446b8.png",
         " /data/christmas",
         "christmas"
        ],
        [
         3156,
         "fa6e31a4-18c2-4eca-a6d8-e903eee2c2a4",
         "Handprint Reindeer Ornaments - Crafty Morning",
         "This post may contain affiliate links, read our Disclosure Policy for more information. As an Amazon Associate I earn from qualifying purchases, thank you! Make some cute handpr… ",
         892000,
         "Michelle {CraftyMorning.com}",
         "Christmas Gifts For Parents,Christmas Decorations For Kids,Christmas Crafts For Toddlers,Preschool Christmas,Christmas Crafts For Gifts,Christmas Activities,Toddler Crafts,Kids Christmas,Christmas Feeling",
         "image",
         "https://i.pinimg.com/originals/ff/fe/38/fffe384f3ec18a0d87cb2d80cc8c1499.jpg",
         " /data/diy-and-crafts",
         "diy-and-crafts"
        ],
        [
         428,
         "610b3f83-9fe0-469d-946c-d16b577fca71",
         "Fashion Designer Isaac Mizrahi’s Updated 1930s New York City Apartment",
         "Fashion designer Issac Mizrahi’s Greenwich Village home is an amalgamation of three apartments that was 20 years in the making",
         3000000,
         "Architectural Digest",
         "Modern Art,Contemporary Art,Contemporary Kitchens,Contemporary Bedroom,New York City Apartment,Manhattan Apartment,Art Moderne,Architectural Digest,Painting Inspiration",
         "image",
         "https://i.pinimg.com/originals/f4/6c/54/f46c546a2e480022a42d842b7dca157e.jpg",
         " /data/art",
         "art"
        ],
        [
         7343,
         "b8c63a95-6fe8-4d7f-9455-1eef3462fee0",
         "This Fashion Rule Is Nonsense, And We Should All Forget About It",
         "Black And Brown Outfits You Need To Try This Fall Season. The trick with black and brown outfits is to know how to combine colors, fabrics, and shapes to get a cohesive look. So… ",
         1000000,
         "Cultura Colectiva",
         "Winter Outfits Men,Stylish Mens Outfits,Casual Outfits,Men Casual,Smart Casual,Outfits For Men,Fall Outfits,Mens Winter Boots,Business Casual Men",
         "image",
         "https://i.pinimg.com/originals/3e/49/09/3e4909c0ccc4dbba3cad83d97eab4a61.png",
         " /data/mens-fashion",
         "mens-fashion"
        ],
        [
         2074,
         "86ed09a7-842d-496d-9501-010c654eb340",
         "35 Christmas Decorating Ideas We Bet You Haven't Thought Of",
         "20 Christmas Decorating Ideas We Bet You Haven't Thought Of via @PureWow",
         868000,
         "PureWow",
         "Holiday Centerpieces,Xmas Decorations,Centerpiece Ideas,Table Centerpieces,Valentine Decorations,Wedding Centerpieces,Outdoor Decorations,Christmas Centerpieces With Candles,Christmas Dining Table Decorations",
         "image",
         "https://i.pinimg.com/originals/e9/b9/f0/e9b9f01cc3b2cf41948b45854335396c.jpg",
         " /data/christmas",
         "christmas"
        ],
        [
         9979,
         "2b2abc85-fc51-481f-8ae6-17681993da28",
         "Paris in the Summer. 10 fun things to do in Paris in the Summertime • Petite in Paris",
         "Are you traveling to Paris during the summer? Find out what to do in Paris, France during the summer. Fun summertime activities in Paris. Enjoy the incredible outdoors when trav… ",
         3000,
         "Petite in Paris",
         "Torre Eiffel Paris,Tour Eiffel,Picnic In Paris,Hello France,Voyage Europe,Destination Voyage,Beautiful Places To Travel,Travel Aesthetic,Paris Travel",
         "image",
         "https://i.pinimg.com/originals/6c/4c/90/6c4c90bba27ebf8c8bfe4c1acfb9f07a.jpg",
         " /data/travel",
         "travel"
        ],
        [
         10138,
         "927c4658-cc3f-4b92-9b5c-70743d0c238d",
         "14 Amazing Things To Do In Costa Rica | Volcanoes, Waterfalls, Wildlife And More",
         "This Costa Rica itinerary is the ultimate guide to spending two weeks in Costa Rica. Find out about visiting La Fortuna, Arenal, Monteverde, Naranjo, Corcovado National Park, Or… ",
         10000,
         "Wanderlust Chloe ✈️ Travel guides, inspo and adventure travel ✈️",
         "Costa Rica Travel,Rio Celeste Costa Rica,Dream Vacations,Vacation Spots,Vacation Travel,Travel Pictures,Travel Photos,Fortuna Costa Rica,Costa Rica Pictures",
         "image",
         "https://i.pinimg.com/originals/30/93/cb/3093cb01d9de2d125fda8ba5e3e41946.jpg",
         " /data/travel",
         "travel"
        ],
        [
         9672,
         "1a5050a4-ac82-472c-aeff-3457de8bbee9",
         "Lake Moraine, Banff, Canada",
         "On our Calgary to Vancouver road trip we got to spend time in Banff, Canada. We visited the stunning Lake Moraine as well as Lake Louise and plenty of other of Canada's natural… ",
         7000,
         "Travel Mad Mum",
         "Beautiful Places To Travel,Cool Places To Visit,Beautiful Roads,Beautiful Scenery,Wonderful Places,Lac Moraine,Moraine Lake,Lac Louise,Natur Wallpaper",
         "video",
         "https://i.pinimg.com/videos/thumbnails/originals/57/9d/52/579d52242ae5609978c754d393e44e81.0000001.jpg",
         " /data/travel",
         "travel"
        ],
        [
         8653,
         "24b1343c-4d86-4705-8ec9-7f1f2df2d77e",
         "Unique Women Tattoos Ideas 2020",
         "We welcome you to our latest collection of Beautiful Tattoo Ideas For Women. Check out and get inspired by the most beautiful design for yourself.",
         21000,
         "ALL FOR WOMAN",
         "Small Back Tattoos,Small Girl Tattoos,Little Tattoos,Tattoo Girls,Mini Tattoos,Tattoo Small,Back Tattoo Women,Tattoo On Back,Girl Back Tattoos",
         "image",
         "https://i.pinimg.com/originals/fa/cf/7c/facf7cd752a4bc7c09faaa8925ab80b1.jpg",
         " /data/tattoos",
         "tattoos"
        ],
        [
         8887,
         "5df9f6e5-07f5-4ce8-a82e-96586bbc05d8",
         "25 Ultra Sexy Back Tattoo Ideas For Girls",
         "Tattoos are one of the most efficient ways through which one decides to express themselves…",
         4000,
         "RapidLeaks",
         "Dream Tattoos,Body Art Tattoos,New Tattoos,Small Tattoos,Cross Tattoos,Random Tattoos,Fashion Tattoos,Bird Tattoos,Fitness Tattoos",
         "image",
         "https://i.pinimg.com/originals/ab/8e/50/ab8e505b04d4abc8f23e273c15f8a65d.jpg",
         " /data/tattoos",
         "tattoos"
        ],
        [
         7922,
         "a584581c-1b38-4731-a1cc-f36115ecf229",
         "45 Top Life Quotes School Did Not Teach You",
         "summcoco gives you inspiration for the women fashion trends you want. Thinking about a new look or lifestyle? This is your ultimate resource to get the hottest trends. 45 Top Li… ",
         306000,
         "Sumcoco | Decor Ideas, Hairstyles, Nails Fashion Advice",
         "Life Quotes Love,Inspirational Quotes About Love,Mood Quotes,Motivational Quotes,Tears Quotes,Quotes About Sadness,Deep Quotes About Life,Quotes Quotes,Quote Life",
         "image",
         "https://i.pinimg.com/originals/bb/c0/e6/bbc0e6a797079505f11ac12bcb0b8c66.jpg",
         " /data/quotes",
         "quotes"
        ],
        [
         1014,
         "9ac94307-bb27-410e-b554-0a0ab6c19847",
         "Hairstyles & Beauty",
         "Untitled",
         0,
         "Grecia Perales",
         "Hair Inspo,Hair Inspiration,Motivation Inspiration,Cl Rapper,Foto Glamour,Kreative Portraits,Classy Aesthetic,Pretty Hairstyles,Hair Looks",
         "image",
         "https://i.pinimg.com/originals/af/c4/59/afc459bd6e1fd8f9aef212504afebf3a.jpg",
         " /data/beauty",
         "beauty"
        ],
        [
         4913,
         "4d2d79c6-9ca8-46c9-a38e-931c5d967804",
         "How to Work From Home as an Event Planner",
         "Do you love planning parties? Do you want to work-at-home? This post covers everything you need to know about becoming a home-based event planner!",
         110000,
         "The Work at Home Woman",
         "Event Planning Tips,Event Planning Business,Party Planning,Business Ideas,Craft Business,Business Chic,Business Inspiration,Business Goals,Business Opportunities",
         "image",
         "https://i.pinimg.com/originals/4d/a3/a4/4da3a4730418239f1b43ce81fb032c15.jpg",
         " /data/event-planning",
         "event-planning"
        ],
        [
         4137,
         "bf275054-4464-448b-9143-1bf101aa366d",
         "15 Essential Classroom Items For First Year Teachers / First Year Teacher Must Haves",
         "15 Essential Classroom Items For First Year Teachers / First Year Teacher Must Haves",
         5000,
         "Write Your Story | Budgeting, Healthy Lifestyle, Faith",
         "1st Year Teachers,First Year Teaching,First Grade Teachers,Elementary Teacher,Montessori Elementary,Teaching Reading,History Teachers,High School Classroom,First Grade Classroom",
         "image",
         "https://i.pinimg.com/originals/4b/b9/a8/4bb9a85f609a8384ed9c9ab14e7bcea0.jpg",
         " /data/education",
         "education"
        ],
        [
         7166,
         "4a844b03-e161-47a1-904b-591eb5dc4fb1",
         "The Killers - Mr. Brightside - Women's T-Shirt - Heather Dark Grey / S",
         "Women's T-shirt. Design inspired by the rock band The Killers' hit \"Mr. Brightside\". One of the greatest song from the album Hot Fuss released in 2004. Soft and light, 100% cott… ",
         27,
         "Mala Rock | Rock T-shirts",
         "Mr Brightside,Rock T Shirts,Greatest Songs,Timeless Classic,Rock Bands,Album,T Shirts For Women,Inspired,Hot",
         "image",
         "https://i.pinimg.com/originals/8c/42/39/8c42391d35fcad51a4a79f7cd81bf26d.jpg",
         " /data/mens-fashion",
         "mens-fashion"
        ],
        [
         9546,
         "efd5b2d6-2f69-40cd-bb59-41f18c089e52",
         "20 Amazing Trips to Take in Your Twenties!",
         "The best trips to take when you are young!",
         89000,
         "The World Pursuit Travel Website",
         "Fun Places To Go,Beautiful Places To Travel,Best Places To Travel,Travel Jobs,Holiday Places,Future Travel,Travel Around The World,Adventure Travel,Travel Photos",
         "video",
         "https://i.pinimg.com/videos/thumbnails/originals/81/97/c1/8197c1beef8bcb19bea5d8b422211f34.0000001.jpg",
         " /data/travel",
         "travel"
        ],
        [
         2411,
         "4e11801e-7a64-4f1e-90dd-e900677595c5",
         "The Sweetest Gingerbread House Ornaments Kids Can Make",
         "Transform mini terra cotta pots into the sweetest gingerbread house ornaments! Kids will love making this adorable Christmas craft to hang on the tree.",
         20000,
         "Projects with Kids",
         "Noel Christmas,Diy Christmas Ornaments,Homemade Christmas,Simple Christmas,Gingerbread Ornaments,Christmas Gingerbread,Gingerbread Houses,Preschool Christmas,Ornaments Ideas",
         "image",
         "https://i.pinimg.com/originals/13/28/09/1328097d7c290d1bf8642b01a6ba1c6c.jpg",
         " /data/christmas",
         "christmas"
        ],
        [
         9590,
         "b849e976-52f6-45d7-8b25-51559318f167",
         "Top 20 Things To See And Do In Ireland",
         "Best spots to see for travel through Ireland!",
         130000,
         "Fun Life Crisis",
         "Vacation Ideas,Vacation Spots,Emerald Isle,London England,Travel Guides,Travel Tips,Travel Hacks,Travel Packing,Places To Travel",
         "image",
         "https://i.pinimg.com/originals/c7/50/d3/c750d36524856873d64406652d69b4fb.png",
         " /data/travel",
         "travel"
        ],
        [
         2698,
         "73f16302-4871-486a-8836-947530526337",
         "DIY Dollar Tree Valentine's Day Wreath",
         "DIY Dollar Store Valentine’s Day Heart Wreath Decoration. There are so many great Valentine crafts at the Dollar Tree right now! During our last trip, we picked up a few supplie… ",
         9000,
         "South Lumina Style",
         "Valentine Day Wreaths,Valentines Day Hearts,Valentines Day Decorations,Valentine Day Crafts,Holiday Crafts,Diy Christmas,Christmas Wreaths,Valentine Tree,Printable Valentine",
         "image",
         "https://i.pinimg.com/originals/dc/f6/8a/dcf68adcc63c339c24fa5664f1115994.png",
         " /data/diy-and-crafts",
         "diy-and-crafts"
        ],
        [
         4508,
         "9064f4a2-2753-476c-815e-db360f45a93e",
         "Custom Event and Shop Neon Sign Lights - Event & Shop",
         "Personalize your event or shop with a customized neon sign. Make a statement with your own custom vibes! This light is 32 -40 inches (80cm-100cm) if you need something bigger, p… ",
         111,
         "Life of Neon | Custom Neon Light Signs | Home Decor Wall Art",
         "Our Wedding,Wedding Venues,Dream Wedding,Wedding Cakes,Church Wedding,Wedding Flowers,Lace Wedding,Wedding Rings,Wedding Dresses",
         "image",
         "https://i.pinimg.com/originals/e9/c0/7c/e9c07cf0cf16cab23764a36718ab76c1.jpg",
         " /data/event-planning",
         "event-planning"
        ],
        [
         831,
         "5e65914d-9f58-4ff1-9676-658e426e8ce5",
         "creating mixed-media faces tutorial",
         "Free quick inspirational video on creating a mixed media face with acrylic, collage, stenciling and simple techniques. Come on over to watch",
         27000,
         "Shawn Petite",
         "Collage Kunst,Paper Collage Art,Collage Art Mixed Media,Mixed Media Painting,Mixed Media Canvas,Canvas Collage,Art Collages,Wall Canvas,Canvas Art",
         "video",
         "https://i.pinimg.com/videos/thumbnails/originals/05/86/a4/0586a4116e1fc34efc25e064ccd123e8.0000001.jpg",
         " /data/art",
         "art"
        ],
        [
         5076,
         "fa3af29c-dc78-4eed-a4c5-52a407ea04c0",
         "Quiz: Test Your Event IQ! - Pointers For Planners",
         "So you're thinking of getting your event planner certification, but how much do you REALLY know about event planning? Event planners need to be knowledgeable and able to answer… ",
         5000,
         "QC Career School",
         "Diy Wedding Food,Best Wedding Makeup,Wedding Events,Wedding Tips,Wedding Stuff,Weddings,Event Planning Business,Business Events,Wedding Makeup Tutorial",
         "image",
         "https://i.pinimg.com/originals/6f/19/bc/6f19bce24921bf843540fc04da9eb6bf.jpg",
         " /data/event-planning",
         "event-planning"
        ],
        [
         10663,
         "d5208c16-82ae-4fd1-87f0-36e5ef789412",
         "21+ Classic Car Picture of the 1950s - Vintagetopia",
         "There are a lot of options of places to stay so you probably only have to book the initial one so you know the best place to land from the airport",
         171000,
         "vintagetopia",
         "Old Classic Cars,Classic Trucks,Old Vintage Cars,Antique Cars,Vintage Trucks,Antique Trucks,Cadillac,Convertible,Mustang",
         "image",
         "https://i.pinimg.com/originals/e9/01/4d/e9014d537dd2b81c606e8466cef3904c.jpg",
         " /data/vehicles",
         "vehicles"
        ],
        [
         5468,
         "91ee49f6-0070-4270-ba19-fde88ba51c91",
         "Budgets, Spouses & Making It Work! - Tshanina Peterson",
         "Don't fight about budgets and money with your spouse! Here are a few tips that we've found that make it work in our marriage!",
         313,
         "Annamarie Hilton",
         "Ways To Save Money,Money Tips,Money Saving Tips,How To Make Money,Managing Money,Saving Time,College Fund,Scholarships For College,Education College",
         "image",
         "https://i.pinimg.com/originals/37/d5/82/37d58296bcef3471a633c76b89d8625e.jpg",
         " /data/finance",
         "finance"
        ],
        [
         205,
         "f4afd543-b9fe-44c3-8064-f2198faa1372",
         "DIY Abstract Heart Painting and a Fun Paint Party",
         "Use our easy step by step tutorial to create a DIY abstract heart painting on any canvas size. Lots of inspiration to help you choose colors.",
         410000,
         "The Creativity Exchange",
         "Painting & Drawing,Watercolor Paintings,Original Paintings,Owl Watercolor,Acrylic Paintings,Owl Art,Bird Art,Beginner Painting,Animal Paintings",
         "image",
         "https://i.pinimg.com/originals/33/85/f8/3385f82ee5e8ecdcccdf798bdcbee3d2.jpg",
         " /data/art",
         "art"
        ],
        [
         7790,
         "9cd89fb9-d1af-4e66-85ca-c9d656c918b4",
         "50 Heart Touching Sad Quotes That Will Make You Cry",
         "Are you looking for some heart touching sad quotes and sayings; Here we have collected for you 50 best heart touching sad quotes..",
         112,
         "AnnaLee Kick",
         "Crush Quotes For Girls,Sad Crush Quotes,Hurt Quotes,Love Me Quotes,Mood Quotes,Quotes To Live By,Life Quotes,Quotes Quotes,Sad Quotes That Make You Cry",
         "image",
         "https://i.pinimg.com/originals/0c/0f/40/0c0f408d96458080e0c82adb50be8e8f.jpg",
         " /data/quotes",
         "quotes"
        ],
        [
         8606,
         "71757040-bfc8-4631-9cac-22801e61d9e3",
         "30+ Eagle Tattoos Ideas for Women",
         "summcoco gives you inspiration for the women fashion trends you want. Thinking about a new look or lifestyle? This is your ultimate resource to get the hottest trends. 30+ Eagle… ",
         306000,
         "Sumcoco | Decor Ideas, Hairstyles, Nails Fashion Advice",
         "White Bird Tattoos,Rose Tattoos,Flower Tattoos,Tattoo Black,Bird And Flower Tattoo,Tattoo Floral,Mini Tattoos,Flower Art,Girls With Sleeve Tattoos",
         "image",
         "https://i.pinimg.com/originals/8d/c6/ed/8dc6ed0b212393187a14c7d07a88060f.png",
         " /data/tattoos",
         "tattoos"
        ],
        [
         9759,
         "d105eb6e-0f9f-46e7-8d02-d24b62f6ae90",
         "8 Best Greek Islands You Have To Visit - TheFab20s",
         "Although you'd think Greek islands are fairly similar, you'd be completely wrong! Each island has it's own personality and appeal. Here are the 8 Best Greek Islands to visit, es… ",
         42000,
         "TheFab20s | Travel+Food+DIY+Listicles",
         "Greek Islands To Visit,Best Greek Islands,Greece Islands,Cool Places To Visit,Places To Go,Best Places In Portugal,Copenhagen Travel,Paros Island,Santorini Island",
         "image",
         "https://i.pinimg.com/originals/06/1d/ce/061dce38929dec8e74844442116bea4a.jpg",
         " /data/travel",
         "travel"
        ],
        [
         719,
         "d7c53e34-9540-4f48-a31b-89b6ed1852bb",
         "10 Art Sub Lessons that only need a Pencil",
         "10 art sub lessons that only need a pencil. Cover lessons for art teachers. Make the perfect art sub lessson folder with this amazing resources.",
         25000,
         "The Arty Teacher",
         "Art Lessons For Kids,Art Lessons Elementary,Art For Kids,Art Sub Plans,Art Lesson Plans,Art Substitute Plans,High School Art,Middle School Art,Primary School Art",
         "image",
         "https://i.pinimg.com/originals/ee/a8/78/eea878911033897d981a69d9f6b2fb7c.png",
         " /data/art",
         "art"
        ],
        [
         1704,
         "5fbf9863-fb79-477c-a5b6-540c3020a55f",
         "Christmas Trees From Pallet Wood | Holiday DIY",
         "Christmas Trees From Pallet Wood | Holiday DIY: Deck the yard with some fun outdoor Christmas Trees! We made these merry and bright decorations from two old pallets we had lying… ",
         3000000,
         "Instructables",
         "Pallet Wood Christmas Tree,Wooden Christmas Crafts,Diy Christmas Tree,Christmas Projects,Holiday Crafts,Wooden Xmas Trees,Different Christmas Trees,Pallet Tree,Christmas Kitchen",
         "image",
         "https://i.pinimg.com/originals/64/7b/ca/647bca35169b7c144604116c64bcba8a.png",
         " /data/christmas",
         "christmas"
        ],
        [
         2482,
         "08604f20-fa17-4b9a-9949-781717eca6cd",
         "FORNT PORCH CHRISTMAS DECORATING IDEAS",
         "Christmas decorating ideas for porches. Beautiful holiday decor ideas for front porches both small and large. Outdoor decorations like sleds, lanterns, Christmas trees, wreaths,… ",
         46000,
         "Life on Summerhill | Home, Holiday Decor & DIY Website",
         "Diy Christmas Decorations For Home,Farmhouse Christmas Decor,Christmas Home,Christmas Holidays,Christmas Front Porches,How To Decorate For Christmas,Christmas Porch Ideas,Christmas Decorating Ideas,Large Outdoor Christmas Decorations",
         "video",
         "https://i.pinimg.com/videos/thumbnails/originals/40/83/f5/4083f5b4971bf235f89a4784ab87271e.0000001.jpg",
         " /data/christmas",
         "christmas"
        ],
        [
         8930,
         "a2999c28-f7b2-4577-af87-49d21d6d8a18",
         "135 Sunflower Tattoo Ideas - [Best Rated Designs in 2021]",
         "We have put together the Ultimative Sunflower Tattoo Collection in 2020. Check out our highest rated handpicked Sunflower designs here!",
         800000,
         "Next Luxury",
         "Sunflower Tattoo Sleeve,Sunflower Tattoo Shoulder,Sunflower Tattoo Small,Sunflower Tattoos,Sunflower Tattoo Design,Shoulder Tattoo,Sunflower Mandala Tattoo,Sunflower Tattoo Meaning,Form Tattoo",
         "image",
         "https://i.pinimg.com/originals/18/de/6c/18de6c81a8637e224c7d63dce1414ceb.jpg",
         " /data/tattoos",
         "tattoos"
        ],
        [
         7294,
         "9d8409ef-bea7-4133-a021-c58b9c042210",
         "Foolproof Fall Fashion For Men You'll Love",
         "Looking for the coolest fall fashion for men this season? Click to read this article on fall fashion for men to look sharp on LLEGANCE.",
         28000,
         "LLEGANCE | Workwear Fashion Woman Advice For Driven Professionals",
         "Fashion 90s,Autumn Fashion,Fashion Ideas,Trendy Fashion,Fashion Photo,Fashion Outfits,Fashion Trends,Urban Fashion Men,Men's Casual Fashion",
         "image",
         "https://i.pinimg.com/originals/4c/bf/2d/4cbf2d6e04d2502612169220553f4cef.jpg",
         " /data/mens-fashion",
         "mens-fashion"
        ],
        [
         808,
         "23f67e42-db9f-4aae-8b82-cbec64ad9f4d",
         "Chalk Pastel Hot Chocolate Art Project",
         "Kids will use chalk pastels and black paper to create this bold and bright hot chocolate art project! Easy to follow tutorial included.",
         20000,
         "Projects with Kids",
         "Hot Chocolate Art,Chocolate Crafts,Art Activities For Kids,Preschool Art,Preschool Winter,Christmas Activities,Winter Art Projects,Clay Art Projects,Chalk Pastel Art",
         "image",
         "https://i.pinimg.com/originals/5a/d3/82/5ad38202cf8acb022cb8f46ce2a78ad6.jpg",
         " /data/art",
         "art"
        ],
        [
         771,
         "a5021766-a8aa-4dc7-9857-4da6b8e3dc1a",
         "African Sunset Shadow Tracing Art - Taming Little Monsters",
         "Use your mini world figures to create this beautiful African sunset. Your kids will love learning about shadows, angles and distortion in this fun art and STEM activity for kids.",
         4000,
         "Taming Little Monsters - Fun Activities for Kids",
         "African Art Projects,Cool Art Projects,Projects For Kids,African Art For Kids,African Crafts Kids,Art Club Projects,Art Education Projects,Tracing Art,African Sunset",
         "image",
         "https://i.pinimg.com/originals/e3/aa/35/e3aa350f8f104d0e59f26d7f17ea7461.png",
         " /data/art",
         "art"
        ],
        [
         4076,
         "3a52d364-7c04-47cb-a3e5-56d9e2b77528",
         "Phonics Activities Your Kids Will Love - The Literacy Nest",
         "Hi everyone! As a teacher using the Orton-Gillingham approach, I am constantly looking for phonics activities that my students will find fun and engaging. Using Orton-Gillingham… ",
         22000,
         "The Literacy Nest",
         "Literacy Games,Kindergarten Activities,Literacy Centers,Fun Phonics Activities,Listening Activities,Vocabulary Games,Literacy Stations,Letter Activities,Montessori Activities",
         "image",
         "https://i.pinimg.com/originals/58/8e/38/588e380b19942a71a86a69d9c9973d25.png",
         " /data/education",
         "education"
        ],
        [
         1545,
         "0c629541-cc5b-4b61-bd3f-613346893258",
         "Oil Cleansing Method: What it is and why you should do it.",
         "The oil cleansing method is a simple, natural way to have clean skin without using toxic chemicals. It will leave your face radiant and soft!",
         85000,
         "Thank Your Body",
         "Beauty Care,Diy Beauty,Beauty Hacks,Beauty Shop,Oil Cleansing Method,Goji,Korean Skincare Routine,Homemade Beauty Products,Organic Beauty",
         "image",
         "https://i.pinimg.com/originals/2c/1c/da/2c1cda7da86ee711536bbacfe89c75c9.jpg",
         " /data/beauty",
         "beauty"
        ],
        [
         2293,
         "1fd7d4cc-54c1-4542-9c1f-449cb4c875f4",
         "Over 40 of the BEST Homemade Christmas Ornament Ideas",
         "Over 40 of the BEST Homemade Christmas Ornaments...these easy Holiday crafts are so fun to make for Kids and Adults! Lots of great class party ideas!",
         245000,
         "Kitchen Fun With My 3 Sons",
         "Diy Christmas Lights,Homemade Christmas Decorations,Christmas Crafts For Gifts,Mini Christmas Tree,Christmas Ornament Crafts,Homemade Christmas Gifts,Xmas Decorations,Simple Christmas,Handmade Christmas",
         "image",
         "https://i.pinimg.com/originals/d0/d3/a3/d0d3a31e87296224d5ba8896904b5b88.jpg",
         " /data/christmas",
         "christmas"
        ],
        [
         10509,
         "6a5f0e7e-1389-4e54-942f-4cb69f09f140",
         "Flying Car",
         "No description available Story format",
         89000,
         "TheSuperBOO!",
         "Electric Off Road Vehicle,Cool Illusions,Flying Vehicles,Wow Video,Art And Craft Videos,Top Luxury Cars,Chevy Muscle Cars,Street Racing Cars,Funny Videos Clean",
         "multi-video(story page format)",
         "https://i.pinimg.com/videos/thumbnails/originals/4a/d4/96/4ad4961606179854f1141a90f50f002c.0000001.jpg",
         " /data/vehicles",
         "vehicles"
        ],
        [
         2015,
         "72359164-4419-452c-81cb-74f30a5a26b7",
         "16 Blissful Christmas Table Decor Ideas That You Must See",
         "Take a look at this new collection of Christmas decor featuring 16 Blissful Christmas Table Decor Ideas That You Must See. Happy holidays!",
         616000,
         "ArchitectureArtDesigns",
         "Kids Crafts,Christmas Crafts For Kids,Homemade Christmas,Christmas Projects,Holiday Crafts,Christmas Gift Ideas,Preschool Christmas,Tree Crafts,Christmas Inspiration",
         "image",
         "https://i.pinimg.com/originals/5f/70/30/5f7030a35bb8a1491e915fb0ae29bcf5.jpg",
         " /data/christmas",
         "christmas"
        ],
        [
         1094,
         "6deacdcd-75ed-4dd8-8951-9b77453f38e0",
         "9 colors lazy lipstick - 9 colors lazy lipstick4",
         "9 colors lazy lipstick",
         8000,
         "Jiew82633",
         "Nail Inspo,Lazy,Lipstick,How To Apply,Makeup,Colors,Products,Make Up,Lipsticks",
         "image",
         "https://i.pinimg.com/originals/25/cf/8c/25cf8cb74b43ab95591342c2bbe4ecd8.jpg",
         " /data/beauty",
         "beauty"
        ],
        [
         603,
         "78e21a64-53b0-4745-8294-e8c456f0ccc1",
         "How to Create Alcohol Ink Rings For Gorgeous Pieces of Art -",
         "Learn to create alcohol ink rings for gorgeous pieces of art. Each ring sits on top of another, giving a multilayered appearance",
         7000,
         "Kim Cook-Thirteen Chairs-Slates Mugs And Tees",
         "Alcohol Ink Tiles,Alcohol Ink Glass,Alcohol Ink Crafts,Alcohol Ink Painting,Pour Painting,Zealand Tattoo,Copics,Types Of Art,Art Techniques",
         "image",
         "https://i.pinimg.com/originals/03/03/1f/03031fdc9775d0c06f61d68e51362379.png",
         " /data/art",
         "art"
        ],
        [
         7768,
         "ae1a61f6-d958-40fe-ba93-6a78b3a73178",
         "16 Motivational Quotes Get You Inspired Today - Boss Babe Chronicles",
         "motivation quotes",
         45000,
         "Boss Babe Chronicles | Personal Development, Finances, Self Care",
         "Motivacional Quotes,Motivational Quotes For Life,Uplifting Quotes,True Quotes,Words Quotes,Empowering Quotes,Boss Up Quotes,Inspirational Success Quotes,Boss Babe Quotes Work Hard",
         "image",
         "https://i.pinimg.com/originals/ee/b4/bc/eeb4bccdb074edb787ea61711e0c4dfd.jpg",
         " /data/quotes",
         "quotes"
        ],
        [
         5630,
         "d41e703c-c97c-4c5a-9f9c-338982ca7504",
         "7 Insanely Useful Money Management Worksheets",
         "Get your personal finance in order with these 8 fr…",
         46000,
         "R.J. Weiss at The Ways To Wealth | Personal Finance | Debt Payoff",
         "Ways To Save Money,Money Tips,Money Saving Tips,Money Budget,Saving Ideas,Budgeting Finances,Budgeting Tips,Planning Budget,Budget Planer",
         "image",
         "https://i.pinimg.com/originals/f1/4f/cc/f14fcc75ee73ff22c983bdce70c022e2.jpg",
         " /data/finance",
         "finance"
        ],
        [
         8578,
         "036ec267-658b-4dad-a097-8ef0b4f30c0d",
         "Snake Collarbone Temporary Tattoo. Halloween Tattoos  Spooky | Etsy",
         "Snake temporary tattoo for collarbone. Spooky 3D tattoo for Halloween Includes 2 copies, 1 for the right side and 1 for the left side Apply with water and remove anytime with ba… ",
         0,
         "Livitrevisani",
         "Finger Tattoo Designs,Small Tattoo Designs,Finger Tattoos,Small 3d Tattoos,Cool Tattoos,Line Work Tattoo,Back Tattoo,Collarbone Tattoo,Tattoo Neck",
         "image",
         "https://i.pinimg.com/originals/d8/b7/a1/d8b7a11a3fe64e7fab91d3afb1536537.jpg",
         " /data/tattoos",
         "tattoos"
        ],
        [
         9936,
         "1f3154a6-13f0-4049-8d5c-faea15b9f07c",
         "Chasing Waterfalls in Costa Rica",
         "Volcanoes, hikes, and hot springs in Costa Rica! The ultimate 5 day travel itinerary. - #costarica #travel #blogging #blog #bucketlist",
         22000,
         "Jess Wandering",
         "Costa Rica Reisen,Costa Rica Travel,Vacation Places,Dream Vacations,Vacation Spots,Vacation Food,Vacation Ideas,Voyage Dubai,Beautiful Places To Travel",
         "image",
         "https://i.pinimg.com/originals/60/fe/4c/60fe4c3602e8e50e2e9f787ed27d2aba.jpg",
         " /data/travel",
         "travel"
        ],
        [
         6844,
         "69c3f268-274f-44bd-9cb4-427e64fefc44",
         "♔the-fashman♔",
         "billy-george: “Summer styles ”",
         377,
         "Au'vey Smith",
         "Fashion Week Hommes,La Fashion Week,Fashion Moda,Urban Fashion,Trendy Fashion,Fashion Spring,Fashion 2017,New Mens Fashion,Trendy Clothing",
         "image",
         "https://i.pinimg.com/originals/3c/8c/53/3c8c534cd02334c50047bd3a4feccce9.jpg",
         " /data/mens-fashion",
         "mens-fashion"
        ],
        [
         3419,
         "d0b80187-0171-49b2-8ee4-572984244f65",
         "Easy Christmas Tree Crafts Ideas for toddlers and preschoolers | Sharing Our Experiences",
         "Easy Christmas tree Craft Ideas for toddlers and preschoolers. Engage your kids in these DIY",
         3000,
         "Kids Crafts & Free Preschool Printables- Sharing Our Experiences",
         "Christmas Crafts For Kids To Make,Christmas Tree Painting,Christmas Activities For Kids,Easy Christmas Crafts For Toddlers,Kid Activities,Christmas Handprint Crafts,Christmas Tree Crafts,Christmas Baby,Xmas Tree",
         "image",
         "https://i.pinimg.com/originals/69/f0/75/69f075939d4449dffa69519756c30e26.png",
         " /data/diy-and-crafts",
         "diy-and-crafts"
        ],
        [
         1268,
         "e2f2cec5-cda5-42b2-ab9d-6dddf863e94e",
         "Janet on Twitter",
         "Here’s how to get long-lasting makeup, so you can do your face in the morning and be set for the entire day. Follow these makeup tips for foundation, lipstick and more using pro… ",
         3000,
         "Tony",
         "Beauty Makeup,Eye Makeup,Diy Beauty,Beauty Ideas,Beauty Skin,Homemade Beauty,Wolf Makeup,Oily Skin Makeup,Face Beauty",
         "image",
         "https://i.pinimg.com/originals/d9/d1/3b/d9d13b9ac47d54940f05a75345a873d4.jpg",
         " /data/beauty",
         "beauty"
        ]
       ],
       "datasetInfos": [],
       "dbfsResultPath": null,
       "isJsonSchema": true,
       "metadata": {},
       "overflow": false,
       "plotOptions": {
        "customPlotOptions": {},
        "displayType": "table",
        "pivotAggregation": null,
        "pivotColumns": null,
        "xColumns": null,
        "yColumns": null
       },
       "removedWidgets": [],
       "schema": [
        {
         "metadata": "{}",
         "name": "ind",
         "type": "\"integer\""
        },
        {
         "metadata": "{}",
         "name": "unique_id",
         "type": "\"string\""
        },
        {
         "metadata": "{}",
         "name": "title",
         "type": "\"string\""
        },
        {
         "metadata": "{}",
         "name": "description",
         "type": "\"string\""
        },
        {
         "metadata": "{}",
         "name": "follower_count",
         "type": "\"integer\""
        },
        {
         "metadata": "{}",
         "name": "poster_name",
         "type": "\"string\""
        },
        {
         "metadata": "{}",
         "name": "tag_list",
         "type": "\"string\""
        },
        {
         "metadata": "{}",
         "name": "is_image_or_video",
         "type": "\"string\""
        },
        {
         "metadata": "{}",
         "name": "image_src",
         "type": "\"string\""
        },
        {
         "metadata": "{}",
         "name": "save_location",
         "type": "\"string\""
        },
        {
         "metadata": "{}",
         "name": "category",
         "type": "\"string\""
        }
       ],
       "type": "table"
      }
     },
     "output_type": "display_data"
    }
   ],
   "source": [
    "df_P = clean_pin(df_pin)\n",
    "df_P.printSchema()\n",
    "display(df_P)"
   ]
  },
  {
   "cell_type": "code",
   "execution_count": 0,
   "metadata": {
    "application/vnd.databricks.v1+cell": {
     "cellMetadata": {
      "byteLimit": 2048000,
      "rowLimit": 10000
     },
     "inputWidgets": {},
     "nuid": "ad9d7bb2-dfc6-4419-bdf2-a4e999373578",
     "showTitle": false,
     "title": ""
    }
   },
   "outputs": [
    {
     "output_type": "display_data",
     "data": {
      "text/html": [
       "<style scoped>\n",
       "  .table-result-container {\n",
       "    max-height: 300px;\n",
       "    overflow: auto;\n",
       "  }\n",
       "  table, th, td {\n",
       "    border: 1px solid black;\n",
       "    border-collapse: collapse;\n",
       "  }\n",
       "  th, td {\n",
       "    padding: 5px;\n",
       "  }\n",
       "  th {\n",
       "    text-align: left;\n",
       "  }\n",
       "</style><div class='table-result-container'><table class='table-result'><thead style='background-color: white'><tr><th>ind</th><th>country</th><th>coordinates</th><th>timestamp</th></tr></thead><tbody><tr><td>7528</td><td>Albania</td><td>-89.9787, -173.293</td><td>2020-08-28T03:52:47.000+0000</td></tr><tr><td>2863</td><td>Armenia</td><td>-5.34445, -177.924</td><td>2020-04-27T13:34:16.000+0000</td></tr><tr><td>5730</td><td>Colombia</td><td>-77.015, -101.437</td><td>2021-04-19T17:37:03.000+0000</td></tr><tr><td>8304</td><td>French Guiana</td><td>-28.8852, -164.87</td><td>2019-09-13T04:50:29.000+0000</td></tr><tr><td>8731</td><td>Aruba</td><td>-83.104, -171.302</td><td>2020-07-17T04:39:09.000+0000</td></tr><tr><td>1313</td><td>Maldives</td><td>77.0447, 61.9119</td><td>2018-06-26T02:39:25.000+0000</td></tr><tr><td>4315</td><td>Cote d'Ivoire</td><td>-45.8508, 66.1003</td><td>2019-12-15T03:51:28.000+0000</td></tr><tr><td>10794</td><td>Cocos (Keeling) Islands</td><td>-89.5236, -154.567</td><td>2022-01-01T02:26:50.000+0000</td></tr><tr><td>5494</td><td>Bulgaria</td><td>-82.6768, -129.202</td><td>2021-07-21T02:02:35.000+0000</td></tr><tr><td>5069</td><td>Azerbaijan</td><td>-63.0063, -157.474</td><td>2021-03-20T09:32:44.000+0000</td></tr><tr><td>2923</td><td>Cote d'Ivoire</td><td>-84.6302, -164.507</td><td>2019-09-08T22:53:09.000+0000</td></tr><tr><td>3089</td><td>Albania</td><td>-89.9787, -173.293</td><td>2018-02-28T05:31:29.000+0000</td></tr><tr><td>6063</td><td>Anguilla</td><td>-89.1797, -174.015</td><td>2021-07-20T09:02:47.000+0000</td></tr><tr><td>3454</td><td>Cambodia</td><td>-0.375174, 49.8106</td><td>2021-07-25T02:20:29.000+0000</td></tr><tr><td>7554</td><td>Sudan</td><td>-51.2172, -77.9768</td><td>2019-03-20T03:15:07.000+0000</td></tr><tr><td>6145</td><td>Mozambique</td><td>-65.9079, -143.845</td><td>2019-12-05T02:09:44.000+0000</td></tr><tr><td>10625</td><td>Jamaica</td><td>-84.4944, -81.0613</td><td>2018-07-13T11:51:15.000+0000</td></tr><tr><td>2959</td><td>Angola</td><td>-68.0095, -157.227</td><td>2019-08-19T08:22:02.000+0000</td></tr><tr><td>9875</td><td>Barbados</td><td>-74.3382, -110.484</td><td>2020-03-20T13:03:18.000+0000</td></tr><tr><td>2418</td><td>Antarctica (the territory South of 60 deg S)</td><td>-88.4642, -171.061</td><td>2022-05-27T11:30:59.000+0000</td></tr><tr><td>3156</td><td>Armenia</td><td>-84.738, -160.795</td><td>2018-01-13T19:33:49.000+0000</td></tr><tr><td>428</td><td>Bangladesh</td><td>-83.4105, -150.788</td><td>2020-09-27T18:46:41.000+0000</td></tr><tr><td>7343</td><td>Australia</td><td>-65.4428, -161.684</td><td>2018-08-06T12:17:07.000+0000</td></tr><tr><td>2074</td><td>Central African Republic</td><td>-52.3213, -50.11</td><td>2019-11-03T05:41:59.000+0000</td></tr><tr><td>9979</td><td>Dominican Republic</td><td>14.9967, -120.682</td><td>2018-07-18T19:01:46.000+0000</td></tr><tr><td>10138</td><td>Austria</td><td>-72.142, -74.3545</td><td>2019-08-03T00:59:29.000+0000</td></tr><tr><td>9672</td><td>India</td><td>79.4658, -69.4133</td><td>2019-11-03T13:15:52.000+0000</td></tr><tr><td>8653</td><td>Seychelles</td><td>48.4569, -139.658</td><td>2022-04-11T18:30:19.000+0000</td></tr><tr><td>8887</td><td>Botswana</td><td>-28.0137, -160.708</td><td>2021-09-19T05:27:43.000+0000</td></tr><tr><td>7922</td><td>Antigua and Barbuda</td><td>-88.0974, -172.052</td><td>2021-01-27T09:14:19.000+0000</td></tr><tr><td>1014</td><td>Tonga</td><td>81.1477, 69.3538</td><td>2022-02-03T22:05:34.000+0000</td></tr><tr><td>4913</td><td>Aruba</td><td>-84.3768, -157.544</td><td>2019-03-08T06:45:39.000+0000</td></tr><tr><td>4137</td><td>Australia</td><td>-55.3079, 108.918</td><td>2019-06-23T22:16:34.000+0000</td></tr><tr><td>7166</td><td>Aruba</td><td>-86.4063, -136.657</td><td>2022-07-25T03:07:37.000+0000</td></tr><tr><td>9546</td><td>Austria</td><td>-70.0295, -155.428</td><td>2018-02-10T06:16:40.000+0000</td></tr><tr><td>2411</td><td>Albania</td><td>-71.6856, -179.126</td><td>2020-11-15T17:10:07.000+0000</td></tr><tr><td>9590</td><td>Algeria</td><td>-64.3876, -174.281</td><td>2019-05-20T19:48:48.000+0000</td></tr><tr><td>2698</td><td>Egypt</td><td>-72.7174, 24.169</td><td>2021-11-24T08:33:51.000+0000</td></tr><tr><td>4508</td><td>Philippines</td><td>69.1858, -76.0761</td><td>2019-01-04T11:15:27.000+0000</td></tr><tr><td>831</td><td>Congo</td><td>-43.7816, -66.1592</td><td>2021-06-23T23:16:10.000+0000</td></tr><tr><td>5076</td><td>Germany</td><td>-70.7195, -91.1935</td><td>2019-05-05T16:22:23.000+0000</td></tr><tr><td>10663</td><td>Saint Kitts and Nevis</td><td>-27.3474, -162.83</td><td>2019-07-25T18:53:51.000+0000</td></tr><tr><td>5468</td><td>Isle of Man</td><td>-83.544, 33.9473</td><td>2020-05-16T23:17:50.000+0000</td></tr><tr><td>205</td><td>Barbados</td><td>-75.8378, -163.945</td><td>2020-07-08T14:10:38.000+0000</td></tr><tr><td>7790</td><td>Papua New Guinea</td><td>-43.692, 64.9839</td><td>2018-07-31T08:19:15.000+0000</td></tr><tr><td>8606</td><td>Antigua and Barbuda</td><td>-88.0974, -172.052</td><td>2021-03-28T14:54:07.000+0000</td></tr><tr><td>9759</td><td>American Samoa</td><td>-77.9744, -106.258</td><td>2017-12-30T13:05:49.000+0000</td></tr><tr><td>719</td><td>Armenia</td><td>-38.4062, -154.323</td><td>2018-10-29T04:05:12.000+0000</td></tr><tr><td>1704</td><td>Christmas Island</td><td>-56.8702, -93.6232</td><td>2018-11-29T04:46:39.000+0000</td></tr><tr><td>2482</td><td>Bermuda</td><td>63.4563, -164.709</td><td>2019-09-13T08:20:13.000+0000</td></tr><tr><td>8930</td><td>Argentina</td><td>-89.4739, -176.154</td><td>2021-09-29T13:25:49.000+0000</td></tr><tr><td>7294</td><td>Australia</td><td>-76.2967, -136.501</td><td>2018-02-12T08:06:28.000+0000</td></tr><tr><td>808</td><td>Albania</td><td>-71.6856, -179.126</td><td>2019-01-03T15:43:12.000+0000</td></tr><tr><td>771</td><td>Montserrat</td><td>-29.1712, -107.111</td><td>2018-06-21T08:42:57.000+0000</td></tr><tr><td>4076</td><td>Mauritania</td><td>-67.2157, 27.8139</td><td>2019-06-07T20:13:50.000+0000</td></tr><tr><td>1545</td><td>Anguilla</td><td>-30.18, -72.3784</td><td>2022-06-17T05:47:12.000+0000</td></tr><tr><td>2293</td><td>British Virgin Islands</td><td>-87.7946, -159.647</td><td>2022-03-21T10:46:53.000+0000</td></tr><tr><td>10509</td><td>Gibraltar</td><td>-67.187, -24.2977</td><td>2019-03-06T12:21:56.000+0000</td></tr><tr><td>2015</td><td>Armenia</td><td>-17.629, -177.685</td><td>2018-09-22T13:52:19.000+0000</td></tr><tr><td>1094</td><td>Armenia</td><td>-46.7328, -124.445</td><td>2018-08-19T00:34:20.000+0000</td></tr><tr><td>603</td><td>Netherlands Antilles</td><td>14.0083, -141.603</td><td>2019-06-25T05:13:01.000+0000</td></tr><tr><td>7768</td><td>Algeria</td><td>-88.355, -96.0131</td><td>2018-05-25T21:34:19.000+0000</td></tr><tr><td>5630</td><td>Bahrain</td><td>-19.1403, -164.987</td><td>2019-05-12T14:43:19.000+0000</td></tr><tr><td>8578</td><td>Guinea-Bissau</td><td>34.6427, -161.397</td><td>2018-01-26T19:27:11.000+0000</td></tr><tr><td>9936</td><td>Australia</td><td>-82.1715, -147.691</td><td>2018-06-30T22:07:13.000+0000</td></tr><tr><td>6844</td><td>New Caledonia</td><td>-22.6915, 5.69245</td><td>2021-06-06T21:53:11.000+0000</td></tr><tr><td>3419</td><td>Bhutan</td><td>7.60293, -108.979</td><td>2021-12-20T05:01:54.000+0000</td></tr><tr><td>1268</td><td>Argentina</td><td>-41.7803, -177.23</td><td>2019-07-06T04:10:29.000+0000</td></tr></tbody></table></div>"
      ]
     },
     "metadata": {
      "application/vnd.databricks.v1+output": {
       "addedWidgets": {},
       "aggData": [],
       "aggError": "",
       "aggOverflow": false,
       "aggSchema": [],
       "aggSeriesLimitReached": false,
       "aggType": "",
       "arguments": {},
       "columnCustomDisplayInfos": {},
       "data": [
        [
         "7528",
         "Albania",
         "-89.9787, -173.293",
         "2020-08-28T03:52:47.000+0000"
        ],
        [
         "2863",
         "Armenia",
         "-5.34445, -177.924",
         "2020-04-27T13:34:16.000+0000"
        ],
        [
         "5730",
         "Colombia",
         "-77.015, -101.437",
         "2021-04-19T17:37:03.000+0000"
        ],
        [
         "8304",
         "French Guiana",
         "-28.8852, -164.87",
         "2019-09-13T04:50:29.000+0000"
        ],
        [
         "8731",
         "Aruba",
         "-83.104, -171.302",
         "2020-07-17T04:39:09.000+0000"
        ],
        [
         "1313",
         "Maldives",
         "77.0447, 61.9119",
         "2018-06-26T02:39:25.000+0000"
        ],
        [
         "4315",
         "Cote d'Ivoire",
         "-45.8508, 66.1003",
         "2019-12-15T03:51:28.000+0000"
        ],
        [
         "10794",
         "Cocos (Keeling) Islands",
         "-89.5236, -154.567",
         "2022-01-01T02:26:50.000+0000"
        ],
        [
         "5494",
         "Bulgaria",
         "-82.6768, -129.202",
         "2021-07-21T02:02:35.000+0000"
        ],
        [
         "5069",
         "Azerbaijan",
         "-63.0063, -157.474",
         "2021-03-20T09:32:44.000+0000"
        ],
        [
         "2923",
         "Cote d'Ivoire",
         "-84.6302, -164.507",
         "2019-09-08T22:53:09.000+0000"
        ],
        [
         "3089",
         "Albania",
         "-89.9787, -173.293",
         "2018-02-28T05:31:29.000+0000"
        ],
        [
         "6063",
         "Anguilla",
         "-89.1797, -174.015",
         "2021-07-20T09:02:47.000+0000"
        ],
        [
         "3454",
         "Cambodia",
         "-0.375174, 49.8106",
         "2021-07-25T02:20:29.000+0000"
        ],
        [
         "7554",
         "Sudan",
         "-51.2172, -77.9768",
         "2019-03-20T03:15:07.000+0000"
        ],
        [
         "6145",
         "Mozambique",
         "-65.9079, -143.845",
         "2019-12-05T02:09:44.000+0000"
        ],
        [
         "10625",
         "Jamaica",
         "-84.4944, -81.0613",
         "2018-07-13T11:51:15.000+0000"
        ],
        [
         "2959",
         "Angola",
         "-68.0095, -157.227",
         "2019-08-19T08:22:02.000+0000"
        ],
        [
         "9875",
         "Barbados",
         "-74.3382, -110.484",
         "2020-03-20T13:03:18.000+0000"
        ],
        [
         "2418",
         "Antarctica (the territory South of 60 deg S)",
         "-88.4642, -171.061",
         "2022-05-27T11:30:59.000+0000"
        ],
        [
         "3156",
         "Armenia",
         "-84.738, -160.795",
         "2018-01-13T19:33:49.000+0000"
        ],
        [
         "428",
         "Bangladesh",
         "-83.4105, -150.788",
         "2020-09-27T18:46:41.000+0000"
        ],
        [
         "7343",
         "Australia",
         "-65.4428, -161.684",
         "2018-08-06T12:17:07.000+0000"
        ],
        [
         "2074",
         "Central African Republic",
         "-52.3213, -50.11",
         "2019-11-03T05:41:59.000+0000"
        ],
        [
         "9979",
         "Dominican Republic",
         "14.9967, -120.682",
         "2018-07-18T19:01:46.000+0000"
        ],
        [
         "10138",
         "Austria",
         "-72.142, -74.3545",
         "2019-08-03T00:59:29.000+0000"
        ],
        [
         "9672",
         "India",
         "79.4658, -69.4133",
         "2019-11-03T13:15:52.000+0000"
        ],
        [
         "8653",
         "Seychelles",
         "48.4569, -139.658",
         "2022-04-11T18:30:19.000+0000"
        ],
        [
         "8887",
         "Botswana",
         "-28.0137, -160.708",
         "2021-09-19T05:27:43.000+0000"
        ],
        [
         "7922",
         "Antigua and Barbuda",
         "-88.0974, -172.052",
         "2021-01-27T09:14:19.000+0000"
        ],
        [
         "1014",
         "Tonga",
         "81.1477, 69.3538",
         "2022-02-03T22:05:34.000+0000"
        ],
        [
         "4913",
         "Aruba",
         "-84.3768, -157.544",
         "2019-03-08T06:45:39.000+0000"
        ],
        [
         "4137",
         "Australia",
         "-55.3079, 108.918",
         "2019-06-23T22:16:34.000+0000"
        ],
        [
         "7166",
         "Aruba",
         "-86.4063, -136.657",
         "2022-07-25T03:07:37.000+0000"
        ],
        [
         "9546",
         "Austria",
         "-70.0295, -155.428",
         "2018-02-10T06:16:40.000+0000"
        ],
        [
         "2411",
         "Albania",
         "-71.6856, -179.126",
         "2020-11-15T17:10:07.000+0000"
        ],
        [
         "9590",
         "Algeria",
         "-64.3876, -174.281",
         "2019-05-20T19:48:48.000+0000"
        ],
        [
         "2698",
         "Egypt",
         "-72.7174, 24.169",
         "2021-11-24T08:33:51.000+0000"
        ],
        [
         "4508",
         "Philippines",
         "69.1858, -76.0761",
         "2019-01-04T11:15:27.000+0000"
        ],
        [
         "831",
         "Congo",
         "-43.7816, -66.1592",
         "2021-06-23T23:16:10.000+0000"
        ],
        [
         "5076",
         "Germany",
         "-70.7195, -91.1935",
         "2019-05-05T16:22:23.000+0000"
        ],
        [
         "10663",
         "Saint Kitts and Nevis",
         "-27.3474, -162.83",
         "2019-07-25T18:53:51.000+0000"
        ],
        [
         "5468",
         "Isle of Man",
         "-83.544, 33.9473",
         "2020-05-16T23:17:50.000+0000"
        ],
        [
         "205",
         "Barbados",
         "-75.8378, -163.945",
         "2020-07-08T14:10:38.000+0000"
        ],
        [
         "7790",
         "Papua New Guinea",
         "-43.692, 64.9839",
         "2018-07-31T08:19:15.000+0000"
        ],
        [
         "8606",
         "Antigua and Barbuda",
         "-88.0974, -172.052",
         "2021-03-28T14:54:07.000+0000"
        ],
        [
         "9759",
         "American Samoa",
         "-77.9744, -106.258",
         "2017-12-30T13:05:49.000+0000"
        ],
        [
         "719",
         "Armenia",
         "-38.4062, -154.323",
         "2018-10-29T04:05:12.000+0000"
        ],
        [
         "1704",
         "Christmas Island",
         "-56.8702, -93.6232",
         "2018-11-29T04:46:39.000+0000"
        ],
        [
         "2482",
         "Bermuda",
         "63.4563, -164.709",
         "2019-09-13T08:20:13.000+0000"
        ],
        [
         "8930",
         "Argentina",
         "-89.4739, -176.154",
         "2021-09-29T13:25:49.000+0000"
        ],
        [
         "7294",
         "Australia",
         "-76.2967, -136.501",
         "2018-02-12T08:06:28.000+0000"
        ],
        [
         "808",
         "Albania",
         "-71.6856, -179.126",
         "2019-01-03T15:43:12.000+0000"
        ],
        [
         "771",
         "Montserrat",
         "-29.1712, -107.111",
         "2018-06-21T08:42:57.000+0000"
        ],
        [
         "4076",
         "Mauritania",
         "-67.2157, 27.8139",
         "2019-06-07T20:13:50.000+0000"
        ],
        [
         "1545",
         "Anguilla",
         "-30.18, -72.3784",
         "2022-06-17T05:47:12.000+0000"
        ],
        [
         "2293",
         "British Virgin Islands",
         "-87.7946, -159.647",
         "2022-03-21T10:46:53.000+0000"
        ],
        [
         "10509",
         "Gibraltar",
         "-67.187, -24.2977",
         "2019-03-06T12:21:56.000+0000"
        ],
        [
         "2015",
         "Armenia",
         "-17.629, -177.685",
         "2018-09-22T13:52:19.000+0000"
        ],
        [
         "1094",
         "Armenia",
         "-46.7328, -124.445",
         "2018-08-19T00:34:20.000+0000"
        ],
        [
         "603",
         "Netherlands Antilles",
         "14.0083, -141.603",
         "2019-06-25T05:13:01.000+0000"
        ],
        [
         "7768",
         "Algeria",
         "-88.355, -96.0131",
         "2018-05-25T21:34:19.000+0000"
        ],
        [
         "5630",
         "Bahrain",
         "-19.1403, -164.987",
         "2019-05-12T14:43:19.000+0000"
        ],
        [
         "8578",
         "Guinea-Bissau",
         "34.6427, -161.397",
         "2018-01-26T19:27:11.000+0000"
        ],
        [
         "9936",
         "Australia",
         "-82.1715, -147.691",
         "2018-06-30T22:07:13.000+0000"
        ],
        [
         "6844",
         "New Caledonia",
         "-22.6915, 5.69245",
         "2021-06-06T21:53:11.000+0000"
        ],
        [
         "3419",
         "Bhutan",
         "7.60293, -108.979",
         "2021-12-20T05:01:54.000+0000"
        ],
        [
         "1268",
         "Argentina",
         "-41.7803, -177.23",
         "2019-07-06T04:10:29.000+0000"
        ]
       ],
       "datasetInfos": [],
       "dbfsResultPath": null,
       "isJsonSchema": true,
       "metadata": {
        "isDbfsCommandResult": false
       },
       "overflow": false,
       "plotOptions": {
        "customPlotOptions": {},
        "displayType": "table",
        "pivotAggregation": null,
        "pivotColumns": null,
        "xColumns": null,
        "yColumns": null
       },
       "removedWidgets": [],
       "schema": [
        {
         "metadata": "{}",
         "name": "ind",
         "type": "\"string\""
        },
        {
         "metadata": "{}",
         "name": "country",
         "type": "\"string\""
        },
        {
         "metadata": "{}",
         "name": "coordinates",
         "type": "\"string\""
        },
        {
         "metadata": "{}",
         "name": "timestamp",
         "type": "\"timestamp\""
        }
       ],
       "type": "table"
      }
     },
     "output_type": "display_data"
    }
   ],
   "source": [
    "df_G = clean_geo(df_geo)\n",
    "display(df_G)"
   ]
  }
 ],
 "metadata": {
  "application/vnd.databricks.v1+notebook": {
   "dashboards": [],
   "language": "python",
   "notebookMetadata": {
    "mostRecentlyExecutedCommandWithImplicitDF": {
     "commandId": 825344034793666,
     "dataframes": [
      "_sqldf"
     ]
    },
    "pythonIndentUnit": 4
   },
   "notebookName": "Streaming-kinesis 2024-01-20",
   "widgets": {}
  }
 },
 "nbformat": 4,
 "nbformat_minor": 0
}
